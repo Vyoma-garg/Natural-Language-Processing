{
  "nbformat": 4,
  "nbformat_minor": 0,
  "metadata": {
    "colab": {
      "name": "PROJECT_Text_Summarization.ipynb",
      "provenance": [],
      "collapsed_sections": [
        "o5FA0PSG9ufU",
        "SXwvdH0_MO9M",
        "mbtttZ7dIzG8",
        "9pCdIwKUm7d9",
        "_VfH7RHnuKhh"
      ],
      "include_colab_link": true
    },
    "kernelspec": {
      "display_name": "Python 3",
      "name": "python3"
    },
    "language_info": {
      "name": "python"
    }
  },
  "cells": [
    {
      "cell_type": "markdown",
      "metadata": {
        "id": "view-in-github",
        "colab_type": "text"
      },
      "source": [
        "<a href=\"https://colab.research.google.com/github/Vyoma-garg/Natural-Language-Processing/blob/main/PROJECT_Text_Summarization.ipynb\" target=\"_parent\"><img src=\"https://colab.research.google.com/assets/colab-badge.svg\" alt=\"Open In Colab\"/></a>"
      ]
    },
    {
      "cell_type": "markdown",
      "metadata": {
        "id": "o5FA0PSG9ufU"
      },
      "source": [
        "\n",
        "\n",
        "\n",
        "> ## **NLP PROJECT WORK BY:**\n",
        "\n",
        "\n",
        ">------------------------------------\n",
        "\n",
        "\n",
        "> **Deepshikhar Bhardwaj (M20MA004)**\n",
        "\n",
        "> **Vyoma Garg (M20MA017)**\n",
        "\n",
        "\n",
        ">-----------------------------------------\n",
        "\n",
        "\n",
        "> **Instructor : Dr. Lipika Dey and Dr. Romi Banerjee**\n",
        "\n",
        "\n",
        "\n"
      ]
    },
    {
      "cell_type": "markdown",
      "metadata": {
        "id": "ameKuy2a9Ptx"
      },
      "source": [
        "# **Importing Libraries**"
      ]
    },
    {
      "cell_type": "code",
      "metadata": {
        "id": "0hl6A4i3dSWa"
      },
      "source": [
        "import os\n",
        "import re\n",
        "import string\n",
        "import numpy as np\n",
        "import pandas as pd\n",
        "import matplotlib.pyplot as plt\n",
        "import tensorflow as tf\n",
        "from tensorflow.keras import Input, Model\n",
        "from tensorflow.keras.preprocessing.text import Tokenizer\n",
        "from tensorflow.keras.preprocessing.sequence import pad_sequences\n",
        "from tensorflow.keras.callbacks import EarlyStopping, ReduceLROnPlateau\n",
        "from tensorflow.keras.layers import LSTM, Bidirectional, Dense, Embedding, TimeDistributed\n",
        "from tensorflow.keras.models import Model\n",
        "from tensorflow.keras.callbacks import EarlyStopping\n",
        "from tensorflow.python.keras.layers import Layer\n",
        "from tensorflow.python.keras import backend as K\n",
        "from sklearn.model_selection import train_test_split\n",
        "from wordcloud import STOPWORDS, WordCloud\n",
        "from nltk import download\n",
        "from nltk.corpus import stopwords"
      ],
      "execution_count": null,
      "outputs": []
    },
    {
      "cell_type": "code",
      "metadata": {
        "colab": {
          "base_uri": "https://localhost:8080/"
        },
        "id": "CbpUZjk99zdn",
        "outputId": "f739ea6f-988b-4d0d-a29c-12c26c5abc4a"
      },
      "source": [
        "download('stopwords')"
      ],
      "execution_count": null,
      "outputs": [
        {
          "output_type": "stream",
          "text": [
            "[nltk_data] Downloading package stopwords to /root/nltk_data...\n",
            "[nltk_data]   Unzipping corpora/stopwords.zip.\n"
          ],
          "name": "stdout"
        }
      ]
    },
    {
      "cell_type": "markdown",
      "metadata": {
        "id": "LTPtZlJK9V3A"
      },
      "source": [
        "# **Getting the Dataset**"
      ]
    },
    {
      "cell_type": "code",
      "metadata": {
        "colab": {
          "base_uri": "https://localhost:8080/"
        },
        "id": "yLfHkbl3YtLf",
        "outputId": "4ebe8fcf-2650-4343-99d1-9e6756cc7ed9"
      },
      "source": [
        "from google.colab import drive\n",
        "drive.mount('/content/drive')"
      ],
      "execution_count": null,
      "outputs": [
        {
          "output_type": "stream",
          "text": [
            "Mounted at /content/drive\n"
          ],
          "name": "stdout"
        }
      ]
    },
    {
      "cell_type": "code",
      "metadata": {
        "id": "Qa5iXvJXYtLj"
      },
      "source": [
        "filename1 = '/content/drive/MyDrive/text_summarization/news_summary.csv'\n",
        "filename2 = '/content/drive/MyDrive/text_summarization/news_summary_more.csv'\n",
        "\n",
        "df1 = pd.read_csv(filename1, encoding='iso-8859-1').reset_index(drop=True)\n",
        "df2 = pd.read_csv(filename2, encoding='iso-8859-1').reset_index(drop=True)"
      ],
      "execution_count": null,
      "outputs": []
    },
    {
      "cell_type": "code",
      "metadata": {
        "colab": {
          "base_uri": "https://localhost:8080/",
          "height": 548
        },
        "id": "isSUDauOQJVZ",
        "outputId": "952b7d4b-fead-46e3-9e6e-80cd5a75c995"
      },
      "source": [
        "reviews = df1\n",
        "print(reviews.shape)\n",
        "reviews.head()"
      ],
      "execution_count": null,
      "outputs": [
        {
          "output_type": "stream",
          "text": [
            "(4514, 6)\n"
          ],
          "name": "stdout"
        },
        {
          "output_type": "execute_result",
          "data": {
            "text/html": [
              "<div>\n",
              "<style scoped>\n",
              "    .dataframe tbody tr th:only-of-type {\n",
              "        vertical-align: middle;\n",
              "    }\n",
              "\n",
              "    .dataframe tbody tr th {\n",
              "        vertical-align: top;\n",
              "    }\n",
              "\n",
              "    .dataframe thead th {\n",
              "        text-align: right;\n",
              "    }\n",
              "</style>\n",
              "<table border=\"1\" class=\"dataframe\">\n",
              "  <thead>\n",
              "    <tr style=\"text-align: right;\">\n",
              "      <th></th>\n",
              "      <th>author</th>\n",
              "      <th>date</th>\n",
              "      <th>headlines</th>\n",
              "      <th>read_more</th>\n",
              "      <th>text</th>\n",
              "      <th>ctext</th>\n",
              "    </tr>\n",
              "  </thead>\n",
              "  <tbody>\n",
              "    <tr>\n",
              "      <th>0</th>\n",
              "      <td>Chhavi Tyagi</td>\n",
              "      <td>03 Aug 2017,Thursday</td>\n",
              "      <td>Daman &amp; Diu revokes mandatory Rakshabandhan in offices order</td>\n",
              "      <td>http://www.hindustantimes.com/india-news/rakshabandhan-compulsory-in-daman-and-diu-women-employees-to-tie-rakhis-to-male-colleagues/story-E5h5U1ZDJii5zFpLXWRkhJ.html?utm_source=inshorts&amp;utm_medium...</td>\n",
              "      <td>The Administration of Union Territory Daman and Diu has revoked its order that made it compulsory for women to tie rakhis to their male colleagues on the occasion of Rakshabandhan on August 7. The...</td>\n",
              "      <td>The Daman and Diu administration on Wednesday withdrew a circular that asked women staff to tie rakhis on male colleagues after the order triggered a backlash from employees and was ripped apart o...</td>\n",
              "    </tr>\n",
              "    <tr>\n",
              "      <th>1</th>\n",
              "      <td>Daisy Mowke</td>\n",
              "      <td>03 Aug 2017,Thursday</td>\n",
              "      <td>Malaika slams user who trolled her for 'divorcing rich man'</td>\n",
              "      <td>http://www.hindustantimes.com/bollywood/malaika-arora-khan-was-trolled-for-divorcing-a-rich-man-her-reply-is-dignity-itself/story-oIPZNI9deImCmabLMMwR2H.html?utm_source=inshorts&amp;utm_medium=referra...</td>\n",
              "      <td>Malaika Arora slammed an Instagram user who trolled her for \"divorcing a rich man\" and \"having fun with the alimony\". \"Her life now is all about wearing short clothes, going to gym or salon, enjoy...</td>\n",
              "      <td>From her special numbers to TV?appearances, Bollywood actor Malaika Arora Khan has managed to carve her own identity. The actor, who made her debut in the Hindi film industry with the blockbuster ...</td>\n",
              "    </tr>\n",
              "    <tr>\n",
              "      <th>2</th>\n",
              "      <td>Arshiya Chopra</td>\n",
              "      <td>03 Aug 2017,Thursday</td>\n",
              "      <td>'Virgin' now corrected to 'Unmarried' in IGIMS' form</td>\n",
              "      <td>http://www.hindustantimes.com/patna/bihar-igims-form-loses-virginity-after-row-opts-for-unmarried-instead/story-8XmHIg39otGBoZAYEBQxMK.html?utm_source=inshorts&amp;utm_medium=referral&amp;utm_campaign=ful...</td>\n",
              "      <td>The Indira Gandhi Institute of Medical Sciences (IGIMS) in Patna on Thursday made corrections in its Marital Declaration Form by changing 'Virgin' option to 'Unmarried'. Earlier, Bihar Health Mini...</td>\n",
              "      <td>The Indira Gandhi Institute of Medical Sciences (IGIMS) in Patna amended its marital declaration form on Thursday, replacing the word ?virgin? with ?unmarried? after controversy.Until now, new rec...</td>\n",
              "    </tr>\n",
              "    <tr>\n",
              "      <th>3</th>\n",
              "      <td>Sumedha Sehra</td>\n",
              "      <td>03 Aug 2017,Thursday</td>\n",
              "      <td>Aaj aapne pakad liya: LeT man Dujana before being killed</td>\n",
              "      <td>http://indiatoday.intoday.in/story/abu-dujana-last-phone-call-lashkar-e-taiba-jammu-and-kashmir/1/1017550.html?utm_source=inshorts&amp;utm_medium=referral&amp;utm_campaign=fullarticle</td>\n",
              "      <td>Lashkar-e-Taiba's Kashmir commander Abu Dujana, who was killed by security forces, said \"Kabhi hum aage, kabhi aap, aaj aapne pakad liya, mubarak ho aapko (Today you caught me. Congratulations)\" a...</td>\n",
              "      <td>Lashkar-e-Taiba's Kashmir commander Abu Dujana was killed in an encounter in a village in Pulwama district of Jammu and Kashmir earlier this week. Dujana, who had managed to give the security forc...</td>\n",
              "    </tr>\n",
              "    <tr>\n",
              "      <th>4</th>\n",
              "      <td>Aarushi Maheshwari</td>\n",
              "      <td>03 Aug 2017,Thursday</td>\n",
              "      <td>Hotel staff to get training to spot signs of sex trafficking</td>\n",
              "      <td>http://indiatoday.intoday.in/story/sex-trafficking-mumbai-rescue-me-maharashtra-international-labour-organization-forced-labour-trafficking-traning-hotel-staff/1/1017210.html?utm_source=inshorts&amp;u...</td>\n",
              "      <td>Hotels in Maharashtra will train their staff to spot signs of sex trafficking, including frequent requests for bed linen changes and 'Do not disturb' signs left on room doors for days. A mobile ph...</td>\n",
              "      <td>Hotels in Mumbai and other Indian cities are to train their staff to spot signs of sex trafficking such as frequent requests for bed linen changes or a \"Do not disturb\" sign left on the door for d...</td>\n",
              "    </tr>\n",
              "  </tbody>\n",
              "</table>\n",
              "</div>"
            ],
            "text/plain": [
              "               author  ...                                                                                                                                                                                                    ctext\n",
              "0        Chhavi Tyagi  ...  The Daman and Diu administration on Wednesday withdrew a circular that asked women staff to tie rakhis on male colleagues after the order triggered a backlash from employees and was ripped apart o...\n",
              "1         Daisy Mowke  ...  From her special numbers to TV?appearances, Bollywood actor Malaika Arora Khan has managed to carve her own identity. The actor, who made her debut in the Hindi film industry with the blockbuster ...\n",
              "2      Arshiya Chopra  ...  The Indira Gandhi Institute of Medical Sciences (IGIMS) in Patna amended its marital declaration form on Thursday, replacing the word ?virgin? with ?unmarried? after controversy.Until now, new rec...\n",
              "3       Sumedha Sehra  ...  Lashkar-e-Taiba's Kashmir commander Abu Dujana was killed in an encounter in a village in Pulwama district of Jammu and Kashmir earlier this week. Dujana, who had managed to give the security forc...\n",
              "4  Aarushi Maheshwari  ...  Hotels in Mumbai and other Indian cities are to train their staff to spot signs of sex trafficking such as frequent requests for bed linen changes or a \"Do not disturb\" sign left on the door for d...\n",
              "\n",
              "[5 rows x 6 columns]"
            ]
          },
          "metadata": {
            "tags": []
          },
          "execution_count": 5
        }
      ]
    },
    {
      "cell_type": "code",
      "metadata": {
        "colab": {
          "base_uri": "https://localhost:8080/"
        },
        "id": "MGhV22OxQJVb",
        "outputId": "c421a65f-86cd-4371-85d6-203673840c5c"
      },
      "source": [
        "reviews.isnull().sum()"
      ],
      "execution_count": null,
      "outputs": [
        {
          "output_type": "execute_result",
          "data": {
            "text/plain": [
              "author         0\n",
              "date           0\n",
              "headlines      0\n",
              "read_more      0\n",
              "text           0\n",
              "ctext        118\n",
              "dtype: int64"
            ]
          },
          "metadata": {
            "tags": []
          },
          "execution_count": 6
        }
      ]
    },
    {
      "cell_type": "markdown",
      "metadata": {
        "id": "ZATwAVLzDH5u"
      },
      "source": [
        "# **Pre-processing of the data**"
      ]
    },
    {
      "cell_type": "code",
      "metadata": {
        "id": "W8eXrYBLQJVb"
      },
      "source": [
        "CURRENCIES = {\n",
        "    \"$\": \"USD\", \"zł\": \"PLN\", \"£\": \"GBP\", \"¥\": \"JPY\", \"฿\": \"THB\", \"₡\": \"CRC\", \"₦\": \"NGN\",\"₩\": \"KRW\",\n",
        "    \"₪\": \"ILS\", \"₫\": \"VND\", \"€\": \"EUR\", \"₱\": \"PHP\", \"₲\": \"PYG\", \"₴\": \"UAH\", \"₹\": \"INR\",}\n",
        "CURRENCY_REGEX = re.compile(\n",
        "    \"({})+\".format(\"|\".join(re.escape(c) for c in CURRENCIES.keys())))\n",
        "\n",
        "EMAIL_REGEX = re.compile(\n",
        "    r\"(?:^|(?<=[^\\w@.)]))([\\w+-](\\.(?!\\.))?)*?[\\w+-]@(?:\\w-?)*?\\w+(\\.([a-z]{2,})){1,3}(?:$|(?=\\b))\",\n",
        "    flags=re.IGNORECASE | re.UNICODE,)\n",
        "\n",
        "# A list of contractions from http://stackoverflow.com/questions/19790188/expanding-english-language-contractions-in-python\n",
        "contractions =          {\"ain't\": \"is not\", \"aren't\": \"are not\",\"can't\": \"cannot\", \"'cause\": \"because\", \"could've\": \"could have\", \"couldn't\": \"could not\",\n",
        "                           \"didn't\": \"did not\",  \"doesn't\": \"does not\", \"don't\": \"do not\", \"hadn't\": \"had not\", \"hasn't\": \"has not\", \"haven't\": \"have not\",\n",
        "                           \"he'd\": \"he would\",\"he'll\": \"he will\", \"he's\": \"he is\", \"how'd\": \"how did\", \"how'd'y\": \"how do you\", \"how'll\": \"how will\", \"how's\": \"how is\",\n",
        "                           \"I'd\": \"I would\", \"I'd've\": \"I would have\", \"I'll\": \"I will\", \"I'll've\": \"I will have\",\"I'm\": \"I am\", \"I've\": \"I have\", \"i'd\": \"i would\",\n",
        "                           \"i'd've\": \"i would have\", \"i'll\": \"i will\",  \"i'll've\": \"i will have\",\"i'm\": \"i am\", \"i've\": \"i have\", \"isn't\": \"is not\", \"it'd\": \"it would\",\n",
        "                           \"it'd've\": \"it would have\", \"it'll\": \"it will\", \"it'll've\": \"it will have\",\"it's\": \"it is\", \"let's\": \"let us\", \"ma'am\": \"madam\",\n",
        "                           \"mayn't\": \"may not\", \"might've\": \"might have\",\"mightn't\": \"might not\",\"mightn't've\": \"might not have\", \"must've\": \"must have\",\n",
        "                           \"mustn't\": \"must not\", \"mustn't've\": \"must not have\", \"needn't\": \"need not\", \"needn't've\": \"need not have\",\"o'clock\": \"of the clock\",\n",
        "                           \"oughtn't\": \"ought not\", \"oughtn't've\": \"ought not have\", \"shan't\": \"shall not\", \"sha'n't\": \"shall not\", \"shan't've\": \"shall not have\",\n",
        "                           \"she'd\": \"she would\", \"she'd've\": \"she would have\", \"she'll\": \"she will\", \"she'll've\": \"she will have\", \"she's\": \"she is\",\n",
        "                           \"should've\": \"should have\", \"shouldn't\": \"should not\", \"shouldn't've\": \"should not have\", \"so've\": \"so have\",\"so's\": \"so as\",\n",
        "                           \"this's\": \"this is\",\"that'd\": \"that would\", \"that'd've\": \"that would have\", \"that's\": \"that is\", \"there'd\": \"there would\",\n",
        "                           \"there'd've\": \"there would have\", \"there's\": \"there is\", \"here's\": \"here is\",\"they'd\": \"they would\", \"they'd've\": \"they would have\",\n",
        "                           \"they'll\": \"they will\", \"they'll've\": \"they will have\", \"they're\": \"they are\", \"they've\": \"they have\", \"to've\": \"to have\",\n",
        "                           \"wasn't\": \"was not\", \"we'd\": \"we would\", \"we'd've\": \"we would have\", \"we'll\": \"we will\", \"we'll've\": \"we will have\", \"we're\": \"we are\",\n",
        "                           \"we've\": \"we have\", \"weren't\": \"were not\", \"what'll\": \"what will\", \"what'll've\": \"what will have\", \"what're\": \"what are\",\n",
        "                           \"what's\": \"what is\", \"what've\": \"what have\", \"when's\": \"when is\", \"when've\": \"when have\", \"where'd\": \"where did\", \"where's\": \"where is\",\n",
        "                           \"where've\": \"where have\", \"who'll\": \"who will\", \"who'll've\": \"who will have\", \"who's\": \"who is\", \"who've\": \"who have\",\n",
        "                           \"why's\": \"why is\", \"why've\": \"why have\", \"will've\": \"will have\", \"won't\": \"will not\", \"won't've\": \"will not have\",\n",
        "                           \"would've\": \"would have\", \"wouldn't\": \"would not\", \"wouldn't've\": \"would not have\", \"y'all\": \"you all\",\n",
        "                           \"y'all'd\": \"you all would\",\"y'all'd've\": \"you all would have\",\"y'all're\": \"you all are\",\"y'all've\": \"you all have\",\n",
        "                           \"you'd\": \"you would\", \"you'd've\": \"you would have\", \"you'll\": \"you will\", \"you'll've\": \"you will have\",\n",
        "                           \"you're\": \"you are\", \"you've\": \"you have\", \"i've\": \"i have\"}\n",
        "def clean_text(text, remove_stopwords = True):\n",
        "    \n",
        "    text = text.lower()\n",
        "    if True:\n",
        "        text = text.split()\n",
        "        new_text = []\n",
        "        for word in text:\n",
        "            if word in contractions:\n",
        "                new_text.append(contractions[word])\n",
        "            else:\n",
        "                new_text.append(word)\n",
        "        text = \" \".join(new_text)\n",
        "        \n",
        "    text = re.sub(r'https?:\\/\\/.*[\\r\\n]*', '', text, flags=re.MULTILINE)\n",
        "    text = EMAIL_REGEX.sub(' ',text)\n",
        "    text = CURRENCY_REGEX.sub(' ',text)\n",
        "    text = ' '.join([contractions[t] if t in contractions else t for t in text.split(\" \")])    \n",
        "    text = re.sub(r'[_\"\\-;%()|+&=*%.,!?:#$@\\[\\]/]', ' ', text)\n",
        "    text = re.sub(r\"'s\\b\",\"\", text)\n",
        "    text = re.sub(r'&amp;', '', text) \n",
        "    \n",
        "    if remove_stopwords:\n",
        "        text = text.split()\n",
        "        stops = set(stopwords.words(\"english\"))\n",
        "        text = [w for w in text if not w in stops]\n",
        "        text = \" \".join(text)\n",
        "\n",
        "    return text"
      ],
      "execution_count": null,
      "outputs": []
    },
    {
      "cell_type": "code",
      "metadata": {
        "id": "BpXHj7kcQJVc"
      },
      "source": [
        "cleaned_headlines = []\n",
        "cleaned_text = []\n",
        "\n",
        "for headlines in reviews['headlines']:\n",
        "    cleaned_headlines.append(clean_text(headlines, remove_stopwords=False))\n",
        "\n",
        "for text in reviews['text']:\n",
        "    cleaned_text.append(clean_text(text))"
      ],
      "execution_count": null,
      "outputs": []
    },
    {
      "cell_type": "code",
      "metadata": {
        "colab": {
          "base_uri": "https://localhost:8080/"
        },
        "id": "JtYVA1kuQJVc",
        "outputId": "6087c65b-df82-4a1d-eab9-c03128303f8a"
      },
      "source": [
        "for i in range(4):\n",
        "    print(\"Headline: \",i+1) \n",
        "    print(cleaned_headlines[i])\n",
        "    print('-'*80)\n",
        "    print(cleaned_text[i])\n",
        "    print()"
      ],
      "execution_count": null,
      "outputs": [
        {
          "output_type": "stream",
          "text": [
            "Headline:  1\n",
            "daman   diu revokes mandatory rakshabandhan in offices order\n",
            "--------------------------------------------------------------------------------\n",
            "administration union territory daman diu revoked order made compulsory women tie rakhis male colleagues occasion rakshabandhan august 7 administration forced withdraw decision within 24 hours issuing circular received flak employees slammed social media\n",
            "\n",
            "Headline:  2\n",
            "malaika slams user who trolled her for 'divorcing rich man'\n",
            "--------------------------------------------------------------------------------\n",
            "malaika arora slammed instagram user trolled divorcing rich man fun alimony life wearing short clothes going gym salon enjoying vacation user commented malaika responded certainly got get damn facts right spewing sh know nothing\n",
            "\n",
            "Headline:  3\n",
            "'virgin' now corrected to 'unmarried' in igims' form\n",
            "--------------------------------------------------------------------------------\n",
            "indira gandhi institute medical sciences igims patna thursday made corrections marital declaration form changing 'virgin' option 'unmarried' earlier bihar health minister defined virgin unmarried woman consider term objectionable institute however faced strong backlash asking new recruits declare virginity form\n",
            "\n",
            "Headline:  4\n",
            "aaj aapne pakad liya  let man dujana before being killed\n",
            "--------------------------------------------------------------------------------\n",
            "lashkar e taiba kashmir commander abu dujana killed security forces said kabhi hum aage kabhi aap aaj aapne pakad liya mubarak ho aapko today caught congratulations caught added surrender whatever fate happen hum nikley shaheed hone left home martyrdom added\n",
            "\n"
          ],
          "name": "stdout"
        }
      ]
    },
    {
      "cell_type": "markdown",
      "metadata": {
        "id": "kJyXsGccE3ct"
      },
      "source": [
        "**Understanding the distribution of the sequences**"
      ]
    },
    {
      "cell_type": "code",
      "metadata": {
        "colab": {
          "base_uri": "https://localhost:8080/",
          "height": 281
        },
        "id": "yZTKPjMJQJVc",
        "outputId": "1cdedacf-5238-42fc-d1dd-423b03eb1aa1"
      },
      "source": [
        "import matplotlib.pyplot as plt #pip install matplotlib\n",
        "\n",
        "text_word_count = []\n",
        "headlines_word_count = []\n",
        "\n",
        "for i in cleaned_text:\n",
        "    text_word_count.append(len(i.split()))\n",
        "for i in cleaned_headlines:\n",
        "    headlines_word_count.append(len(i.split()))\n",
        "\n",
        "length_df = pd.DataFrame({'text': text_word_count, 'headlines': headlines_word_count})\n",
        "length_df.hist(bins=15)\n",
        "plt.show()"
      ],
      "execution_count": null,
      "outputs": [
        {
          "output_type": "display_data",
          "data": {
            "image/png": "[encoded data removed]",
            "text/plain": [
              "<Figure size 432x288 with 2 Axes>"
            ]
          },
          "metadata": {
            "tags": []
          }
        }
      ]
    },
    {
      "cell_type": "code",
      "metadata": {
        "colab": {
          "base_uri": "https://localhost:8080/"
        },
        "id": "orv6lXmsQJVd",
        "outputId": "da3f2495-22d4-4a9d-c04d-08975547c2e4"
      },
      "source": [
        "count = 0\n",
        "for i in cleaned_text:\n",
        "    if(len(i.split())<=55):\n",
        "        count += 1\n",
        "print(count/len(cleaned_text))"
      ],
      "execution_count": null,
      "outputs": [
        {
          "output_type": "stream",
          "text": [
            "1.0\n"
          ],
          "name": "stdout"
        }
      ]
    },
    {
      "cell_type": "code",
      "metadata": {
        "id": "aclcLQ3NFBHr"
      },
      "source": [
        "max_headlines_len=15\n",
        "max_text_len=55"
      ],
      "execution_count": null,
      "outputs": []
    },
    {
      "cell_type": "code",
      "metadata": {
        "colab": {
          "base_uri": "https://localhost:8080/",
          "height": 281
        },
        "id": "mE9IidhaQJVd",
        "outputId": "27c77bdb-4b79-40d7-e95e-6a20c9d050bf"
      },
      "source": [
        "cleaned_text = np.array(cleaned_text)\n",
        "cleaned_headlines = np.array(cleaned_headlines)\n",
        "\n",
        "short_text=[]\n",
        "short_headlines=[]\n",
        "\n",
        "for i in range(len(cleaned_text)):\n",
        "    \n",
        "    if(len(cleaned_headlines[i].split())<=max_headlines_len and len(cleaned_text[i].split())<=max_text_len):\n",
        "        short_text.append(cleaned_text[i])\n",
        "        short_headlines.append(cleaned_headlines[i])\n",
        "\n",
        "df=pd.DataFrame({'text':short_text,'headlines':short_headlines})\n",
        "df['headlines'] = df['headlines'].apply(lambda x : 'sostok '+ x + ' eostok')\n",
        "\n",
        "df.head()"
      ],
      "execution_count": null,
      "outputs": [
        {
          "output_type": "execute_result",
          "data": {
            "text/html": [
              "<div>\n",
              "<style scoped>\n",
              "    .dataframe tbody tr th:only-of-type {\n",
              "        vertical-align: middle;\n",
              "    }\n",
              "\n",
              "    .dataframe tbody tr th {\n",
              "        vertical-align: top;\n",
              "    }\n",
              "\n",
              "    .dataframe thead th {\n",
              "        text-align: right;\n",
              "    }\n",
              "</style>\n",
              "<table border=\"1\" class=\"dataframe\">\n",
              "  <thead>\n",
              "    <tr style=\"text-align: right;\">\n",
              "      <th></th>\n",
              "      <th>text</th>\n",
              "      <th>headlines</th>\n",
              "    </tr>\n",
              "  </thead>\n",
              "  <tbody>\n",
              "    <tr>\n",
              "      <th>0</th>\n",
              "      <td>administration union territory daman diu revoked order made compulsory women tie rakhis male colleagues occasion rakshabandhan august 7 administration forced withdraw decision within 24 hours issu...</td>\n",
              "      <td>sostok daman   diu revokes mandatory rakshabandhan in offices order eostok</td>\n",
              "    </tr>\n",
              "    <tr>\n",
              "      <th>1</th>\n",
              "      <td>malaika arora slammed instagram user trolled divorcing rich man fun alimony life wearing short clothes going gym salon enjoying vacation user commented malaika responded certainly got get damn fac...</td>\n",
              "      <td>sostok malaika slams user who trolled her for 'divorcing rich man' eostok</td>\n",
              "    </tr>\n",
              "    <tr>\n",
              "      <th>2</th>\n",
              "      <td>indira gandhi institute medical sciences igims patna thursday made corrections marital declaration form changing 'virgin' option 'unmarried' earlier bihar health minister defined virgin unmarried ...</td>\n",
              "      <td>sostok 'virgin' now corrected to 'unmarried' in igims' form eostok</td>\n",
              "    </tr>\n",
              "    <tr>\n",
              "      <th>3</th>\n",
              "      <td>lashkar e taiba kashmir commander abu dujana killed security forces said kabhi hum aage kabhi aap aaj aapne pakad liya mubarak ho aapko today caught congratulations caught added surrender whatever...</td>\n",
              "      <td>sostok aaj aapne pakad liya  let man dujana before being killed eostok</td>\n",
              "    </tr>\n",
              "    <tr>\n",
              "      <th>4</th>\n",
              "      <td>hotels maharashtra train staff spot signs sex trafficking including frequent requests bed linen changes 'do disturb' signs left room doors days mobile phone app called rescue allow staff alert pol...</td>\n",
              "      <td>sostok hotel staff to get training to spot signs of sex trafficking eostok</td>\n",
              "    </tr>\n",
              "  </tbody>\n",
              "</table>\n",
              "</div>"
            ],
            "text/plain": [
              "                                                                                                                                                                                                      text                                                                   headlines\n",
              "0  administration union territory daman diu revoked order made compulsory women tie rakhis male colleagues occasion rakshabandhan august 7 administration forced withdraw decision within 24 hours issu...  sostok daman   diu revokes mandatory rakshabandhan in offices order eostok\n",
              "1  malaika arora slammed instagram user trolled divorcing rich man fun alimony life wearing short clothes going gym salon enjoying vacation user commented malaika responded certainly got get damn fac...   sostok malaika slams user who trolled her for 'divorcing rich man' eostok\n",
              "2  indira gandhi institute medical sciences igims patna thursday made corrections marital declaration form changing 'virgin' option 'unmarried' earlier bihar health minister defined virgin unmarried ...          sostok 'virgin' now corrected to 'unmarried' in igims' form eostok\n",
              "3  lashkar e taiba kashmir commander abu dujana killed security forces said kabhi hum aage kabhi aap aaj aapne pakad liya mubarak ho aapko today caught congratulations caught added surrender whatever...      sostok aaj aapne pakad liya  let man dujana before being killed eostok\n",
              "4  hotels maharashtra train staff spot signs sex trafficking including frequent requests bed linen changes 'do disturb' signs left room doors days mobile phone app called rescue allow staff alert pol...  sostok hotel staff to get training to spot signs of sex trafficking eostok"
            ]
          },
          "metadata": {
            "tags": []
          },
          "execution_count": 13
        }
      ]
    },
    {
      "cell_type": "markdown",
      "metadata": {
        "id": "pPeSkUc3Drcw"
      },
      "source": [
        "# **Splitting the Dataset into 75% as training and 25% test**"
      ]
    },
    {
      "cell_type": "code",
      "metadata": {
        "id": "wbyCNHG_DjGe"
      },
      "source": [
        "from sklearn.model_selection import train_test_split\n",
        "x_tr,x_val,y_tr,y_val=train_test_split(np.array(df['text']),np.array(df['headlines']),test_size=0.25,random_state=0,shuffle=True)"
      ],
      "execution_count": null,
      "outputs": []
    },
    {
      "cell_type": "markdown",
      "metadata": {
        "id": "JlxX-Rf8GJkt"
      },
      "source": [
        "# **Preparing Text Tokenizer**"
      ]
    },
    {
      "cell_type": "code",
      "metadata": {
        "id": "Hv0D2nACGKAw"
      },
      "source": [
        "from keras.preprocessing.text import Tokenizer \n",
        "from keras.preprocessing.sequence import pad_sequences\n",
        "\n",
        "#prepare a tokenizer for reviews on training data\n",
        "x_tokenizer = Tokenizer() \n",
        "x_tokenizer.fit_on_texts(list(x_tr))"
      ],
      "execution_count": null,
      "outputs": []
    },
    {
      "cell_type": "code",
      "metadata": {
        "colab": {
          "base_uri": "https://localhost:8080/"
        },
        "id": "c1qRD0BwQJVd",
        "outputId": "46aae766-028e-4838-8cae-6128ea6bdfc4"
      },
      "source": [
        "thresh=4  \n",
        "cnt=0   #number of rare words\n",
        "tot_cnt=0   # size of the vocabulary \n",
        "freq=0\n",
        "tot_freq=0\n",
        "\n",
        "for key,value in x_tokenizer.word_counts.items():\n",
        "    tot_cnt=tot_cnt+1\n",
        "    tot_freq=tot_freq+value\n",
        "    if(value<thresh):\n",
        "        cnt=cnt+1\n",
        "        freq=freq+value\n",
        "    \n",
        "print(\"% of rare words in vocabulary:\",(cnt/tot_cnt)*100)\n",
        "print(\"Total Coverage of rare words:\",(freq/tot_freq)*100)\n",
        "\n",
        "#prepare a tokenizer for reviews on training data with top most common words    \n",
        "x_tokenizer = Tokenizer(num_words=tot_cnt-cnt) \n",
        "x_tokenizer.fit_on_texts(list(x_tr))\n",
        "\n",
        "#convert text sequences into integer sequences\n",
        "x_tr_seq    =   x_tokenizer.texts_to_sequences(x_tr) \n",
        "x_val_seq   =   x_tokenizer.texts_to_sequences(x_val)\n",
        "\n",
        "#padding zero upto maximum length\n",
        "x_tr    =   pad_sequences(x_tr_seq,  maxlen=max_text_len, padding='post')\n",
        "x_val   =   pad_sequences(x_val_seq, maxlen=max_text_len, padding='post')\n",
        "\n",
        "#size of vocabulary ( +1 for padding token)\n",
        "x_voc   =  x_tokenizer.num_words + 1\n",
        "\n",
        "print(x_voc)"
      ],
      "execution_count": null,
      "outputs": [
        {
          "output_type": "stream",
          "text": [
            "% of rare words in vocabulary: 69.04802597846522\n",
            "Total Coverage of rare words: 14.516651548529222\n",
            "5434\n"
          ],
          "name": "stdout"
        }
      ]
    },
    {
      "cell_type": "markdown",
      "metadata": {
        "id": "RXbHv-aoG8Ai"
      },
      "source": [
        "# **Preparing Summary Tokenizer**"
      ]
    },
    {
      "cell_type": "code",
      "metadata": {
        "id": "ZJEElFI6Hc9n"
      },
      "source": [
        "#prepare a tokenizer for reviews on training data\n",
        "y_tokenizer = Tokenizer()   \n",
        "y_tokenizer.fit_on_texts(list(y_tr))"
      ],
      "execution_count": null,
      "outputs": []
    },
    {
      "cell_type": "code",
      "metadata": {
        "colab": {
          "base_uri": "https://localhost:8080/"
        },
        "id": "n05AFndeQJVe",
        "outputId": "0e9ac1e3-21f8-42c9-b3e4-4080f98fc758"
      },
      "source": [
        "thresh=4\n",
        "cnt=0    #number of rare words\n",
        "tot_cnt=0    # size of the vocabulary \n",
        "freq=0\n",
        "tot_freq=0\n",
        "\n",
        "for key,value in y_tokenizer.word_counts.items():\n",
        "    tot_cnt=tot_cnt+1\n",
        "    tot_freq=tot_freq+value\n",
        "    if(value<thresh):\n",
        "        cnt=cnt+1\n",
        "        freq=freq+value\n",
        "    \n",
        "print(\"% of rare words in vocabulary:\",(cnt/tot_cnt)*100)\n",
        "print(\"Total Coverage of rare words:\",(freq/tot_freq)*100)\n",
        "\n",
        "#prepare a tokenizer for reviews on training data with top most common words\n",
        "y_tokenizer = Tokenizer(num_words=tot_cnt-cnt) \n",
        "y_tokenizer.fit_on_texts(list(y_tr))\n",
        "\n",
        "#convert text sequences into integer sequences\n",
        "y_tr_seq    =   y_tokenizer.texts_to_sequences(y_tr) \n",
        "y_val_seq   =   y_tokenizer.texts_to_sequences(y_val) \n",
        "\n",
        "#padding zero upto maximum length\n",
        "y_tr    =   pad_sequences(y_tr_seq, maxlen=max_headlines_len, padding='post')\n",
        "y_val   =   pad_sequences(y_val_seq, maxlen=max_headlines_len, padding='post')\n",
        "\n",
        "#size of vocabulary\n",
        "y_voc  =   y_tokenizer.num_words +1\n",
        "\n",
        "y_tokenizer.word_counts['sostok'],len(y_tr)"
      ],
      "execution_count": null,
      "outputs": [
        {
          "output_type": "stream",
          "text": [
            "% of rare words in vocabulary: 79.19773720750835\n",
            "Total Coverage of rare words: 22.19522798762243\n"
          ],
          "name": "stdout"
        },
        {
          "output_type": "execute_result",
          "data": {
            "text/plain": [
              "(3385, 3385)"
            ]
          },
          "metadata": {
            "tags": []
          },
          "execution_count": 40
        }
      ]
    },
    {
      "cell_type": "markdown",
      "metadata": {
        "id": "BQ4S7L6zHuC8"
      },
      "source": [
        "# **Deleting the rows with only Start and End tokens**"
      ]
    },
    {
      "cell_type": "code",
      "metadata": {
        "id": "xYke85zVQJVe"
      },
      "source": [
        "ind=[]\n",
        "for i in range(len(y_tr)):\n",
        "    cnt=0\n",
        "    for j in y_tr[i]:\n",
        "        if j!=0:\n",
        "            cnt=cnt+1\n",
        "    if(cnt==2):\n",
        "        ind.append(i)\n",
        "\n",
        "y_tr=np.delete(y_tr,ind, axis=0)\n",
        "x_tr=np.delete(x_tr,ind, axis=0)\n",
        "\n",
        "ind=[]\n",
        "for i in range(len(y_val)):\n",
        "    cnt=0\n",
        "    for j in y_val[i]:\n",
        "        if j!=0:\n",
        "            cnt=cnt+1\n",
        "    if(cnt==2):\n",
        "        ind.append(i)\n",
        "\n",
        "y_val=np.delete(y_val,ind, axis=0)\n",
        "x_val=np.delete(x_val,ind, axis=0)"
      ],
      "execution_count": null,
      "outputs": []
    },
    {
      "cell_type": "markdown",
      "metadata": {
        "id": "TONRfSEA-TRZ"
      },
      "source": [
        "# **Creating Attention Layer**"
      ]
    },
    {
      "cell_type": "code",
      "metadata": {
        "id": "LvXCopwzQJVa"
      },
      "source": [
        "class AttentionLayer(Layer):\n",
        "\n",
        "\n",
        "    def __init__(self, **kwargs):\n",
        "        super(AttentionLayer, self).__init__(**kwargs)\n",
        "\n",
        "    def build(self, input_shape):\n",
        "        assert isinstance(input_shape, list)\n",
        "        # Create a trainable weight variable for this layer.\n",
        "\n",
        "        self.W_a = self.add_weight(name='W_a',\n",
        "                                   shape=tf.TensorShape((input_shape[0][2], input_shape[0][2])),\n",
        "                                   initializer='uniform',\n",
        "                                   trainable=True)\n",
        "        self.U_a = self.add_weight(name='U_a',\n",
        "                                   shape=tf.TensorShape((input_shape[1][2], input_shape[0][2])),\n",
        "                                   initializer='uniform',\n",
        "                                   trainable=True)\n",
        "        self.V_a = self.add_weight(name='V_a',\n",
        "                                   shape=tf.TensorShape((input_shape[0][2], 1)),\n",
        "                                   initializer='uniform',\n",
        "                                   trainable=True)\n",
        "\n",
        "        super(AttentionLayer, self).build(input_shape)  # Be sure to call this at the end\n",
        "\n",
        "    def call(self, inputs, verbose=False):\n",
        "        \"\"\"\n",
        "        inputs: [encoder_output_sequence, decoder_output_sequence]\n",
        "        \"\"\"\n",
        "        assert type(inputs) == list\n",
        "        encoder_out_seq, decoder_out_seq = inputs\n",
        "        if verbose:\n",
        "            print('encoder_out_seq>', encoder_out_seq.shape)\n",
        "            print('decoder_out_seq>', decoder_out_seq.shape)\n",
        "\n",
        "        def energy_step(inputs, states):\n",
        "            \"\"\" Step function for computing energy for a single decoder state \"\"\"\n",
        "\n",
        "            assert_msg = \"States must be a list. However states {} is of type {}\".format(states, type(states))\n",
        "            assert isinstance(states, list) or isinstance(states, tuple), assert_msg\n",
        "\n",
        "            \"\"\" Some parameters required for shaping tensors\"\"\"\n",
        "            en_seq_len, en_hidden = encoder_out_seq.shape[1], encoder_out_seq.shape[2]\n",
        "            de_hidden = inputs.shape[-1]\n",
        "\n",
        "            \"\"\" Computing S.Wa where S=[s0, s1, ..., si]\"\"\"\n",
        "            # <= batch_size*en_seq_len, latent_dim\n",
        "            reshaped_enc_outputs = K.reshape(encoder_out_seq, (-1, en_hidden))\n",
        "            # <= batch_size*en_seq_len, latent_dim\n",
        "            W_a_dot_s = K.reshape(K.dot(reshaped_enc_outputs, self.W_a), (-1, en_seq_len, en_hidden))\n",
        "            if verbose:\n",
        "                print('wa.s>',W_a_dot_s.shape)\n",
        "\n",
        "            \"\"\" Computing hj.Ua \"\"\"\n",
        "            U_a_dot_h = K.expand_dims(K.dot(inputs, self.U_a), 1)  # <= batch_size, 1, latent_dim\n",
        "            if verbose:\n",
        "                print('Ua.h>',U_a_dot_h.shape)\n",
        "\n",
        "            \"\"\" tanh(S.Wa + hj.Ua) \"\"\"\n",
        "            # <= batch_size*en_seq_len, latent_dim\n",
        "            reshaped_Ws_plus_Uh = K.tanh(K.reshape(W_a_dot_s + U_a_dot_h, (-1, en_hidden)))\n",
        "            if verbose:\n",
        "                print('Ws+Uh>', reshaped_Ws_plus_Uh.shape)\n",
        "\n",
        "            \"\"\" softmax(va.tanh(S.Wa + hj.Ua)) \"\"\"\n",
        "            # <= batch_size, en_seq_len\n",
        "            e_i = K.reshape(K.dot(reshaped_Ws_plus_Uh, self.V_a), (-1, en_seq_len))\n",
        "            # <= batch_size, en_seq_len\n",
        "            e_i = K.softmax(e_i)\n",
        "\n",
        "            if verbose:\n",
        "                print('ei>', e_i.shape)\n",
        "\n",
        "            return e_i, [e_i]\n",
        "\n",
        "        def context_step(inputs, states):\n",
        "            \"\"\" Step function for computing ci using ei \"\"\"\n",
        "            # <= batch_size, hidden_size\n",
        "            c_i = K.sum(encoder_out_seq * K.expand_dims(inputs, -1), axis=1)\n",
        "            if verbose:\n",
        "                print('ci>', c_i.shape)\n",
        "            return c_i, [c_i]\n",
        "\n",
        "        def create_inital_state(inputs, hidden_size):\n",
        "            # We are not using initial states, but need to pass something to K.rnn funciton\n",
        "            fake_state = K.zeros_like(inputs)  # <= (batch_size, enc_seq_len, latent_dim\n",
        "            fake_state = K.sum(fake_state, axis=[1, 2])  # <= (batch_size)\n",
        "            fake_state = K.expand_dims(fake_state)  # <= (batch_size, 1)\n",
        "            fake_state = K.tile(fake_state, [1, hidden_size])  # <= (batch_size, latent_dim\n",
        "            return fake_state\n",
        "\n",
        "        fake_state_c = create_inital_state(encoder_out_seq, encoder_out_seq.shape[-1])\n",
        "        fake_state_e = create_inital_state(encoder_out_seq, encoder_out_seq.shape[1])  # <= (batch_size, enc_seq_len, latent_dim\n",
        "\n",
        "        \"\"\" Computing energy outputs \"\"\"\n",
        "        # e_outputs => (batch_size, de_seq_len, en_seq_len)\n",
        "        last_out, e_outputs, _ = K.rnn(\n",
        "            energy_step, decoder_out_seq, [fake_state_e],\n",
        "        )\n",
        "\n",
        "        \"\"\" Computing context vectors \"\"\"\n",
        "        last_out, c_outputs, _ = K.rnn(\n",
        "            context_step, e_outputs, [fake_state_c],\n",
        "        )\n",
        "\n",
        "        return c_outputs, e_outputs\n",
        "\n",
        "    def compute_output_shape(self, input_shape):\n",
        "        \"\"\" Outputs produced by the layer \"\"\"\n",
        "        return [\n",
        "            tf.TensorShape((input_shape[1][0], input_shape[1][1], input_shape[1][2])),\n",
        "            tf.TensorShape((input_shape[1][0], input_shape[1][1], input_shape[0][1]))\n",
        "        ]"
      ],
      "execution_count": null,
      "outputs": []
    },
    {
      "cell_type": "markdown",
      "metadata": {
        "id": "IsqWsPctIr7N"
      },
      "source": [
        "# **Creating the Model-1 LSTM + Attention** "
      ]
    },
    {
      "cell_type": "code",
      "metadata": {
        "colab": {
          "base_uri": "https://localhost:8080/"
        },
        "id": "2J-4pBWqQJVe",
        "outputId": "d8c84f07-563e-44e6-b968-fcc6b21f0600"
      },
      "source": [
        "latent_dim = 200\n",
        "embedding_dim=110\n",
        "\n",
        "# Encoder\n",
        "encoder_inputs = Input(shape=(max_text_len,))\n",
        "\n",
        "#embedding layer\n",
        "enc_emb =  Embedding(x_voc, embedding_dim,trainable=True)(encoder_inputs)\n",
        "\n",
        "#encoder lstm 1\n",
        "encoder_lstm1 = LSTM(latent_dim,return_sequences=True,return_state=True,dropout=0.4,recurrent_dropout=0.4)\n",
        "encoder_output1, state_h1, state_c1 = encoder_lstm1(enc_emb)\n",
        "\n",
        "#encoder lstm 2\n",
        "encoder_lstm2 = LSTM(latent_dim,return_sequences=True,return_state=True,dropout=0.4,recurrent_dropout=0.4)\n",
        "encoder_output2, state_h2, state_c2 = encoder_lstm2(encoder_output1)\n",
        "\n",
        "#encoder lstm 3\n",
        "encoder_lstm3=LSTM(latent_dim, return_state=True, return_sequences=True,dropout=0.4,recurrent_dropout=0.4)\n",
        "encoder_outputs, state_h, state_c= encoder_lstm3(encoder_output2)\n",
        "\n",
        "# Set up the decoder, using `encoder_states` as initial state.\n",
        "decoder_inputs = Input(shape=(None,))\n",
        "\n",
        "#embedding layer\n",
        "dec_emb_layer = Embedding(y_voc, embedding_dim,trainable=True)\n",
        "dec_emb = dec_emb_layer(decoder_inputs)\n",
        "\n",
        "decoder_lstm = LSTM(latent_dim, return_sequences=True, return_state=True,dropout=0.4,recurrent_dropout=0.2)\n",
        "decoder_outputs,decoder_fwd_state, decoder_back_state = decoder_lstm(dec_emb,initial_state=[state_h, state_c])\n",
        "\n",
        "# Attention layer\n",
        "attn_layer = AttentionLayer(name='attention_layer')\n",
        "attn_out, attn_states = attn_layer([encoder_outputs, decoder_outputs])\n",
        "\n",
        "# Concat attention output and decoder LSTM output\n",
        "decoder_concat_input = Concatenate(axis=-1, name='concat_layer')([decoder_outputs, attn_out])\n",
        "\n",
        "#dense layer\n",
        "decoder_dense =  TimeDistributed(Dense(y_voc, activation='softmax'))\n",
        "decoder_outputs = decoder_dense(decoder_concat_input)\n",
        "\n",
        "# Define the model \n",
        "model = Model([encoder_inputs, decoder_inputs], decoder_outputs)\n",
        "\n",
        "model.summary()"
      ],
      "execution_count": null,
      "outputs": [
        {
          "output_type": "stream",
          "text": [
            "Model: \"model\"\n",
            "__________________________________________________________________________________________________\n",
            "Layer (type)                    Output Shape         Param #     Connected to                     \n",
            "==================================================================================================\n",
            "input_5 (InputLayer)            [(None, 55)]         0                                            \n",
            "__________________________________________________________________________________________________\n",
            "embedding_4 (Embedding)         (None, 55, 110)      1337270     input_5[0][0]                    \n",
            "__________________________________________________________________________________________________\n",
            "lstm_8 (LSTM)                   [(None, 55, 200), (N 248800      embedding_4[0][0]                \n",
            "__________________________________________________________________________________________________\n",
            "input_6 (InputLayer)            [(None, None)]       0                                            \n",
            "__________________________________________________________________________________________________\n",
            "lstm_9 (LSTM)                   [(None, 55, 200), (N 320800      lstm_8[0][0]                     \n",
            "__________________________________________________________________________________________________\n",
            "embedding_5 (Embedding)         (None, None, 110)    383570      input_6[0][0]                    \n",
            "__________________________________________________________________________________________________\n",
            "lstm_10 (LSTM)                  [(None, 55, 200), (N 320800      lstm_9[0][0]                     \n",
            "__________________________________________________________________________________________________\n",
            "lstm_11 (LSTM)                  [(None, None, 200),  248800      embedding_5[0][0]                \n",
            "                                                                 lstm_10[0][1]                    \n",
            "                                                                 lstm_10[0][2]                    \n",
            "__________________________________________________________________________________________________\n",
            "attention_layer (AttentionLayer ((None, None, 200),  80200       lstm_10[0][0]                    \n",
            "                                                                 lstm_11[0][0]                    \n",
            "__________________________________________________________________________________________________\n",
            "concat_layer (Concatenate)      (None, None, 400)    0           lstm_11[0][0]                    \n",
            "                                                                 attention_layer[0][0]            \n",
            "__________________________________________________________________________________________________\n",
            "time_distributed (TimeDistribut (None, None, 3487)   1398287     concat_layer[0][0]               \n",
            "==================================================================================================\n",
            "Total params: 4,338,527\n",
            "Trainable params: 4,338,527\n",
            "Non-trainable params: 0\n",
            "__________________________________________________________________________________________________\n"
          ],
          "name": "stdout"
        }
      ]
    },
    {
      "cell_type": "markdown",
      "metadata": {
        "id": "MubVIScLJkLi"
      },
      "source": [
        "**Epochs=100, Batch size=32**"
      ]
    },
    {
      "cell_type": "code",
      "metadata": {
        "colab": {
          "background_save": true,
          "base_uri": "https://localhost:8080/"
        },
        "id": "ZDFshxZUQJVg",
        "outputId": "6dc9f583-4330-445e-842e-aa2f73c7fb8f"
      },
      "source": [
        "model.compile(optimizer='rmsprop', loss='sparse_categorical_crossentropy', metrics = ['accuracy'])\n",
        "es = EarlyStopping(monitor='val_loss', mode='min', verbose=1,patience=2)\n",
        "history=model.fit([x_tr,y_tr[:,:-1]], y_tr.reshape(y_tr.shape[0],y_tr.shape[1], 1)[:,1:] ,\n",
        "                  epochs=100,callbacks=[es],batch_size=32, \n",
        "                  validation_data=([x_val,y_val[:,:-1]], \n",
        "                  y_val.reshape(y_val.shape[0],y_val.shape[1], 1)[:,1:]))"
      ],
      "execution_count": null,
      "outputs": [
        {
          "output_type": "stream",
          "text": [
            "Epoch 1/100\n",
            "422/422 [==============================] - 602s 1s/step - loss: 4.6506 - accuracy: 0.3835 - val_loss: 3.9353 - val_accuracy: 0.4419\n",
            "Epoch 2/100\n",
            "422/422 [==============================] - 587s 1s/step - loss: 4.0418 - accuracy: 0.4255 - val_loss: 3.7687 - val_accuracy: 0.4560\n",
            "Epoch 3/100\n",
            "422/422 [==============================] - 584s 1s/step - loss: 3.8790 - accuracy: 0.4354 - val_loss: 3.6868 - val_accuracy: 0.4603\n",
            "Epoch 4/100\n",
            "422/422 [==============================] - 581s 1s/step - loss: 3.7442 - accuracy: 0.4446 - val_loss: 3.5900 - val_accuracy: 0.4666\n",
            "Epoch 5/100\n",
            "422/422 [==============================] - 579s 1s/step - loss: 3.6277 - accuracy: 0.4518 - val_loss: 3.5414 - val_accuracy: 0.4699\n",
            "Epoch 6/100\n",
            "422/422 [==============================] - 585s 1s/step - loss: 3.5589 - accuracy: 0.4556 - val_loss: 3.4825 - val_accuracy: 0.4755\n",
            "Epoch 7/100\n",
            "422/422 [==============================] - 581s 1s/step - loss: 3.4634 - accuracy: 0.4630 - val_loss: 3.4402 - val_accuracy: 0.4769\n",
            "Epoch 8/100\n",
            "422/422 [==============================] - 579s 1s/step - loss: 3.3966 - accuracy: 0.4679 - val_loss: 3.4040 - val_accuracy: 0.4828\n",
            "Epoch 9/100\n",
            "422/422 [==============================] - 575s 1s/step - loss: 3.3297 - accuracy: 0.4728 - val_loss: 3.3785 - val_accuracy: 0.4836\n",
            "Epoch 10/100\n",
            "422/422 [==============================] - 581s 1s/step - loss: 3.2519 - accuracy: 0.4785 - val_loss: 3.3551 - val_accuracy: 0.4847\n",
            "Epoch 11/100\n",
            "422/422 [==============================] - 581s 1s/step - loss: 3.1930 - accuracy: 0.4833 - val_loss: 3.3343 - val_accuracy: 0.4869\n",
            "Epoch 12/100\n",
            "422/422 [==============================] - 579s 1s/step - loss: 3.1388 - accuracy: 0.4877 - val_loss: 3.3059 - val_accuracy: 0.4913\n",
            "Epoch 13/100\n",
            "422/422 [==============================] - 583s 1s/step - loss: 3.0887 - accuracy: 0.4920 - val_loss: 3.3133 - val_accuracy: 0.4884\n",
            "Epoch 14/100\n",
            "422/422 [==============================] - 585s 1s/step - loss: 3.0418 - accuracy: 0.4967 - val_loss: 3.2979 - val_accuracy: 0.4922\n",
            "Epoch 15/100\n",
            "422/422 [==============================] - 581s 1s/step - loss: 2.9900 - accuracy: 0.5009 - val_loss: 3.2883 - val_accuracy: 0.4959\n",
            "Epoch 16/100\n",
            "422/422 [==============================] - 581s 1s/step - loss: 2.9535 - accuracy: 0.5048 - val_loss: 3.2888 - val_accuracy: 0.4951\n",
            "Epoch 17/100\n",
            "422/422 [==============================] - 586s 1s/step - loss: 2.9122 - accuracy: 0.5072 - val_loss: 3.2696 - val_accuracy: 0.4958\n",
            "Epoch 18/100\n",
            "422/422 [==============================] - 585s 1s/step - loss: 2.8651 - accuracy: 0.5123 - val_loss: 3.2689 - val_accuracy: 0.4968\n",
            "Epoch 19/100\n",
            "422/422 [==============================] - 585s 1s/step - loss: 2.8250 - accuracy: 0.5163 - val_loss: 3.2621 - val_accuracy: 0.4994\n",
            "Epoch 20/100\n",
            "422/422 [==============================] - 579s 1s/step - loss: 2.8071 - accuracy: 0.5189 - val_loss: 3.2736 - val_accuracy: 0.4998\n",
            "Epoch 21/100\n",
            "422/422 [==============================] - 575s 1s/step - loss: 2.7754 - accuracy: 0.5231 - val_loss: 3.2773 - val_accuracy: 0.4976\n",
            "Epoch 00021: early stopping\n"
          ],
          "name": "stdout"
        }
      ]
    },
    {
      "cell_type": "code",
      "metadata": {
        "colab": {
          "background_save": true
        },
        "id": "D8JTD9HoQJVh",
        "outputId": "0f58e5df-6f20-4a1a-b9c0-58716b896acd"
      },
      "source": [
        "from matplotlib import pyplot\n",
        "pyplot.plot(history.history['loss'], label='train')\n",
        "pyplot.plot(history.history['val_loss'], label='test')\n",
        "pyplot.legend()\n",
        "pyplot.show()"
      ],
      "execution_count": null,
      "outputs": [
        {
          "output_type": "display_data",
          "data": {
            "image/png": "[encoded data removed]",
            "text/plain": [
              "<Figure size 432x288 with 1 Axes>"
            ]
          },
          "metadata": {
            "tags": []
          }
        }
      ]
    },
    {
      "cell_type": "markdown",
      "metadata": {
        "id": "xgFT8JLVKD0n"
      },
      "source": [
        "## **Inference**"
      ]
    },
    {
      "cell_type": "code",
      "metadata": {
        "colab": {
          "background_save": true
        },
        "id": "IUykThOgQJVh"
      },
      "source": [
        "reverse_target_word_index= y_tokenizer.index_word\n",
        "reverse_source_word_index= x_tokenizer.index_word\n",
        "target_word_index= y_tokenizer.word_index\n",
        "\n",
        "# Encode the input sequence to get the feature vector\n",
        "encoder_model = Model(inputs=encoder_inputs,outputs=[encoder_outputs, state_h, state_c])\n",
        "\n",
        "# Decoder setup\n",
        "# Below tensors will hold the states of the previous time step\n",
        "decoder_state_input_h = Input(shape=(latent_dim,))\n",
        "decoder_state_input_c = Input(shape=(latent_dim,))\n",
        "decoder_hidden_state_input = Input(shape=(max_text_len,latent_dim))\n",
        "\n",
        "# Get the embeddings of the decoder sequence\n",
        "dec_emb2= dec_emb_layer(decoder_inputs) \n",
        "\n",
        "# To predict the next word in the sequence, set the initial states to the states from the previous time step\n",
        "decoder_outputs2, state_h2, state_c2 = decoder_lstm(dec_emb2, initial_state=[decoder_state_input_h, decoder_state_input_c])\n",
        "\n",
        "#attention inference\n",
        "attn_out_inf, attn_states_inf = attn_layer([decoder_hidden_state_input, decoder_outputs2])\n",
        "decoder_inf_concat = Concatenate(axis=-1, name='concat')([decoder_outputs2, attn_out_inf])\n",
        "\n",
        "# A dense softmax layer to generate prob dist. over the target vocabulary\n",
        "decoder_outputs2 = decoder_dense(decoder_inf_concat) \n",
        "\n",
        "# Final decoder model\n",
        "decoder_model = Model(\n",
        "    [decoder_inputs] + [decoder_hidden_state_input,decoder_state_input_h, decoder_state_input_c],\n",
        "    [decoder_outputs2] + [state_h2, state_c2])\n",
        "\n",
        "def decode_sequence(input_seq):\n",
        "    # Encode the input as state vectors.\n",
        "    e_out, e_h, e_c = encoder_model.predict(input_seq)\n",
        "    \n",
        "    # Generate empty target sequence of length 1.\n",
        "    target_seq = np.zeros((1,1))\n",
        "    \n",
        "    # Populate the first word of target sequence with the start word.\n",
        "    target_seq[0, 0] = target_word_index['sostok']\n",
        "\n",
        "    stop_condition = False\n",
        "    decoded_sentence = ''\n",
        "    while not stop_condition:\n",
        "      \n",
        "        output_tokens, h, c = decoder_model.predict([target_seq] + [e_out, e_h, e_c])\n",
        "\n",
        "        # Sample a token\n",
        "        sampled_token_index = np.argmax(output_tokens[0, -1, :])\n",
        "        sampled_token = reverse_target_word_index[sampled_token_index]\n",
        "        \n",
        "        if(sampled_token!='eostok'):\n",
        "            decoded_sentence += ' '+sampled_token\n",
        "\n",
        "        # Exit condition: either hit max length or find stop word.\n",
        "        if (sampled_token == 'eostok'  or len(decoded_sentence.split()) >= (max_headlines_len-1)):\n",
        "            stop_condition = True\n",
        "\n",
        "        # Update the target sequence (of length 1).\n",
        "        target_seq = np.zeros((1,1))\n",
        "        target_seq[0, 0] = sampled_token_index\n",
        "\n",
        "        # Update internal states\n",
        "        e_h, e_c = h, c\n",
        "\n",
        "    return decoded_sentence\n",
        "\n",
        "def seq2summary(input_seq):\n",
        "    newString=''\n",
        "    for i in input_seq:\n",
        "        if((i!=0 and i!=target_word_index['sostok']) and i!=target_word_index['eostok']):\n",
        "            newString=newString+reverse_target_word_index[i]+' '\n",
        "    return newString\n",
        "\n",
        "def seq2text(input_seq):\n",
        "    newString=''\n",
        "    for i in input_seq:\n",
        "        if(i!=0):\n",
        "            newString=newString+reverse_source_word_index[i]+' '\n",
        "    return newString"
      ],
      "execution_count": null,
      "outputs": []
    },
    {
      "cell_type": "markdown",
      "metadata": {
        "id": "5F7UmNTBKOpR"
      },
      "source": [
        "## **Generated Summaries**"
      ]
    },
    {
      "cell_type": "code",
      "metadata": {
        "colab": {
          "base_uri": "https://localhost:8080/"
        },
        "id": "mcNPsi9pQJVi",
        "outputId": "3e620f45-7721-4973-eea2-c9b64853814a"
      },
      "source": [
        "for i in range(0,8):\n",
        "    print(\"Review:\",seq2text(x_tr[i]))\n",
        "    print(\"Original summary:\",seq2summary(y_tr[i]))\n",
        "    print(\"Predicted summary:\",decode_sequence(x_tr[i].reshape(1,max_text_len)))\n",
        "    \n",
        "    print(\"\\n\")"
      ],
      "execution_count": null,
      "outputs": [
        {
          "output_type": "stream",
          "text": [
            "Review: police state mining department tuesday found illegal sand mining taking place greater noida two near yamuna river authorities said recovered around 18 metres sand plot owners booked issued notices worth 70 lakh \n",
            "Original summary: illegal sand along yamuna in noida \n",
            "Predicted summary:  mumbai arrested for mumbai\n",
            "\n",
            "\n",
            "Review: england offering nearly 42 000 reward recovery two prize winning stolen agricultural show two stolen along certificates prove prize winning quality could raise value bit like painting stolen said rich \n",
            "Original summary: offers 42 000 reward to stolen \n",
            "Predicted summary:  delhi police to be held for\n",
            "\n",
            "\n",
            "Review: completion delhi metro phase iv cleared recently government likely make second largest metro system largest outside china reports said delhi metro currently 11th largest estimated carry 70 lakh people regularly completion phase iv 100 km delhi metro network \n",
            "Original summary: delhi metro may become largest metro system outside china \n",
            "Predicted summary:  delhi metro to get metro to be\n",
            "\n",
            "\n",
            "Review: cbse planning class 12 board exams march second week owing upcoming assembly elections five states report said exams likely start march 9 10 according reports exams usually begin march 1 results declared third week may \n",
            "Original summary: cbse may class 12 board by a week report \n",
            "Predicted summary:  pak origin to be pak in pak\n",
            "\n",
            "\n",
            "Review: indian ambassador nigeria b reddy summoned nigerian government discuss attack nigerian students mall greater noida nigerian government asked indian government ensure immediate arrest responsible attack nationals \n",
            "Original summary: indian over greater noida mall attack \n",
            "Predicted summary:  indian indian railway in greater noida\n",
            "\n",
            "\n",
            "Review: government primary sanskrit school rajasthan district six four teachers single student student strength school established 1998 55 2005 began decline reportedly teachers report work 8 water plants read newspapers chat among leave 2 pm \n",
            "Original summary: rajasthan govt school has 4 teachers no students \n",
            "Predicted summary:  govt launches protest on\n",
            "\n",
            "\n",
            "Review: actor television host shared picture twitter physical age 53 following four months training preparing role stage former jammu kashmir cm tweeted inspiring ask plans \n",
            "Original summary: shares pic of at 53 \n",
            "Predicted summary:  salman to star in a reports\n",
            "\n",
            "\n",
            "Review: german bmw rejected reports emissions tests illegal systems cars company also denied reports plotting diesel emissions treatment systems vehicle emissions came scrutiny worldwide since admitted 2015 installing illegal software us emissions tests diesel cars \n",
            "Original summary: denies reports of \n",
            "Predicted summary:  i am to play my in the\n",
            "\n",
            "\n"
          ],
          "name": "stdout"
        }
      ]
    },
    {
      "cell_type": "markdown",
      "metadata": {
        "id": "SXwvdH0_MO9M"
      },
      "source": [
        "# **Creating the Model-2 LSTM + Attention**"
      ]
    },
    {
      "cell_type": "code",
      "metadata": {
        "colab": {
          "base_uri": "https://localhost:8080/"
        },
        "id": "qmtO0K2eAX7I",
        "outputId": "b20d6909-bdf8-4693-c584-063382288c3e"
      },
      "source": [
        "from keras import backend as K \n",
        "K.clear_session()\n",
        "\n",
        "latent_dim = 200\n",
        "embedding_dim=110\n",
        "\n",
        "# Encoder\n",
        "encoder_inputs = Input(shape=(max_text_len,))\n",
        "\n",
        "#embedding layer\n",
        "enc_emb =  Embedding(x_voc, embedding_dim,trainable=True)(encoder_inputs)\n",
        "\n",
        "#encoder lstm 1\n",
        "encoder_lstm1 = LSTM(latent_dim,return_sequences=True,return_state=True,dropout=0.4,recurrent_dropout=0.4)\n",
        "encoder_output1, state_h1, state_c1 = encoder_lstm1(enc_emb)\n",
        "\n",
        "#encoder lstm 2\n",
        "encoder_lstm2 = LSTM(latent_dim,return_sequences=True,return_state=True,dropout=0.4,recurrent_dropout=0.4)\n",
        "encoder_output2, state_h2, state_c2 = encoder_lstm2(encoder_output1)\n",
        "\n",
        "#encoder lstm 3\n",
        "encoder_lstm3=LSTM(latent_dim, return_state=True, return_sequences=True,dropout=0.4,recurrent_dropout=0.4)\n",
        "encoder_output3, state_h, state_c= encoder_lstm3(encoder_output2)\n",
        "\n",
        "\n",
        "#encoder lstm 4\n",
        "encoder_lstm4=LSTM(latent_dim, return_state=True, return_sequences=True,dropout=0.4,recurrent_dropout=0.4)\n",
        "encoder_output4, state_h, state_c= encoder_lstm4(encoder_output3)\n",
        "\n",
        "\n",
        "#encoder lstm 5\n",
        "encoder_lstm5=LSTM(latent_dim, return_state=True, return_sequences=True,dropout=0.4,recurrent_dropout=0.4)\n",
        "encoder_outputs, state_h, state_c= encoder_lstm5(encoder_output4)\n",
        "\n",
        "# Set up the decoder, using `encoder_states` as initial state.\n",
        "decoder_inputs = Input(shape=(None,))\n",
        "\n",
        "#embedding layer\n",
        "dec_emb_layer = Embedding(y_voc, embedding_dim,trainable=True)\n",
        "dec_emb = dec_emb_layer(decoder_inputs)\n",
        "\n",
        "decoder_lstm = LSTM(latent_dim, return_sequences=True, return_state=True,dropout=0.4,recurrent_dropout=0.2)\n",
        "decoder_outputs,decoder_fwd_state, decoder_back_state = decoder_lstm(dec_emb,initial_state=[state_h, state_c])\n",
        "\n",
        "# Attention layer\n",
        "attn_layer = AttentionLayer(name='attention_layer')\n",
        "attn_out, attn_states = attn_layer([encoder_outputs, decoder_outputs])\n",
        "\n",
        "# Concat attention input and decoder LSTM output\n",
        "decoder_concat_input = Concatenate(axis=-1, name='concat_layer')([decoder_outputs, attn_out])\n",
        "\n",
        "#dense layer\n",
        "decoder_dense =  TimeDistributed(Dense(y_voc, activation='softmax'))\n",
        "decoder_outputs = decoder_dense(decoder_concat_input)\n",
        "\n",
        "# Define the model \n",
        "model = Model([encoder_inputs, decoder_inputs], decoder_outputs)\n",
        "\n",
        "model.summary()"
      ],
      "execution_count": null,
      "outputs": [
        {
          "output_type": "stream",
          "text": [
            "Model: \"model\"\n",
            "__________________________________________________________________________________________________\n",
            "Layer (type)                    Output Shape         Param #     Connected to                     \n",
            "==================================================================================================\n",
            "input_1 (InputLayer)            [(None, 51)]         0                                            \n",
            "__________________________________________________________________________________________________\n",
            "embedding (Embedding)           (None, 51, 110)      961840      input_1[0][0]                    \n",
            "__________________________________________________________________________________________________\n",
            "lstm (LSTM)                     [(None, 51, 200), (N 248800      embedding[0][0]                  \n",
            "__________________________________________________________________________________________________\n",
            "lstm_1 (LSTM)                   [(None, 51, 200), (N 320800      lstm[0][0]                       \n",
            "__________________________________________________________________________________________________\n",
            "lstm_2 (LSTM)                   [(None, 51, 200), (N 320800      lstm_1[0][0]                     \n",
            "__________________________________________________________________________________________________\n",
            "input_2 (InputLayer)            [(None, None)]       0                                            \n",
            "__________________________________________________________________________________________________\n",
            "lstm_3 (LSTM)                   [(None, 51, 200), (N 320800      lstm_2[0][0]                     \n",
            "__________________________________________________________________________________________________\n",
            "embedding_1 (Embedding)         (None, None, 110)    352550      input_2[0][0]                    \n",
            "__________________________________________________________________________________________________\n",
            "lstm_4 (LSTM)                   [(None, 51, 200), (N 320800      lstm_3[0][0]                     \n",
            "__________________________________________________________________________________________________\n",
            "lstm_5 (LSTM)                   [(None, None, 200),  248800      embedding_1[0][0]                \n",
            "                                                                 lstm_4[0][1]                     \n",
            "                                                                 lstm_4[0][2]                     \n",
            "__________________________________________________________________________________________________\n",
            "attention_layer (AttentionLayer ((None, None, 200),  80200       lstm_4[0][0]                     \n",
            "                                                                 lstm_5[0][0]                     \n",
            "__________________________________________________________________________________________________\n",
            "concat_layer (Concatenate)      (None, None, 400)    0           lstm_5[0][0]                     \n",
            "                                                                 attention_layer[0][0]            \n",
            "__________________________________________________________________________________________________\n",
            "time_distributed (TimeDistribut (None, None, 3205)   1285205     concat_layer[0][0]               \n",
            "==================================================================================================\n",
            "Total params: 4,460,595\n",
            "Trainable params: 4,460,595\n",
            "Non-trainable params: 0\n",
            "__________________________________________________________________________________________________\n"
          ],
          "name": "stdout"
        }
      ]
    },
    {
      "cell_type": "code",
      "metadata": {
        "colab": {
          "base_uri": "https://localhost:8080/"
        },
        "id": "UWLlmRSLAaAO",
        "outputId": "7a83849f-b532-4a7e-acdd-f97217992b1b"
      },
      "source": [
        "model.compile(optimizer='rmsprop', loss='sparse_categorical_crossentropy', metrics = ['accuracy'])\n",
        "es = EarlyStopping(monitor='val_loss', mode='min', verbose=1,patience=2)\n",
        "history=model.fit([x_tr,y_tr[:,:-1]], y_tr.reshape(y_tr.shape[0],y_tr.shape[1], 1)[:,1:] ,\n",
        "                  epochs=50,callbacks=[es],batch_size=64, \n",
        "                  validation_data=([x_val,y_val[:,:-1]], \n",
        "                  y_val.reshape(y_val.shape[0],y_val.shape[1], 1)[:,1:]))"
      ],
      "execution_count": null,
      "outputs": [
        {
          "output_type": "stream",
          "text": [
            "Epoch 1/50\n",
            "109/109 [==============================] - 286s 2s/step - loss: 4.0014 - accuracy: 0.4099 - val_loss: 3.8494 - val_accuracy: 0.4324\n",
            "Epoch 2/50\n",
            "109/109 [==============================] - 269s 2s/step - loss: 3.8539 - accuracy: 0.4161 - val_loss: 3.7927 - val_accuracy: 0.4349\n",
            "Epoch 3/50\n",
            "109/109 [==============================] - 268s 2s/step - loss: 3.7608 - accuracy: 0.4188 - val_loss: 3.7630 - val_accuracy: 0.4372\n",
            "Epoch 4/50\n",
            "109/109 [==============================] - 269s 2s/step - loss: 3.6626 - accuracy: 0.4237 - val_loss: 3.7183 - val_accuracy: 0.4399\n",
            "Epoch 5/50\n",
            "109/109 [==============================] - 269s 2s/step - loss: 3.5822 - accuracy: 0.4279 - val_loss: 3.6953 - val_accuracy: 0.4397\n",
            "Epoch 6/50\n",
            "109/109 [==============================] - 269s 2s/step - loss: 3.4994 - accuracy: 0.4328 - val_loss: 3.6745 - val_accuracy: 0.4414\n",
            "Epoch 7/50\n",
            "109/109 [==============================] - 268s 2s/step - loss: 3.4381 - accuracy: 0.4353 - val_loss: 3.6616 - val_accuracy: 0.4417\n",
            "Epoch 8/50\n",
            "109/109 [==============================] - 268s 2s/step - loss: 3.3700 - accuracy: 0.4369 - val_loss: 3.6582 - val_accuracy: 0.4424\n",
            "Epoch 9/50\n",
            "109/109 [==============================] - 269s 2s/step - loss: 3.3149 - accuracy: 0.4399 - val_loss: 3.6422 - val_accuracy: 0.4445\n",
            "Epoch 10/50\n",
            "109/109 [==============================] - 268s 2s/step - loss: 3.2383 - accuracy: 0.4455 - val_loss: 3.6352 - val_accuracy: 0.4448\n",
            "Epoch 11/50\n",
            "109/109 [==============================] - 268s 2s/step - loss: 3.1902 - accuracy: 0.4476 - val_loss: 3.6350 - val_accuracy: 0.4454\n",
            "Epoch 12/50\n",
            "109/109 [==============================] - 269s 2s/step - loss: 3.1370 - accuracy: 0.4509 - val_loss: 3.6251 - val_accuracy: 0.4464\n",
            "Epoch 13/50\n",
            "109/109 [==============================] - 270s 2s/step - loss: 3.0665 - accuracy: 0.4564 - val_loss: 3.6184 - val_accuracy: 0.4473\n",
            "Epoch 14/50\n",
            "109/109 [==============================] - 268s 2s/step - loss: 3.0048 - accuracy: 0.4589 - val_loss: 3.6223 - val_accuracy: 0.4467\n",
            "Epoch 15/50\n",
            "109/109 [==============================] - 269s 2s/step - loss: 2.9415 - accuracy: 0.4661 - val_loss: 3.6083 - val_accuracy: 0.4501\n",
            "Epoch 16/50\n",
            "109/109 [==============================] - 270s 2s/step - loss: 2.8829 - accuracy: 0.4682 - val_loss: 3.6205 - val_accuracy: 0.4474\n",
            "Epoch 17/50\n",
            "109/109 [==============================] - 270s 2s/step - loss: 2.8383 - accuracy: 0.4732 - val_loss: 3.6178 - val_accuracy: 0.4493\n",
            "Epoch 00017: early stopping\n"
          ],
          "name": "stdout"
        }
      ]
    },
    {
      "cell_type": "code",
      "metadata": {
        "colab": {
          "base_uri": "https://localhost:8080/",
          "height": 265
        },
        "id": "rpQ53D8NAb-y",
        "outputId": "e2f0656b-7aa8-4f99-c6a5-8b8216d16839"
      },
      "source": [
        "from matplotlib import pyplot\n",
        "pyplot.plot(history.history['loss'], label='train')\n",
        "pyplot.plot(history.history['val_loss'], label='test')\n",
        "pyplot.legend()\n",
        "pyplot.show()"
      ],
      "execution_count": null,
      "outputs": [
        {
          "output_type": "display_data",
          "data": {
            "image/png": "[encoded data removed]",
            "text/plain": [
              "<Figure size 432x288 with 1 Axes>"
            ]
          },
          "metadata": {
            "tags": []
          }
        }
      ]
    },
    {
      "cell_type": "markdown",
      "metadata": {
        "id": "o3_rI5oMMYUB"
      },
      "source": [
        "## **Inference**"
      ]
    },
    {
      "cell_type": "code",
      "metadata": {
        "id": "L0YtExlUAdpc"
      },
      "source": [
        "reverse_target_word_index=y_tokenizer.index_word\n",
        "reverse_source_word_index=x_tokenizer.index_word\n",
        "target_word_index=y_tokenizer.word_index\n",
        "\n",
        "# Encode the input sequence to get the feature vector\n",
        "encoder_model = Model(inputs=encoder_inputs,outputs=[encoder_outputs, state_h, state_c])\n",
        "\n",
        "# Decoder setup\n",
        "# Below tensors will hold the states of the previous time step\n",
        "decoder_state_input_h = Input(shape=(latent_dim,))\n",
        "decoder_state_input_c = Input(shape=(latent_dim,))\n",
        "decoder_hidden_state_input = Input(shape=(max_text_len,latent_dim))\n",
        "\n",
        "# Get the embeddings of the decoder sequence\n",
        "dec_emb2= dec_emb_layer(decoder_inputs) \n",
        "# To predict the next word in the sequence, set the initial states to the states from the previous time step\n",
        "decoder_outputs2, state_h2, state_c2 = decoder_lstm(dec_emb2, initial_state=[decoder_state_input_h, decoder_state_input_c])\n",
        "\n",
        "#attention inference\n",
        "attn_out_inf, attn_states_inf = attn_layer([decoder_hidden_state_input, decoder_outputs2])\n",
        "decoder_inf_concat = Concatenate(axis=-1, name='concat')([decoder_outputs2, attn_out_inf])\n",
        "\n",
        "# A dense softmax layer to generate prob dist. over the target vocabulary\n",
        "decoder_outputs2 = decoder_dense(decoder_inf_concat) \n",
        "\n",
        "# Final decoder model\n",
        "decoder_model = Model(\n",
        "    [decoder_inputs] + [decoder_hidden_state_input,decoder_state_input_h, decoder_state_input_c],\n",
        "    [decoder_outputs2] + [state_h2, state_c2])\n",
        "\n",
        "def decode_sequence(input_seq):\n",
        "    # Encode the input as state vectors.\n",
        "    e_out, e_h, e_c = encoder_model.predict(input_seq)\n",
        "    \n",
        "    # Generate empty target sequence of length 1.\n",
        "    target_seq = np.zeros((1,1))\n",
        "    \n",
        "    # Populate the first word of target sequence with the start word.\n",
        "    target_seq[0, 0] = target_word_index['sostok']\n",
        "\n",
        "    stop_condition = False\n",
        "    decoded_sentence = ''\n",
        "    while not stop_condition:\n",
        "      \n",
        "        output_tokens, h, c = decoder_model.predict([target_seq] + [e_out, e_h, e_c])\n",
        "\n",
        "        # Sample a token\n",
        "        sampled_token_index = np.argmax(output_tokens[0, -1, :])\n",
        "        sampled_token = reverse_target_word_index[sampled_token_index]\n",
        "        \n",
        "        if(sampled_token!='eostok'):\n",
        "            decoded_sentence += ' '+sampled_token\n",
        "\n",
        "        # Exit condition: either hit max length or find stop word.\n",
        "        if (sampled_token == 'eostok'  or len(decoded_sentence.split()) >= (max_headlines_len-1)):\n",
        "            stop_condition = True\n",
        "\n",
        "        # Update the target sequence (of length 1).\n",
        "        target_seq = np.zeros((1,1))\n",
        "        target_seq[0, 0] = sampled_token_index\n",
        "\n",
        "        # Update internal states\n",
        "        e_h, e_c = h, c\n",
        "\n",
        "    return decoded_sentence\n",
        "\n",
        "def seq2summary(input_seq):\n",
        "    newString=''\n",
        "    for i in input_seq:\n",
        "        if((i!=0 and i!=target_word_index['sostok']) and i!=target_word_index['eostok']):\n",
        "            newString=newString+reverse_target_word_index[i]+' '\n",
        "    return newString\n",
        "\n",
        "def seq2text(input_seq):\n",
        "    newString=''\n",
        "    for i in input_seq:\n",
        "        if(i!=0):\n",
        "            newString=newString+reverse_source_word_index[i]+' '\n",
        "    return newString"
      ],
      "execution_count": null,
      "outputs": []
    },
    {
      "cell_type": "markdown",
      "metadata": {
        "id": "M1XPi817Mdca"
      },
      "source": [
        "## **Getting Summaries**"
      ]
    },
    {
      "cell_type": "code",
      "metadata": {
        "colab": {
          "base_uri": "https://localhost:8080/"
        },
        "id": "Rv1pVM-4AgCX",
        "outputId": "49aa0702-1cbc-4476-faaf-79c6f7a93582"
      },
      "source": [
        "for i in range(0,8):\n",
        "    print(\"Review:\",seq2text(x_tr[i]))\n",
        "    print(\"Original summary:\",seq2summary(y_tr[i]))\n",
        "    print(\"Predicted summary:\",decode_sequence(x_tr[i].reshape(1,max_text_len)))\n",
        "    print(\"\\n\")"
      ],
      "execution_count": null,
      "outputs": [
        {
          "output_type": "stream",
          "text": [
            "Review: india batsman cheteshwar pujara father arvind pujara could see son 373 ball 193 run knock sydney test fly rajkot cardiac procedure mumbai holy family hospital anybody doubt batting cleared i'll go home watch replays arvind said cheteshwar innings \n",
            "Original summary: pujara dad could not see his run due to heart \n",
            "Predicted summary:  pandya will not be to be in australia\n",
            "\n",
            "\n",
            "Review: 'the gandhi film based mahatma gandhi assassination release india certain elements issued threats film producer lakshmi r iyer said indians sensitive learn truth clearly time lakshmi said film set release worldwide january 30 mahatma gandhi death anniversary \n",
            "Original summary: 'the gandhi india release cancelled due to threats \n",
            "Predicted summary:  i have not want to be sara on\n",
            "\n",
            "\n",
            "Review: iit madras hostel allegedly put details student caught used inside room notice board list also included names students along items found rooms calling violation privacy students alleged hostel officials rooms clicked pictures without consent \n",
            "Original summary: iit madras puts student name on notice board over \n",
            "Predicted summary:  tn to be in delhi\n",
            "\n",
            "\n",
            "Review: trailer marvel 'avengers endgame' released friday starring robert jr chris hemsworth trailer shows members superhero team attempting defeat wiped half world living directed joe film release april 2019 \n",
            "Original summary: trailer of released \n",
            "Predicted summary:  actor of the theatres\n",
            "\n",
            "\n",
            "Review: ahmed journalist helped corruption african football shot dead 34 year old part team led award winning journalist whose investigation led resignation football association head ex head association banned life fined 500 000 fifa \n",
            "Original summary: 34 yr old who exposed football corruption shot dead \n",
            "Predicted summary:  indian origin woman from plane plane\n",
            "\n",
            "\n",
            "Review: talking husband virat kohli maintain balance work personal life anushka sharma said understood important think us managed really well given two lives busy sometimes one person stays house one given time added anushka \n",
            "Original summary: virat and i have work personal life well anushka \n",
            "Predicted summary:  i have not want to be a dhoni on pandya\n",
            "\n",
            "\n",
            "Review: shooter manu bhaker gold 2018 youth olympic games asked haryana sports minister anil vij whether ã¢ââ¹2 crore cash reward promise achievement 16 year old shared screenshot vij tweets wherein mentioned bhaker would get ã¢ââ¹2 crore claimed previous governments used reward athletes ã¢ââ¹10 lakh \n",
            "Original summary: manu asks minister if ã¢ââ¹2 crore reward was \n",
            "Predicted summary:  govt seeks cr for ã¢ââ¹2 crore in india\n",
            "\n",
            "\n",
            "Review: amid talks us north korean leader kim jong un testing new weapon first public inspection since last year north korea state media reported added weapon could protect north korea like steel wall kim described test display north korea rapidly growing defence capabilities \n",
            "Original summary: n korea tests new amid talks with us \n",
            "Predicted summary:  us ambani anand to end to us\n",
            "\n",
            "\n"
          ],
          "name": "stdout"
        }
      ]
    },
    {
      "cell_type": "code",
      "metadata": {
        "id": "6xGzgNwXAhYW"
      },
      "source": [
        ""
      ],
      "execution_count": null,
      "outputs": []
    },
    {
      "cell_type": "markdown",
      "metadata": {
        "id": "mbtttZ7dIzG8"
      },
      "source": [
        "#**Creating the Model-3 BiLSTM +Attention**"
      ]
    },
    {
      "cell_type": "code",
      "metadata": {
        "id": "HtRFJ9YRKHCp"
      },
      "source": [
        "from keras import backend as K \n",
        "from keras.layers import Bidirectional\n",
        "\n",
        "\n",
        "\n",
        "K.clear_session()\n",
        "\n",
        "\n",
        "latent_dim = 300\n",
        "embedding_dim=100\n",
        "\n",
        "# Encoder\n",
        "encoder_inputs = Input(shape=(8456,))\n",
        "\n",
        "#embedding layer\n",
        "enc_emb =  Embedding(x_voc, embedding_dim,trainable=True)(encoder_inputs)\n",
        "\n",
        "#encoder lstm 1\n",
        "encoder_bi_lstm1 = Bidirectional(LSTM(latent_dim,\n",
        "                                   return_sequences=True,\n",
        "                                   return_state=True,\n",
        "                                   dropout=0.4,\n",
        "                                   recurrent_dropout=0.4), \n",
        "                                 merge_mode=\"concat\")\n",
        "encoder_output1, forward_state_h1, forward_state_c1, backward_state_h1, backward_state_c1 = encoder_bi_lstm1(enc_emb)\n",
        "encoder_states1 = [forward_state_h1, forward_state_c1, backward_state_h1, backward_state_c1]\n",
        "\n",
        "# Set up the decoder, using `encoder_states` as initial state.\n",
        "decoder_inputs = Input(shape=(None,))\n",
        "\n",
        "#embedding layer\n",
        "dec_emb_layer = Embedding(y_voc, embedding_dim,trainable=True)\n",
        "dec_emb = dec_emb_layer(decoder_inputs)\n",
        "\n",
        "#decoder_lstm = LSTM(latent_dim, return_sequences=True, return_state=True,dropout=0.4,recurrent_dropout=0.2)\n",
        "#decoder_outputs,decoder_fwd_state, decoder_back_state = decoder_lstm(dec_emb,initial_state=[state_h, state_c])\n",
        "\n",
        "decoder_bi_lstm = Bidirectional(LSTM(latent_dim, \n",
        "                                  return_sequences=True, \n",
        "                                  return_state=True,\n",
        "                                  dropout=0.4,\n",
        "                                  recurrent_dropout=0.2),\n",
        "                             merge_mode=\"concat\")\n",
        "decoder_outputs, decoder_fwd_state_h1, decoder_fwd_state_c1, decoder_back_state_h1, decoder_back_state_c1 = decoder_bi_lstm(dec_emb,initial_state=encoder_states1)\n",
        "decoder_states = [decoder_fwd_state_h1, decoder_fwd_state_c1, decoder_back_state_h1, decoder_back_state_c1]\n",
        "\n",
        "# Attention layer\n",
        "attn_layer = AttentionLayer(name='attention_layer')\n",
        "attn_out, attn_states = attn_layer([encoder_output1, decoder_outputs])\n",
        "\n",
        "# Concat attention input and decoder LSTM output\n",
        "decoder_concat_input = Concatenate(axis=-1, name='concat_layer')([decoder_outputs, attn_out])\n",
        "\n",
        "#dense layer\n",
        "decoder_dense =  TimeDistributed(Dense(y_voc, activation='softmax'))\n",
        "decoder_outputs = decoder_dense(decoder_concat_input)\n",
        "\n",
        "# Define the model \n",
        "model = Model([encoder_inputs, decoder_inputs], decoder_outputs)\n",
        "\n",
        "model.summary() \n",
        "####################################################################################\n",
        "####################################################################################\n",
        "####################################################################################\n",
        "\n",
        "dec_h_state_f = tf.keras.layers.Input(shape=(latent_dim))\n",
        "dec_h_state_r = tf.keras.layers.Input(shape=(latent_dim))\n",
        "\n",
        "dec_c_state_f = tf.keras.layers.Input(shape=(latent_dim))\n",
        "dec_c_state_r = tf.keras.layers.Input(shape=(latent_dim))\n",
        "\n",
        "\n",
        "# Create the hidden input layer with twice the latent dimension,\n",
        "# since we are using bi - directional LSTM's we will get \n",
        "# two hidden states and two cell states\n",
        "\n",
        "dec_hidden_inp = tf.keras.layers.Input(shape=(8456, latent_dim * 2))\n",
        "\n",
        "dec_model = tf.keras.models.Model([decoder_inputs] + [dec_hidden_inp, dec_h_state_f, dec_h_state_r, dec_c_state_f, dec_c_state_r],\n",
        "                              [decoder_outputs] + [decoder_back_state_h1])\n",
        "\n"
      ],
      "execution_count": null,
      "outputs": []
    },
    {
      "cell_type": "code",
      "metadata": {
        "id": "xl6vthciIzHU"
      },
      "source": [
        "model.compile(optimizer='rmsprop', loss='sparse_categorical_crossentropy', metrics = ['accuracy'])\n",
        "es = EarlyStopping(monitor='val_loss', mode='min', verbose=1,patience=2)\n",
        "history=model.fit([x_tr,y_tr[:,:-1]], y_tr.reshape(y_tr.shape[0],y_tr.shape[1], 1)[:,1:] ,\n",
        "                  epochs=50,callbacks=[es],batch_size=64, \n",
        "                  validation_data=([x_val,y_val[:,:-1]], \n",
        "                  y_val.reshape(y_val.shape[0],y_val.shape[1], 1)[:,1:]))"
      ],
      "execution_count": null,
      "outputs": []
    },
    {
      "cell_type": "code",
      "metadata": {
        "id": "wFqniVXxIzHV"
      },
      "source": [
        "from matplotlib import pyplot\n",
        "pyplot.plot(history.history['loss'], label='train')\n",
        "pyplot.plot(history.history['val_loss'], label='test')\n",
        "pyplot.legend()\n",
        "pyplot.show()"
      ],
      "execution_count": null,
      "outputs": []
    },
    {
      "cell_type": "markdown",
      "metadata": {
        "id": "VZJsf_-LOew3"
      },
      "source": [
        "## **Inference**"
      ]
    },
    {
      "cell_type": "code",
      "metadata": {
        "id": "N6QnsIVdIzHV"
      },
      "source": [
        "reverse_target_word_index=y_tokenizer.index_word\n",
        "reverse_source_word_index=x_tokenizer.index_word\n",
        "target_word_index=y_tokenizer.word_index\n",
        "\n",
        "# Encode the input sequence to get the feature vector\n",
        "encoder_model = Model(inputs=encoder_inputs,outputs=[encoder_outputs, state_h, state_c])\n",
        "\n",
        "# Decoder setup\n",
        "# Below tensors will hold the states of the previous time step\n",
        "decoder_state_input_h = Input(shape=(latent_dim,))\n",
        "decoder_state_input_c = Input(shape=(latent_dim,))\n",
        "decoder_hidden_state_input = Input(shape=(max_text_len,latent_dim))\n",
        "\n",
        "# Get the embeddings of the decoder sequence\n",
        "dec_emb2= dec_emb_layer(decoder_inputs) \n",
        "# To predict the next word in the sequence, set the initial states to the states from the previous time step\n",
        "decoder_outputs2, state_h2, state_c2 = decoder_lstm(dec_emb2, initial_state=[decoder_state_input_h, decoder_state_input_c])\n",
        "\n",
        "#attention inference\n",
        "attn_out_inf, attn_states_inf = attn_layer([decoder_hidden_state_input, decoder_outputs2])\n",
        "decoder_inf_concat = Concatenate(axis=-1, name='concat')([decoder_outputs2, attn_out_inf])\n",
        "\n",
        "# A dense softmax layer to generate prob dist. over the target vocabulary\n",
        "decoder_outputs2 = decoder_dense(decoder_inf_concat) \n",
        "\n",
        "# Final decoder model\n",
        "decoder_model = Model(\n",
        "    [decoder_inputs] + [decoder_hidden_state_input,decoder_state_input_h, decoder_state_input_c],\n",
        "    [decoder_outputs2] + [state_h2, state_c2])\n",
        "\n",
        "def decode_sequence(input_seq):\n",
        "    # Encode the input as state vectors.\n",
        "    e_out, e_h, e_c = encoder_model.predict(input_seq)\n",
        "    \n",
        "    # Generate empty target sequence of length 1.\n",
        "    target_seq = np.zeros((1,1))\n",
        "    \n",
        "    # Populate the first word of target sequence with the start word.\n",
        "    target_seq[0, 0] = target_word_index['sostok']\n",
        "\n",
        "    stop_condition = False\n",
        "    decoded_sentence = ''\n",
        "    while not stop_condition:\n",
        "      \n",
        "        output_tokens, h, c = decoder_model.predict([target_seq] + [e_out, e_h, e_c])\n",
        "\n",
        "        # Sample a token\n",
        "        sampled_token_index = np.argmax(output_tokens[0, -1, :])\n",
        "        sampled_token = reverse_target_word_index[sampled_token_index]\n",
        "        \n",
        "        if(sampled_token!='eostok'):\n",
        "            decoded_sentence += ' '+sampled_token\n",
        "\n",
        "        # Exit condition: either hit max length or find stop word.\n",
        "        if (sampled_token == 'eostok'  or len(decoded_sentence.split()) >= (max_headlines_len-1)):\n",
        "            stop_condition = True\n",
        "\n",
        "        # Update the target sequence (of length 1).\n",
        "        target_seq = np.zeros((1,1))\n",
        "        target_seq[0, 0] = sampled_token_index\n",
        "\n",
        "        # Update internal states\n",
        "        e_h, e_c = h, c\n",
        "\n",
        "    return decoded_sentence\n",
        "\n",
        "def seq2summary(input_seq):\n",
        "    newString=''\n",
        "    for i in input_seq:\n",
        "        if((i!=0 and i!=target_word_index['sostok']) and i!=target_word_index['eostok']):\n",
        "            newString=newString+reverse_target_word_index[i]+' '\n",
        "    return newString\n",
        "\n",
        "def seq2text(input_seq):\n",
        "    newString=''\n",
        "    for i in input_seq:\n",
        "        if(i!=0):\n",
        "            newString=newString+reverse_source_word_index[i]+' '\n",
        "    return newString"
      ],
      "execution_count": null,
      "outputs": []
    },
    {
      "cell_type": "markdown",
      "metadata": {
        "id": "pUAiKhyUOjMh"
      },
      "source": [
        "## **Getting summaries**"
      ]
    },
    {
      "cell_type": "code",
      "metadata": {
        "id": "mOHk8pyLIzHW"
      },
      "source": [
        "for i in range(0,8):\n",
        "    print(\"Review:\",seq2text(x_tr[i]))\n",
        "    print(\"Original summary:\",seq2summary(y_tr[i]))\n",
        "    print(\"Predicted summary:\",decode_sequence(x_tr[i].reshape(1,max_text_len)))\n",
        "    print(\"\\n\")"
      ],
      "execution_count": null,
      "outputs": []
    },
    {
      "cell_type": "markdown",
      "metadata": {
        "id": "9pCdIwKUm7d9"
      },
      "source": [
        "# **MODEL-4: Evaluation with Larger Dataset with 50 EPOCHS**"
      ]
    },
    {
      "cell_type": "markdown",
      "metadata": {
        "id": "fyll3ypFcGOr"
      },
      "source": [
        "## **Getting the Dataset**"
      ]
    },
    {
      "cell_type": "code",
      "metadata": {
        "colab": {
          "base_uri": "https://localhost:8080/",
          "height": 306
        },
        "id": "e17v5sAmLRtR",
        "outputId": "7b887442-8e6c-44ce-a19f-8599b7c2c74b"
      },
      "source": [
        "reviews = df2[:15000]\n",
        "print(reviews.shape)\n",
        "reviews.head()"
      ],
      "execution_count": null,
      "outputs": [
        {
          "output_type": "stream",
          "text": [
            "(15000, 2)\n"
          ],
          "name": "stdout"
        },
        {
          "output_type": "execute_result",
          "data": {
            "text/html": [
              "<div>\n",
              "<style scoped>\n",
              "    .dataframe tbody tr th:only-of-type {\n",
              "        vertical-align: middle;\n",
              "    }\n",
              "\n",
              "    .dataframe tbody tr th {\n",
              "        vertical-align: top;\n",
              "    }\n",
              "\n",
              "    .dataframe thead th {\n",
              "        text-align: right;\n",
              "    }\n",
              "</style>\n",
              "<table border=\"1\" class=\"dataframe\">\n",
              "  <thead>\n",
              "    <tr style=\"text-align: right;\">\n",
              "      <th></th>\n",
              "      <th>headlines</th>\n",
              "      <th>text</th>\n",
              "    </tr>\n",
              "  </thead>\n",
              "  <tbody>\n",
              "    <tr>\n",
              "      <th>0</th>\n",
              "      <td>upGrad learner switches to career in ML &amp; Al with 90% salary hike</td>\n",
              "      <td>Saurav Kant, an alumnus of upGrad and IIIT-B's PG Program in Machine learning and Artificial Intelligence, was a Sr Systems Engineer at Infosys with almost 5 years of work experience. The program ...</td>\n",
              "    </tr>\n",
              "    <tr>\n",
              "      <th>1</th>\n",
              "      <td>Delhi techie wins free food from Swiggy for one year on CRED</td>\n",
              "      <td>Kunal Shah's credit card bill payment platform, CRED, gave users a chance to win free food from Swiggy for one year. Pranav Kaushik, a Delhi techie, bagged this reward after spending 2000 CRED coi...</td>\n",
              "    </tr>\n",
              "    <tr>\n",
              "      <th>2</th>\n",
              "      <td>New Zealand end Rohit Sharma-led India's 12-match winning streak</td>\n",
              "      <td>New Zealand defeated India by 8 wickets in the fourth ODI at Hamilton on Thursday to win their first match of the five-match ODI series. India lost an international match under Rohit Sharma's capt...</td>\n",
              "    </tr>\n",
              "    <tr>\n",
              "      <th>3</th>\n",
              "      <td>Aegon life iTerm insurance plan helps customers save tax</td>\n",
              "      <td>With Aegon Life iTerm Insurance plan, customers can enjoy tax benefits on your premiums paid and save up to Ã¢ÂÂ¹46,800^ on taxes. The plan provides life cover up to the age of 100 years. Also, c...</td>\n",
              "    </tr>\n",
              "    <tr>\n",
              "      <th>4</th>\n",
              "      <td>Have known Hirani for yrs, what if MeToo claims are not true: Sonam</td>\n",
              "      <td>Speaking about the sexual harassment allegations against Rajkumar Hirani, Sonam Kapoor said, \"I've known Hirani for many years...What if it's not true, the [#MeToo] movement will get derailed.\" \"I...</td>\n",
              "    </tr>\n",
              "  </tbody>\n",
              "</table>\n",
              "</div>"
            ],
            "text/plain": [
              "                                                             headlines                                                                                                                                                                                                     text\n",
              "0    upGrad learner switches to career in ML & Al with 90% salary hike  Saurav Kant, an alumnus of upGrad and IIIT-B's PG Program in Machine learning and Artificial Intelligence, was a Sr Systems Engineer at Infosys with almost 5 years of work experience. The program ...\n",
              "1         Delhi techie wins free food from Swiggy for one year on CRED  Kunal Shah's credit card bill payment platform, CRED, gave users a chance to win free food from Swiggy for one year. Pranav Kaushik, a Delhi techie, bagged this reward after spending 2000 CRED coi...\n",
              "2     New Zealand end Rohit Sharma-led India's 12-match winning streak  New Zealand defeated India by 8 wickets in the fourth ODI at Hamilton on Thursday to win their first match of the five-match ODI series. India lost an international match under Rohit Sharma's capt...\n",
              "3             Aegon life iTerm insurance plan helps customers save tax  With Aegon Life iTerm Insurance plan, customers can enjoy tax benefits on your premiums paid and save up to Ã¢ÂÂ¹46,800^ on taxes. The plan provides life cover up to the age of 100 years. Also, c...\n",
              "4  Have known Hirani for yrs, what if MeToo claims are not true: Sonam  Speaking about the sexual harassment allegations against Rajkumar Hirani, Sonam Kapoor said, \"I've known Hirani for many years...What if it's not true, the [#MeToo] movement will get derailed.\" \"I..."
            ]
          },
          "metadata": {
            "tags": []
          },
          "execution_count": 4
        }
      ]
    },
    {
      "cell_type": "code",
      "metadata": {
        "id": "x1YYqi6jm7eF"
      },
      "source": [
        "data = df2[:15000]"
      ],
      "execution_count": null,
      "outputs": []
    },
    {
      "cell_type": "code",
      "metadata": {
        "id": "Mk3q_nRUm7eF"
      },
      "source": [
        "data.drop_duplicates(subset=['text'],inplace=True)#dropping duplicates\n",
        "data.dropna(axis=0,inplace=True)#dropping na"
      ],
      "execution_count": null,
      "outputs": []
    },
    {
      "cell_type": "code",
      "metadata": {
        "colab": {
          "base_uri": "https://localhost:8080/"
        },
        "id": "IEvYgCb5m7eG",
        "outputId": "df67bf69-2bdc-4822-9ed9-c1988eedcf77"
      },
      "source": [
        "data.info()"
      ],
      "execution_count": null,
      "outputs": [
        {
          "output_type": "stream",
          "text": [
            "<class 'pandas.core.frame.DataFrame'>\n",
            "Int64Index: 15000 entries, 0 to 14999\n",
            "Data columns (total 2 columns):\n",
            " #   Column     Non-Null Count  Dtype \n",
            "---  ------     --------------  ----- \n",
            " 0   headlines  15000 non-null  object\n",
            " 1   text       15000 non-null  object\n",
            "dtypes: object(2)\n",
            "memory usage: 351.6+ KB\n"
          ],
          "name": "stdout"
        }
      ]
    },
    {
      "cell_type": "markdown",
      "metadata": {
        "id": "4E59ZzEOcOMY"
      },
      "source": [
        "## **Pre-processing of the data**"
      ]
    },
    {
      "cell_type": "code",
      "metadata": {
        "id": "7WJN2ccHm7eH"
      },
      "source": [
        "contraction_mapping = {\"ain't\": \"is not\", \"aren't\": \"are not\",\"can't\": \"cannot\", \"'cause\": \"because\", \"could've\": \"could have\", \"couldn't\": \"could not\",\n",
        "                           \"didn't\": \"did not\",  \"doesn't\": \"does not\", \"don't\": \"do not\", \"hadn't\": \"had not\", \"hasn't\": \"has not\", \"haven't\": \"have not\",\n",
        "                           \"he'd\": \"he would\",\"he'll\": \"he will\", \"he's\": \"he is\", \"how'd\": \"how did\", \"how'd'y\": \"how do you\", \"how'll\": \"how will\", \"how's\": \"how is\",\n",
        "                           \"I'd\": \"I would\", \"I'd've\": \"I would have\", \"I'll\": \"I will\", \"I'll've\": \"I will have\",\"I'm\": \"I am\", \"I've\": \"I have\", \"i'd\": \"i would\",\n",
        "                           \"i'd've\": \"i would have\", \"i'll\": \"i will\",  \"i'll've\": \"i will have\",\"i'm\": \"i am\", \"i've\": \"i have\", \"isn't\": \"is not\", \"it'd\": \"it would\",\n",
        "                           \"it'd've\": \"it would have\", \"it'll\": \"it will\", \"it'll've\": \"it will have\",\"it's\": \"it is\", \"let's\": \"let us\", \"ma'am\": \"madam\",\n",
        "                           \"mayn't\": \"may not\", \"might've\": \"might have\",\"mightn't\": \"might not\",\"mightn't've\": \"might not have\", \"must've\": \"must have\",\n",
        "                           \"mustn't\": \"must not\", \"mustn't've\": \"must not have\", \"needn't\": \"need not\", \"needn't've\": \"need not have\",\"o'clock\": \"of the clock\",\n",
        "                           \"oughtn't\": \"ought not\", \"oughtn't've\": \"ought not have\", \"shan't\": \"shall not\", \"sha'n't\": \"shall not\", \"shan't've\": \"shall not have\",\n",
        "                           \"she'd\": \"she would\", \"she'd've\": \"she would have\", \"she'll\": \"she will\", \"she'll've\": \"she will have\", \"she's\": \"she is\",\n",
        "                           \"should've\": \"should have\", \"shouldn't\": \"should not\", \"shouldn't've\": \"should not have\", \"so've\": \"so have\",\"so's\": \"so as\",\n",
        "                           \"this's\": \"this is\",\"that'd\": \"that would\", \"that'd've\": \"that would have\", \"that's\": \"that is\", \"there'd\": \"there would\",\n",
        "                           \"there'd've\": \"there would have\", \"there's\": \"there is\", \"here's\": \"here is\",\"they'd\": \"they would\", \"they'd've\": \"they would have\",\n",
        "                           \"they'll\": \"they will\", \"they'll've\": \"they will have\", \"they're\": \"they are\", \"they've\": \"they have\", \"to've\": \"to have\",\n",
        "                           \"wasn't\": \"was not\", \"we'd\": \"we would\", \"we'd've\": \"we would have\", \"we'll\": \"we will\", \"we'll've\": \"we will have\", \"we're\": \"we are\",\n",
        "                           \"we've\": \"we have\", \"weren't\": \"were not\", \"what'll\": \"what will\", \"what'll've\": \"what will have\", \"what're\": \"what are\",\n",
        "                           \"what's\": \"what is\", \"what've\": \"what have\", \"when's\": \"when is\", \"when've\": \"when have\", \"where'd\": \"where did\", \"where's\": \"where is\",\n",
        "                           \"where've\": \"where have\", \"who'll\": \"who will\", \"who'll've\": \"who will have\", \"who's\": \"who is\", \"who've\": \"who have\",\n",
        "                           \"why's\": \"why is\", \"why've\": \"why have\", \"will've\": \"will have\", \"won't\": \"will not\", \"won't've\": \"will not have\",\n",
        "                           \"would've\": \"would have\", \"wouldn't\": \"would not\", \"wouldn't've\": \"would not have\", \"y'all\": \"you all\",\n",
        "                           \"y'all'd\": \"you all would\",\"y'all'd've\": \"you all would have\",\"y'all're\": \"you all are\",\"y'all've\": \"you all have\",\n",
        "                           \"you'd\": \"you would\", \"you'd've\": \"you would have\", \"you'll\": \"you will\", \"you'll've\": \"you will have\",\n",
        "                           \"you're\": \"you are\", \"you've\": \"you have\"}"
      ],
      "execution_count": null,
      "outputs": []
    },
    {
      "cell_type": "code",
      "metadata": {
        "id": "5YUGIcJCm7eH"
      },
      "source": [
        "stop_words = set(stopwords.words('english')) \n",
        "\n",
        "def text_cleaner(text,num):\n",
        "    newString = text.lower()\n",
        "    newString = BeautifulSoup(newString, \"lxml\").text\n",
        "    newString = re.sub(r'\\([^)]*\\)', '', newString)\n",
        "    newString = re.sub('\"','', newString)\n",
        "    newString = ' '.join([contraction_mapping[t] if t in contraction_mapping else t for t in newString.split(\" \")])    \n",
        "    newString = re.sub(r\"'s\\b\",\"\",newString)\n",
        "    newString = re.sub(\"[^a-zA-Z]\", \" \", newString) \n",
        "    newString = re.sub('[m]{2,}', 'mm', newString)\n",
        "    if(num==0):\n",
        "        tokens = [w for w in newString.split() if not w in stop_words]\n",
        "    else:\n",
        "        tokens=newString.split()\n",
        "    long_words=[]\n",
        "    for i in tokens:\n",
        "        if len(i)>1:                                                 #removing short word\n",
        "            long_words.append(i)   \n",
        "    return (\" \".join(long_words)).strip()"
      ],
      "execution_count": null,
      "outputs": []
    },
    {
      "cell_type": "code",
      "metadata": {
        "id": "53HpTEjBm7eI"
      },
      "source": [
        "#call the function\n",
        "cleaned_text = []\n",
        "for t in data['text']:\n",
        "    cleaned_text.append(text_cleaner(t,0))"
      ],
      "execution_count": null,
      "outputs": []
    },
    {
      "cell_type": "code",
      "metadata": {
        "colab": {
          "base_uri": "https://localhost:8080/"
        },
        "id": "blgRVN9Qm7eI",
        "outputId": "e3bcd905-b61c-4a0d-e72d-87aa072127e2"
      },
      "source": [
        "cleaned_text[:5]"
      ],
      "execution_count": null,
      "outputs": [
        {
          "output_type": "execute_result",
          "data": {
            "text/plain": [
              "['saurav kant alumnus upgrad iiit pg program machine learning artificial intelligence sr systems engineer infosys almost years work experience program upgrad degree career support helped transition data scientist tech mahindra salary hike upgrad online power learning powered lakh careers',\n",
              " 'kunal shah credit card bill payment platform cred gave users chance win free food swiggy one year pranav kaushik delhi techie bagged reward spending cred coins users get one cred coin per rupee bill paid used avail rewards brands like ixigo bookmyshow ubereats cult fit',\n",
              " 'new zealand defeated india wickets fourth odi hamilton thursday win first match five match odi series india lost international match rohit sharma captaincy consecutive victories dating back march match witnessed india getting seventh lowest total odi cricket history',\n",
              " 'aegon life iterm insurance plan customers enjoy tax benefits premiums paid save taxes plan provides life cover age years also customers options insure critical illnesses disability accidental death benefit rider life cover age years',\n",
              " 'speaking sexual harassment allegations rajkumar hirani sonam kapoor said known hirani many years true metoo movement get derailed metoo movement always believe woman case need reserve judgment added hirani accused assistant worked sanju']"
            ]
          },
          "metadata": {
            "tags": []
          },
          "execution_count": 11
        }
      ]
    },
    {
      "cell_type": "code",
      "metadata": {
        "id": "U-YE3ZNXm7eI"
      },
      "source": [
        "#call the function\n",
        "cleaned_summary = []\n",
        "for t in data['headlines']:\n",
        "    cleaned_summary.append(text_cleaner(t,1))"
      ],
      "execution_count": null,
      "outputs": []
    },
    {
      "cell_type": "code",
      "metadata": {
        "colab": {
          "base_uri": "https://localhost:8080/"
        },
        "id": "SiRXu5MFm7eJ",
        "outputId": "b84ebe92-a5b1-4853-bfb3-661aff8d8230"
      },
      "source": [
        "cleaned_summary[:10]"
      ],
      "execution_count": null,
      "outputs": [
        {
          "output_type": "execute_result",
          "data": {
            "text/plain": [
              "['upgrad learner switches to career in ml al with salary hike',\n",
              " 'delhi techie wins free food from swiggy for one year on cred',\n",
              " 'new zealand end rohit sharma led india match winning streak',\n",
              " 'aegon life iterm insurance plan helps customers save tax',\n",
              " 'have known hirani for yrs what if metoo claims are not true sonam',\n",
              " 'rahat fateh ali khan denies getting notice for smuggling currency',\n",
              " 'india get all out for their lowest odi total in new zealand',\n",
              " 'govt directs alok verma to join work day before his retirement',\n",
              " 'called pm modi sir times to satisfy his ego andhra cm',\n",
              " 'cong wins ramgarh bypoll in rajasthan takes total to seats']"
            ]
          },
          "metadata": {
            "tags": []
          },
          "execution_count": 13
        }
      ]
    },
    {
      "cell_type": "code",
      "metadata": {
        "id": "nY089hAcm7eJ"
      },
      "source": [
        "data['cleaned_text']=cleaned_text\n",
        "data['cleaned_summary']=cleaned_summary"
      ],
      "execution_count": null,
      "outputs": []
    },
    {
      "cell_type": "code",
      "metadata": {
        "id": "sB9TMKaom7eJ"
      },
      "source": [
        "data.replace('', np.nan, inplace=True)\n",
        "data.dropna(axis=0,inplace=True)"
      ],
      "execution_count": null,
      "outputs": []
    },
    {
      "cell_type": "code",
      "metadata": {
        "colab": {
          "base_uri": "https://localhost:8080/",
          "height": 281
        },
        "id": "AXlwFZM-m7eK",
        "outputId": "b9236cc8-8fc8-449a-e6e4-cec47799d75b"
      },
      "source": [
        "\n",
        "import matplotlib.pyplot as plt\n",
        "\n",
        "text_word_count = []\n",
        "summary_word_count = []\n",
        "\n",
        "# populate the lists with sentence lengths\n",
        "for i in data['cleaned_text']:\n",
        "      text_word_count.append(len(i.split()))\n",
        "\n",
        "for i in data['cleaned_summary']:\n",
        "      summary_word_count.append(len(i.split()))\n",
        "\n",
        "length_df = pd.DataFrame({'text':text_word_count, 'summary':summary_word_count})\n",
        "\n",
        "length_df.hist(bins = 30)\n",
        "plt.show()"
      ],
      "execution_count": null,
      "outputs": [
        {
          "output_type": "display_data",
          "data": {
            "image/png": "[encoded data removed]",
            "text/plain": [
              "<Figure size 432x288 with 2 Axes>"
            ]
          },
          "metadata": {
            "tags": [],
            "needs_background": "light"
          }
        }
      ]
    },
    {
      "cell_type": "code",
      "metadata": {
        "colab": {
          "base_uri": "https://localhost:8080/"
        },
        "id": "Lzj504vtm7eK",
        "outputId": "f5988ea9-519a-4ada-f1c2-5d4cc0c7e3a0"
      },
      "source": [
        "cnt=0\n",
        "for i in data['cleaned_summary']:\n",
        "    if(len(i.split())<=15):\n",
        "        cnt=cnt+1\n",
        "print(cnt/len(data['cleaned_summary']))"
      ],
      "execution_count": null,
      "outputs": [
        {
          "output_type": "stream",
          "text": [
            "0.9998666666666667\n"
          ],
          "name": "stdout"
        }
      ]
    },
    {
      "cell_type": "code",
      "metadata": {
        "id": "Bp8HzvGam7eK"
      },
      "source": [
        "max_text_len=55\n",
        "max_summary_len=15"
      ],
      "execution_count": null,
      "outputs": []
    },
    {
      "cell_type": "code",
      "metadata": {
        "id": "vG5bbSuPm7eL"
      },
      "source": [
        "\n",
        "cleaned_text =np.array(data['cleaned_text'])\n",
        "cleaned_summary=np.array(data['cleaned_summary'])\n",
        "\n",
        "short_text=[]\n",
        "short_summary=[]\n",
        "\n",
        "for i in range(len(cleaned_text)):\n",
        "    if(len(cleaned_summary[i].split())<=max_summary_len and len(cleaned_text[i].split())<=max_text_len):\n",
        "        short_text.append(cleaned_text[i])\n",
        "        short_summary.append(cleaned_summary[i])\n",
        "        \n",
        "df=pd.DataFrame({'text':short_text,'summary':short_summary})"
      ],
      "execution_count": null,
      "outputs": []
    },
    {
      "cell_type": "code",
      "metadata": {
        "id": "R7PMS7Dhm7eL"
      },
      "source": [
        "df['summary'] = df['summary'].apply(lambda x : 'sostok '+ x + ' eostok')"
      ],
      "execution_count": null,
      "outputs": []
    },
    {
      "cell_type": "markdown",
      "metadata": {
        "id": "xb2aBTSZcX5T"
      },
      "source": [
        "## **Splitting the dataset in 90% Training and 10% test**"
      ]
    },
    {
      "cell_type": "code",
      "metadata": {
        "id": "Z-geUtX_m7eL"
      },
      "source": [
        "from sklearn.model_selection import train_test_split\n",
        "x_tr,x_val,y_tr,y_val=train_test_split(np.array(df['text']),np.array(df['summary']),test_size=0.1,random_state=0,shuffle=True)"
      ],
      "execution_count": null,
      "outputs": []
    },
    {
      "cell_type": "markdown",
      "metadata": {
        "id": "pIwkR7hwcVu8"
      },
      "source": [
        "## **Preparing Text Tokenizer**"
      ]
    },
    {
      "cell_type": "code",
      "metadata": {
        "id": "RbsvpyHlm7eL"
      },
      "source": [
        "from keras.preprocessing.text import Tokenizer \n",
        "from keras.preprocessing.sequence import pad_sequences\n",
        "\n",
        "#prepare a tokenizer for reviews on training data\n",
        "x_tokenizer = Tokenizer() \n",
        "x_tokenizer.fit_on_texts(list(x_tr))"
      ],
      "execution_count": null,
      "outputs": []
    },
    {
      "cell_type": "code",
      "metadata": {
        "colab": {
          "base_uri": "https://localhost:8080/"
        },
        "id": "TOSowSxmm7eM",
        "outputId": "fd594dab-13cb-4cc2-c297-1bd01afeb0ea"
      },
      "source": [
        "\n",
        "thresh=4\n",
        "\n",
        "cnt=0\n",
        "tot_cnt=0\n",
        "freq=0\n",
        "tot_freq=0\n",
        "\n",
        "for key,value in x_tokenizer.word_counts.items():\n",
        "    tot_cnt=tot_cnt+1\n",
        "    tot_freq=tot_freq+value\n",
        "    if(value<thresh):\n",
        "        cnt=cnt+1\n",
        "        freq=freq+value\n",
        "    \n",
        "print(\"% of rare words in vocabulary:\",(cnt/tot_cnt)*100)\n",
        "print(\"Total Coverage of rare words:\",(freq/tot_freq)*100)"
      ],
      "execution_count": null,
      "outputs": [
        {
          "output_type": "stream",
          "text": [
            "% of rare words in vocabulary: 61.269355763716305\n",
            "Total Coverage of rare words: 6.157800180704832\n"
          ],
          "name": "stdout"
        }
      ]
    },
    {
      "cell_type": "code",
      "metadata": {
        "id": "ZshfOKSdm7eM"
      },
      "source": [
        "\n",
        "#prepare a tokenizer for reviews on training data\n",
        "x_tokenizer = Tokenizer(num_words=tot_cnt-cnt) \n",
        "x_tokenizer.fit_on_texts(list(x_tr))\n",
        "\n",
        "#convert text sequences into integer sequences\n",
        "x_tr_seq    =   x_tokenizer.texts_to_sequences(x_tr) \n",
        "x_val_seq   =   x_tokenizer.texts_to_sequences(x_val)\n",
        "\n",
        "#padding zero upto maximum length\n",
        "x_tr    =   pad_sequences(x_tr_seq,  maxlen=max_text_len, padding='post')\n",
        "x_val   =   pad_sequences(x_val_seq, maxlen=max_text_len, padding='post')\n",
        "\n",
        "#size of vocabulary ( +1 for padding token)\n",
        "x_voc   =  x_tokenizer.num_words + 1"
      ],
      "execution_count": null,
      "outputs": []
    },
    {
      "cell_type": "code",
      "metadata": {
        "colab": {
          "base_uri": "https://localhost:8080/"
        },
        "id": "oXnDmHGcm7eM",
        "outputId": "3772f051-327e-4207-8564-8251a2a94dd8"
      },
      "source": [
        "x_voc"
      ],
      "execution_count": null,
      "outputs": [
        {
          "output_type": "execute_result",
          "data": {
            "text/plain": [
              "12157"
            ]
          },
          "metadata": {
            "tags": []
          },
          "execution_count": 25
        }
      ]
    },
    {
      "cell_type": "markdown",
      "metadata": {
        "id": "xvDii3SCc_mQ"
      },
      "source": [
        "## **Preparing Summary Tokenizer**"
      ]
    },
    {
      "cell_type": "code",
      "metadata": {
        "id": "_vjEzupXm7eM"
      },
      "source": [
        "#prepare a tokenizer for reviews on training data\n",
        "y_tokenizer = Tokenizer()   \n",
        "y_tokenizer.fit_on_texts(list(y_tr))"
      ],
      "execution_count": null,
      "outputs": []
    },
    {
      "cell_type": "code",
      "metadata": {
        "colab": {
          "base_uri": "https://localhost:8080/"
        },
        "id": "vTWzL8_Mm7eN",
        "outputId": "a017133a-af16-4b08-82b5-b7c4ca812f25"
      },
      "source": [
        "thresh=6\n",
        "\n",
        "cnt=0\n",
        "tot_cnt=0\n",
        "freq=0\n",
        "tot_freq=0\n",
        "\n",
        "for key,value in y_tokenizer.word_counts.items():\n",
        "    tot_cnt=tot_cnt+1\n",
        "    tot_freq=tot_freq+value\n",
        "    if(value<thresh):\n",
        "        cnt=cnt+1\n",
        "        freq=freq+value\n",
        "    \n",
        "print(\"% of rare words in vocabulary:\",(cnt/tot_cnt)*100)\n",
        "print(\"Total Coverage of rare words:\",(freq/tot_freq)*100)"
      ],
      "execution_count": null,
      "outputs": [
        {
          "output_type": "stream",
          "text": [
            "% of rare words in vocabulary: 76.15595075239399\n",
            "Total Coverage of rare words: 12.725733634311512\n"
          ],
          "name": "stdout"
        }
      ]
    },
    {
      "cell_type": "code",
      "metadata": {
        "id": "XTTaNeNzm7eN"
      },
      "source": [
        "#prepare a tokenizer for reviews on training data\n",
        "y_tokenizer = Tokenizer(num_words=tot_cnt-cnt) \n",
        "y_tokenizer.fit_on_texts(list(y_tr))\n",
        "\n",
        "#convert text sequences into integer sequences\n",
        "y_tr_seq    =   y_tokenizer.texts_to_sequences(y_tr) \n",
        "y_val_seq   =   y_tokenizer.texts_to_sequences(y_val) \n",
        "\n",
        "#padding zero upto maximum length\n",
        "y_tr    =   pad_sequences(y_tr_seq, maxlen=max_summary_len, padding='post')\n",
        "y_val   =   pad_sequences(y_val_seq, maxlen=max_summary_len, padding='post')\n",
        "\n",
        "#size of vocabulary\n",
        "y_voc  =   y_tokenizer.num_words +1"
      ],
      "execution_count": null,
      "outputs": []
    },
    {
      "cell_type": "code",
      "metadata": {
        "colab": {
          "base_uri": "https://localhost:8080/"
        },
        "id": "hkWo83Bvm7eN",
        "outputId": "b2c45ad8-9396-4a9c-ac2b-a6599390bfea"
      },
      "source": [
        "y_tokenizer.word_counts['sostok'],len(y_tr)"
      ],
      "execution_count": null,
      "outputs": [
        {
          "output_type": "execute_result",
          "data": {
            "text/plain": [
              "(13497, 13497)"
            ]
          },
          "metadata": {
            "tags": []
          },
          "execution_count": 29
        }
      ]
    },
    {
      "cell_type": "code",
      "metadata": {
        "id": "HXoWOkAPm7eO"
      },
      "source": [
        "ind=[]\n",
        "for i in range(len(y_tr)):\n",
        "    cnt=0\n",
        "    for j in y_tr[i]:\n",
        "        if j!=0:\n",
        "            cnt=cnt+1\n",
        "    if(cnt==2):\n",
        "        ind.append(i)\n",
        "\n",
        "y_tr=np.delete(y_tr,ind, axis=0)\n",
        "x_tr=np.delete(x_tr,ind, axis=0)"
      ],
      "execution_count": null,
      "outputs": []
    },
    {
      "cell_type": "code",
      "metadata": {
        "id": "3aoYaOE9m7eO"
      },
      "source": [
        "ind=[]\n",
        "for i in range(len(y_val)):\n",
        "    cnt=0\n",
        "    for j in y_val[i]:\n",
        "        if j!=0:\n",
        "            cnt=cnt+1\n",
        "    if(cnt==2):\n",
        "        ind.append(i)\n",
        "\n",
        "y_val=np.delete(y_val,ind, axis=0)\n",
        "x_val=np.delete(x_val,ind, axis=0)"
      ],
      "execution_count": null,
      "outputs": []
    },
    {
      "cell_type": "markdown",
      "metadata": {
        "id": "xFekCaxhdE7o"
      },
      "source": [
        "## **Creating the model**"
      ]
    },
    {
      "cell_type": "code",
      "metadata": {
        "colab": {
          "base_uri": "https://localhost:8080/"
        },
        "id": "Y6LnYSFUm7eO",
        "outputId": "b6cab690-30df-4976-9934-27c373f85c14"
      },
      "source": [
        "from keras import backend as K \n",
        "K.clear_session()\n",
        "\n",
        "latent_dim = 300\n",
        "embedding_dim=100\n",
        "\n",
        "# Encoder\n",
        "encoder_inputs = Input(shape=(max_text_len,))\n",
        "\n",
        "#embedding layer\n",
        "enc_emb =  Embedding(x_voc, embedding_dim,trainable=True)(encoder_inputs)\n",
        "\n",
        "#encoder lstm 1\n",
        "encoder_lstm1 = LSTM(latent_dim,return_sequences=True,return_state=True,dropout=0.4,recurrent_dropout=0.4)\n",
        "encoder_output1, state_h1, state_c1 = encoder_lstm1(enc_emb)\n",
        "\n",
        "#encoder lstm 2\n",
        "encoder_lstm2 = LSTM(latent_dim,return_sequences=True,return_state=True,dropout=0.4,recurrent_dropout=0.4)\n",
        "encoder_output2, state_h2, state_c2 = encoder_lstm2(encoder_output1)\n",
        "\n",
        "#encoder lstm 3\n",
        "encoder_lstm3=LSTM(latent_dim, return_state=True, return_sequences=True,dropout=0.4,recurrent_dropout=0.4)\n",
        "encoder_outputs, state_h, state_c= encoder_lstm3(encoder_output2)\n",
        "\n",
        "# Set up the decoder, using `encoder_states` as initial state.\n",
        "decoder_inputs = Input(shape=(None,))\n",
        "\n",
        "#embedding layer\n",
        "dec_emb_layer = Embedding(y_voc, embedding_dim,trainable=True)\n",
        "dec_emb = dec_emb_layer(decoder_inputs)\n",
        "\n",
        "decoder_lstm = LSTM(latent_dim, return_sequences=True, return_state=True,dropout=0.4,recurrent_dropout=0.2)\n",
        "decoder_outputs,decoder_fwd_state, decoder_back_state = decoder_lstm(dec_emb,initial_state=[state_h, state_c])\n",
        "\n",
        "# Attention layer\n",
        "attn_layer = AttentionLayer(name='attention_layer')\n",
        "attn_out, attn_states = attn_layer([encoder_outputs, decoder_outputs])\n",
        "\n",
        "# Concat attention input and decoder LSTM output\n",
        "decoder_concat_input = Concatenate(axis=-1, name='concat_layer')([decoder_outputs, attn_out])\n",
        "\n",
        "#dense layer\n",
        "decoder_dense =  TimeDistributed(Dense(y_voc, activation='softmax'))\n",
        "decoder_outputs = decoder_dense(decoder_concat_input)\n",
        "\n",
        "# Define the model \n",
        "model = Model([encoder_inputs, decoder_inputs], decoder_outputs)\n",
        "\n",
        "model.summary()"
      ],
      "execution_count": null,
      "outputs": [
        {
          "output_type": "stream",
          "text": [
            "Model: \"model\"\n",
            "__________________________________________________________________________________________________\n",
            "Layer (type)                    Output Shape         Param #     Connected to                     \n",
            "==================================================================================================\n",
            "input_1 (InputLayer)            [(None, 55)]         0                                            \n",
            "__________________________________________________________________________________________________\n",
            "embedding (Embedding)           (None, 55, 100)      1215700     input_1[0][0]                    \n",
            "__________________________________________________________________________________________________\n",
            "lstm (LSTM)                     [(None, 55, 300), (N 481200      embedding[0][0]                  \n",
            "__________________________________________________________________________________________________\n",
            "input_2 (InputLayer)            [(None, None)]       0                                            \n",
            "__________________________________________________________________________________________________\n",
            "lstm_1 (LSTM)                   [(None, 55, 300), (N 721200      lstm[0][0]                       \n",
            "__________________________________________________________________________________________________\n",
            "embedding_1 (Embedding)         (None, None, 100)    348700      input_2[0][0]                    \n",
            "__________________________________________________________________________________________________\n",
            "lstm_2 (LSTM)                   [(None, 55, 300), (N 721200      lstm_1[0][0]                     \n",
            "__________________________________________________________________________________________________\n",
            "lstm_3 (LSTM)                   [(None, None, 300),  481200      embedding_1[0][0]                \n",
            "                                                                 lstm_2[0][1]                     \n",
            "                                                                 lstm_2[0][2]                     \n",
            "__________________________________________________________________________________________________\n",
            "attention_layer (AttentionLayer ((None, None, 300),  180300      lstm_2[0][0]                     \n",
            "                                                                 lstm_3[0][0]                     \n",
            "__________________________________________________________________________________________________\n",
            "concat_layer (Concatenate)      (None, None, 600)    0           lstm_3[0][0]                     \n",
            "                                                                 attention_layer[0][0]            \n",
            "__________________________________________________________________________________________________\n",
            "time_distributed (TimeDistribut (None, None, 3487)   2095687     concat_layer[0][0]               \n",
            "==================================================================================================\n",
            "Total params: 6,245,187\n",
            "Trainable params: 6,245,187\n",
            "Non-trainable params: 0\n",
            "__________________________________________________________________________________________________\n"
          ],
          "name": "stdout"
        }
      ]
    },
    {
      "cell_type": "code",
      "metadata": {
        "id": "TROEFjMYm7eO"
      },
      "source": [
        "model.compile(optimizer='rmsprop', loss='sparse_categorical_crossentropy',metrics = ['accuracy'])"
      ],
      "execution_count": null,
      "outputs": []
    },
    {
      "cell_type": "code",
      "metadata": {
        "id": "E3BZiRMym7eP"
      },
      "source": [
        "es = EarlyStopping(monitor='val_loss', mode='min', verbose=1,patience=2)"
      ],
      "execution_count": null,
      "outputs": []
    },
    {
      "cell_type": "code",
      "metadata": {
        "id": "j_7OaviPm7eP",
        "colab": {
          "base_uri": "https://localhost:8080/"
        },
        "outputId": "906c99b9-6d8a-4f1c-c70a-95a0f5048d3f"
      },
      "source": [
        "history=model.fit([x_tr,y_tr[:,:-1]], y_tr.reshape(y_tr.shape[0],y_tr.shape[1], 1)[:,1:] ,epochs=50,\n",
        "                  callbacks=[es],batch_size=512, validation_data=([x_val,y_val[:,:-1]],\n",
        "                                                                  y_val.reshape(y_val.shape[0],y_val.shape[1], 1)[:,1:]))"
      ],
      "execution_count": null,
      "outputs": [
        {
          "output_type": "stream",
          "text": [
            "Epoch 1/50\n",
            "27/27 [==============================] - 504s 19s/step - loss: 4.2411 - accuracy: 0.4207 - val_loss: 4.0599 - val_accuracy: 0.4360\n",
            "Epoch 2/50\n",
            "27/27 [==============================] - 498s 18s/step - loss: 4.1366 - accuracy: 0.4222 - val_loss: 3.9695 - val_accuracy: 0.4412\n",
            "Epoch 3/50\n",
            "27/27 [==============================] - 503s 19s/step - loss: 4.0518 - accuracy: 0.4238 - val_loss: 3.9280 - val_accuracy: 0.4397\n",
            "Epoch 4/50\n",
            "27/27 [==============================] - 495s 18s/step - loss: 3.9884 - accuracy: 0.4248 - val_loss: 3.8430 - val_accuracy: 0.4471\n",
            "Epoch 5/50\n",
            "27/27 [==============================] - 554s 20s/step - loss: 3.9193 - accuracy: 0.4260 - val_loss: 3.8217 - val_accuracy: 0.4418\n",
            "Epoch 6/50\n",
            "27/27 [==============================] - 494s 18s/step - loss: 3.8509 - accuracy: 0.4273 - val_loss: 3.7408 - val_accuracy: 0.4501\n",
            "Epoch 7/50\n",
            "27/27 [==============================] - 496s 18s/step - loss: 3.7907 - accuracy: 0.4293 - val_loss: 3.7379 - val_accuracy: 0.4480\n",
            "Epoch 8/50\n",
            "27/27 [==============================] - 486s 18s/step - loss: 3.7350 - accuracy: 0.4309 - val_loss: 3.6919 - val_accuracy: 0.4514\n",
            "Epoch 9/50\n",
            "27/27 [==============================] - 492s 18s/step - loss: 3.6794 - accuracy: 0.4330 - val_loss: 3.6848 - val_accuracy: 0.4477\n",
            "Epoch 10/50\n",
            "27/27 [==============================] - 492s 18s/step - loss: 3.6330 - accuracy: 0.4350 - val_loss: 3.6281 - val_accuracy: 0.4563\n",
            "Epoch 11/50\n",
            "27/27 [==============================] - 495s 18s/step - loss: 3.5793 - accuracy: 0.4379 - val_loss: 3.6066 - val_accuracy: 0.4547\n",
            "Epoch 12/50\n",
            "27/27 [==============================] - 502s 19s/step - loss: 3.5298 - accuracy: 0.4398 - val_loss: 3.5903 - val_accuracy: 0.4588\n",
            "Epoch 13/50\n",
            "27/27 [==============================] - 485s 18s/step - loss: 3.4729 - accuracy: 0.4427 - val_loss: 3.5573 - val_accuracy: 0.4600\n",
            "Epoch 14/50\n",
            "27/27 [==============================] - 503s 19s/step - loss: 3.4186 - accuracy: 0.4448 - val_loss: 3.5347 - val_accuracy: 0.4610\n",
            "Epoch 15/50\n",
            "27/27 [==============================] - 498s 18s/step - loss: 3.3698 - accuracy: 0.4472 - val_loss: 3.5214 - val_accuracy: 0.4630\n",
            "Epoch 16/50\n",
            "27/27 [==============================] - 491s 18s/step - loss: 3.3175 - accuracy: 0.4492 - val_loss: 3.4859 - val_accuracy: 0.4638\n",
            "Epoch 17/50\n",
            "27/27 [==============================] - 490s 18s/step - loss: 3.2683 - accuracy: 0.4525 - val_loss: 3.4948 - val_accuracy: 0.4650\n",
            "Epoch 18/50\n",
            "27/27 [==============================] - 494s 18s/step - loss: 3.2200 - accuracy: 0.4545 - val_loss: 3.4721 - val_accuracy: 0.4642\n",
            "Epoch 19/50\n",
            "27/27 [==============================] - 489s 18s/step - loss: 3.1760 - accuracy: 0.4574 - val_loss: 3.4651 - val_accuracy: 0.4659\n",
            "Epoch 20/50\n",
            "27/27 [==============================] - 493s 18s/step - loss: 3.1255 - accuracy: 0.4598 - val_loss: 3.4560 - val_accuracy: 0.4673\n",
            "Epoch 21/50\n",
            "27/27 [==============================] - 506s 19s/step - loss: 3.0833 - accuracy: 0.4627 - val_loss: 3.4428 - val_accuracy: 0.4696\n",
            "Epoch 22/50\n",
            "27/27 [==============================] - 515s 19s/step - loss: 3.0367 - accuracy: 0.4654 - val_loss: 3.4379 - val_accuracy: 0.4691\n",
            "Epoch 23/50\n",
            "27/27 [==============================] - 495s 18s/step - loss: 2.9920 - accuracy: 0.4691 - val_loss: 3.4268 - val_accuracy: 0.4704\n",
            "Epoch 24/50\n",
            "27/27 [==============================] - 490s 18s/step - loss: 2.9452 - accuracy: 0.4723 - val_loss: 3.4303 - val_accuracy: 0.4683\n",
            "Epoch 25/50\n",
            "27/27 [==============================] - 494s 18s/step - loss: 2.9060 - accuracy: 0.4756 - val_loss: 3.3912 - val_accuracy: 0.4754\n",
            "Epoch 26/50\n",
            "27/27 [==============================] - 503s 19s/step - loss: 2.8594 - accuracy: 0.4788 - val_loss: 3.4041 - val_accuracy: 0.4704\n",
            "Epoch 27/50\n",
            "27/27 [==============================] - 484s 18s/step - loss: 2.8159 - accuracy: 0.4821 - val_loss: 3.3931 - val_accuracy: 0.4718\n",
            "Epoch 00027: early stopping\n"
          ],
          "name": "stdout"
        }
      ]
    },
    {
      "cell_type": "code",
      "metadata": {
        "id": "HC1WkKT0m7eP",
        "colab": {
          "base_uri": "https://localhost:8080/",
          "height": 265
        },
        "outputId": "4ff3cb6e-3b04-4e0c-abaa-3682016768f4"
      },
      "source": [
        "from matplotlib import pyplot\n",
        "pyplot.plot(history.history['loss'], label='train')\n",
        "pyplot.plot(history.history['val_loss'], label='test')\n",
        "pyplot.legend()\n",
        "pyplot.show()"
      ],
      "execution_count": null,
      "outputs": [
        {
          "output_type": "display_data",
          "data": {
            "image/png": "[encoded data removed]",
            "text/plain": [
              "<Figure size 432x288 with 1 Axes>"
            ]
          },
          "metadata": {
            "tags": [],
            "needs_background": "light"
          }
        }
      ]
    },
    {
      "cell_type": "markdown",
      "metadata": {
        "id": "2jPs6zc_dLxC"
      },
      "source": [
        "## **Inference**"
      ]
    },
    {
      "cell_type": "code",
      "metadata": {
        "id": "vlmD76eGm7eP"
      },
      "source": [
        "reverse_target_word_index=y_tokenizer.index_word\n",
        "reverse_source_word_index=x_tokenizer.index_word\n",
        "target_word_index=y_tokenizer.word_index"
      ],
      "execution_count": null,
      "outputs": []
    },
    {
      "cell_type": "code",
      "metadata": {
        "id": "WoE1jDqTm7eQ"
      },
      "source": [
        "# Encode the input sequence to get the feature vector\n",
        "encoder_model = Model(inputs=encoder_inputs,outputs=[encoder_outputs, state_h, state_c])\n",
        "\n",
        "# Decoder setup\n",
        "# Below tensors will hold the states of the previous time step\n",
        "decoder_state_input_h = Input(shape=(latent_dim,))\n",
        "decoder_state_input_c = Input(shape=(latent_dim,))\n",
        "decoder_hidden_state_input = Input(shape=(max_text_len,latent_dim))\n",
        "\n",
        "# Get the embeddings of the decoder sequence\n",
        "dec_emb2= dec_emb_layer(decoder_inputs) \n",
        "# To predict the next word in the sequence, set the initial states to the states from the previous time step\n",
        "decoder_outputs2, state_h2, state_c2 = decoder_lstm(dec_emb2, initial_state=[decoder_state_input_h, decoder_state_input_c])\n",
        "\n",
        "#attention inference\n",
        "attn_out_inf, attn_states_inf = attn_layer([decoder_hidden_state_input, decoder_outputs2])\n",
        "decoder_inf_concat = Concatenate(axis=-1, name='concat')([decoder_outputs2, attn_out_inf])\n",
        "\n",
        "# A dense softmax layer to generate prob dist. over the target vocabulary\n",
        "decoder_outputs2 = decoder_dense(decoder_inf_concat) \n",
        "\n",
        "# Final decoder model\n",
        "decoder_model = Model(\n",
        "    [decoder_inputs] + [decoder_hidden_state_input,decoder_state_input_h, decoder_state_input_c],\n",
        "    [decoder_outputs2] + [state_h2, state_c2])"
      ],
      "execution_count": null,
      "outputs": []
    },
    {
      "cell_type": "code",
      "metadata": {
        "id": "lF33TffKm7eQ"
      },
      "source": [
        "def decode_sequence(input_seq):\n",
        "    # Encode the input as state vectors.\n",
        "    e_out, e_h, e_c = encoder_model.predict(input_seq)\n",
        "    \n",
        "    # Generate empty target sequence of length 1.\n",
        "    target_seq = np.zeros((1,1))\n",
        "    \n",
        "    # Populate the first word of target sequence with the start word.\n",
        "    target_seq[0, 0] = target_word_index['sostok']\n",
        "\n",
        "    stop_condition = False\n",
        "    decoded_sentence = ''\n",
        "    while not stop_condition:\n",
        "      \n",
        "        output_tokens, h, c = decoder_model.predict([target_seq] + [e_out, e_h, e_c])\n",
        "\n",
        "        # Sample a token\n",
        "        sampled_token_index = np.argmax(output_tokens[0, -1, :])\n",
        "        sampled_token = reverse_target_word_index[sampled_token_index]\n",
        "        \n",
        "        if(sampled_token!='eostok'):\n",
        "            decoded_sentence += ' '+sampled_token\n",
        "\n",
        "        # Exit condition: either hit max length or find stop word.\n",
        "        if (sampled_token == 'eostok'  or len(decoded_sentence.split()) >= (max_summary_len-1)):\n",
        "            stop_condition = True\n",
        "\n",
        "        # Update the target sequence (of length 1).\n",
        "        target_seq = np.zeros((1,1))\n",
        "        target_seq[0, 0] = sampled_token_index\n",
        "\n",
        "        # Update internal states\n",
        "        e_h, e_c = h, c\n",
        "\n",
        "    return decoded_sentence"
      ],
      "execution_count": null,
      "outputs": []
    },
    {
      "cell_type": "code",
      "metadata": {
        "id": "qkFdGfNEm7eQ"
      },
      "source": [
        "def seq2summary(input_seq):\n",
        "    newString=''\n",
        "    for i in input_seq:\n",
        "        if((i!=0 and i!=target_word_index['sostok']) and i!=target_word_index['eostok']):\n",
        "            newString=newString+reverse_target_word_index[i]+' '\n",
        "    return newString\n",
        "\n",
        "def seq2text(input_seq):\n",
        "    newString=''\n",
        "    for i in input_seq:\n",
        "        if(i!=0):\n",
        "            newString=newString+reverse_source_word_index[i]+' '\n",
        "    return newString"
      ],
      "execution_count": null,
      "outputs": []
    },
    {
      "cell_type": "code",
      "metadata": {
        "colab": {
          "base_uri": "https://localhost:8080/"
        },
        "id": "s6-A2wp4cSt0",
        "outputId": "823c4fa8-3370-416f-c396-ce190cf28c42"
      },
      "source": [
        "!pip install rouge"
      ],
      "execution_count": null,
      "outputs": [
        {
          "output_type": "stream",
          "text": [
            "Collecting rouge\n",
            "  Downloading https://files.pythonhosted.org/packages/43/cc/e18e33be20971ff73a056ebdb023476b5a545e744e3fc22acd8c758f1e0d/rouge-1.0.0-py3-none-any.whl\n",
            "Requirement already satisfied: six in /usr/local/lib/python3.7/dist-packages (from rouge) (1.15.0)\n",
            "Installing collected packages: rouge\n",
            "Successfully installed rouge-1.0.0\n"
          ],
          "name": "stdout"
        }
      ]
    },
    {
      "cell_type": "code",
      "metadata": {
        "id": "_hL3oRmKlJnn"
      },
      "source": [
        "from nltk.translate.bleu_score import sentence_bleu\n",
        "from rouge import Rouge \n",
        "rouge_score = Rouge()"
      ],
      "execution_count": null,
      "outputs": []
    },
    {
      "cell_type": "markdown",
      "metadata": {
        "id": "fsfiqCvDdemJ"
      },
      "source": [
        "## **Getting summaries with evaluation metrics**"
      ]
    },
    {
      "cell_type": "code",
      "metadata": {
        "id": "YRMqRqqam7eQ",
        "colab": {
          "base_uri": "https://localhost:8080/"
        },
        "outputId": "0a4d2085-5785-4ccf-fcbb-254f9bb7d229"
      },
      "source": [
        "for i in range(0,100):\n",
        "    print(\"Review:\",seq2text(x_tr[i]))\n",
        "    print(\"Original summary:\",seq2summary(y_tr[i]))\n",
        "    print(\"Predicted summary:\",decode_sequence(x_tr[i].reshape(1,max_text_len)))\n",
        "    scorer = rouge_score.get_scores(seq2summary(y_tr[i]),decode_sequence(x_tr[i].reshape(1,max_text_len)))\n",
        "    #scores = scorer.score(seq2summary(y_tr[i]),decode_sequence(x_tr[i].reshape(1,max_text_len)))\n",
        "    print('ROUGE SCORE ', scorer)\n",
        "    bleu_score = sentence_bleu( seq2summary(y_tr[i]),decode_sequence(x_tr[i].reshape(1,max_text_len)) )\n",
        "    print('BLEU SCORE ', bleu_score)\n",
        "   # F1 = 2 * (bleu_score * scorer) / (bleu_score + scorer)\n",
        "   # print('F1 Score ', F1)\n",
        "    print(\"\\n\")\n"
      ],
      "execution_count": null,
      "outputs": [
        {
          "output_type": "stream",
          "text": [
            "Review: shiv sena chief uddhav thackeray took dig bjp government saying solve issues farmers first talk coalition addressing maharashtra drought hit farmers added want drought end permanently end political drought shiv sena said government letting farmers get anything \n",
            "Original summary: farmers issues then talk about coalition sena to bjp \n",
            "Predicted summary:  aap is to bring to sabha lok sabha sena\n",
            "ROUGE SCORE  [{'rouge-1': {'f': 0.22222221722222232, 'p': 0.2222222222222222, 'r': 0.2222222222222222}, 'rouge-2': {'f': 0.0, 'p': 0.0, 'r': 0.0}, 'rouge-l': {'f': 0.12499999507812519, 'p': 0.1111111111111111, 'r': 0.14285714285714285}}]\n",
            "BLEU SCORE  0.7691605673134586\n",
            "\n",
            "\n",
            "Review: bengaluru based ride hailing startup ola reportedly offered billion investment japanese conglomerate softbank owns around stake reports said ceo aggarwal may accept offer current form may give softbank stake previous reports claimed africa largest conglomerate naspers may invest ola billion valuation \n",
            "Original summary: softbank offers to invest billion in ola reports \n",
            "Predicted summary:  ola startup raises crore\n",
            "ROUGE SCORE  [{'rouge-1': {'f': 0.16666666222222234, 'p': 0.125, 'r': 0.25}, 'rouge-2': {'f': 0.0, 'p': 0.0, 'r': 0.0}, 'rouge-l': {'f': 0.16666666222222234, 'p': 0.125, 'r': 0.25}}]\n",
            "BLEU SCORE  0.7952707287670506\n",
            "\n",
            "\n",
            "Review: madhya pradesh congress chief kamal nath monday questioned ruling bjp silence alleged lapses handling electronic voting machines assembly polls let bjp remain deliberately silent continue raise developments nath said response came day bjp slammed congress raising issue \n",
            "Original summary: kamal nath bjp silence over in evm handling \n",
            "Predicted summary:  bjp will not contest lok sabha polls\n",
            "ROUGE SCORE  [{'rouge-1': {'f': 0.13333332835555575, 'p': 0.125, 'r': 0.14285714285714285}, 'rouge-2': {'f': 0.0, 'p': 0.0, 'r': 0.0}, 'rouge-l': {'f': 0.13333332835555575, 'p': 0.125, 'r': 0.14285714285714285}}]\n",
            "BLEU SCORE  0.7979439453790055\n",
            "\n",
            "\n",
            "Review: responding singer shweta pandit allegation anu malik asked kiss lyricist sameer said shocking people pass comment without proof recording studio said sameer said good voice definitely let know future projects left added \n",
            "Original summary: people pass comment without proof on claims against \n",
            "Predicted summary:  vikas said me me me me actress on metoo row\n",
            "ROUGE SCORE  [{'rouge-1': {'f': 0.11111110617283973, 'p': 0.125, 'r': 0.1}, 'rouge-2': {'f': 0.0, 'p': 0.0, 'r': 0.0}, 'rouge-l': {'f': 0.13333332835555575, 'p': 0.125, 'r': 0.14285714285714285}}]\n",
            "BLEU SCORE  0.7226568811456053\n",
            "\n",
            "\n",
            "Review: least people killed attacks including grenade targeting first day parliamentary elections afghanistan according interior minister afghan officials said people went polling centres despite attacks notably afghanistan holding first parliamentary elections since \n",
            "Original summary: attacks st day of afghan polls kill \n",
            "Predicted summary:  up killed in amritsar attack in amritsar\n",
            "ROUGE SCORE  [{'rouge-1': {'f': 0.0, 'p': 0.0, 'r': 0.0}, 'rouge-2': {'f': 0.0, 'p': 0.0, 'r': 0.0}, 'rouge-l': {'f': 0.0, 'p': 0.0, 'r': 0.0}}]\n",
            "BLEU SCORE  0.719701167348513\n",
            "\n",
            "\n",
            "Review: argentine legend diego maradona said five time ballon winner lionel messi great player leader talking coach players play pitch wants leader useless make leader man goes toilet times match maradona added \n",
            "Original summary: messi no leader he goes to toilet times before match \n",
            "Predicted summary:  ronaldo praises his football match\n",
            "ROUGE SCORE  [{'rouge-1': {'f': 0.13333332888888905, 'p': 0.1, 'r': 0.2}, 'rouge-2': {'f': 0.0, 'p': 0.0, 'r': 0.0}, 'rouge-l': {'f': 0.13333332888888905, 'p': 0.1, 'r': 0.2}}]\n",
            "BLEU SCORE  0.8222672338010394\n",
            "\n",
            "\n",
            "Review: ford motor company made profit india first time decade last financial year ford india us carmaker indian subsidiary made profit crore compared loss crore year ago ford accounts less total passenger vehicle sales india \n",
            "Original summary: ford makes profit in india for the first time in years \n",
            "Predicted summary:  amazon to invest in billion in india\n",
            "ROUGE SCORE  [{'rouge-1': {'f': 0.3333333285802469, 'p': 0.2727272727272727, 'r': 0.42857142857142855}, 'rouge-2': {'f': 0.12499999531250018, 'p': 0.1, 'r': 0.16666666666666666}, 'rouge-l': {'f': 0.24999999531250006, 'p': 0.2, 'r': 0.3333333333333333}}]\n",
            "BLEU SCORE  0.721023747812814\n",
            "\n",
            "\n",
            "Review: jsw steel chairman sajjan jindal tuesday said must given fair chance control insolvent essar steel despite legal restrictions company paying money jindal said family submitted crore bid essar steel committee creditors approved arcelormittal crore offer \n",
            "Original summary: must be given chance for essar steel sajjan \n",
            "Predicted summary:  india to bring to be in india\n",
            "ROUGE SCORE  [{'rouge-1': {'f': 0.13333332835555575, 'p': 0.125, 'r': 0.14285714285714285}, 'rouge-2': {'f': 0.0, 'p': 0.0, 'r': 0.0}, 'rouge-l': {'f': 0.1538461491124262, 'p': 0.125, 'r': 0.2}}]\n",
            "BLEU SCORE  0.7598356856515925\n",
            "\n",
            "\n",
            "Review: australia opener aaron finch decided review umpire kumar decision declared caught second innings first india test sunday finch walked caught rishabh pant ravichandran ashwin th however replays showed ball neither touched bat gloves \n",
            "Original summary: gets caught out without ball his bat does not review \n",
            "Predicted summary:  aus batsman to bowl ball on aus pacer\n",
            "ROUGE SCORE  [{'rouge-1': {'f': 0.11111110617283973, 'p': 0.1, 'r': 0.125}, 'rouge-2': {'f': 0.0, 'p': 0.0, 'r': 0.0}, 'rouge-l': {'f': 0.11764705397923896, 'p': 0.1, 'r': 0.14285714285714285}}]\n",
            "BLEU SCORE  0.7647860170437231\n",
            "\n",
            "\n",
            "Review: cabinet committee sent cbi director alok verma special director rakesh asthana leave appointed rao interim director agency new delhi headquarters sealed select officers would allowed enter premises comes asthana accused taking crore bribes moin qureshi case \n",
            "Original summary: cbi chief verma deputy asthana sent on leave headquarters \n",
            "Predicted summary:  sc rejects plea in case against case in case\n",
            "ROUGE SCORE  [{'rouge-1': {'f': 0.0, 'p': 0.0, 'r': 0.0}, 'rouge-2': {'f': 0.0, 'p': 0.0, 'r': 0.0}, 'rouge-l': {'f': 0.0, 'p': 0.0, 'r': 0.0}}]\n",
            "BLEU SCORE  0.7031452428005499\n",
            "\n",
            "\n",
            "Review: former england captain cook retired international cricket september year new year year old england highest run scorer test cricket become first england cricketer since sir ian botham overall cook england cricketer \n",
            "Original summary: cook first england cricketer to be since in \n",
            "Predicted summary:  india st the world cup in aus\n",
            "ROUGE SCORE  [{'rouge-1': {'f': 0.13333332835555575, 'p': 0.125, 'r': 0.14285714285714285}, 'rouge-2': {'f': 0.0, 'p': 0.0, 'r': 0.0}, 'rouge-l': {'f': 0.13333332835555575, 'p': 0.125, 'r': 0.14285714285714285}}]\n",
            "BLEU SCORE  0.7952707287670506\n",
            "\n",
            "\n",
            "Review: vicky kaushal revealed cannot watch horror films adding watched watch apna apna right erase memories could sleep vicky revealed interacting neha dhupia show filter neha also spoke rumoured girlfriend sethi show \n",
            "Original summary: saw apna to the vicky \n",
            "Predicted summary:  ayushmann to star in the film\n",
            "ROUGE SCORE  [{'rouge-1': {'f': 0.36363635867768596, 'p': 0.4, 'r': 0.3333333333333333}, 'rouge-2': {'f': 0.0, 'p': 0.0, 'r': 0.0}, 'rouge-l': {'f': 0.36363635867768596, 'p': 0.4, 'r': 0.3333333333333333}}]\n",
            "BLEU SCORE  0.7598356856515925\n",
            "\n",
            "\n",
            "Review: pakistan chief justice saqib nisar said indian content allowed pakistani television channels lyricist javed akhtar said wrong talks coming neither well javed added pakistan chief justice earlier said indian content damages culture pakistan nn \n",
            "Original summary: indian content in pakistan is wrong akhtar \n",
            "Predicted summary:  pakistan to be ban on india\n",
            "ROUGE SCORE  [{'rouge-1': {'f': 0.1538461488757398, 'p': 0.14285714285714285, 'r': 0.16666666666666666}, 'rouge-2': {'f': 0.0, 'p': 0.0, 'r': 0.0}, 'rouge-l': {'f': 0.1538461488757398, 'p': 0.14285714285714285, 'r': 0.16666666666666666}}]\n",
            "BLEU SCORE  0.7916963878457504\n",
            "\n",
            "\n",
            "Review: ex south africa captain shaun pollock ripped pants live tv slip catching alongside fellow commentator ex south africa captain smith segment lunch break south africa pakistan test friday thanks change room replacement pants slip catching displays suit pants later tweeted \n",
            "Original summary: former south africa captain his pants on live tv \n",
            "Predicted summary:  harmanpreet harmanpreet after his ball after his ball\n",
            "ROUGE SCORE  [{'rouge-1': {'f': 0.11764705384083066, 'p': 0.1111111111111111, 'r': 0.125}, 'rouge-2': {'f': 0.0, 'p': 0.0, 'r': 0.0}, 'rouge-l': {'f': 0.15384614958579892, 'p': 0.1111111111111111, 'r': 0.25}}]\n",
            "BLEU SCORE  0.7004665455699209\n",
            "\n",
            "\n",
            "Review: hrithik roshan starrer film director sanjay gupta saturday accused hotel kerala kochi racism tweeted got first hand experience absolute racism deck pathetic place alleged gupta empty give indians claiming reserved added \n",
            "Original summary: no for indians director accuses kerala hotel of \n",
            "Predicted summary:  was of the of tanushree\n",
            "ROUGE SCORE  [{'rouge-1': {'f': 0.1538461491124262, 'p': 0.125, 'r': 0.2}, 'rouge-2': {'f': 0.0, 'p': 0.0, 'r': 0.0}, 'rouge-l': {'f': 0.16666666222222234, 'p': 0.125, 'r': 0.25}}]\n",
            "BLEU SCORE  0.8228020420406904\n",
            "\n",
            "\n",
            "Review: doctors pune successfully replaced four year old girl damaged skull customised three bone vishal claimed first successful skull surgery india also asia pacific girl suffered major injuries road accident may admitted may year \n",
            "Original summary: year old girl gets india st successful in pune \n",
            "Predicted summary:  yr old girl dies after being in flight\n",
            "ROUGE SCORE  [{'rouge-1': {'f': 0.35294117148788934, 'p': 0.3333333333333333, 'r': 0.375}, 'rouge-2': {'f': 0.13333332835555575, 'p': 0.125, 'r': 0.14285714285714285}, 'rouge-l': {'f': 0.35294117148788934, 'p': 0.3333333333333333, 'r': 0.375}}]\n",
            "BLEU SCORE  0.7740443718000138\n",
            "\n",
            "\n",
            "Review: cash strapped carrier jet airways cancelled flights wednesday six boeing planes non payment lease rentals facing debts billion jet airways cancelled around flights day ago three boeing aircraft grounded meanwhile airline talks partner etihad additional cash infusion \n",
            "Original summary: jet airways cancels flights boeing planes \n",
            "Predicted summary:  jet airways to stop jet airways in jet airways\n",
            "ROUGE SCORE  [{'rouge-1': {'f': 0.2666666618666667, 'p': 0.3333333333333333, 'r': 0.2222222222222222}, 'rouge-2': {'f': 0.1538461491124262, 'p': 0.2, 'r': 0.125}, 'rouge-l': {'f': 0.36363635867768596, 'p': 0.3333333333333333, 'r': 0.4}}]\n",
            "BLEU SCORE  0.725205974975922\n",
            "\n",
            "\n",
            "Review: bank monday said country largest life completed acquisition stake bank making lender majority shareholder deal received approval union cabinet august last year completed combination preferential allotment open offer equity \n",
            "Original summary: completes of stake in bank \n",
            "Predicted summary:  india to buy stake in\n",
            "ROUGE SCORE  [{'rouge-1': {'f': 0.3999999950000001, 'p': 0.4, 'r': 0.4}, 'rouge-2': {'f': 0.24999999500000009, 'p': 0.25, 'r': 0.25}, 'rouge-l': {'f': 0.3999999950000001, 'p': 0.4, 'r': 0.4}}]\n",
            "BLEU SCORE  0.8210967436686386\n",
            "\n",
            "\n",
            "Review: mumbai based merchandise startup store raised million round funding led venture capital fund rp ventures startup plans use capital marketing needs store began operations sells wide range officially products inspired cinema tv shows popular characters \n",
            "Original summary: mumbai startup the store raises million \n",
            "Predicted summary:  bengaluru based startup raises crore\n",
            "ROUGE SCORE  [{'rouge-1': {'f': 0.36363635867768596, 'p': 0.3333333333333333, 'r': 0.4}, 'rouge-2': {'f': 0.0, 'p': 0.0, 'r': 0.0}, 'rouge-l': {'f': 0.36363635867768596, 'p': 0.3333333333333333, 'r': 0.4}}]\n",
            "BLEU SCORE  0.7699019277569183\n",
            "\n",
            "\n",
            "Review: former assistant claimed physically sexually racially abused former manager working singer alleged held claims slapped buttocks breasts lawsuit claimed singer behaviour \n",
            "Original summary: was on abused while working for ex assistant \n",
            "Predicted summary:  my meghan as my life on my boss\n",
            "ROUGE SCORE  [{'rouge-1': {'f': 0.1249999950000002, 'p': 0.125, 'r': 0.125}, 'rouge-2': {'f': 0.0, 'p': 0.0, 'r': 0.0}, 'rouge-l': {'f': 0.14285713795918387, 'p': 0.125, 'r': 0.16666666666666666}}]\n",
            "BLEU SCORE  0.7825422900366437\n",
            "\n",
            "\n",
            "Review: truck uttar pradesh set fire unidentified miscreants assam bandh tuesday driver run vehicle attempted flee police said three people accompanying deceased driver also beaten police suspect miscreants supporters bandh \n",
            "Original summary: up truck set on fire in assam driver run over while \n",
            "Predicted summary:  killed injured in in\n",
            "ROUGE SCORE  [{'rouge-1': {'f': 0.13333332942222234, 'p': 0.09090909090909091, 'r': 0.25}, 'rouge-2': {'f': 0.0, 'p': 0.0, 'r': 0.0}, 'rouge-l': {'f': 0.14285713948979603, 'p': 0.09090909090909091, 'r': 0.3333333333333333}}]\n",
            "BLEU SCORE  0.8091067115702212\n",
            "\n",
            "\n",
            "Review: island nation maldives among countries vulnerable impact climate change thursday said prepared die former maldivian president head country delegation un climate talks mohamed nasheed called upon nations reduce greenhouse gas emissions calling climate change national security issue \n",
            "Original summary: we are not to die maldives on climate change \n",
            "Predicted summary:  trump calls pakistan to replace\n",
            "ROUGE SCORE  [{'rouge-1': {'f': 0.14285713826530627, 'p': 0.1111111111111111, 'r': 0.2}, 'rouge-2': {'f': 0.0, 'p': 0.0, 'r': 0.0}, 'rouge-l': {'f': 0.14285713826530627, 'p': 0.1111111111111111, 'r': 0.2}}]\n",
            "BLEU SCORE  0.7825422900366437\n",
            "\n",
            "\n",
            "Review: addressing rally telangana cm chandrashekhar rao thursday asked man sit asked reservation muslim minorities hi ko kya kcr said state passed bill increasing reservation muslims pending centre approval \n",
            "Original summary: ko kya gana cm to man on muslim quota \n",
            "Predicted summary:  bjp leader to contest lok sabha\n",
            "ROUGE SCORE  [{'rouge-1': {'f': 0.1333333285333335, 'p': 0.1111111111111111, 'r': 0.16666666666666666}, 'rouge-2': {'f': 0.0, 'p': 0.0, 'r': 0.0}, 'rouge-l': {'f': 0.1333333285333335, 'p': 0.1111111111111111, 'r': 0.16666666666666666}}]\n",
            "BLEU SCORE  0.7282376575609851\n",
            "\n",
            "\n",
            "Review: microsoft co founder bill gates tuesday said leadership pm narendra modi led government played important role improving sanitation across india tweeted time build success swachh bharat gates earlier said government congratulated focusing sanitation malnutrition rates people would expect \n",
            "Original summary: time to build on bharat success bill gates praises pm \n",
            "Predicted summary:  twitter to meet for vivek in india\n",
            "ROUGE SCORE  [{'rouge-1': {'f': 0.11764705397923896, 'p': 0.1, 'r': 0.14285714285714285}, 'rouge-2': {'f': 0.0, 'p': 0.0, 'r': 0.0}, 'rouge-l': {'f': 0.11764705397923896, 'p': 0.1, 'r': 0.14285714285714285}}]\n",
            "BLEU SCORE  0.7311104457090247\n",
            "\n",
            "\n",
            "Review: filmmaker karan johar actress tabu turned gaurav gupta opening night fashion week summer resort johar wore red jacket black pants tabu walked ramp grey embellished gown fashion show began january continue till february \n",
            "Original summary: karan johar tabu turn on opening night of \n",
            "Predicted summary:  priyanka johar khan to marry wedding in mumbai\n",
            "ROUGE SCORE  [{'rouge-1': {'f': 0.1249999950000002, 'p': 0.125, 'r': 0.125}, 'rouge-2': {'f': 0.0, 'p': 0.0, 'r': 0.0}, 'rouge-l': {'f': 0.1249999950000002, 'p': 0.125, 'r': 0.125}}]\n",
            "BLEU SCORE  0.7516200388933441\n",
            "\n",
            "\n",
            "Review: union cabinet monday approved reservation jobs educational institutions economically backward section general category several reports said reservation existing reservation reports added government likely bring constitutional amendment bill parliament reservation tuesday \n",
            "Original summary: quota for in general category report \n",
            "Predicted summary:  sc rejects plea for in harassment\n",
            "ROUGE SCORE  [{'rouge-1': {'f': 0.3333333283333334, 'p': 0.3333333333333333, 'r': 0.3333333333333333}, 'rouge-2': {'f': 0.19999999500000015, 'p': 0.2, 'r': 0.2}, 'rouge-l': {'f': 0.3333333283333334, 'p': 0.3333333333333333, 'r': 0.3333333333333333}}]\n",
            "BLEU SCORE  0.7707713836060629\n",
            "\n",
            "\n",
            "Review: facebook announced testing option lets users share events stories selecting share story option event facebook page includes event details lets friends respond also interested appears user story test started us mexico brazil \n",
            "Original summary: facebook tests to let users share events to stories \n",
            "Predicted summary:  google bug patent to users users\n",
            "ROUGE SCORE  [{'rouge-1': {'f': 0.2666666618666667, 'p': 0.2222222222222222, 'r': 0.3333333333333333}, 'rouge-2': {'f': 0.0, 'p': 0.0, 'r': 0.0}, 'rouge-l': {'f': 0.3076923029585799, 'p': 0.25, 'r': 0.4}}]\n",
            "BLEU SCORE  0.7598356856515925\n",
            "\n",
            "\n",
            "Review: supreme court hear plea thursday seeking deployment adequate equipment rescue miners trapped flooded mine meghalaya petitioner said equipment offered tata trusts water airlifted site instead sent road \n",
            "Original summary: sc to hear plea on rescue of miners trapped in meghalaya \n",
            "Predicted summary:  sc refuses to hear meghalaya miners in meghalaya\n",
            "ROUGE SCORE  [{'rouge-1': {'f': 0.6315789424930748, 'p': 0.5454545454545454, 'r': 0.75}, 'rouge-2': {'f': 0.23529411280276827, 'p': 0.2, 'r': 0.2857142857142857}, 'rouge-l': {'f': 0.6666666619135801, 'p': 0.5454545454545454, 'r': 0.8571428571428571}}]\n",
            "BLEU SCORE  0.7674731847914632\n",
            "\n",
            "\n",
            "Review: pm narendra modi two day visit singapore told us vice president mike pence leads global terror attacks ultimately lead single source single place origin meanwhile referring upcoming th anniversary mumbai terror attacks pence hailed india us cooperation countering terrorism \n",
            "Original summary: all terror attacks lead to single origin pm modi to us vice prez \n",
            "Predicted summary:  pm modi inaugurates diwali for museum\n",
            "ROUGE SCORE  [{'rouge-1': {'f': 0.21052631146814413, 'p': 0.15384615384615385, 'r': 0.3333333333333333}, 'rouge-2': {'f': 0.11764705467128042, 'p': 0.08333333333333333, 'r': 0.2}, 'rouge-l': {'f': 0.22222221777777784, 'p': 0.16666666666666666, 'r': 0.3333333333333333}}]\n",
            "BLEU SCORE  0.7926416986492341\n",
            "\n",
            "\n",
            "Review: manchester united made eight wins eight matches beating arsenal fa cup fourth round friday following win saw goals former arsenal player anthony martial united results remaining fa cup matches find face fifth round \n",
            "Original summary: united beat arsenal in cup th round match \n",
            "Predicted summary:  ronaldo scores to win in world cup finals\n",
            "ROUGE SCORE  [{'rouge-1': {'f': 0.24999999500000009, 'p': 0.25, 'r': 0.25}, 'rouge-2': {'f': 0.0, 'p': 0.0, 'r': 0.0}, 'rouge-l': {'f': 0.24999999500000009, 'p': 0.25, 'r': 0.25}}]\n",
            "BLEU SCORE  0.7598356856515925\n",
            "\n",
            "\n",
            "Review: wicketkeeper batsman parthiv patel shared collage instagram pictures part year challenge wherein users share pictures reacting parthiv post user commented forever young users wrote rishabh pant would like babysit even go back years guy looked \n",
            "Original summary: takes year challenge posts same picture for both years \n",
            "Predicted summary:  india to play in india for ipl\n",
            "ROUGE SCORE  [{'rouge-1': {'f': 0.12499999507812519, 'p': 0.1111111111111111, 'r': 0.14285714285714285}, 'rouge-2': {'f': 0.0, 'p': 0.0, 'r': 0.0}, 'rouge-l': {'f': 0.1333333285333335, 'p': 0.1111111111111111, 'r': 0.16666666666666666}}]\n",
            "BLEU SCORE  0.7718052844994459\n",
            "\n",
            "\n",
            "Review: speaking launch book changing india former pm manmohan singh stated accidental pm also accidental finance minister people say silent pm think volumes speak said never able return country gave added \n",
            "Original summary: was both accidental pm and finance minister manmohan singh \n",
            "Predicted summary:  it is the accidental on accidental pm khan\n",
            "ROUGE SCORE  [{'rouge-1': {'f': 0.23529411266435996, 'p': 0.2222222222222222, 'r': 0.25}, 'rouge-2': {'f': 0.13333332835555575, 'p': 0.125, 'r': 0.14285714285714285}, 'rouge-l': {'f': 0.24999999507812506, 'p': 0.2222222222222222, 'r': 0.2857142857142857}}]\n",
            "BLEU SCORE  0.7553789791604315\n",
            "\n",
            "\n",
            "Review: several spectators looted cold drinks vendor latter told drinking water available fourth india windies odi mumbai brabourne stadium monday incident occurred innings break police nothing bring situation control officials immediately arranged water bottles incident happened \n",
            "Original summary: fans loot cold drinks from over no water in india wi odi \n",
            "Predicted summary:  yr old takes runs for in\n",
            "ROUGE SCORE  [{'rouge-1': {'f': 0.11111110666666683, 'p': 0.08333333333333333, 'r': 0.16666666666666666}, 'rouge-2': {'f': 0.0, 'p': 0.0, 'r': 0.0}, 'rouge-l': {'f': 0.11111110666666683, 'p': 0.08333333333333333, 'r': 0.16666666666666666}}]\n",
            "BLEU SCORE  0.8491821094987799\n",
            "\n",
            "\n",
            "Review: australia tuesday defeated india second test perth runs end six match streak level four match series australia lost five drawn one previous six matches last test march year victory australia first captaincy tim paine \n",
            "Original summary: aus beat india to end their test streak level series \n",
            "Predicted summary:  aus beat st test hat trick in balls in aus\n",
            "ROUGE SCORE  [{'rouge-1': {'f': 0.2999999950000001, 'p': 0.3, 'r': 0.3}, 'rouge-2': {'f': 0.11111110611111134, 'p': 0.1111111111111111, 'r': 0.1111111111111111}, 'rouge-l': {'f': 0.33333332839506175, 'p': 0.3, 'r': 0.375}}]\n",
            "BLEU SCORE  0.7415129228605242\n",
            "\n",
            "\n",
            "Review: mumbai police thursday took recent viral yearchallenge social media shared picture twitter challenge requires participants recent picture one ten years ago collage years nothing changes commitment towards mumbai police tweeted \n",
            "Original summary: mumbai police takes shares picture \n",
            "Predicted summary:  mumbai police uses to be in\n",
            "ROUGE SCORE  [{'rouge-1': {'f': 0.36363635867768596, 'p': 0.4, 'r': 0.3333333333333333}, 'rouge-2': {'f': 0.22222221728395072, 'p': 0.25, 'r': 0.2}, 'rouge-l': {'f': 0.36363635867768596, 'p': 0.4, 'r': 0.3333333333333333}}]\n",
            "BLEU SCORE  0.8254605646966103\n",
            "\n",
            "\n",
            "Review: least people killed around people injured stampede italian nightclub saturday people nightclub popular italian rapper performing ran someone sprayed substance similar pepper spray paramedics seen treating injured street following incident \n",
            "Original summary: killed injured in at italian \n",
            "Predicted summary:  killed injured in bus falls in up\n",
            "ROUGE SCORE  [{'rouge-1': {'f': 0.499999995138889, 'p': 0.6, 'r': 0.42857142857142855}, 'rouge-2': {'f': 0.39999999520000007, 'p': 0.5, 'r': 0.3333333333333333}, 'rouge-l': {'f': 0.5454545404958678, 'p': 0.6, 'r': 0.5}}]\n",
            "BLEU SCORE  0.7541859578343534\n",
            "\n",
            "\n",
            "Review: former finance minister chidambaram thursday said state wise alliances would benefit congress best way defeat bjp kind alliance formed karnataka results similar alliances formed different states senior congress leader added chidambaram also alleged narendra modi government completely failed \n",
            "Original summary: state would benefit congress chidambaram \n",
            "Predicted summary:  will not be to be to be on india govt\n",
            "ROUGE SCORE  [{'rouge-1': {'f': 0.0, 'p': 0.0, 'r': 0.0}, 'rouge-2': {'f': 0.0, 'p': 0.0, 'r': 0.0}, 'rouge-l': {'f': 0.0, 'p': 0.0, 'r': 0.0}}]\n",
            "BLEU SCORE  0.749634235443537\n",
            "\n",
            "\n",
            "Review: tanzania billionaire named africa youngest billionaire forbes year old indian origin mohammed dewji kidnapped unidentified assailants thursday outside hotel gym three people arrested connection incident two foreign nationals police said ceo conglomerate group dewji net worth billion \n",
            "Original summary: africa youngest billionaire aged kidnapped on way to \n",
            "Predicted summary:  ronaldo falls in missing in\n",
            "ROUGE SCORE  [{'rouge-1': {'f': 0.0, 'p': 0.0, 'r': 0.0}, 'rouge-2': {'f': 0.0, 'p': 0.0, 'r': 0.0}, 'rouge-l': {'f': 0.0, 'p': 0.0, 'r': 0.0}}]\n",
            "BLEU SCORE  0.7916963878457504\n",
            "\n",
            "\n",
            "Review: year old policeman arrested caught year old chennai saturday girl witnessed special sub inspector make lewd gestures earlier well also complained twice parents used stand near school every evening reportedly make lewd gestures students \n",
            "Original summary: year old policeman caught at year old girl arrested \n",
            "Predicted summary:  year old girl raped in delhi\n",
            "ROUGE SCORE  [{'rouge-1': {'f': 0.39999999520000007, 'p': 0.3333333333333333, 'r': 0.5}, 'rouge-2': {'f': 0.3076923029585799, 'p': 0.25, 'r': 0.4}, 'rouge-l': {'f': 0.4615384565680473, 'p': 0.42857142857142855, 'r': 0.5}}]\n",
            "BLEU SCORE  0.8182506116172393\n",
            "\n",
            "\n",
            "Review: rounder dube bought rcb crore said virat sir one legends right want learn keep consistently performing dube hit five sixes five deliveries baroda ranji trophy match monday second uncapped purchase auction \n",
            "Original summary: will learn from virat kohli sir player sold to rcb for cr \n",
            "Predicted summary:  bcci to play in india for ipl\n",
            "ROUGE SCORE  [{'rouge-1': {'f': 0.2105263111357342, 'p': 0.16666666666666666, 'r': 0.2857142857142857}, 'rouge-2': {'f': 0.0, 'p': 0.0, 'r': 0.0}, 'rouge-l': {'f': 0.2105263111357342, 'p': 0.16666666666666666, 'r': 0.2857142857142857}}]\n",
            "BLEU SCORE  0.8265168183793802\n",
            "\n",
            "\n",
            "Review: reserve bank india kept repo rate rate banks borrow rbi unchanged fifth monthly monetary policy review status quo comes amid moderation gdp growth inflation back back hikes since june rbi kept interest rates unchanged october policy review \n",
            "Original summary: rbi keeps rate at for second time in row \n",
            "Predicted summary:  india india to be in india\n",
            "ROUGE SCORE  [{'rouge-1': {'f': 0.1333333285333335, 'p': 0.1111111111111111, 'r': 0.16666666666666666}, 'rouge-2': {'f': 0.0, 'p': 0.0, 'r': 0.0}, 'rouge-l': {'f': 0.15384614958579892, 'p': 0.1111111111111111, 'r': 0.25}}]\n",
            "BLEU SCORE  0.7598356856515925\n",
            "\n",
            "\n",
            "Review: west bengal chief minister mamata banerjee reportedly withdrawn general consent cbi barring search operations state without approval bjp using cbi agencies pursue political interests vendetta said earlier andhra pradesh cm chandrababu naidu withdrew general consent given cbi \n",
            "Original summary: after andhra cbi barred from entering west bengal reports \n",
            "Predicted summary:  sc to hear review in mizoram cm on cbi\n",
            "ROUGE SCORE  [{'rouge-1': {'f': 0.11111110611111134, 'p': 0.1111111111111111, 'r': 0.1111111111111111}, 'rouge-2': {'f': 0.0, 'p': 0.0, 'r': 0.0}, 'rouge-l': {'f': 0.11111110611111134, 'p': 0.1111111111111111, 'r': 0.1111111111111111}}]\n",
            "BLEU SCORE  0.7740443718000138\n",
            "\n",
            "\n",
            "Review: pm narendra modi announced plans placing goods gst slab congress president rahul gandhi tweeted congress party finally narendra ji deep gabbar singh tax though still wants implement earlier called congress party grand stupid thought better late never narendra ji added \n",
            "Original summary: pm wants what he called cong grand stupid thought rahul on gst \n",
            "Predicted summary:  pm modi is pm modi on pm modi\n",
            "ROUGE SCORE  [{'rouge-1': {'f': 0.1999999952000001, 'p': 0.16666666666666666, 'r': 0.25}, 'rouge-2': {'f': 0.0, 'p': 0.0, 'r': 0.0}, 'rouge-l': {'f': 0.24999999625000005, 'p': 0.16666666666666666, 'r': 0.5}}]\n",
            "BLEU SCORE  0.7186082239261684\n",
            "\n",
            "\n",
            "Review: north korean hacking group called stolen cryptocurrencies worth million hacking group responsible hacking attacks cryptocurrency exchanges since january last year linked attacks banks government agencies across world targeted cryptocurrency exchanges phishing social engineering malware \n",
            "Original summary: north korean hackers steal mn in cryptocurrency attacks \n",
            "Predicted summary:  china firm deficit rises to low in us\n",
            "ROUGE SCORE  [{'rouge-1': {'f': 0.1249999950000002, 'p': 0.125, 'r': 0.125}, 'rouge-2': {'f': 0.0, 'p': 0.0, 'r': 0.0}, 'rouge-l': {'f': 0.1249999950000002, 'p': 0.125, 'r': 0.125}}]\n",
            "BLEU SCORE  0.7790872728179328\n",
            "\n",
            "\n",
            "Review: bjp decided shift venue pm narendra modi rally west bengal north another nearby ground ground pm modi supposed address mega gathering february booked trinamool congress week long religious programme venue meet security requirements bjp said \n",
            "Original summary: pm modi bengal rally as venue pre booked by tmc \n",
            "Predicted summary:  pm modi is to protect pm modi\n",
            "ROUGE SCORE  [{'rouge-1': {'f': 0.23529411280276827, 'p': 0.2, 'r': 0.2857142857142857}, 'rouge-2': {'f': 0.1333333285333335, 'p': 0.1111111111111111, 'r': 0.16666666666666666}, 'rouge-l': {'f': 0.2666666622222223, 'p': 0.2, 'r': 0.4}}]\n",
            "BLEU SCORE  0.7781581271306612\n",
            "\n",
            "\n",
            "Review: amid poll trends showing congress leading seats chhattisgarh state congress president bhupesh baghel said people chhattisgarh took fight hands added grateful rahul gandhi stated congress got seats expected added high command decide chief minister \n",
            "Original summary: chhattisgarh people took fight in own hands state cong prez \n",
            "Predicted summary:  congress will not contest vajpayee polls\n",
            "ROUGE SCORE  [{'rouge-1': {'f': 0.0, 'p': 0.0, 'r': 0.0}, 'rouge-2': {'f': 0.0, 'p': 0.0, 'r': 0.0}, 'rouge-l': {'f': 0.0, 'p': 0.0, 'r': 0.0}}]\n",
            "BLEU SCORE  0.7644270467420534\n",
            "\n",
            "\n",
            "Review: pakistan get billion bailout package uae help pakistan achieve financial stability overcome economic challenges pakistan foreign office said agreement regarding signed state bank pakistan abu dhabi fund development tuesday uae support comes amid current financial crisis pakistan \n",
            "Original summary: pakistan signs billion package with uae \n",
            "Predicted summary:  us signs us to buy\n",
            "ROUGE SCORE  [{'rouge-1': {'f': 0.18181817685950424, 'p': 0.16666666666666666, 'r': 0.2}, 'rouge-2': {'f': 0.0, 'p': 0.0, 'r': 0.0}, 'rouge-l': {'f': 0.1999999952000001, 'p': 0.16666666666666666, 'r': 0.25}}]\n",
            "BLEU SCORE  0.8296066547537364\n",
            "\n",
            "\n",
            "Review: bjp performance assembly polls arrogance nationalist congress party tuesday said hinted farewell nda government lok sabha elections face defeat bjp ncp chief spokesperson said government moves like gst demonetisation bearing polls outcome added \n",
            "Original summary: bjp poll performance its in ncp \n",
            "Predicted summary:  bjp shah quits in rajasthan\n",
            "ROUGE SCORE  [{'rouge-1': {'f': 0.36363635867768596, 'p': 0.3333333333333333, 'r': 0.4}, 'rouge-2': {'f': 0.0, 'p': 0.0, 'r': 0.0}, 'rouge-l': {'f': 0.36363635867768596, 'p': 0.3333333333333333, 'r': 0.4}}]\n",
            "BLEU SCORE  0.7730551756939454\n",
            "\n",
            "\n",
            "Review: philippine president rodrigo duterte said jesus christ would let criticising roman catholic church duterte told leaders clean ranks instead meddling runs country duterte past called god stupid questioned bible story creation \n",
            "Original summary: if was would have not let myself be duterte \n",
            "Predicted summary:  vikas should not be in the industry\n",
            "ROUGE SCORE  [{'rouge-1': {'f': 0.24999999507812506, 'p': 0.2222222222222222, 'r': 0.2857142857142857}, 'rouge-2': {'f': 0.0, 'p': 0.0, 'r': 0.0}, 'rouge-l': {'f': 0.24999999507812506, 'p': 0.2222222222222222, 'r': 0.2857142857142857}}]\n",
            "BLEU SCORE  0.816496580927726\n",
            "\n",
            "\n",
            "Review: dalit congress mla krishna chandra tuesday announced decision resign odisha assembly moral grounds stating failed provide justice gangrape victim year old dalit girl alleged gangraped four men uniform committed suicide one arrested connection case said \n",
            "Original summary: odisha cong mla resigns for failing minor victim \n",
            "Predicted summary:  bjp leader to death in bihar\n",
            "ROUGE SCORE  [{'rouge-1': {'f': 0.0, 'p': 0.0, 'r': 0.0}, 'rouge-2': {'f': 0.0, 'p': 0.0, 'r': 0.0}, 'rouge-l': {'f': 0.0, 'p': 0.0, 'r': 0.0}}]\n",
            "BLEU SCORE  0.7847813466510527\n",
            "\n",
            "\n",
            "Review: speaking working women directors actor vikrant said could connect personal level love working women directors emotional actor added vikrant featured filmmaker zoya akhtar film dil well director alankrita shrivastava lipstick released \n",
            "Original summary: connect with women directors on personal level \n",
            "Predicted summary:  vikas is the the industry is the industry industry\n",
            "ROUGE SCORE  [{'rouge-1': {'f': 0.0, 'p': 0.0, 'r': 0.0}, 'rouge-2': {'f': 0.0, 'p': 0.0, 'r': 0.0}, 'rouge-l': {'f': 0.0, 'p': 0.0, 'r': 0.0}}]\n",
            "BLEU SCORE  0.6814839425935316\n",
            "\n",
            "\n",
            "Review: juventus forward cristiano ronaldo challenged lionel messi leave spanish club barcelona sign club italy maybe messi misses played england spain italy portugal always spain needs said asked misses messi hope accepts challenge like ronaldo said \n",
            "Original summary: he needs me ronaldo dares messi to leave spain play in italy \n",
            "Predicted summary:  ronaldo to play juventus in ronaldo\n",
            "ROUGE SCORE  [{'rouge-1': {'f': 0.44444444000000005, 'p': 0.3333333333333333, 'r': 0.6666666666666666}, 'rouge-2': {'f': 0.0, 'p': 0.0, 'r': 0.0}, 'rouge-l': {'f': 0.4705882311418686, 'p': 0.3333333333333333, 'r': 0.8}}]\n",
            "BLEU SCORE  0.7896895367562644\n",
            "\n",
            "\n",
            "Review: producer boney kapoor sued makers priya prakash varrier starrer sridevi bungalow teaser showed death actress played priya bathtub film director said film thriller told boney sridevi common name reportedly added film work fiction \n",
            "Original summary: kapoor sues priya prakash film sridevi bungalow \n",
            "Predicted summary:  vicky to play in film film\n",
            "ROUGE SCORE  [{'rouge-1': {'f': 0.1538461488757398, 'p': 0.14285714285714285, 'r': 0.16666666666666666}, 'rouge-2': {'f': 0.0, 'p': 0.0, 'r': 0.0}, 'rouge-l': {'f': 0.1666666618055557, 'p': 0.14285714285714285, 'r': 0.2}}]\n",
            "BLEU SCORE  0.816496580927726\n",
            "\n",
            "\n",
            "Review: tuesday unveiled self smart shoes adapt bb controlled app shoes contain motor gear train tension required user foot accordingly user shoes required physical buttons shoes connected app \n",
            "Original summary: makes self smart by an app \n",
            "Predicted summary:  mit unveils electric electric display\n",
            "ROUGE SCORE  [{'rouge-1': {'f': 0.0, 'p': 0.0, 'r': 0.0}, 'rouge-2': {'f': 0.0, 'p': 0.0, 'r': 0.0}, 'rouge-l': {'f': 0.0, 'p': 0.0, 'r': 0.0}}]\n",
            "BLEU SCORE  0.733503637924837\n",
            "\n",
            "\n",
            "Review: delhi bjp chief manoj tiwari said attack cm scripted aap incident man attacked kejriwal touch cm office gained entry delhi secretariat cm office asked aap every election seek people sympathy added \n",
            "Original summary: attack on delhi cm by aap for manoj tiwari \n",
            "Predicted summary:  bjp leader to contest in sabarimala\n",
            "ROUGE SCORE  [{'rouge-1': {'f': 0.0, 'p': 0.0, 'r': 0.0}, 'rouge-2': {'f': 0.0, 'p': 0.0, 'r': 0.0}, 'rouge-l': {'f': 0.0, 'p': 0.0, 'r': 0.0}}]\n",
            "BLEU SCORE  0.8034284189446518\n",
            "\n",
            "\n",
            "Review: shraddha kapoor brother actor kapoor done films like shootout wadala ugly said would rather play twisted characters plain bollywood hero always looking lot characters choose play need personality good added \n",
            "Original summary: would than hero with \n",
            "Predicted summary:  was to see my films films on my films srk\n",
            "ROUGE SCORE  [{'rouge-1': {'f': 0.0, 'p': 0.0, 'r': 0.0}, 'rouge-2': {'f': 0.0, 'p': 0.0, 'r': 0.0}, 'rouge-l': {'f': 0.0, 'p': 0.0, 'r': 0.0}}]\n",
            "BLEU SCORE  0.6985342056580097\n",
            "\n",
            "\n",
            "Review: indian pilots guild warned financial stress could impact flight safety association told aviation regulator dgca management continuously used financial losses illegally change service conditions payment possible keep stress away cockpit guild said \n",
            "Original summary: financial may impact flight safety pilots \n",
            "Predicted summary:  india to give to withdraw in us\n",
            "ROUGE SCORE  [{'rouge-1': {'f': 0.0, 'p': 0.0, 'r': 0.0}, 'rouge-2': {'f': 0.0, 'p': 0.0, 'r': 0.0}, 'rouge-l': {'f': 0.0, 'p': 0.0, 'r': 0.0}}]\n",
            "BLEU SCORE  0.7476743906106103\n",
            "\n",
            "\n",
            "Review: mumbai based work messaging service startup founder denying reports selling startup america dropbox said rumours added talks storage services provider dropbox connection potential partnership aggressively expanding intentions sell company added \n",
            "Original summary: no to rumours on startup sale \n",
            "Predicted summary:  google startup startup raises crore\n",
            "ROUGE SCORE  [{'rouge-1': {'f': 0.18181817685950424, 'p': 0.16666666666666666, 'r': 0.2}, 'rouge-2': {'f': 0.0, 'p': 0.0, 'r': 0.0}, 'rouge-l': {'f': 0.1999999952000001, 'p': 0.16666666666666666, 'r': 0.25}}]\n",
            "BLEU SCORE  0.7259795291154771\n",
            "\n",
            "\n",
            "Review: found bright source radio emissions came existence source next years believed explosion massive star researcher claimed long duration ray burst extremely explosion observed distant galaxies \n",
            "Original summary: study finds of that in yrs \n",
            "Predicted summary:  world oldest man of the in\n",
            "ROUGE SCORE  [{'rouge-1': {'f': 0.3333333283333334, 'p': 0.3333333333333333, 'r': 0.3333333333333333}, 'rouge-2': {'f': 0.0, 'p': 0.0, 'r': 0.0}, 'rouge-l': {'f': 0.3333333283333334, 'p': 0.3333333333333333, 'r': 0.3333333333333333}}]\n",
            "BLEU SCORE  0.7989272423094768\n",
            "\n",
            "\n",
            "Review: average cost manufacturing single one rupee coin value reserve bank india revealed response rti query coin government spends added furthermore cost manufacturing coins respectively rbi said \n",
            "Original summary: how much money does govt spend to make and coins \n",
            "Predicted summary:  nasa to make in\n",
            "ROUGE SCORE  [{'rouge-1': {'f': 0.2857142816326531, 'p': 0.2, 'r': 0.5}, 'rouge-2': {'f': 0.16666666291666676, 'p': 0.1111111111111111, 'r': 0.3333333333333333}, 'rouge-l': {'f': 0.2857142816326531, 'p': 0.2, 'r': 0.5}}]\n",
            "BLEU SCORE  0.8891397050194614\n",
            "\n",
            "\n",
            "Review: year old graduate karnataka sanjay kumar arrested forged prime minister narendra modi signature recommendation letter government job kumar allegedly downloaded pm signature used recommendation letter karnataka high court registrar kumar applied job \n",
            "Original summary: yr old pm modi signature for govt job arrested \n",
            "Predicted summary:  pm modi to meet in pm modi\n",
            "ROUGE SCORE  [{'rouge-1': {'f': 0.24999999507812506, 'p': 0.2222222222222222, 'r': 0.2857142857142857}, 'rouge-2': {'f': 0.14285713795918387, 'p': 0.125, 'r': 0.16666666666666666}, 'rouge-l': {'f': 0.285714281122449, 'p': 0.2222222222222222, 'r': 0.4}}]\n",
            "BLEU SCORE  0.7598356856515925\n",
            "\n",
            "\n",
            "Review: india world cup february year defeated sri lanka win asia cup record extending sixth time fourth time india defeated sri lanka final win tournament final india captained simran singh scored unbeaten ball \n",
            "Original summary: world champions india win under asia cup for the time \n",
            "Predicted summary:  ronaldo scores to win in world cup finals\n",
            "ROUGE SCORE  [{'rouge-1': {'f': 0.33333332839506175, 'p': 0.3, 'r': 0.375}, 'rouge-2': {'f': 0.0, 'p': 0.0, 'r': 0.0}, 'rouge-l': {'f': 0.22222221728395072, 'p': 0.2, 'r': 0.25}}]\n",
            "BLEU SCORE  0.785629301801026\n",
            "\n",
            "\n",
            "Review: indian boxer mc mary kom assured medal reaching semifinal stage aiba women world championship beating china yu wu quarter final kg category year old mother three currently tied taylor ireland five gold medals world championships \n",
            "Original summary: mary kom of wc medal after semis \n",
            "Predicted summary:  world kom enters world world world ship finals\n",
            "ROUGE SCORE  [{'rouge-1': {'f': 0.13333332835555575, 'p': 0.14285714285714285, 'r': 0.125}, 'rouge-2': {'f': 0.0, 'p': 0.0, 'r': 0.0}, 'rouge-l': {'f': 0.1666666618055557, 'p': 0.14285714285714285, 'r': 0.2}}]\n",
            "BLEU SCORE  0.7387670965262431\n",
            "\n",
            "\n",
            "Review: afghan president ashraf ghani said keys war pakistan islamabad accusing country providing safe havens militants including belonging taliban ghani added key peace afghanistan comments came amid talks us taliban end year war afghanistan \n",
            "Original summary: pakistan holds to war afghanistan \n",
            "Predicted summary:  trump to be in us\n",
            "ROUGE SCORE  [{'rouge-1': {'f': 0.19999999500000015, 'p': 0.2, 'r': 0.2}, 'rouge-2': {'f': 0.0, 'p': 0.0, 'r': 0.0}, 'rouge-l': {'f': 0.19999999500000015, 'p': 0.2, 'r': 0.2}}]\n",
            "BLEU SCORE  0.816496580927726\n",
            "\n",
            "\n",
            "Review: west bengal chief minister mamata banerjee saturday tweeted allocated crore welfare tea garden workers since give kg rice per kg electricity water supply free tea gardens added mamata tweeted occasion international tea day \n",
            "Original summary: cr for tea workers since wb cm \n",
            "Predicted summary:  cabinet approves cr for cr in rajasthan\n",
            "ROUGE SCORE  [{'rouge-1': {'f': 0.2857142807142858, 'p': 0.2857142857142857, 'r': 0.2857142857142857}, 'rouge-2': {'f': 0.16666666166666683, 'p': 0.16666666666666666, 'r': 0.16666666666666666}, 'rouge-l': {'f': 0.3076923027218935, 'p': 0.2857142857142857, 'r': 0.3333333333333333}}]\n",
            "BLEU SCORE  0.7400828044922853\n",
            "\n",
            "\n",
            "Review: facebook reportedly gave tech giants like microsoft yahoo amazon access user data partnerships exempted privacy restrictions microsoft could see names friends facebook users without consent music app could read users private messages amazon could access users contact information yahoo could see users \n",
            "Original summary: facebook let technology access its users data chats report \n",
            "Predicted summary:  google google google app for mn report\n",
            "ROUGE SCORE  [{'rouge-1': {'f': 0.12499999507812519, 'p': 0.1111111111111111, 'r': 0.14285714285714285}, 'rouge-2': {'f': 0.0, 'p': 0.0, 'r': 0.0}, 'rouge-l': {'f': 0.14285713826530627, 'p': 0.1111111111111111, 'r': 0.2}}]\n",
            "BLEU SCORE  0.7287557921168066\n",
            "\n",
            "\n",
            "Review: journalist rajeev shared picture actresses part discussion conducted year old actress neena gupta tweeted rajeev meri film bhi toe hit hai ya main hun nahin responding badhaai ho actress wrote aap hain aapko tha aap maldives mein thi aur baat karenge \n",
            "Original summary: main neena on \n",
            "Predicted summary:  sonam to appear with watching film\n",
            "ROUGE SCORE  [{'rouge-1': {'f': 0.0, 'p': 0.0, 'r': 0.0}, 'rouge-2': {'f': 0.0, 'p': 0.0, 'r': 0.0}, 'rouge-l': {'f': 0.0, 'p': 0.0, 'r': 0.0}}]\n",
            "BLEU SCORE  0.668740304976422\n",
            "\n",
            "\n",
            "Review: pre bid conference government airport scheme recently held new delhi reportedly attended investors included airport operator adani group australian private equity firm canadian asset management firm government proposed privatise six airports including jaipur lucknow guwahati \n",
            "Original summary: airport proposal over reports \n",
            "Predicted summary:  govt to stop in delhi\n",
            "ROUGE SCORE  [{'rouge-1': {'f': 0.0, 'p': 0.0, 'r': 0.0}, 'rouge-2': {'f': 0.0, 'p': 0.0, 'r': 0.0}, 'rouge-l': {'f': 0.0, 'p': 0.0, 'r': 0.0}}]\n",
            "BLEU SCORE  0.7997513045108656\n",
            "\n",
            "\n",
            "Review: ex world number one serena williams currently ranked mistakenly entered court announcement please welcome court world made opponent simona halep ahead australian open fourth round clash serena wearing large headphones realised mistake returned tunnel halep entered court amid laughter crowd \n",
            "Original summary: serena mistakenly enters court on welcome world no \n",
            "Predicted summary:  india st to be in india\n",
            "ROUGE SCORE  [{'rouge-1': {'f': 0.0, 'p': 0.0, 'r': 0.0}, 'rouge-2': {'f': 0.0, 'p': 0.0, 'r': 0.0}, 'rouge-l': {'f': 0.0, 'p': 0.0, 'r': 0.0}}]\n",
            "BLEU SCORE  0.7825422900366437\n",
            "\n",
            "\n",
            "Review: facebook amazon netflix google parent alphabet lost combined billion market capitalisation two sessions combined market value companies fallen record trillion july trillion monday amazon shares fallen last two sessions quarterly results missed analysts expectations \n",
            "Original summary: fb amazon netflix alphabet lose bn value in days \n",
            "Predicted summary:  apple unveils billion in billion in india\n",
            "ROUGE SCORE  [{'rouge-1': {'f': 0.12499999507812519, 'p': 0.1111111111111111, 'r': 0.14285714285714285}, 'rouge-2': {'f': 0.0, 'p': 0.0, 'r': 0.0}, 'rouge-l': {'f': 0.14285713826530627, 'p': 0.1111111111111111, 'r': 0.2}}]\n",
            "BLEU SCORE  0.7458878201607712\n",
            "\n",
            "\n",
            "Review: canada year old player scott came third tournament crore donating majority prize money charity sit around lot free scott said also works tibetan sanskrit buddhist texts \n",
            "Original summary: year old man wins cr in donates money to charity \n",
            "Predicted summary:  world old found in mumbai\n",
            "ROUGE SCORE  [{'rouge-1': {'f': 0.2666666622222223, 'p': 0.2, 'r': 0.4}, 'rouge-2': {'f': 0.0, 'p': 0.0, 'r': 0.0}, 'rouge-l': {'f': 0.2666666622222223, 'p': 0.2, 'r': 0.4}}]\n",
            "BLEU SCORE  0.7875110621102679\n",
            "\n",
            "\n",
            "Review: television actress host tandon husband saurabh blessed baby boy per reports actress earlier took instagram announce pregnancy wrote big news pregnant trying every moment known role television show ghar par hai \n",
            "Original summary: tv actress with baby boy reports \n",
            "Predicted summary:  actress reveals pic with rumoured cancer\n",
            "ROUGE SCORE  [{'rouge-1': {'f': 0.3333333283333334, 'p': 0.3333333333333333, 'r': 0.3333333333333333}, 'rouge-2': {'f': 0.0, 'p': 0.0, 'r': 0.0}, 'rouge-l': {'f': 0.3333333283333334, 'p': 0.3333333333333333, 'r': 0.3333333333333333}}]\n",
            "BLEU SCORE  0.7503949002834928\n",
            "\n",
            "\n",
            "Review: bengaluru based commerce startup founded iit delhi alumni sanjeev raised million funding raised new investors including capital partners ventures along existing including sequoia india saif partners founded offers online marketplace connect raw material suppliers \n",
            "Original summary: iit commerce startup raises million \n",
            "Predicted summary:  bengaluru based startup raises crore\n",
            "ROUGE SCORE  [{'rouge-1': {'f': 0.3999999950000001, 'p': 0.4, 'r': 0.4}, 'rouge-2': {'f': 0.24999999500000009, 'p': 0.25, 'r': 0.25}, 'rouge-l': {'f': 0.3999999950000001, 'p': 0.4, 'r': 0.4}}]\n",
            "BLEU SCORE  0.7699019277569183\n",
            "\n",
            "\n",
            "Review: bollywood year old actress nafisa ali sodhi recently revealed diagnosed stage cancer shared picture instagram wrote hair started falling made cry reality cancer chemotherapy working finally sank actress wrote \n",
            "Original summary: hair started falling in made me on cancer \n",
            "Predicted summary:  my me me me me me me me\n",
            "ROUGE SCORE  [{'rouge-1': {'f': 0.1249999950000002, 'p': 0.125, 'r': 0.125}, 'rouge-2': {'f': 0.0, 'p': 0.0, 'r': 0.0}, 'rouge-l': {'f': 0.19999999680000002, 'p': 0.125, 'r': 0.5}}]\n",
            "BLEU SCORE  0.5946035575013605\n",
            "\n",
            "\n",
            "Review: pakistan jailed years blackmailing harassing nearly lady doctors introduced military intelligence official according complainant filed case arrested hacking whatsapp accounts lady doctors blackmailing objectionable content extorting money \n",
            "Original summary: pak jailed for harassing lady doctors \n",
            "Predicted summary:  us origin lady who is to be in us\n",
            "ROUGE SCORE  [{'rouge-1': {'f': 0.1333333285333335, 'p': 0.16666666666666666, 'r': 0.1111111111111111}, 'rouge-2': {'f': 0.0, 'p': 0.0, 'r': 0.0}, 'rouge-l': {'f': 0.14285713795918387, 'p': 0.16666666666666666, 'r': 0.125}}]\n",
            "BLEU SCORE  0.8010548969451144\n",
            "\n",
            "\n",
            "Review: farmer karnataka village prevented fire spreading houses driving tractor caught fire lake monday year old driving hay loaded tractor narrow road houses either side came contact electrical wire caught fire standing still option said \n",
            "Original summary: farmer drives burning into lake stops fire from \n",
            "Predicted summary:  killed in fire in mumbai\n",
            "ROUGE SCORE  [{'rouge-1': {'f': 0.1538461491124262, 'p': 0.125, 'r': 0.2}, 'rouge-2': {'f': 0.0, 'p': 0.0, 'r': 0.0}, 'rouge-l': {'f': 0.16666666222222234, 'p': 0.125, 'r': 0.25}}]\n",
            "BLEU SCORE  0.8491821094987799\n",
            "\n",
            "\n",
            "Review: congress candidate ramgarh assembly seat rajasthan defeating bjp singh margin votes bypoll victory congress taken total seats member assembly election ramgarh seat delayed due death sitting mla bsp candidate laxman singh \n",
            "Original summary: cong wins bypoll in rajasthan takes total to seats \n",
            "Predicted summary:  bjp bjp quits in rajasthan\n",
            "ROUGE SCORE  [{'rouge-1': {'f': 0.285714281122449, 'p': 0.2222222222222222, 'r': 0.4}, 'rouge-2': {'f': 0.16666666222222234, 'p': 0.125, 'r': 0.25}, 'rouge-l': {'f': 0.3076923034319527, 'p': 0.2222222222222222, 'r': 0.5}}]\n",
            "BLEU SCORE  0.7989272423094768\n",
            "\n",
            "\n",
            "Review: bombay high court wednesday dismissed application filed late actress jiah khan mother messages daughter exchanged ex boyfriend sooraj pancholi messenger dismissing plea justice stated request feasible law sooraj pancholi earlier charged jiah khan suicide \n",
            "Original summary: bombay hc rejects mother plea to \n",
            "Predicted summary:  hc rejects plea against fir against hc against\n",
            "ROUGE SCORE  [{'rouge-1': {'f': 0.4285714236734694, 'p': 0.5, 'r': 0.375}, 'rouge-2': {'f': 0.1666666618055557, 'p': 0.2, 'r': 0.14285714285714285}, 'rouge-l': {'f': 0.5454545404958678, 'p': 0.5, 'r': 0.6}}]\n",
            "BLEU SCORE  0.6955425557411256\n",
            "\n",
            "\n",
            "Review: claiming bjp rough faces madhya pradesh congress leader sajjan singh verma said one hema malini keep using earn votes performing classical verma making statement bjp leader claimed congress fielding faces added someone beautiful priyanka gandhi party \n",
            "Original summary: bjp makes dance for votes congress leader \n",
            "Predicted summary:  bjp mla to contest in mp\n",
            "ROUGE SCORE  [{'rouge-1': {'f': 0.1538461488757398, 'p': 0.14285714285714285, 'r': 0.16666666666666666}, 'rouge-2': {'f': 0.0, 'p': 0.0, 'r': 0.0}, 'rouge-l': {'f': 0.1538461488757398, 'p': 0.14285714285714285, 'r': 0.16666666666666666}}]\n",
            "BLEU SCORE  0.8491821094987799\n",
            "\n",
            "\n",
            "Review: windies captain jason holder became top ranked rounder test cricket efforts bat ball helped side defeat england first test saturday holder picked two wickets first innings match scored unbeaten double hundred second innings \n",
            "Original summary: becomes number test all \n",
            "Predicted summary:  aus beat runs to take wickets in test\n",
            "ROUGE SCORE  [{'rouge-1': {'f': 0.16666666222222234, 'p': 0.25, 'r': 0.125}, 'rouge-2': {'f': 0.0, 'p': 0.0, 'r': 0.0}, 'rouge-l': {'f': 0.16666666222222234, 'p': 0.25, 'r': 0.125}}]\n",
            "BLEU SCORE  0.733503637924837\n",
            "\n",
            "\n",
            "Review: devi singh patel bjp candidate madhya pradesh assembly elections passed away age due heart attack early monday morning name announced bjp released first list candidates elections four time mla patel served minister state tribal welfare department \n",
            "Original summary: bjp candidate devi singh patel passes away aged \n",
            "Predicted summary:  bjp leader to contest in telangana\n",
            "ROUGE SCORE  [{'rouge-1': {'f': 0.14285713795918387, 'p': 0.125, 'r': 0.16666666666666666}, 'rouge-2': {'f': 0.0, 'p': 0.0, 'r': 0.0}, 'rouge-l': {'f': 0.14285713795918387, 'p': 0.125, 'r': 0.16666666666666666}}]\n",
            "BLEU SCORE  0.7952707287670506\n",
            "\n",
            "\n",
            "Review: year old fashion designer found dead house mumbai sunita singh discovered lying dead floor bathroom year old son police officials said prima facie suspect slipped bathroom suffered injuries head son questioned police \n",
            "Original summary: yr old fashion designer found dead at her house in mumbai \n",
            "Predicted summary:  yr old girl found hanging in being in delhi\n",
            "ROUGE SCORE  [{'rouge-1': {'f': 0.39999999505, 'p': 0.36363636363636365, 'r': 0.4444444444444444}, 'rouge-2': {'f': 0.11111110617283973, 'p': 0.1, 'r': 0.125}, 'rouge-l': {'f': 0.42105262670360116, 'p': 0.36363636363636365, 'r': 0.5}}]\n",
            "BLEU SCORE  0.7641166194509462\n",
            "\n",
            "\n",
            "Review: talking current indian crop pacers former indian cricketer gautam gambhir said current captain virat kohli fortunate pace attack big credit goes virat kohli identifying kind bowlers well always dependent one two bowlers gambhir said indian bowling attack \n",
            "Original summary: kohli to have current of gambhir \n",
            "Predicted summary:  kohli to play in india for aus\n",
            "ROUGE SCORE  [{'rouge-1': {'f': 0.3076923027218935, 'p': 0.3333333333333333, 'r': 0.2857142857142857}, 'rouge-2': {'f': 0.18181817685950424, 'p': 0.2, 'r': 0.16666666666666666}, 'rouge-l': {'f': 0.3076923027218935, 'p': 0.3333333333333333, 'r': 0.2857142857142857}}]\n",
            "BLEU SCORE  0.7887781797427305\n",
            "\n",
            "\n",
            "Review: prisoner released early bihar jail good behaviour sent back jail within month half killed two people following release pawan kumar singh found wife illicit relationship man co prisoner year old killed man cousin \n",
            "Original summary: freed early for good conduct kills sent to same jail \n",
            "Predicted summary:  fir against fir against raping abusing woman in\n",
            "ROUGE SCORE  [{'rouge-1': {'f': 0.0, 'p': 0.0, 'r': 0.0}, 'rouge-2': {'f': 0.0, 'p': 0.0, 'r': 0.0}, 'rouge-l': {'f': 0.0, 'p': 0.0, 'r': 0.0}}]\n",
            "BLEU SCORE  0.7071067811865476\n",
            "\n",
            "\n",
            "Review: actor nawazuddin siddiqui saturday revealed sister diagnosed advanced stage breast cancer years old power courage made stand said siddiqui turns today still fighting actor added \n",
            "Original summary: my sister was diagnosed with breast cancer at nawazuddin \n",
            "Predicted summary:  my my sonali on cancer cancer\n",
            "ROUGE SCORE  [{'rouge-1': {'f': 0.2666666618666667, 'p': 0.2222222222222222, 'r': 0.3333333333333333}, 'rouge-2': {'f': 0.0, 'p': 0.0, 'r': 0.0}, 'rouge-l': {'f': 0.3076923034319527, 'p': 0.2222222222222222, 'r': 0.5}}]\n",
            "BLEU SCORE  0.7781581271306612\n",
            "\n",
            "\n",
            "Review: journalist priya ramani one women accused bjp leader former editor mj akbar sexual harassment tweeted women feel mj akbar resignation look forward day also get justice court metoo added akbar filed criminal defamation suit ramani \n",
            "Original summary: as women we feel journo on mj akbar resignation \n",
            "Predicted summary:  mj akbar is not been to mj akbar\n",
            "ROUGE SCORE  [{'rouge-1': {'f': 0.23529411266435996, 'p': 0.2222222222222222, 'r': 0.25}, 'rouge-2': {'f': 0.13333332835555575, 'p': 0.125, 'r': 0.14285714285714285}, 'rouge-l': {'f': 0.2666666618666667, 'p': 0.2222222222222222, 'r': 0.3333333333333333}}]\n",
            "BLEU SCORE  0.7922410709252884\n",
            "\n",
            "\n",
            "Review: west bengal cm mamata banerjee sunday said average annual income farmers state past seven years tmc rule paying homage former pm chaudhary charan singh th birth anniversary said day also observed kisan diwas tmc committed welfare farmers tweeted \n",
            "Original summary: farmers income in wb during tmc rule mamata \n",
            "Predicted summary:  bjp cm to be in wb cm\n",
            "ROUGE SCORE  [{'rouge-1': {'f': 0.266666661688889, 'p': 0.25, 'r': 0.2857142857142857}, 'rouge-2': {'f': 0.1538461488757398, 'p': 0.14285714285714285, 'r': 0.16666666666666666}, 'rouge-l': {'f': 0.2857142808163266, 'p': 0.25, 'r': 0.3333333333333333}}]\n",
            "BLEU SCORE  0.8210967436686386\n",
            "\n",
            "\n",
            "Review: japanese carmaker nissan asked staff avoid contact ousted chairman carlos ghosn former director greg kelly currently facing probe allegedly reporting ghosn compensation million automaker also directed staff report attempted contact company legal department \n",
            "Original summary: nissan asks staff to not fired chairman carlos ghosn \n",
            "Predicted summary:  nissan nissan chairman to probe in india\n",
            "ROUGE SCORE  [{'rouge-1': {'f': 0.37499999507812504, 'p': 0.3333333333333333, 'r': 0.42857142857142855}, 'rouge-2': {'f': 0.0, 'p': 0.0, 'r': 0.0}, 'rouge-l': {'f': 0.2666666618666667, 'p': 0.2222222222222222, 'r': 0.3333333333333333}}]\n",
            "BLEU SCORE  0.7503949002834928\n",
            "\n",
            "\n",
            "Review: indian army saturday said averted major terror attack seized huge arms ammunition kathua district jammu kashmir two ak assault rifles hand grenade four magazines rounds rounds ammunition seized operation operation launched following inputs military intelligence \n",
            "Original summary: major terror attack of arms seized in army \n",
            "Predicted summary:  pak killed in encounter in\n",
            "ROUGE SCORE  [{'rouge-1': {'f': 0.1538461491124262, 'p': 0.125, 'r': 0.2}, 'rouge-2': {'f': 0.0, 'p': 0.0, 'r': 0.0}, 'rouge-l': {'f': 0.16666666222222234, 'p': 0.125, 'r': 0.25}}]\n",
            "BLEU SCORE  0.7989272423094768\n",
            "\n",
            "\n",
            "Review: supreme court sought explanation rajasthan government whether shambhu lal allegedly hacked burnt alive muslim labourer uploaded videos jail court added state shall explain possible hearing petition filed labourer widow sought cbi probe case \n",
            "Original summary: murder accused shares videos from jail sc seeks \n",
            "Predicted summary:  sc rejects plea in case against case\n",
            "ROUGE SCORE  [{'rouge-1': {'f': 0.13333332835555575, 'p': 0.125, 'r': 0.14285714285714285}, 'rouge-2': {'f': 0.0, 'p': 0.0, 'r': 0.0}, 'rouge-l': {'f': 0.14285713795918387, 'p': 0.125, 'r': 0.16666666666666666}}]\n",
            "BLEU SCORE  0.7022798316312892\n",
            "\n",
            "\n",
            "Review: china robotic probe chang became first human made object land far side moon thursday shared first image chang landed south pole basin largest oldest impact basin moon one face moon visible earth due close orbit \n",
            "Original summary: chinese spacecraft shares st image from moon far side \n",
            "Predicted summary:  nasa spacecraft to iss telescope in space\n",
            "ROUGE SCORE  [{'rouge-1': {'f': 0.12499999507812519, 'p': 0.1111111111111111, 'r': 0.14285714285714285}, 'rouge-2': {'f': 0.0, 'p': 0.0, 'r': 0.0}, 'rouge-l': {'f': 0.12499999507812519, 'p': 0.1111111111111111, 'r': 0.14285714285714285}}]\n",
            "BLEU SCORE  0.7311104457090247\n",
            "\n",
            "\n",
            "Review: trolled asking fan leave india liking indian batsmen virat kohli tweeted guess trolling guys stick getting trolled spoke indians mentioned comment added enjoy watching english australian batsmen indians fan said \n",
            "Original summary: will to getting trolled kohli leave india remark \n",
            "Predicted summary:  kohli is the kohli on kohli\n",
            "ROUGE SCORE  [{'rouge-1': {'f': 0.14285713795918387, 'p': 0.125, 'r': 0.16666666666666666}, 'rouge-2': {'f': 0.0, 'p': 0.0, 'r': 0.0}, 'rouge-l': {'f': 0.16666666222222234, 'p': 0.125, 'r': 0.25}}]\n",
            "BLEU SCORE  0.7529586373193689\n",
            "\n",
            "\n",
            "Review: andhra pradesh cm chandrababu naidu tuesday said would real diwali country nda government ends centre despite attitude centre cyclone victims provided relief added centre providing aid cyclone titli victims \n",
            "Original summary: real diwali when nda ends at centre cm naidu \n",
            "Predicted summary:  bjp cm announces cr for farm farmers\n",
            "ROUGE SCORE  [{'rouge-1': {'f': 0.12499999507812519, 'p': 0.1111111111111111, 'r': 0.14285714285714285}, 'rouge-2': {'f': 0.0, 'p': 0.0, 'r': 0.0}, 'rouge-l': {'f': 0.12499999507812519, 'p': 0.1111111111111111, 'r': 0.14285714285714285}}]\n",
            "BLEU SCORE  0.7022798316312892\n",
            "\n",
            "\n",
            "Review: government wednesday introduced bill lok sabha allow voluntary use aadhaar services like opening bank accounts obtaining new sim cards bill also gives minors option opt aadhaar scheme upon turning years provides penalties crore violating provisions aadhaar act \n",
            "Original summary: govt bill to allow use of aadhaar for \n",
            "Predicted summary:  govt to be in india for jan\n",
            "ROUGE SCORE  [{'rouge-1': {'f': 0.3999999950222222, 'p': 0.375, 'r': 0.42857142857142855}, 'rouge-2': {'f': 0.0, 'p': 0.0, 'r': 0.0}, 'rouge-l': {'f': 0.3999999950222222, 'p': 0.375, 'r': 0.42857142857142855}}]\n",
            "BLEU SCORE  0.8091067115702212\n",
            "\n",
            "\n",
            "Review: juventus forward cristiano ronaldo said rape allegations adding truth always comes first position going lie situation happy lawyers confident course added american woman alleged ronaldo raped las vegas hotel room \n",
            "Original summary: truth always comes in first position ronaldo on rape allegations \n",
            "Predicted summary:  was was to be on my harassment on rape\n",
            "ROUGE SCORE  [{'rouge-1': {'f': 0.21052631080332423, 'p': 0.2, 'r': 0.2222222222222222}, 'rouge-2': {'f': 0.11764705384083066, 'p': 0.1111111111111111, 'r': 0.125}, 'rouge-l': {'f': 0.23529411280276827, 'p': 0.2, 'r': 0.2857142857142857}}]\n",
            "BLEU SCORE  0.7598356856515925\n",
            "\n",
            "\n",
            "Review: rjd supremo lalu prasad yadav son tej pratap shared video instagram wherein could seen dressed lord krishna playing front cows krishna divine calls time krishna beloved cows stand ears spread lord krishna life sets example man change attitude tej wrote \n",
            "Original summary: lalu son tej dresses as lord krishna plays for cows \n",
            "Predicted summary:  lalu tej tej pratap son files divorce for divorce\n",
            "ROUGE SCORE  [{'rouge-1': {'f': 0.42105262659279785, 'p': 0.4, 'r': 0.4444444444444444}, 'rouge-2': {'f': 0.0, 'p': 0.0, 'r': 0.0}, 'rouge-l': {'f': 0.3529411716262976, 'p': 0.3, 'r': 0.42857142857142855}}]\n",
            "BLEU SCORE  0.7521206186172787\n",
            "\n",
            "\n",
            "Review: australian commentator kerry keeffe apologised insulting india debutant mayank agarwal india ranji trophy air melbourne test keeffe said mayank highest first class score come railway canteen staff bowlers included chefs waiters way demeaning standard tongue cheek keeffe said \n",
            "Original summary: aus commentator apologises after mayank on air \n",
            "Predicted summary:  aus pacer to smith in aus pacer\n",
            "ROUGE SCORE  [{'rouge-1': {'f': 0.14285713785714302, 'p': 0.14285714285714285, 'r': 0.14285714285714285}, 'rouge-2': {'f': 0.0, 'p': 0.0, 'r': 0.0}, 'rouge-l': {'f': 0.1666666618055557, 'p': 0.14285714285714285, 'r': 0.2}}]\n",
            "BLEU SCORE  0.798359216893685\n",
            "\n",
            "\n",
            "Review: west bengal government monday denied permission state bjp land party chief amit shah chopper malda ahead rally tuesday citing work state government said airport suitable safe landing helicopter state cm mamata banerjee said information misleading people \n",
            "Original summary: amit shah chopper denied landing at in wb \n",
            "Predicted summary:  bjp cm yogi yogi adityanath in rajasthan\n",
            "ROUGE SCORE  [{'rouge-1': {'f': 0.13333332835555575, 'p': 0.125, 'r': 0.14285714285714285}, 'rouge-2': {'f': 0.0, 'p': 0.0, 'r': 0.0}, 'rouge-l': {'f': 0.14285713795918387, 'p': 0.125, 'r': 0.16666666666666666}}]\n",
            "BLEU SCORE  0.7777264164917724\n",
            "\n",
            "\n",
            "Review: thomas friends time spent together adelaide stayed refugee camps kenya following migration sudan together made debut australian football team monday scored match last goal move started australian team defeated kuwait scoreline \n",
            "Original summary: friends from camp make aus football debut together \n",
            "Predicted summary:  ex smith is out in ipl\n",
            "ROUGE SCORE  [{'rouge-1': {'f': 0.0, 'p': 0.0, 'r': 0.0}, 'rouge-2': {'f': 0.0, 'p': 0.0, 'r': 0.0}, 'rouge-l': {'f': 0.0, 'p': 0.0, 'r': 0.0}}]\n",
            "BLEU SCORE  0.8498912392268879\n",
            "\n",
            "\n",
            "Review: india year old wicketkeeper batsman rishabh pant named icc men emerging cricketer year last year pant became first indian wicketkeeper score test hundred england equalled record catches taken test adelaide december pant third indian honoured award \n",
            "Original summary: yr old rishabh pant named icc men cricketer of \n",
            "Predicted summary:  prithvi shaw bowler takes his wicket in his test\n",
            "ROUGE SCORE  [{'rouge-1': {'f': 0.0, 'p': 0.0, 'r': 0.0}, 'rouge-2': {'f': 0.0, 'p': 0.0, 'r': 0.0}, 'rouge-l': {'f': 0.0, 'p': 0.0, 'r': 0.0}}]\n",
            "BLEU SCORE  0.7438301789874407\n",
            "\n",
            "\n"
          ],
          "name": "stdout"
        }
      ]
    },
    {
      "cell_type": "markdown",
      "metadata": {
        "id": "_VfH7RHnuKhh"
      },
      "source": [
        "# **MODEL-5: Evaluation with Larger Dataset with 100 Epochs**"
      ]
    },
    {
      "cell_type": "markdown",
      "metadata": {
        "id": "309AtPh9dxD2"
      },
      "source": [
        "## **Getting the Dataset**"
      ]
    },
    {
      "cell_type": "code",
      "metadata": {
        "colab": {
          "base_uri": "https://localhost:8080/",
          "height": 298
        },
        "id": "MslY5XZDaKIY",
        "outputId": "e7a8d836-bbdf-40c7-c627-fbcc2f7067c3"
      },
      "source": [
        "reviews = df2[:15000]\n",
        "print(reviews.shape)\n",
        "reviews.head()"
      ],
      "execution_count": null,
      "outputs": [
        {
          "output_type": "stream",
          "text": [
            "(15000, 2)\n"
          ],
          "name": "stdout"
        },
        {
          "output_type": "execute_result",
          "data": {
            "text/html": [
              "<div>\n",
              "<style scoped>\n",
              "    .dataframe tbody tr th:only-of-type {\n",
              "        vertical-align: middle;\n",
              "    }\n",
              "\n",
              "    .dataframe tbody tr th {\n",
              "        vertical-align: top;\n",
              "    }\n",
              "\n",
              "    .dataframe thead th {\n",
              "        text-align: right;\n",
              "    }\n",
              "</style>\n",
              "<table border=\"1\" class=\"dataframe\">\n",
              "  <thead>\n",
              "    <tr style=\"text-align: right;\">\n",
              "      <th></th>\n",
              "      <th>headlines</th>\n",
              "      <th>text</th>\n",
              "    </tr>\n",
              "  </thead>\n",
              "  <tbody>\n",
              "    <tr>\n",
              "      <th>0</th>\n",
              "      <td>upGrad learner switches to career in ML &amp; Al with 90% salary hike</td>\n",
              "      <td>Saurav Kant, an alumnus of upGrad and IIIT-B's PG Program in Machine learning and Artificial Intelligence, was a Sr Systems Engineer at Infosys with almost 5 years of work experience. The program ...</td>\n",
              "    </tr>\n",
              "    <tr>\n",
              "      <th>1</th>\n",
              "      <td>Delhi techie wins free food from Swiggy for one year on CRED</td>\n",
              "      <td>Kunal Shah's credit card bill payment platform, CRED, gave users a chance to win free food from Swiggy for one year. Pranav Kaushik, a Delhi techie, bagged this reward after spending 2000 CRED coi...</td>\n",
              "    </tr>\n",
              "    <tr>\n",
              "      <th>2</th>\n",
              "      <td>New Zealand end Rohit Sharma-led India's 12-match winning streak</td>\n",
              "      <td>New Zealand defeated India by 8 wickets in the fourth ODI at Hamilton on Thursday to win their first match of the five-match ODI series. India lost an international match under Rohit Sharma's capt...</td>\n",
              "    </tr>\n",
              "    <tr>\n",
              "      <th>3</th>\n",
              "      <td>Aegon life iTerm insurance plan helps customers save tax</td>\n",
              "      <td>With Aegon Life iTerm Insurance plan, customers can enjoy tax benefits on your premiums paid and save up to Ã¢ÂÂ¹46,800^ on taxes. The plan provides life cover up to the age of 100 years. Also, c...</td>\n",
              "    </tr>\n",
              "    <tr>\n",
              "      <th>4</th>\n",
              "      <td>Have known Hirani for yrs, what if MeToo claims are not true: Sonam</td>\n",
              "      <td>Speaking about the sexual harassment allegations against Rajkumar Hirani, Sonam Kapoor said, \"I've known Hirani for many years...What if it's not true, the [#MeToo] movement will get derailed.\" \"I...</td>\n",
              "    </tr>\n",
              "  </tbody>\n",
              "</table>\n",
              "</div>"
            ],
            "text/plain": [
              "                                                             headlines                                                                                                                                                                                                     text\n",
              "0    upGrad learner switches to career in ML & Al with 90% salary hike  Saurav Kant, an alumnus of upGrad and IIIT-B's PG Program in Machine learning and Artificial Intelligence, was a Sr Systems Engineer at Infosys with almost 5 years of work experience. The program ...\n",
              "1         Delhi techie wins free food from Swiggy for one year on CRED  Kunal Shah's credit card bill payment platform, CRED, gave users a chance to win free food from Swiggy for one year. Pranav Kaushik, a Delhi techie, bagged this reward after spending 2000 CRED coi...\n",
              "2     New Zealand end Rohit Sharma-led India's 12-match winning streak  New Zealand defeated India by 8 wickets in the fourth ODI at Hamilton on Thursday to win their first match of the five-match ODI series. India lost an international match under Rohit Sharma's capt...\n",
              "3             Aegon life iTerm insurance plan helps customers save tax  With Aegon Life iTerm Insurance plan, customers can enjoy tax benefits on your premiums paid and save up to Ã¢ÂÂ¹46,800^ on taxes. The plan provides life cover up to the age of 100 years. Also, c...\n",
              "4  Have known Hirani for yrs, what if MeToo claims are not true: Sonam  Speaking about the sexual harassment allegations against Rajkumar Hirani, Sonam Kapoor said, \"I've known Hirani for many years...What if it's not true, the [#MeToo] movement will get derailed.\" \"I..."
            ]
          },
          "metadata": {
            "tags": []
          },
          "execution_count": 6
        }
      ]
    },
    {
      "cell_type": "code",
      "metadata": {
        "id": "IouKb-EwaKIZ"
      },
      "source": [
        "data = df2[:15000]"
      ],
      "execution_count": null,
      "outputs": []
    },
    {
      "cell_type": "code",
      "metadata": {
        "id": "mbF-glNbaKIa"
      },
      "source": [
        "data.drop_duplicates(subset=['text'],inplace=True)#dropping duplicates\n",
        "data.dropna(axis=0,inplace=True)#dropping na"
      ],
      "execution_count": null,
      "outputs": []
    },
    {
      "cell_type": "code",
      "metadata": {
        "colab": {
          "base_uri": "https://localhost:8080/"
        },
        "id": "1ZS-TrDpaKIa",
        "outputId": "b06e2b85-8f5d-48b1-a0c5-5454b49f0318"
      },
      "source": [
        "data.info()"
      ],
      "execution_count": null,
      "outputs": [
        {
          "output_type": "stream",
          "text": [
            "<class 'pandas.core.frame.DataFrame'>\n",
            "Int64Index: 15000 entries, 0 to 14999\n",
            "Data columns (total 2 columns):\n",
            " #   Column     Non-Null Count  Dtype \n",
            "---  ------     --------------  ----- \n",
            " 0   headlines  15000 non-null  object\n",
            " 1   text       15000 non-null  object\n",
            "dtypes: object(2)\n",
            "memory usage: 351.6+ KB\n"
          ],
          "name": "stdout"
        }
      ]
    },
    {
      "cell_type": "markdown",
      "metadata": {
        "id": "oe3TPuMgd0z9"
      },
      "source": [
        "## **Preprocessing tha data**"
      ]
    },
    {
      "cell_type": "code",
      "metadata": {
        "id": "XDWCo7btaKIb"
      },
      "source": [
        "contraction_mapping = {\"ain't\": \"is not\", \"aren't\": \"are not\",\"can't\": \"cannot\", \"'cause\": \"because\", \"could've\": \"could have\", \"couldn't\": \"could not\",\n",
        "                           \"didn't\": \"did not\",  \"doesn't\": \"does not\", \"don't\": \"do not\", \"hadn't\": \"had not\", \"hasn't\": \"has not\", \"haven't\": \"have not\",\n",
        "                           \"he'd\": \"he would\",\"he'll\": \"he will\", \"he's\": \"he is\", \"how'd\": \"how did\", \"how'd'y\": \"how do you\", \"how'll\": \"how will\", \"how's\": \"how is\",\n",
        "                           \"I'd\": \"I would\", \"I'd've\": \"I would have\", \"I'll\": \"I will\", \"I'll've\": \"I will have\",\"I'm\": \"I am\", \"I've\": \"I have\", \"i'd\": \"i would\",\n",
        "                           \"i'd've\": \"i would have\", \"i'll\": \"i will\",  \"i'll've\": \"i will have\",\"i'm\": \"i am\", \"i've\": \"i have\", \"isn't\": \"is not\", \"it'd\": \"it would\",\n",
        "                           \"it'd've\": \"it would have\", \"it'll\": \"it will\", \"it'll've\": \"it will have\",\"it's\": \"it is\", \"let's\": \"let us\", \"ma'am\": \"madam\",\n",
        "                           \"mayn't\": \"may not\", \"might've\": \"might have\",\"mightn't\": \"might not\",\"mightn't've\": \"might not have\", \"must've\": \"must have\",\n",
        "                           \"mustn't\": \"must not\", \"mustn't've\": \"must not have\", \"needn't\": \"need not\", \"needn't've\": \"need not have\",\"o'clock\": \"of the clock\",\n",
        "                           \"oughtn't\": \"ought not\", \"oughtn't've\": \"ought not have\", \"shan't\": \"shall not\", \"sha'n't\": \"shall not\", \"shan't've\": \"shall not have\",\n",
        "                           \"she'd\": \"she would\", \"she'd've\": \"she would have\", \"she'll\": \"she will\", \"she'll've\": \"she will have\", \"she's\": \"she is\",\n",
        "                           \"should've\": \"should have\", \"shouldn't\": \"should not\", \"shouldn't've\": \"should not have\", \"so've\": \"so have\",\"so's\": \"so as\",\n",
        "                           \"this's\": \"this is\",\"that'd\": \"that would\", \"that'd've\": \"that would have\", \"that's\": \"that is\", \"there'd\": \"there would\",\n",
        "                           \"there'd've\": \"there would have\", \"there's\": \"there is\", \"here's\": \"here is\",\"they'd\": \"they would\", \"they'd've\": \"they would have\",\n",
        "                           \"they'll\": \"they will\", \"they'll've\": \"they will have\", \"they're\": \"they are\", \"they've\": \"they have\", \"to've\": \"to have\",\n",
        "                           \"wasn't\": \"was not\", \"we'd\": \"we would\", \"we'd've\": \"we would have\", \"we'll\": \"we will\", \"we'll've\": \"we will have\", \"we're\": \"we are\",\n",
        "                           \"we've\": \"we have\", \"weren't\": \"were not\", \"what'll\": \"what will\", \"what'll've\": \"what will have\", \"what're\": \"what are\",\n",
        "                           \"what's\": \"what is\", \"what've\": \"what have\", \"when's\": \"when is\", \"when've\": \"when have\", \"where'd\": \"where did\", \"where's\": \"where is\",\n",
        "                           \"where've\": \"where have\", \"who'll\": \"who will\", \"who'll've\": \"who will have\", \"who's\": \"who is\", \"who've\": \"who have\",\n",
        "                           \"why's\": \"why is\", \"why've\": \"why have\", \"will've\": \"will have\", \"won't\": \"will not\", \"won't've\": \"will not have\",\n",
        "                           \"would've\": \"would have\", \"wouldn't\": \"would not\", \"wouldn't've\": \"would not have\", \"y'all\": \"you all\",\n",
        "                           \"y'all'd\": \"you all would\",\"y'all'd've\": \"you all would have\",\"y'all're\": \"you all are\",\"y'all've\": \"you all have\",\n",
        "                           \"you'd\": \"you would\", \"you'd've\": \"you would have\", \"you'll\": \"you will\", \"you'll've\": \"you will have\",\n",
        "                           \"you're\": \"you are\", \"you've\": \"you have\"}"
      ],
      "execution_count": null,
      "outputs": []
    },
    {
      "cell_type": "code",
      "metadata": {
        "id": "wOuuggM0aKIb"
      },
      "source": [
        "stop_words = set(stopwords.words('english')) \n",
        "\n",
        "def text_cleaner(text,num):\n",
        "    newString = text.lower()\n",
        "    newString = BeautifulSoup(newString, \"lxml\").text\n",
        "    newString = re.sub(r'\\([^)]*\\)', '', newString)\n",
        "    newString = re.sub('\"','', newString)\n",
        "    newString = ' '.join([contraction_mapping[t] if t in contraction_mapping else t for t in newString.split(\" \")])    \n",
        "    newString = re.sub(r\"'s\\b\",\"\",newString)\n",
        "    newString = re.sub(\"[^a-zA-Z]\", \" \", newString) \n",
        "    newString = re.sub('[m]{2,}', 'mm', newString)\n",
        "    if(num==0):\n",
        "        tokens = [w for w in newString.split() if not w in stop_words]\n",
        "    else:\n",
        "        tokens=newString.split()\n",
        "    long_words=[]\n",
        "    for i in tokens:\n",
        "        if len(i)>1:                                                 #removing short word\n",
        "            long_words.append(i)   \n",
        "    return (\" \".join(long_words)).strip()"
      ],
      "execution_count": null,
      "outputs": []
    },
    {
      "cell_type": "code",
      "metadata": {
        "id": "dvh0duhHaKIc"
      },
      "source": [
        "#call the function\n",
        "cleaned_text = []\n",
        "for t in data['text']:\n",
        "    cleaned_text.append(text_cleaner(t,0))"
      ],
      "execution_count": null,
      "outputs": []
    },
    {
      "cell_type": "code",
      "metadata": {
        "colab": {
          "base_uri": "https://localhost:8080/"
        },
        "id": "SKUP4JkXaKIc",
        "outputId": "ceca9de0-7f43-4262-9371-8e4c5a6203b6"
      },
      "source": [
        "cleaned_text[:5]"
      ],
      "execution_count": null,
      "outputs": [
        {
          "output_type": "execute_result",
          "data": {
            "text/plain": [
              "['saurav kant alumnus upgrad iiit pg program machine learning artificial intelligence sr systems engineer infosys almost years work experience program upgrad degree career support helped transition data scientist tech mahindra salary hike upgrad online power learning powered lakh careers',\n",
              " 'kunal shah credit card bill payment platform cred gave users chance win free food swiggy one year pranav kaushik delhi techie bagged reward spending cred coins users get one cred coin per rupee bill paid used avail rewards brands like ixigo bookmyshow ubereats cult fit',\n",
              " 'new zealand defeated india wickets fourth odi hamilton thursday win first match five match odi series india lost international match rohit sharma captaincy consecutive victories dating back march match witnessed india getting seventh lowest total odi cricket history',\n",
              " 'aegon life iterm insurance plan customers enjoy tax benefits premiums paid save taxes plan provides life cover age years also customers options insure critical illnesses disability accidental death benefit rider life cover age years',\n",
              " 'speaking sexual harassment allegations rajkumar hirani sonam kapoor said known hirani many years true metoo movement get derailed metoo movement always believe woman case need reserve judgment added hirani accused assistant worked sanju']"
            ]
          },
          "metadata": {
            "tags": []
          },
          "execution_count": 13
        }
      ]
    },
    {
      "cell_type": "code",
      "metadata": {
        "id": "zKhzboYgaKId"
      },
      "source": [
        "#call the function\n",
        "cleaned_summary = []\n",
        "for t in data['headlines']:\n",
        "    cleaned_summary.append(text_cleaner(t,1))"
      ],
      "execution_count": null,
      "outputs": []
    },
    {
      "cell_type": "code",
      "metadata": {
        "colab": {
          "base_uri": "https://localhost:8080/"
        },
        "id": "n7SXOu1vaKId",
        "outputId": "684fe97e-40f5-44b1-e281-410d8b921d9f"
      },
      "source": [
        "cleaned_summary[:10]"
      ],
      "execution_count": null,
      "outputs": [
        {
          "output_type": "execute_result",
          "data": {
            "text/plain": [
              "['upgrad learner switches to career in ml al with salary hike',\n",
              " 'delhi techie wins free food from swiggy for one year on cred',\n",
              " 'new zealand end rohit sharma led india match winning streak',\n",
              " 'aegon life iterm insurance plan helps customers save tax',\n",
              " 'have known hirani for yrs what if metoo claims are not true sonam',\n",
              " 'rahat fateh ali khan denies getting notice for smuggling currency',\n",
              " 'india get all out for their lowest odi total in new zealand',\n",
              " 'govt directs alok verma to join work day before his retirement',\n",
              " 'called pm modi sir times to satisfy his ego andhra cm',\n",
              " 'cong wins ramgarh bypoll in rajasthan takes total to seats']"
            ]
          },
          "metadata": {
            "tags": []
          },
          "execution_count": 15
        }
      ]
    },
    {
      "cell_type": "code",
      "metadata": {
        "id": "s-fzTSj0aKIe"
      },
      "source": [
        "data['cleaned_text']=cleaned_text\n",
        "data['cleaned_summary']=cleaned_summary"
      ],
      "execution_count": null,
      "outputs": []
    },
    {
      "cell_type": "code",
      "metadata": {
        "id": "PCD5PitYaKIe"
      },
      "source": [
        "data.replace('', np.nan, inplace=True)\n",
        "data.dropna(axis=0,inplace=True)"
      ],
      "execution_count": null,
      "outputs": []
    },
    {
      "cell_type": "code",
      "metadata": {
        "colab": {
          "base_uri": "https://localhost:8080/",
          "height": 281
        },
        "id": "BufZk7cUaKIf",
        "outputId": "9f5d8fb7-1fe6-4f5d-9397-a9a0d5410112"
      },
      "source": [
        "\n",
        "import matplotlib.pyplot as plt\n",
        "\n",
        "text_word_count = []\n",
        "summary_word_count = []\n",
        "\n",
        "# populate the lists with sentence lengths\n",
        "for i in data['cleaned_text']:\n",
        "      text_word_count.append(len(i.split()))\n",
        "\n",
        "for i in data['cleaned_summary']:\n",
        "      summary_word_count.append(len(i.split()))\n",
        "\n",
        "length_df = pd.DataFrame({'text':text_word_count, 'summary':summary_word_count})\n",
        "\n",
        "length_df.hist(bins = 30)\n",
        "plt.show()"
      ],
      "execution_count": null,
      "outputs": [
        {
          "output_type": "display_data",
          "data": {
            "image/png": "[encoded data removed]",
            "text/plain": [
              "<Figure size 432x288 with 2 Axes>"
            ]
          },
          "metadata": {
            "tags": [],
            "needs_background": "light"
          }
        }
      ]
    },
    {
      "cell_type": "code",
      "metadata": {
        "colab": {
          "base_uri": "https://localhost:8080/"
        },
        "id": "9C9uAwhJaKIf",
        "outputId": "656763fc-ad05-4b0d-c1e3-3cc3e0b3d875"
      },
      "source": [
        "cnt=0\n",
        "for i in data['cleaned_summary']:\n",
        "    if(len(i.split())<=15):\n",
        "        cnt=cnt+1\n",
        "print(cnt/len(data['cleaned_summary']))"
      ],
      "execution_count": null,
      "outputs": [
        {
          "output_type": "stream",
          "text": [
            "0.9998666666666667\n"
          ],
          "name": "stdout"
        }
      ]
    },
    {
      "cell_type": "code",
      "metadata": {
        "id": "SnRwNHJiaKIg"
      },
      "source": [
        "max_text_len=55\n",
        "max_summary_len=15"
      ],
      "execution_count": null,
      "outputs": []
    },
    {
      "cell_type": "code",
      "metadata": {
        "id": "u72HfvCyaKIg"
      },
      "source": [
        "\n",
        "cleaned_text =np.array(data['cleaned_text'])\n",
        "cleaned_summary=np.array(data['cleaned_summary'])\n",
        "\n",
        "short_text=[]\n",
        "short_summary=[]\n",
        "\n",
        "for i in range(len(cleaned_text)):\n",
        "    if(len(cleaned_summary[i].split())<=max_summary_len and len(cleaned_text[i].split())<=max_text_len):\n",
        "        short_text.append(cleaned_text[i])\n",
        "        short_summary.append(cleaned_summary[i])\n",
        "        \n",
        "df=pd.DataFrame({'text':short_text,'summary':short_summary})"
      ],
      "execution_count": null,
      "outputs": []
    },
    {
      "cell_type": "code",
      "metadata": {
        "id": "vRz8LEvMaKIh"
      },
      "source": [
        "df['summary'] = df['summary'].apply(lambda x : 'sostok '+ x + ' eostok')"
      ],
      "execution_count": null,
      "outputs": []
    },
    {
      "cell_type": "markdown",
      "metadata": {
        "id": "-QsSdJaid5ak"
      },
      "source": [
        "## **Splitting the dataset into 90% Training and 10% Test**"
      ]
    },
    {
      "cell_type": "code",
      "metadata": {
        "id": "Ywyv9UwqaKIh"
      },
      "source": [
        "from sklearn.model_selection import train_test_split\n",
        "x_tr,x_val,y_tr,y_val=train_test_split(np.array(df['text']),np.array(df['summary']),test_size=0.1,random_state=0,shuffle=True)"
      ],
      "execution_count": null,
      "outputs": []
    },
    {
      "cell_type": "markdown",
      "metadata": {
        "id": "oGiJpAkyd_G1"
      },
      "source": [
        "## **Text Tokenization**"
      ]
    },
    {
      "cell_type": "code",
      "metadata": {
        "id": "45MU_JDqaKIh"
      },
      "source": [
        "from keras.preprocessing.text import Tokenizer \n",
        "from keras.preprocessing.sequence import pad_sequences\n",
        "\n",
        "#prepare a tokenizer for reviews on training data\n",
        "x_tokenizer = Tokenizer() \n",
        "x_tokenizer.fit_on_texts(list(x_tr))"
      ],
      "execution_count": null,
      "outputs": []
    },
    {
      "cell_type": "code",
      "metadata": {
        "colab": {
          "base_uri": "https://localhost:8080/"
        },
        "id": "y2IgQEF1aKIi",
        "outputId": "0b77a06e-87ac-4a08-e723-01a1a94b8fe9"
      },
      "source": [
        "\n",
        "thresh=4\n",
        "\n",
        "cnt=0\n",
        "tot_cnt=0\n",
        "freq=0\n",
        "tot_freq=0\n",
        "\n",
        "for key,value in x_tokenizer.word_counts.items():\n",
        "    tot_cnt=tot_cnt+1\n",
        "    tot_freq=tot_freq+value\n",
        "    if(value<thresh):\n",
        "        cnt=cnt+1\n",
        "        freq=freq+value\n",
        "    \n",
        "print(\"% of rare words in vocabulary:\",(cnt/tot_cnt)*100)\n",
        "print(\"Total Coverage of rare words:\",(freq/tot_freq)*100)"
      ],
      "execution_count": null,
      "outputs": [
        {
          "output_type": "stream",
          "text": [
            "% of rare words in vocabulary: 61.269355763716305\n",
            "Total Coverage of rare words: 6.157800180704832\n"
          ],
          "name": "stdout"
        }
      ]
    },
    {
      "cell_type": "code",
      "metadata": {
        "id": "_mVwrTlhaKIi"
      },
      "source": [
        "\n",
        "#prepare a tokenizer for reviews on training data\n",
        "x_tokenizer = Tokenizer(num_words=tot_cnt-cnt) \n",
        "x_tokenizer.fit_on_texts(list(x_tr))\n",
        "\n",
        "#convert text sequences into integer sequences\n",
        "x_tr_seq    =   x_tokenizer.texts_to_sequences(x_tr) \n",
        "x_val_seq   =   x_tokenizer.texts_to_sequences(x_val)\n",
        "\n",
        "#padding zero upto maximum length\n",
        "x_tr    =   pad_sequences(x_tr_seq,  maxlen=max_text_len, padding='post')\n",
        "x_val   =   pad_sequences(x_val_seq, maxlen=max_text_len, padding='post')\n",
        "\n",
        "#size of vocabulary ( +1 for padding token)\n",
        "x_voc   =  x_tokenizer.num_words + 1"
      ],
      "execution_count": null,
      "outputs": []
    },
    {
      "cell_type": "code",
      "metadata": {
        "colab": {
          "base_uri": "https://localhost:8080/"
        },
        "id": "G8fXp63haKIj",
        "outputId": "45c0fc06-2a2c-478b-abd9-38c65c80fd96"
      },
      "source": [
        "x_voc"
      ],
      "execution_count": null,
      "outputs": [
        {
          "output_type": "execute_result",
          "data": {
            "text/plain": [
              "12157"
            ]
          },
          "metadata": {
            "tags": []
          },
          "execution_count": 27
        }
      ]
    },
    {
      "cell_type": "markdown",
      "metadata": {
        "id": "-Ez2GY3OeEF9"
      },
      "source": [
        "## **Summary Tokenization**"
      ]
    },
    {
      "cell_type": "code",
      "metadata": {
        "id": "N_1nleNZaKIk"
      },
      "source": [
        "#prepare a tokenizer for reviews on training data\n",
        "y_tokenizer = Tokenizer()   \n",
        "y_tokenizer.fit_on_texts(list(y_tr))"
      ],
      "execution_count": null,
      "outputs": []
    },
    {
      "cell_type": "code",
      "metadata": {
        "colab": {
          "base_uri": "https://localhost:8080/"
        },
        "id": "Xg_HgRa2aKIl",
        "outputId": "5fc75d63-d9c1-4ef4-ba7f-cfddfc9c8fc1"
      },
      "source": [
        "thresh=6\n",
        "\n",
        "cnt=0\n",
        "tot_cnt=0\n",
        "freq=0\n",
        "tot_freq=0\n",
        "\n",
        "for key,value in y_tokenizer.word_counts.items():\n",
        "    tot_cnt=tot_cnt+1\n",
        "    tot_freq=tot_freq+value\n",
        "    if(value<thresh):\n",
        "        cnt=cnt+1\n",
        "        freq=freq+value\n",
        "    \n",
        "print(\"% of rare words in vocabulary:\",(cnt/tot_cnt)*100)\n",
        "print(\"Total Coverage of rare words:\",(freq/tot_freq)*100)"
      ],
      "execution_count": null,
      "outputs": [
        {
          "output_type": "stream",
          "text": [
            "% of rare words in vocabulary: 76.15595075239399\n",
            "Total Coverage of rare words: 12.725733634311512\n"
          ],
          "name": "stdout"
        }
      ]
    },
    {
      "cell_type": "code",
      "metadata": {
        "id": "K8otUHoLaKIm"
      },
      "source": [
        "#prepare a tokenizer for reviews on training data\n",
        "y_tokenizer = Tokenizer(num_words=tot_cnt-cnt) \n",
        "y_tokenizer.fit_on_texts(list(y_tr))\n",
        "\n",
        "#convert text sequences into integer sequences\n",
        "y_tr_seq    =   y_tokenizer.texts_to_sequences(y_tr) \n",
        "y_val_seq   =   y_tokenizer.texts_to_sequences(y_val) \n",
        "\n",
        "#padding zero upto maximum length\n",
        "y_tr    =   pad_sequences(y_tr_seq, maxlen=max_summary_len, padding='post')\n",
        "y_val   =   pad_sequences(y_val_seq, maxlen=max_summary_len, padding='post')\n",
        "\n",
        "#size of vocabulary\n",
        "y_voc  =   y_tokenizer.num_words +1"
      ],
      "execution_count": null,
      "outputs": []
    },
    {
      "cell_type": "code",
      "metadata": {
        "colab": {
          "base_uri": "https://localhost:8080/"
        },
        "id": "o7tuMvsSaKIn",
        "outputId": "89d3e0bc-2fab-4a93-f1cf-b85b4eeaba49"
      },
      "source": [
        "y_tokenizer.word_counts['sostok'],len(y_tr)"
      ],
      "execution_count": null,
      "outputs": [
        {
          "output_type": "execute_result",
          "data": {
            "text/plain": [
              "(13497, 13497)"
            ]
          },
          "metadata": {
            "tags": []
          },
          "execution_count": 31
        }
      ]
    },
    {
      "cell_type": "code",
      "metadata": {
        "id": "pF3WnvhAaKIn"
      },
      "source": [
        "ind=[]\n",
        "for i in range(len(y_tr)):\n",
        "    cnt=0\n",
        "    for j in y_tr[i]:\n",
        "        if j!=0:\n",
        "            cnt=cnt+1\n",
        "    if(cnt==2):\n",
        "        ind.append(i)\n",
        "\n",
        "y_tr=np.delete(y_tr,ind, axis=0)\n",
        "x_tr=np.delete(x_tr,ind, axis=0)"
      ],
      "execution_count": null,
      "outputs": []
    },
    {
      "cell_type": "code",
      "metadata": {
        "id": "mc8EYGEzaKIo"
      },
      "source": [
        "ind=[]\n",
        "for i in range(len(y_val)):\n",
        "    cnt=0\n",
        "    for j in y_val[i]:\n",
        "        if j!=0:\n",
        "            cnt=cnt+1\n",
        "    if(cnt==2):\n",
        "        ind.append(i)\n",
        "\n",
        "y_val=np.delete(y_val,ind, axis=0)\n",
        "x_val=np.delete(x_val,ind, axis=0)"
      ],
      "execution_count": null,
      "outputs": []
    },
    {
      "cell_type": "markdown",
      "metadata": {
        "id": "vUJhGssJeJnP"
      },
      "source": [
        "## **Creating the model**"
      ]
    },
    {
      "cell_type": "code",
      "metadata": {
        "colab": {
          "base_uri": "https://localhost:8080/"
        },
        "id": "cF_YoT0JaKIq",
        "outputId": "79f048cc-69b6-4d49-8fb0-d0a365b6c4d1"
      },
      "source": [
        "from keras import backend as K \n",
        "K.clear_session()\n",
        "\n",
        "latent_dim = 300\n",
        "embedding_dim=100\n",
        "\n",
        "# Encoder\n",
        "encoder_inputs = Input(shape=(max_text_len,))\n",
        "\n",
        "#embedding layer\n",
        "enc_emb =  Embedding(x_voc, embedding_dim,trainable=True)(encoder_inputs)\n",
        "\n",
        "#encoder lstm 1\n",
        "encoder_lstm1 = LSTM(latent_dim,return_sequences=True,return_state=True,dropout=0.4,recurrent_dropout=0.4)\n",
        "encoder_output1, state_h1, state_c1 = encoder_lstm1(enc_emb)\n",
        "\n",
        "#encoder lstm 2\n",
        "encoder_lstm2 = LSTM(latent_dim,return_sequences=True,return_state=True,dropout=0.4,recurrent_dropout=0.4)\n",
        "encoder_output2, state_h2, state_c2 = encoder_lstm2(encoder_output1)\n",
        "\n",
        "#encoder lstm 3\n",
        "encoder_lstm3=LSTM(latent_dim, return_state=True, return_sequences=True,dropout=0.4,recurrent_dropout=0.4)\n",
        "encoder_outputs, state_h, state_c= encoder_lstm3(encoder_output2)\n",
        "\n",
        "# Set up the decoder, using `encoder_states` as initial state.\n",
        "decoder_inputs = Input(shape=(None,))\n",
        "\n",
        "#embedding layer\n",
        "dec_emb_layer = Embedding(y_voc, embedding_dim,trainable=True)\n",
        "dec_emb = dec_emb_layer(decoder_inputs)\n",
        "\n",
        "decoder_lstm = LSTM(latent_dim, return_sequences=True, return_state=True,dropout=0.4,recurrent_dropout=0.2)\n",
        "decoder_outputs,decoder_fwd_state, decoder_back_state = decoder_lstm(dec_emb,initial_state=[state_h, state_c])\n",
        "\n",
        "# Attention layer\n",
        "attn_layer = AttentionLayer(name='attention_layer')\n",
        "attn_out, attn_states = attn_layer([encoder_outputs, decoder_outputs])\n",
        "\n",
        "# Concat attention input and decoder LSTM output\n",
        "decoder_concat_input = Concatenate(axis=-1, name='concat_layer')([decoder_outputs, attn_out])\n",
        "\n",
        "#dense layer\n",
        "decoder_dense =  TimeDistributed(Dense(y_voc, activation='softmax'))\n",
        "decoder_outputs = decoder_dense(decoder_concat_input)\n",
        "\n",
        "# Define the model \n",
        "model = Model([encoder_inputs, decoder_inputs], decoder_outputs)\n",
        "\n",
        "model.summary()"
      ],
      "execution_count": null,
      "outputs": [
        {
          "output_type": "stream",
          "text": [
            "Model: \"model\"\n",
            "__________________________________________________________________________________________________\n",
            "Layer (type)                    Output Shape         Param #     Connected to                     \n",
            "==================================================================================================\n",
            "input_1 (InputLayer)            [(None, 55)]         0                                            \n",
            "__________________________________________________________________________________________________\n",
            "embedding (Embedding)           (None, 55, 100)      1215700     input_1[0][0]                    \n",
            "__________________________________________________________________________________________________\n",
            "lstm (LSTM)                     [(None, 55, 300), (N 481200      embedding[0][0]                  \n",
            "__________________________________________________________________________________________________\n",
            "input_2 (InputLayer)            [(None, None)]       0                                            \n",
            "__________________________________________________________________________________________________\n",
            "lstm_1 (LSTM)                   [(None, 55, 300), (N 721200      lstm[0][0]                       \n",
            "__________________________________________________________________________________________________\n",
            "embedding_1 (Embedding)         (None, None, 100)    348700      input_2[0][0]                    \n",
            "__________________________________________________________________________________________________\n",
            "lstm_2 (LSTM)                   [(None, 55, 300), (N 721200      lstm_1[0][0]                     \n",
            "__________________________________________________________________________________________________\n",
            "lstm_3 (LSTM)                   [(None, None, 300),  481200      embedding_1[0][0]                \n",
            "                                                                 lstm_2[0][1]                     \n",
            "                                                                 lstm_2[0][2]                     \n",
            "__________________________________________________________________________________________________\n",
            "attention_layer (AttentionLayer ((None, None, 300),  180300      lstm_2[0][0]                     \n",
            "                                                                 lstm_3[0][0]                     \n",
            "__________________________________________________________________________________________________\n",
            "concat_layer (Concatenate)      (None, None, 600)    0           lstm_3[0][0]                     \n",
            "                                                                 attention_layer[0][0]            \n",
            "__________________________________________________________________________________________________\n",
            "time_distributed (TimeDistribut (None, None, 3487)   2095687     concat_layer[0][0]               \n",
            "==================================================================================================\n",
            "Total params: 6,245,187\n",
            "Trainable params: 6,245,187\n",
            "Non-trainable params: 0\n",
            "__________________________________________________________________________________________________\n"
          ],
          "name": "stdout"
        }
      ]
    },
    {
      "cell_type": "code",
      "metadata": {
        "id": "eIsPH4xHaKIr"
      },
      "source": [
        "model.compile(optimizer='rmsprop', loss='sparse_categorical_crossentropy',metrics = ['accuracy'])"
      ],
      "execution_count": null,
      "outputs": []
    },
    {
      "cell_type": "code",
      "metadata": {
        "id": "3MVmMIo8aKIs"
      },
      "source": [
        "es = EarlyStopping(monitor='val_loss', mode='min', verbose=1,patience=2)"
      ],
      "execution_count": null,
      "outputs": []
    },
    {
      "cell_type": "code",
      "metadata": {
        "colab": {
          "base_uri": "https://localhost:8080/"
        },
        "id": "KdvPnXZMaKIv",
        "outputId": "49e3e920-6cd0-4e08-f38b-fc5f2e23b722"
      },
      "source": [
        "history=model.fit([x_tr,y_tr[:,:-1]], y_tr.reshape(y_tr.shape[0],y_tr.shape[1], 1)[:,1:] ,epochs=100,\n",
        "                  callbacks=[es],batch_size=512, validation_data=([x_val,y_val[:,:-1]],\n",
        "                                                                  y_val.reshape(y_val.shape[0],y_val.shape[1], 1)[:,1:]))"
      ],
      "execution_count": null,
      "outputs": [
        {
          "output_type": "stream",
          "text": [
            "Epoch 1/100\n",
            "27/27 [==============================] - 509s 18s/step - loss: 5.7963 - accuracy: 0.2922 - val_loss: 4.3648 - val_accuracy: 0.3824\n",
            "Epoch 2/100\n",
            "27/27 [==============================] - 499s 18s/step - loss: 4.5388 - accuracy: 0.3586 - val_loss: 4.2302 - val_accuracy: 0.4279\n",
            "Epoch 3/100\n",
            "27/27 [==============================] - 503s 19s/step - loss: 4.3753 - accuracy: 0.3967 - val_loss: 4.1153 - val_accuracy: 0.4406\n",
            "Epoch 4/100\n",
            "27/27 [==============================] - 498s 18s/step - loss: 4.2755 - accuracy: 0.4161 - val_loss: 4.0287 - val_accuracy: 0.4406\n",
            "Epoch 5/100\n",
            "27/27 [==============================] - 503s 19s/step - loss: 4.1667 - accuracy: 0.4195 - val_loss: 3.9584 - val_accuracy: 0.4421\n",
            "Epoch 6/100\n",
            "27/27 [==============================] - 501s 19s/step - loss: 4.0757 - accuracy: 0.4229 - val_loss: 3.9077 - val_accuracy: 0.4452\n",
            "Epoch 7/100\n",
            "27/27 [==============================] - 500s 18s/step - loss: 4.0066 - accuracy: 0.4241 - val_loss: 3.8713 - val_accuracy: 0.4450\n",
            "Epoch 8/100\n",
            "27/27 [==============================] - 502s 19s/step - loss: 3.9583 - accuracy: 0.4237 - val_loss: 3.8316 - val_accuracy: 0.4449\n",
            "Epoch 9/100\n",
            "27/27 [==============================] - 494s 18s/step - loss: 3.8979 - accuracy: 0.4248 - val_loss: 3.7894 - val_accuracy: 0.4460\n",
            "Epoch 10/100\n",
            "27/27 [==============================] - 530s 20s/step - loss: 3.8301 - accuracy: 0.4272 - val_loss: 3.7704 - val_accuracy: 0.4474\n",
            "Epoch 11/100\n",
            "27/27 [==============================] - 495s 18s/step - loss: 3.7782 - accuracy: 0.4294 - val_loss: 3.7417 - val_accuracy: 0.4478\n",
            "Epoch 12/100\n",
            "27/27 [==============================] - 491s 18s/step - loss: 3.7219 - accuracy: 0.4309 - val_loss: 3.7056 - val_accuracy: 0.4516\n",
            "Epoch 13/100\n",
            "27/27 [==============================] - 501s 19s/step - loss: 3.6764 - accuracy: 0.4313 - val_loss: 3.6734 - val_accuracy: 0.4520\n",
            "Epoch 14/100\n",
            "27/27 [==============================] - 498s 18s/step - loss: 3.6002 - accuracy: 0.4351 - val_loss: 3.6360 - val_accuracy: 0.4542\n",
            "Epoch 15/100\n",
            "27/27 [==============================] - 500s 19s/step - loss: 3.5489 - accuracy: 0.4382 - val_loss: 3.6112 - val_accuracy: 0.4554\n",
            "Epoch 16/100\n",
            "27/27 [==============================] - 491s 18s/step - loss: 3.5030 - accuracy: 0.4390 - val_loss: 3.5920 - val_accuracy: 0.4572\n",
            "Epoch 17/100\n",
            "27/27 [==============================] - 488s 18s/step - loss: 3.4466 - accuracy: 0.4421 - val_loss: 3.5545 - val_accuracy: 0.4602\n",
            "Epoch 18/100\n",
            "27/27 [==============================] - 490s 18s/step - loss: 3.4027 - accuracy: 0.4424 - val_loss: 3.5511 - val_accuracy: 0.4606\n",
            "Epoch 19/100\n",
            "27/27 [==============================] - 485s 18s/step - loss: 3.3148 - accuracy: 0.4506 - val_loss: 3.5287 - val_accuracy: 0.4599\n",
            "Epoch 20/100\n",
            "27/27 [==============================] - 484s 18s/step - loss: 3.2858 - accuracy: 0.4494 - val_loss: 3.4905 - val_accuracy: 0.4626\n",
            "Epoch 21/100\n",
            "27/27 [==============================] - 486s 18s/step - loss: 3.2245 - accuracy: 0.4529 - val_loss: 3.4689 - val_accuracy: 0.4667\n",
            "Epoch 22/100\n",
            "27/27 [==============================] - 486s 18s/step - loss: 3.1838 - accuracy: 0.4557 - val_loss: 3.4769 - val_accuracy: 0.4630\n",
            "Epoch 23/100\n",
            "27/27 [==============================] - 488s 18s/step - loss: 3.1374 - accuracy: 0.4584 - val_loss: 3.4393 - val_accuracy: 0.4699\n",
            "Epoch 24/100\n",
            "27/27 [==============================] - 492s 18s/step - loss: 3.0731 - accuracy: 0.4627 - val_loss: 3.4265 - val_accuracy: 0.4711\n",
            "Epoch 25/100\n",
            "27/27 [==============================] - 490s 18s/step - loss: 3.0351 - accuracy: 0.4655 - val_loss: 3.4181 - val_accuracy: 0.4726\n",
            "Epoch 26/100\n",
            "27/27 [==============================] - 489s 18s/step - loss: 2.9722 - accuracy: 0.4705 - val_loss: 3.4072 - val_accuracy: 0.4729\n",
            "Epoch 27/100\n",
            "27/27 [==============================] - 490s 18s/step - loss: 2.9362 - accuracy: 0.4731 - val_loss: 3.3943 - val_accuracy: 0.4730\n",
            "Epoch 28/100\n",
            "27/27 [==============================] - 492s 18s/step - loss: 2.8872 - accuracy: 0.4769 - val_loss: 3.3932 - val_accuracy: 0.4736\n",
            "Epoch 29/100\n",
            "27/27 [==============================] - 493s 18s/step - loss: 2.8419 - accuracy: 0.4792 - val_loss: 3.4067 - val_accuracy: 0.4680\n",
            "Epoch 30/100\n",
            "27/27 [==============================] - 488s 18s/step - loss: 2.8110 - accuracy: 0.4810 - val_loss: 3.3735 - val_accuracy: 0.4777\n",
            "Epoch 31/100\n",
            "27/27 [==============================] - 493s 18s/step - loss: 2.7549 - accuracy: 0.4871 - val_loss: 3.3838 - val_accuracy: 0.4715\n",
            "Epoch 32/100\n",
            "27/27 [==============================] - 494s 18s/step - loss: 2.7130 - accuracy: 0.4896 - val_loss: 3.3742 - val_accuracy: 0.4773\n",
            "Epoch 00032: early stopping\n"
          ],
          "name": "stdout"
        }
      ]
    },
    {
      "cell_type": "code",
      "metadata": {
        "colab": {
          "base_uri": "https://localhost:8080/",
          "height": 264
        },
        "id": "pUCr81wKaKIw",
        "outputId": "23d02266-dd65-4600-8fd6-74ac17f62305"
      },
      "source": [
        "from matplotlib import pyplot\n",
        "pyplot.plot(history.history['loss'], label='train')\n",
        "pyplot.plot(history.history['val_loss'], label='test')\n",
        "pyplot.legend()\n",
        "pyplot.show()"
      ],
      "execution_count": null,
      "outputs": [
        {
          "output_type": "display_data",
          "data": {
            "image/png": "[encoded data removed]",
            "text/plain": [
              "<Figure size 432x288 with 1 Axes>"
            ]
          },
          "metadata": {
            "tags": [],
            "needs_background": "light"
          }
        }
      ]
    },
    {
      "cell_type": "markdown",
      "metadata": {
        "id": "tJAdvHvueREv"
      },
      "source": [
        "## **Inference**"
      ]
    },
    {
      "cell_type": "code",
      "metadata": {
        "id": "OfmSjZv-aKIw"
      },
      "source": [
        "reverse_target_word_index=y_tokenizer.index_word\n",
        "reverse_source_word_index=x_tokenizer.index_word\n",
        "target_word_index=y_tokenizer.word_index"
      ],
      "execution_count": null,
      "outputs": []
    },
    {
      "cell_type": "code",
      "metadata": {
        "id": "sCDVDgivaKIx"
      },
      "source": [
        "# Encode the input sequence to get the feature vector\n",
        "encoder_model = Model(inputs=encoder_inputs,outputs=[encoder_outputs, state_h, state_c])\n",
        "\n",
        "# Decoder setup\n",
        "# Below tensors will hold the states of the previous time step\n",
        "decoder_state_input_h = Input(shape=(latent_dim,))\n",
        "decoder_state_input_c = Input(shape=(latent_dim,))\n",
        "decoder_hidden_state_input = Input(shape=(max_text_len,latent_dim))\n",
        "\n",
        "# Get the embeddings of the decoder sequence\n",
        "dec_emb2= dec_emb_layer(decoder_inputs) \n",
        "# To predict the next word in the sequence, set the initial states to the states from the previous time step\n",
        "decoder_outputs2, state_h2, state_c2 = decoder_lstm(dec_emb2, initial_state=[decoder_state_input_h, decoder_state_input_c])\n",
        "\n",
        "#attention inference\n",
        "attn_out_inf, attn_states_inf = attn_layer([decoder_hidden_state_input, decoder_outputs2])\n",
        "decoder_inf_concat = Concatenate(axis=-1, name='concat')([decoder_outputs2, attn_out_inf])\n",
        "\n",
        "# A dense softmax layer to generate prob dist. over the target vocabulary\n",
        "decoder_outputs2 = decoder_dense(decoder_inf_concat) \n",
        "\n",
        "# Final decoder model\n",
        "decoder_model = Model(\n",
        "    [decoder_inputs] + [decoder_hidden_state_input,decoder_state_input_h, decoder_state_input_c],\n",
        "    [decoder_outputs2] + [state_h2, state_c2])"
      ],
      "execution_count": null,
      "outputs": []
    },
    {
      "cell_type": "code",
      "metadata": {
        "id": "vQxBSgdMaKIx"
      },
      "source": [
        "def decode_sequence(input_seq):\n",
        "    # Encode the input as state vectors.\n",
        "    e_out, e_h, e_c = encoder_model.predict(input_seq)\n",
        "    \n",
        "    # Generate empty target sequence of length 1.\n",
        "    target_seq = np.zeros((1,1))\n",
        "    \n",
        "    # Populate the first word of target sequence with the start word.\n",
        "    target_seq[0, 0] = target_word_index['sostok']\n",
        "\n",
        "    stop_condition = False\n",
        "    decoded_sentence = ''\n",
        "    while not stop_condition:\n",
        "      \n",
        "        output_tokens, h, c = decoder_model.predict([target_seq] + [e_out, e_h, e_c])\n",
        "\n",
        "        # Sample a token\n",
        "        sampled_token_index = np.argmax(output_tokens[0, -1, :])\n",
        "        sampled_token = reverse_target_word_index[sampled_token_index]\n",
        "        \n",
        "        if(sampled_token!='eostok'):\n",
        "            decoded_sentence += ' '+sampled_token\n",
        "\n",
        "        # Exit condition: either hit max length or find stop word.\n",
        "        if (sampled_token == 'eostok'  or len(decoded_sentence.split()) >= (max_summary_len-1)):\n",
        "            stop_condition = True\n",
        "\n",
        "        # Update the target sequence (of length 1).\n",
        "        target_seq = np.zeros((1,1))\n",
        "        target_seq[0, 0] = sampled_token_index\n",
        "\n",
        "        # Update internal states\n",
        "        e_h, e_c = h, c\n",
        "\n",
        "    return decoded_sentence"
      ],
      "execution_count": null,
      "outputs": []
    },
    {
      "cell_type": "code",
      "metadata": {
        "id": "epA9UF5ZaKIy"
      },
      "source": [
        "def seq2summary(input_seq):\n",
        "    newString=''\n",
        "    for i in input_seq:\n",
        "        if((i!=0 and i!=target_word_index['sostok']) and i!=target_word_index['eostok']):\n",
        "            newString=newString+reverse_target_word_index[i]+' '\n",
        "    return newString\n",
        "\n",
        "def seq2text(input_seq):\n",
        "    newString=''\n",
        "    for i in input_seq:\n",
        "        if(i!=0):\n",
        "            newString=newString+reverse_source_word_index[i]+' '\n",
        "    return newString"
      ],
      "execution_count": null,
      "outputs": []
    },
    {
      "cell_type": "code",
      "metadata": {
        "id": "uiwC2DvDZubF",
        "colab": {
          "base_uri": "https://localhost:8080/"
        },
        "outputId": "e9e52d03-1302-4e08-a8c0-70de3aee3f5b"
      },
      "source": [
        "!pip install rouge"
      ],
      "execution_count": null,
      "outputs": [
        {
          "output_type": "stream",
          "text": [
            "Collecting rouge\n",
            "  Downloading https://files.pythonhosted.org/packages/43/cc/e18e33be20971ff73a056ebdb023476b5a545e744e3fc22acd8c758f1e0d/rouge-1.0.0-py3-none-any.whl\n",
            "Requirement already satisfied: six in /usr/local/lib/python3.7/dist-packages (from rouge) (1.15.0)\n",
            "Installing collected packages: rouge\n",
            "Successfully installed rouge-1.0.0\n"
          ],
          "name": "stdout"
        }
      ]
    },
    {
      "cell_type": "code",
      "metadata": {
        "id": "MH04_VBUaKIz"
      },
      "source": [
        "from nltk.translate.bleu_score import sentence_bleu\n",
        "from rouge import Rouge \n",
        "rouge_score = Rouge()"
      ],
      "execution_count": null,
      "outputs": []
    },
    {
      "cell_type": "markdown",
      "metadata": {
        "id": "MBtJ4ESreT4B"
      },
      "source": [
        "## **Getting Summaries and Evaluation metrics**"
      ]
    },
    {
      "cell_type": "code",
      "metadata": {
        "colab": {
          "base_uri": "https://localhost:8080/"
        },
        "id": "zLnsPkGjaKIz",
        "outputId": "abf65d30-da5f-4f90-dd60-865bca22f7f0"
      },
      "source": [
        "for i in range(0,10):\n",
        "    print(\"Review:\",seq2text(x_tr[i]))\n",
        "    print(\"Original summary:\",seq2summary(y_tr[i]))\n",
        "    print(\"Predicted summary:\",decode_sequence(x_tr[i].reshape(1,max_text_len)))\n",
        "    scorer = rouge_score.get_scores(seq2summary(y_tr[i]),decode_sequence(x_tr[i].reshape(1,max_text_len)))\n",
        "    #scores = scorer.score(seq2summary(y_tr[i]),decode_sequence(x_tr[i].reshape(1,max_text_len)))\n",
        "    print('ROUGE SCORE ', scorer)\n",
        "    bleu_score = sentence_bleu( seq2summary(y_tr[i]),decode_sequence(x_tr[i].reshape(1,max_text_len)) )\n",
        "    print('BLEU SCORE ', bleu_score)\n",
        "   # F1 = 2 * (bleu_score * scorer) / (bleu_score + scorer)\n",
        "   # print('F1 Score ', F1)\n",
        "    print(\"\\n\")\n",
        "\n"
      ],
      "execution_count": null,
      "outputs": [
        {
          "output_type": "stream",
          "text": [
            "Review: shiv sena chief uddhav thackeray took dig bjp government saying solve issues farmers first talk coalition addressing maharashtra drought hit farmers added want drought end permanently end political drought shiv sena said government letting farmers get anything \n",
            "Original summary: farmers issues then talk about coalition sena to bjp \n",
            "Predicted summary:  will not be to be of sena\n",
            "ROUGE SCORE  [{'rouge-1': {'f': 0.24999999507812506, 'p': 0.2222222222222222, 'r': 0.2857142857142857}, 'rouge-2': {'f': 0.0, 'p': 0.0, 'r': 0.0}, 'rouge-l': {'f': 0.1333333285333335, 'p': 0.1111111111111111, 'r': 0.16666666666666666}}]\n",
            "BLEU SCORE  0.8065008590125561\n",
            "\n",
            "\n",
            "Review: bengaluru based ride hailing startup ola reportedly offered billion investment japanese conglomerate softbank owns around stake reports said ceo aggarwal may accept offer current form may give softbank stake previous reports claimed africa largest conglomerate naspers may invest ola billion valuation \n",
            "Original summary: softbank offers to invest billion in ola reports \n",
            "Predicted summary:  softbank to invest million in funding\n",
            "ROUGE SCORE  [{'rouge-1': {'f': 0.5714285665306124, 'p': 0.5, 'r': 0.6666666666666666}, 'rouge-2': {'f': 0.1666666618055557, 'p': 0.14285714285714285, 'r': 0.2}, 'rouge-l': {'f': 0.5714285665306124, 'p': 0.5, 'r': 0.6666666666666666}}]\n",
            "BLEU SCORE  0.7647860170437231\n",
            "\n",
            "\n",
            "Review: madhya pradesh congress chief kamal nath monday questioned ruling bjp silence alleged lapses handling electronic voting machines assembly polls let bjp remain deliberately silent continue raise developments nath said response came day bjp slammed congress raising issue \n",
            "Original summary: kamal nath bjp silence over in evm handling \n",
            "Predicted summary:  bjp bjp quits bjp\n",
            "ROUGE SCORE  [{'rouge-1': {'f': 0.16666666222222234, 'p': 0.125, 'r': 0.25}, 'rouge-2': {'f': 0.0, 'p': 0.0, 'r': 0.0}, 'rouge-l': {'f': 0.19999999680000002, 'p': 0.125, 'r': 0.5}}]\n",
            "BLEU SCORE  0.7896895367562644\n",
            "\n",
            "\n",
            "Review: responding singer shweta pandit allegation anu malik asked kiss lyricist sameer said shocking people pass comment without proof recording studio said sameer said good voice definitely let know future projects left added \n",
            "Original summary: people pass comment without proof on claims against \n",
            "Predicted summary:  metoo movement to be on metoo\n",
            "ROUGE SCORE  [{'rouge-1': {'f': 0.14285713795918387, 'p': 0.125, 'r': 0.16666666666666666}, 'rouge-2': {'f': 0.0, 'p': 0.0, 'r': 0.0}, 'rouge-l': {'f': 0.1538461491124262, 'p': 0.125, 'r': 0.2}}]\n",
            "BLEU SCORE  0.668740304976422\n",
            "\n",
            "\n",
            "Review: least people killed attacks including grenade targeting first day parliamentary elections afghanistan according interior minister afghan officials said people went polling centres despite attacks notably afghanistan holding first parliamentary elections since \n",
            "Original summary: attacks st day of afghan polls kill \n",
            "Predicted summary:  people of sabarimala in polls\n",
            "ROUGE SCORE  [{'rouge-1': {'f': 0.33333332847222225, 'p': 0.2857142857142857, 'r': 0.4}, 'rouge-2': {'f': 0.0, 'p': 0.0, 'r': 0.0}, 'rouge-l': {'f': 0.33333332847222225, 'p': 0.2857142857142857, 'r': 0.4}}]\n",
            "BLEU SCORE  0.7400828044922853\n",
            "\n",
            "\n",
            "Review: argentine legend diego maradona said five time ballon winner lionel messi great player leader talking coach players play pitch wants leader useless make leader man goes toilet times match maradona added \n",
            "Original summary: messi no leader he goes to toilet times before match \n",
            "Predicted summary:  ronaldo dipika to be at ballon or no\n",
            "ROUGE SCORE  [{'rouge-1': {'f': 0.22222221728395072, 'p': 0.2, 'r': 0.25}, 'rouge-2': {'f': 0.0, 'p': 0.0, 'r': 0.0}, 'rouge-l': {'f': 0.11111110617283973, 'p': 0.1, 'r': 0.125}}]\n",
            "BLEU SCORE  0.7384102902900735\n",
            "\n",
            "\n",
            "Review: ford motor company made profit india first time decade last financial year ford india us carmaker indian subsidiary made profit crore compared loss crore year ago ford accounts less total passenger vehicle sales india \n",
            "Original summary: ford makes profit in india for the first time in years \n",
            "Predicted summary:  softbank to invest in india\n",
            "ROUGE SCORE  [{'rouge-1': {'f': 0.2499999957031251, 'p': 0.18181818181818182, 'r': 0.4}, 'rouge-2': {'f': 0.14285713877551035, 'p': 0.1, 'r': 0.25}, 'rouge-l': {'f': 0.2666666622222223, 'p': 0.2, 'r': 0.4}}]\n",
            "BLEU SCORE  0.7916963878457504\n",
            "\n",
            "\n",
            "Review: jsw steel chairman sajjan jindal tuesday said must given fair chance control insolvent essar steel despite legal restrictions company paying money jindal said family submitted crore bid essar steel committee creditors approved arcelormittal crore offer \n",
            "Original summary: must be given chance for essar steel sajjan \n",
            "Predicted summary:  facebook ceo fires reports\n",
            "ROUGE SCORE  [{'rouge-1': {'f': 0.0, 'p': 0.0, 'r': 0.0}, 'rouge-2': {'f': 0.0, 'p': 0.0, 'r': 0.0}, 'rouge-l': {'f': 0.0, 'p': 0.0, 'r': 0.0}}]\n",
            "BLEU SCORE  0.7989272423094768\n",
            "\n",
            "\n",
            "Review: australia opener aaron finch decided review umpire kumar decision declared caught second innings first india test sunday finch walked caught rishabh pant ravichandran ashwin th however replays showed ball neither touched bat gloves \n",
            "Original summary: gets caught out without ball his bat does not review \n",
            "Predicted summary:  sachin captain after his match\n",
            "ROUGE SCORE  [{'rouge-1': {'f': 0.13333332888888905, 'p': 0.1, 'r': 0.2}, 'rouge-2': {'f': 0.0, 'p': 0.0, 'r': 0.0}, 'rouge-l': {'f': 0.13333332888888905, 'p': 0.1, 'r': 0.2}}]\n",
            "BLEU SCORE  0.7536324264832723\n",
            "\n",
            "\n",
            "Review: cabinet committee sent cbi director alok verma special director rakesh asthana leave appointed rao interim director agency new delhi headquarters sealed select officers would allowed enter premises comes asthana accused taking crore bribes moin qureshi case \n",
            "Original summary: cbi chief verma deputy asthana sent on leave headquarters \n",
            "Predicted summary:  cbi chief verma to cbi cbi on cbi\n",
            "ROUGE SCORE  [{'rouge-1': {'f': 0.4705882303114187, 'p': 0.4444444444444444, 'r': 0.5}, 'rouge-2': {'f': 0.266666661688889, 'p': 0.25, 'r': 0.2857142857142857}, 'rouge-l': {'f': 0.5714285668367348, 'p': 0.4444444444444444, 'r': 0.8}}]\n",
            "BLEU SCORE  0.8010548969451144\n",
            "\n",
            "\n"
          ],
          "name": "stdout"
        }
      ]
    }
  ]
}