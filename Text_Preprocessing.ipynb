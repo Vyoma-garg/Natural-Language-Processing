{
  "nbformat": 4,
  "nbformat_minor": 0,
  "metadata": {
    "colab": {
      "name": "Text_Preprocessing.ipynb",
      "provenance": [],
      "authorship_tag": "ABX9TyONTUT1Po4u/IWamTz+O/EA",
      "include_colab_link": true
    },
    "kernelspec": {
      "name": "python3",
      "display_name": "Python 3"
    },
    "language_info": {
      "name": "python"
    }
  },
  "cells": [
    {
      "cell_type": "markdown",
      "metadata": {
        "id": "view-in-github",
        "colab_type": "text"
      },
      "source": [
        "<a href=\"https://colab.research.google.com/github/Vyoma-garg/Natural-Language-Processing/blob/main/Text_Preprocessing.ipynb\" target=\"_parent\"><img src=\"https://colab.research.google.com/assets/colab-badge.svg\" alt=\"Open In Colab\"/></a>"
      ]
    },
    {
      "cell_type": "markdown",
      "metadata": {
        "id": "tBcnvyrr0_Y7"
      },
      "source": [
        "# **Getting dataset**"
      ]
    },
    {
      "cell_type": "code",
      "metadata": {
        "id": "bnMHXG6gfYhc"
      },
      "source": [
        "import pandas as pd\n",
        "import gzip\n",
        "false=False\n",
        "true=True\n",
        "\n",
        "def parse(path):\n",
        "  g = gzip.open('/content/Magazine_Subscriptions.json.gz', 'rb')\n",
        "  for l in g:\n",
        "    yield eval(l)\n",
        "\n",
        "def getDF(path):\n",
        "  i = 0\n",
        "  df = {}\n",
        "  for d in parse(path):\n",
        "    df[i] = d\n",
        "    i += 1\n",
        "  return pd.DataFrame.from_dict(df, orient='index')\n",
        "\n",
        "df = getDF('Magazine_Subscriptions.json.gz')"
      ],
      "execution_count": null,
      "outputs": []
    },
    {
      "cell_type": "markdown",
      "metadata": {
        "id": "tP8d00Zf4u8H"
      },
      "source": [
        "Total Number of Magazine Subscriptions reviews "
      ]
    },
    {
      "cell_type": "code",
      "metadata": {
        "colab": {
          "base_uri": "https://localhost:8080/"
        },
        "id": "bW_vMI43puBl",
        "outputId": "68afe078-9d6b-46a9-fbca-8ef4f82670b1"
      },
      "source": [
        "len(df)"
      ],
      "execution_count": null,
      "outputs": [
        {
          "output_type": "execute_result",
          "data": {
            "text/plain": [
              "89689"
            ]
          },
          "metadata": {
            "tags": []
          },
          "execution_count": 2
        }
      ]
    },
    {
      "cell_type": "markdown",
      "metadata": {
        "id": "pJlNnM_q41bn"
      },
      "source": [
        "Total Number of reviews taken in consideration "
      ]
    },
    {
      "cell_type": "code",
      "metadata": {
        "colab": {
          "base_uri": "https://localhost:8080/"
        },
        "id": "vYte2g0s6zT4",
        "outputId": "c173a3e4-5b9d-42cb-c0ad-b7244be0f907"
      },
      "source": [
        "df=df[:25000]\n",
        "len(df)"
      ],
      "execution_count": null,
      "outputs": [
        {
          "output_type": "execute_result",
          "data": {
            "text/plain": [
              "25000"
            ]
          },
          "metadata": {
            "tags": []
          },
          "execution_count": 3
        }
      ]
    },
    {
      "cell_type": "code",
      "metadata": {
        "colab": {
          "base_uri": "https://localhost:8080/",
          "height": 381
        },
        "id": "bPpUu6Uz6vBN",
        "outputId": "0b3cefca-2bc9-46f7-cf57-616c3654ac79"
      },
      "source": [
        "df.head()"
      ],
      "execution_count": null,
      "outputs": [
        {
          "output_type": "execute_result",
          "data": {
            "text/html": [
              "<div>\n",
              "<style scoped>\n",
              "    .dataframe tbody tr th:only-of-type {\n",
              "        vertical-align: middle;\n",
              "    }\n",
              "\n",
              "    .dataframe tbody tr th {\n",
              "        vertical-align: top;\n",
              "    }\n",
              "\n",
              "    .dataframe thead th {\n",
              "        text-align: right;\n",
              "    }\n",
              "</style>\n",
              "<table border=\"1\" class=\"dataframe\">\n",
              "  <thead>\n",
              "    <tr style=\"text-align: right;\">\n",
              "      <th></th>\n",
              "      <th>overall</th>\n",
              "      <th>vote</th>\n",
              "      <th>verified</th>\n",
              "      <th>reviewTime</th>\n",
              "      <th>reviewerID</th>\n",
              "      <th>asin</th>\n",
              "      <th>reviewerName</th>\n",
              "      <th>reviewText</th>\n",
              "      <th>summary</th>\n",
              "      <th>unixReviewTime</th>\n",
              "      <th>style</th>\n",
              "      <th>image</th>\n",
              "      <th>Sentiment</th>\n",
              "      <th>Binary_Sentiment</th>\n",
              "    </tr>\n",
              "  </thead>\n",
              "  <tbody>\n",
              "    <tr>\n",
              "      <th>0</th>\n",
              "      <td>5.0</td>\n",
              "      <td>9</td>\n",
              "      <td>False</td>\n",
              "      <td>11 8, 2001</td>\n",
              "      <td>AH2IFH762VY5U</td>\n",
              "      <td>B00005N7P0</td>\n",
              "      <td>ted sedlmayr</td>\n",
              "      <td>for computer enthusiast, MaxPC is a welcome si...</td>\n",
              "      <td>AVID READER SINCE \"boot\"  WAS THE NAME</td>\n",
              "      <td>1005177600</td>\n",
              "      <td>NaN</td>\n",
              "      <td>NaN</td>\n",
              "      <td>Positive</td>\n",
              "      <td>1.0</td>\n",
              "    </tr>\n",
              "    <tr>\n",
              "      <th>1</th>\n",
              "      <td>5.0</td>\n",
              "      <td>9</td>\n",
              "      <td>False</td>\n",
              "      <td>10 31, 2001</td>\n",
              "      <td>AOSFI0JEYU4XM</td>\n",
              "      <td>B00005N7P0</td>\n",
              "      <td>Amazon Customer</td>\n",
              "      <td>Thank god this is not a Ziff Davis publication...</td>\n",
              "      <td>The straight scoop</td>\n",
              "      <td>1004486400</td>\n",
              "      <td>NaN</td>\n",
              "      <td>NaN</td>\n",
              "      <td>Positive</td>\n",
              "      <td>1.0</td>\n",
              "    </tr>\n",
              "    <tr>\n",
              "      <th>2</th>\n",
              "      <td>3.0</td>\n",
              "      <td>14</td>\n",
              "      <td>False</td>\n",
              "      <td>03 24, 2007</td>\n",
              "      <td>A3JPFWKS83R49V</td>\n",
              "      <td>B00005N7OJ</td>\n",
              "      <td>Bryan Carey</td>\n",
              "      <td>Antiques Magazine is a publication made for an...</td>\n",
              "      <td>Antiques Magazine is Good, but not for Everyone</td>\n",
              "      <td>1174694400</td>\n",
              "      <td>{'Format:': ' Print Magazine'}</td>\n",
              "      <td>NaN</td>\n",
              "      <td>Negative</td>\n",
              "      <td>0.0</td>\n",
              "    </tr>\n",
              "    <tr>\n",
              "      <th>3</th>\n",
              "      <td>5.0</td>\n",
              "      <td>13</td>\n",
              "      <td>False</td>\n",
              "      <td>11 10, 2006</td>\n",
              "      <td>A19FKU6JZQ2ECJ</td>\n",
              "      <td>B00005N7OJ</td>\n",
              "      <td>Patricia L. Porada</td>\n",
              "      <td>This beautiful magazine is in itself a work of...</td>\n",
              "      <td>THE  DISCERNING READER</td>\n",
              "      <td>1163116800</td>\n",
              "      <td>{'Format:': ' Print Magazine'}</td>\n",
              "      <td>NaN</td>\n",
              "      <td>Positive</td>\n",
              "      <td>1.0</td>\n",
              "    </tr>\n",
              "    <tr>\n",
              "      <th>4</th>\n",
              "      <td>5.0</td>\n",
              "      <td>NaN</td>\n",
              "      <td>True</td>\n",
              "      <td>07 14, 2014</td>\n",
              "      <td>A25MDGOMZ2GALN</td>\n",
              "      <td>B00005N7P0</td>\n",
              "      <td>Alvey</td>\n",
              "      <td>A great read every issue.</td>\n",
              "      <td>Five Stars</td>\n",
              "      <td>1405296000</td>\n",
              "      <td>NaN</td>\n",
              "      <td>NaN</td>\n",
              "      <td>Positive</td>\n",
              "      <td>1.0</td>\n",
              "    </tr>\n",
              "  </tbody>\n",
              "</table>\n",
              "</div>"
            ],
            "text/plain": [
              "   overall vote  verified  ... image Sentiment Binary_Sentiment\n",
              "0      5.0    9     False  ...   NaN  Positive              1.0\n",
              "1      5.0    9     False  ...   NaN  Positive              1.0\n",
              "2      3.0   14     False  ...   NaN  Negative              0.0\n",
              "3      5.0   13     False  ...   NaN  Positive              1.0\n",
              "4      5.0  NaN      True  ...   NaN  Positive              1.0\n",
              "\n",
              "[5 rows x 14 columns]"
            ]
          },
          "metadata": {
            "tags": []
          },
          "execution_count": 11
        }
      ]
    },
    {
      "cell_type": "markdown",
      "metadata": {
        "id": "o7kB2-UM5AKy"
      },
      "source": [
        "Adding a column for Positive and Negative Sentiment"
      ]
    },
    {
      "cell_type": "code",
      "metadata": {
        "colab": {
          "base_uri": "https://localhost:8080/",
          "height": 297
        },
        "id": "HxKyzr1wpxb8",
        "outputId": "edec3f71-42e9-4ee4-f2e8-b6658e1e58a4"
      },
      "source": [
        "df.loc[df['overall']<=3, 'Sentiment']='Negative'\n",
        "df.loc[df['overall']>3, 'Sentiment']='Positive'\n",
        "df.head()"
      ],
      "execution_count": null,
      "outputs": [
        {
          "output_type": "execute_result",
          "data": {
            "text/html": [
              "<div>\n",
              "<style scoped>\n",
              "    .dataframe tbody tr th:only-of-type {\n",
              "        vertical-align: middle;\n",
              "    }\n",
              "\n",
              "    .dataframe tbody tr th {\n",
              "        vertical-align: top;\n",
              "    }\n",
              "\n",
              "    .dataframe thead th {\n",
              "        text-align: right;\n",
              "    }\n",
              "</style>\n",
              "<table border=\"1\" class=\"dataframe\">\n",
              "  <thead>\n",
              "    <tr style=\"text-align: right;\">\n",
              "      <th></th>\n",
              "      <th>overall</th>\n",
              "      <th>vote</th>\n",
              "      <th>verified</th>\n",
              "      <th>reviewTime</th>\n",
              "      <th>reviewerID</th>\n",
              "      <th>asin</th>\n",
              "      <th>reviewerName</th>\n",
              "      <th>reviewText</th>\n",
              "      <th>summary</th>\n",
              "      <th>unixReviewTime</th>\n",
              "      <th>style</th>\n",
              "      <th>image</th>\n",
              "      <th>Sentiment</th>\n",
              "    </tr>\n",
              "  </thead>\n",
              "  <tbody>\n",
              "    <tr>\n",
              "      <th>0</th>\n",
              "      <td>5.0</td>\n",
              "      <td>9</td>\n",
              "      <td>False</td>\n",
              "      <td>11 8, 2001</td>\n",
              "      <td>AH2IFH762VY5U</td>\n",
              "      <td>B00005N7P0</td>\n",
              "      <td>ted sedlmayr</td>\n",
              "      <td>for computer enthusiast, MaxPC is a welcome si...</td>\n",
              "      <td>AVID READER SINCE \"boot\"  WAS THE NAME</td>\n",
              "      <td>1005177600</td>\n",
              "      <td>NaN</td>\n",
              "      <td>NaN</td>\n",
              "      <td>Positive</td>\n",
              "    </tr>\n",
              "    <tr>\n",
              "      <th>1</th>\n",
              "      <td>5.0</td>\n",
              "      <td>9</td>\n",
              "      <td>False</td>\n",
              "      <td>10 31, 2001</td>\n",
              "      <td>AOSFI0JEYU4XM</td>\n",
              "      <td>B00005N7P0</td>\n",
              "      <td>Amazon Customer</td>\n",
              "      <td>Thank god this is not a Ziff Davis publication...</td>\n",
              "      <td>The straight scoop</td>\n",
              "      <td>1004486400</td>\n",
              "      <td>NaN</td>\n",
              "      <td>NaN</td>\n",
              "      <td>Positive</td>\n",
              "    </tr>\n",
              "    <tr>\n",
              "      <th>2</th>\n",
              "      <td>3.0</td>\n",
              "      <td>14</td>\n",
              "      <td>False</td>\n",
              "      <td>03 24, 2007</td>\n",
              "      <td>A3JPFWKS83R49V</td>\n",
              "      <td>B00005N7OJ</td>\n",
              "      <td>Bryan Carey</td>\n",
              "      <td>Antiques Magazine is a publication made for an...</td>\n",
              "      <td>Antiques Magazine is Good, but not for Everyone</td>\n",
              "      <td>1174694400</td>\n",
              "      <td>{'Format:': ' Print Magazine'}</td>\n",
              "      <td>NaN</td>\n",
              "      <td>Negative</td>\n",
              "    </tr>\n",
              "    <tr>\n",
              "      <th>3</th>\n",
              "      <td>5.0</td>\n",
              "      <td>13</td>\n",
              "      <td>False</td>\n",
              "      <td>11 10, 2006</td>\n",
              "      <td>A19FKU6JZQ2ECJ</td>\n",
              "      <td>B00005N7OJ</td>\n",
              "      <td>Patricia L. Porada</td>\n",
              "      <td>This beautiful magazine is in itself a work of...</td>\n",
              "      <td>THE  DISCERNING READER</td>\n",
              "      <td>1163116800</td>\n",
              "      <td>{'Format:': ' Print Magazine'}</td>\n",
              "      <td>NaN</td>\n",
              "      <td>Positive</td>\n",
              "    </tr>\n",
              "    <tr>\n",
              "      <th>4</th>\n",
              "      <td>5.0</td>\n",
              "      <td>NaN</td>\n",
              "      <td>True</td>\n",
              "      <td>07 14, 2014</td>\n",
              "      <td>A25MDGOMZ2GALN</td>\n",
              "      <td>B00005N7P0</td>\n",
              "      <td>Alvey</td>\n",
              "      <td>A great read every issue.</td>\n",
              "      <td>Five Stars</td>\n",
              "      <td>1405296000</td>\n",
              "      <td>NaN</td>\n",
              "      <td>NaN</td>\n",
              "      <td>Positive</td>\n",
              "    </tr>\n",
              "  </tbody>\n",
              "</table>\n",
              "</div>"
            ],
            "text/plain": [
              "   overall vote  verified  ...                           style image Sentiment\n",
              "0      5.0    9     False  ...                             NaN   NaN  Positive\n",
              "1      5.0    9     False  ...                             NaN   NaN  Positive\n",
              "2      3.0   14     False  ...  {'Format:': ' Print Magazine'}   NaN  Negative\n",
              "3      5.0   13     False  ...  {'Format:': ' Print Magazine'}   NaN  Positive\n",
              "4      5.0  NaN      True  ...                             NaN   NaN  Positive\n",
              "\n",
              "[5 rows x 13 columns]"
            ]
          },
          "metadata": {
            "tags": []
          },
          "execution_count": 4
        }
      ]
    },
    {
      "cell_type": "markdown",
      "metadata": {
        "id": "FmKpOKd15KHA"
      },
      "source": [
        "Adding a column for Sentiments in binary form"
      ]
    },
    {
      "cell_type": "code",
      "metadata": {
        "colab": {
          "base_uri": "https://localhost:8080/",
          "height": 381
        },
        "id": "GgYhVeC9jSlq",
        "outputId": "31d87d58-4ed6-4057-e78e-a7eb1e2e9c74"
      },
      "source": [
        "df.loc[df['Sentiment']=='Negative', 'Binary_Sentiment']=0\n",
        "df.loc[df['Sentiment']=='Positive', 'Binary_Sentiment']=1\n",
        "df.head()"
      ],
      "execution_count": null,
      "outputs": [
        {
          "output_type": "execute_result",
          "data": {
            "text/html": [
              "<div>\n",
              "<style scoped>\n",
              "    .dataframe tbody tr th:only-of-type {\n",
              "        vertical-align: middle;\n",
              "    }\n",
              "\n",
              "    .dataframe tbody tr th {\n",
              "        vertical-align: top;\n",
              "    }\n",
              "\n",
              "    .dataframe thead th {\n",
              "        text-align: right;\n",
              "    }\n",
              "</style>\n",
              "<table border=\"1\" class=\"dataframe\">\n",
              "  <thead>\n",
              "    <tr style=\"text-align: right;\">\n",
              "      <th></th>\n",
              "      <th>overall</th>\n",
              "      <th>vote</th>\n",
              "      <th>verified</th>\n",
              "      <th>reviewTime</th>\n",
              "      <th>reviewerID</th>\n",
              "      <th>asin</th>\n",
              "      <th>reviewerName</th>\n",
              "      <th>reviewText</th>\n",
              "      <th>summary</th>\n",
              "      <th>unixReviewTime</th>\n",
              "      <th>style</th>\n",
              "      <th>image</th>\n",
              "      <th>Sentiment</th>\n",
              "      <th>Binary_Sentiment</th>\n",
              "    </tr>\n",
              "  </thead>\n",
              "  <tbody>\n",
              "    <tr>\n",
              "      <th>0</th>\n",
              "      <td>5.0</td>\n",
              "      <td>9</td>\n",
              "      <td>False</td>\n",
              "      <td>11 8, 2001</td>\n",
              "      <td>AH2IFH762VY5U</td>\n",
              "      <td>B00005N7P0</td>\n",
              "      <td>ted sedlmayr</td>\n",
              "      <td>for computer enthusiast, MaxPC is a welcome si...</td>\n",
              "      <td>AVID READER SINCE \"boot\"  WAS THE NAME</td>\n",
              "      <td>1005177600</td>\n",
              "      <td>NaN</td>\n",
              "      <td>NaN</td>\n",
              "      <td>Positive</td>\n",
              "      <td>1.0</td>\n",
              "    </tr>\n",
              "    <tr>\n",
              "      <th>1</th>\n",
              "      <td>5.0</td>\n",
              "      <td>9</td>\n",
              "      <td>False</td>\n",
              "      <td>10 31, 2001</td>\n",
              "      <td>AOSFI0JEYU4XM</td>\n",
              "      <td>B00005N7P0</td>\n",
              "      <td>Amazon Customer</td>\n",
              "      <td>Thank god this is not a Ziff Davis publication...</td>\n",
              "      <td>The straight scoop</td>\n",
              "      <td>1004486400</td>\n",
              "      <td>NaN</td>\n",
              "      <td>NaN</td>\n",
              "      <td>Positive</td>\n",
              "      <td>1.0</td>\n",
              "    </tr>\n",
              "    <tr>\n",
              "      <th>2</th>\n",
              "      <td>3.0</td>\n",
              "      <td>14</td>\n",
              "      <td>False</td>\n",
              "      <td>03 24, 2007</td>\n",
              "      <td>A3JPFWKS83R49V</td>\n",
              "      <td>B00005N7OJ</td>\n",
              "      <td>Bryan Carey</td>\n",
              "      <td>Antiques Magazine is a publication made for an...</td>\n",
              "      <td>Antiques Magazine is Good, but not for Everyone</td>\n",
              "      <td>1174694400</td>\n",
              "      <td>{'Format:': ' Print Magazine'}</td>\n",
              "      <td>NaN</td>\n",
              "      <td>Negative</td>\n",
              "      <td>0.0</td>\n",
              "    </tr>\n",
              "    <tr>\n",
              "      <th>3</th>\n",
              "      <td>5.0</td>\n",
              "      <td>13</td>\n",
              "      <td>False</td>\n",
              "      <td>11 10, 2006</td>\n",
              "      <td>A19FKU6JZQ2ECJ</td>\n",
              "      <td>B00005N7OJ</td>\n",
              "      <td>Patricia L. Porada</td>\n",
              "      <td>This beautiful magazine is in itself a work of...</td>\n",
              "      <td>THE  DISCERNING READER</td>\n",
              "      <td>1163116800</td>\n",
              "      <td>{'Format:': ' Print Magazine'}</td>\n",
              "      <td>NaN</td>\n",
              "      <td>Positive</td>\n",
              "      <td>1.0</td>\n",
              "    </tr>\n",
              "    <tr>\n",
              "      <th>4</th>\n",
              "      <td>5.0</td>\n",
              "      <td>NaN</td>\n",
              "      <td>True</td>\n",
              "      <td>07 14, 2014</td>\n",
              "      <td>A25MDGOMZ2GALN</td>\n",
              "      <td>B00005N7P0</td>\n",
              "      <td>Alvey</td>\n",
              "      <td>A great read every issue.</td>\n",
              "      <td>Five Stars</td>\n",
              "      <td>1405296000</td>\n",
              "      <td>NaN</td>\n",
              "      <td>NaN</td>\n",
              "      <td>Positive</td>\n",
              "      <td>1.0</td>\n",
              "    </tr>\n",
              "  </tbody>\n",
              "</table>\n",
              "</div>"
            ],
            "text/plain": [
              "   overall vote  verified  ... image Sentiment Binary_Sentiment\n",
              "0      5.0    9     False  ...   NaN  Positive              1.0\n",
              "1      5.0    9     False  ...   NaN  Positive              1.0\n",
              "2      3.0   14     False  ...   NaN  Negative              0.0\n",
              "3      5.0   13     False  ...   NaN  Positive              1.0\n",
              "4      5.0  NaN      True  ...   NaN  Positive              1.0\n",
              "\n",
              "[5 rows x 14 columns]"
            ]
          },
          "metadata": {
            "tags": []
          },
          "execution_count": 5
        }
      ]
    },
    {
      "cell_type": "code",
      "metadata": {
        "colab": {
          "base_uri": "https://localhost:8080/",
          "height": 431
        },
        "id": "G-cIGrHXBzsH",
        "outputId": "9766edc1-acc8-4fe1-b6be-85e3b26d372d"
      },
      "source": [
        "df.tail()"
      ],
      "execution_count": null,
      "outputs": [
        {
          "output_type": "execute_result",
          "data": {
            "text/html": [
              "<div>\n",
              "<style scoped>\n",
              "    .dataframe tbody tr th:only-of-type {\n",
              "        vertical-align: middle;\n",
              "    }\n",
              "\n",
              "    .dataframe tbody tr th {\n",
              "        vertical-align: top;\n",
              "    }\n",
              "\n",
              "    .dataframe thead th {\n",
              "        text-align: right;\n",
              "    }\n",
              "</style>\n",
              "<table border=\"1\" class=\"dataframe\">\n",
              "  <thead>\n",
              "    <tr style=\"text-align: right;\">\n",
              "      <th></th>\n",
              "      <th>overall</th>\n",
              "      <th>vote</th>\n",
              "      <th>verified</th>\n",
              "      <th>reviewTime</th>\n",
              "      <th>reviewerID</th>\n",
              "      <th>asin</th>\n",
              "      <th>reviewerName</th>\n",
              "      <th>reviewText</th>\n",
              "      <th>summary</th>\n",
              "      <th>unixReviewTime</th>\n",
              "      <th>style</th>\n",
              "      <th>image</th>\n",
              "      <th>Sentiment</th>\n",
              "      <th>Binary_Sentiment</th>\n",
              "    </tr>\n",
              "  </thead>\n",
              "  <tbody>\n",
              "    <tr>\n",
              "      <th>24995</th>\n",
              "      <td>5.0</td>\n",
              "      <td>NaN</td>\n",
              "      <td>True</td>\n",
              "      <td>03 24, 2015</td>\n",
              "      <td>A1AG7VJ1T35X77</td>\n",
              "      <td>B00005QJE0</td>\n",
              "      <td>Darrin R. West</td>\n",
              "      <td>Gorgeous large format magazine. Very inspiring...</td>\n",
              "      <td>Gorgeous and Inspiring.</td>\n",
              "      <td>1427155200</td>\n",
              "      <td>{'Format:': ' Print Magazine'}</td>\n",
              "      <td>NaN</td>\n",
              "      <td>Positive</td>\n",
              "      <td>1.0</td>\n",
              "    </tr>\n",
              "    <tr>\n",
              "      <th>24996</th>\n",
              "      <td>4.0</td>\n",
              "      <td>NaN</td>\n",
              "      <td>True</td>\n",
              "      <td>07 30, 2014</td>\n",
              "      <td>A365DG6L5EUQQB</td>\n",
              "      <td>B00005QJE0</td>\n",
              "      <td>Charles Belew</td>\n",
              "      <td>Very happy with our subscribtions!</td>\n",
              "      <td>Four Stars</td>\n",
              "      <td>1406678400</td>\n",
              "      <td>{'Format:': ' Print Magazine'}</td>\n",
              "      <td>NaN</td>\n",
              "      <td>Positive</td>\n",
              "      <td>1.0</td>\n",
              "    </tr>\n",
              "    <tr>\n",
              "      <th>24997</th>\n",
              "      <td>5.0</td>\n",
              "      <td>NaN</td>\n",
              "      <td>True</td>\n",
              "      <td>02 26, 2014</td>\n",
              "      <td>A312FAW297PIOZ</td>\n",
              "      <td>B00005QJE0</td>\n",
              "      <td>kwilson</td>\n",
              "      <td>Love advice on gardening and the different gar...</td>\n",
              "      <td>Would. recommend this magazine to everyone .</td>\n",
              "      <td>1393372800</td>\n",
              "      <td>{'Format:': ' Print Magazine'}</td>\n",
              "      <td>NaN</td>\n",
              "      <td>Positive</td>\n",
              "      <td>1.0</td>\n",
              "    </tr>\n",
              "    <tr>\n",
              "      <th>24998</th>\n",
              "      <td>5.0</td>\n",
              "      <td>NaN</td>\n",
              "      <td>True</td>\n",
              "      <td>04 4, 2013</td>\n",
              "      <td>AUHOX5LLRIF11</td>\n",
              "      <td>B00005QJE0</td>\n",
              "      <td>Amazon Customer</td>\n",
              "      <td>photos are so good I look at these mags over a...</td>\n",
              "      <td>best gardening magazine</td>\n",
              "      <td>1365033600</td>\n",
              "      <td>{'Format:': ' Print Magazine'}</td>\n",
              "      <td>NaN</td>\n",
              "      <td>Positive</td>\n",
              "      <td>1.0</td>\n",
              "    </tr>\n",
              "    <tr>\n",
              "      <th>24999</th>\n",
              "      <td>5.0</td>\n",
              "      <td>4</td>\n",
              "      <td>True</td>\n",
              "      <td>02 6, 2013</td>\n",
              "      <td>A2P4CPM9S3QBDU</td>\n",
              "      <td>B00005QJE0</td>\n",
              "      <td>Linda W Owen</td>\n",
              "      <td>The English Garden is a wonderful gardening ma...</td>\n",
              "      <td>The English Garden, good magizine for Americans</td>\n",
              "      <td>1360108800</td>\n",
              "      <td>{'Format:': ' Print Magazine'}</td>\n",
              "      <td>NaN</td>\n",
              "      <td>Positive</td>\n",
              "      <td>1.0</td>\n",
              "    </tr>\n",
              "  </tbody>\n",
              "</table>\n",
              "</div>"
            ],
            "text/plain": [
              "       overall vote  verified  ... image Sentiment Binary_Sentiment\n",
              "24995      5.0  NaN      True  ...   NaN  Positive              1.0\n",
              "24996      4.0  NaN      True  ...   NaN  Positive              1.0\n",
              "24997      5.0  NaN      True  ...   NaN  Positive              1.0\n",
              "24998      5.0  NaN      True  ...   NaN  Positive              1.0\n",
              "24999      5.0    4      True  ...   NaN  Positive              1.0\n",
              "\n",
              "[5 rows x 14 columns]"
            ]
          },
          "metadata": {
            "tags": []
          },
          "execution_count": 14
        }
      ]
    },
    {
      "cell_type": "markdown",
      "metadata": {
        "id": "AWk2Yk9F3Cks"
      },
      "source": [
        "# **MODULE-1(STATISTICS)--------------------------------------**"
      ]
    },
    {
      "cell_type": "code",
      "metadata": {
        "id": "bJ3eFK_P-Q4B"
      },
      "source": [
        "from collections import Counter\n",
        "all_data=[\"\".join(str(x).replace(\"'\",\"\")) for x in df['reviewText']]\n",
        "collect_data=\"\"\n",
        "for i in all_data:\n",
        "  collect_data=collect_data+\" \"+i\n",
        "collect_data"
      ],
      "execution_count": null,
      "outputs": []
    },
    {
      "cell_type": "markdown",
      "metadata": {
        "id": "aXbif_XB3Uu0"
      },
      "source": [
        "**1. Text Pre-processing methods:**"
      ]
    },
    {
      "cell_type": "markdown",
      "metadata": {
        "id": "uXDuiGjm3jKt"
      },
      "source": [
        "(i) Removing the punctuations"
      ]
    },
    {
      "cell_type": "code",
      "metadata": {
        "id": "ggU0v0iCDUk6"
      },
      "source": [
        "import re\n",
        "s=str(collect_data)\n",
        "# Remove all non-word characters (everything except numbers and letters)\n",
        "s = re.sub(r\"[^\\w\\s]\", '', s)\n",
        "# replace digits with no space\n",
        "s = re.sub(r\"\\d\", '', s)\n",
        "s=s.replace(\"\\n\", \"\")\n",
        "s"
      ],
      "execution_count": null,
      "outputs": []
    },
    {
      "cell_type": "markdown",
      "metadata": {
        "id": "SIoPfvKx7Kml"
      },
      "source": [
        "(ii)Lowercasing all the words"
      ]
    },
    {
      "cell_type": "code",
      "metadata": {
        "id": "iwJwwt7lr8TH"
      },
      "source": [
        "s=s.lower()\n",
        "s"
      ],
      "execution_count": null,
      "outputs": []
    },
    {
      "cell_type": "markdown",
      "metadata": {
        "id": "k4354yT9Y0RH"
      },
      "source": [
        "(iii)Tokenization"
      ]
    },
    {
      "cell_type": "code",
      "metadata": {
        "id": "LXnsgiH_XFt8"
      },
      "source": [
        "import nltk\n",
        "from nltk.tokenize import word_tokenize\n",
        "from nltk.tokenize import punkt\n",
        "nltk.download('punkt')\n",
        "word_tokens = word_tokenize(s)\n",
        "word_tokens"
      ],
      "execution_count": null,
      "outputs": []
    },
    {
      "cell_type": "markdown",
      "metadata": {
        "id": "RYaUNYpeY3eQ"
      },
      "source": [
        "(iv)Removing stop words\n"
      ]
    },
    {
      "cell_type": "code",
      "metadata": {
        "id": "k5WcRFO4_73b"
      },
      "source": [
        "import nltk\n",
        "from nltk.corpus import stopwords\n",
        "nltk.download('stopwords')\n",
        "print(stopwords.words('english'))"
      ],
      "execution_count": null,
      "outputs": []
    },
    {
      "cell_type": "code",
      "metadata": {
        "id": "sRocAK3EVlW4"
      },
      "source": [
        "stop_words = set(stopwords.words('english'))   \n",
        " \n",
        "filtered_words = []  \n",
        "  \n",
        "for w in word_tokens:  \n",
        "    if w not in stop_words:  \n",
        "        filtered_words.append(w)  \n",
        "  \n",
        "fs = pd.DataFrame(filtered_words)\n",
        "fs\n",
        "filtered_words"
      ],
      "execution_count": null,
      "outputs": []
    },
    {
      "cell_type": "markdown",
      "metadata": {
        "id": "_pIC_j77yk-D"
      },
      "source": [
        "(v)Lemmatization"
      ]
    },
    {
      "cell_type": "code",
      "metadata": {
        "id": "1VWjzfESgKpF"
      },
      "source": [
        "nltk.download('wordnet')\n",
        "from nltk.stem import wordnet \n",
        "from nltk.stem import WordNetLemmatizer\n",
        "word_lemma=WordNetLemmatizer()\n",
        "count=0\n",
        "for words in filtered_words:\n",
        "  lemm_words=word_lemma.lemmatize(words)\n",
        "  print(lemm_words)\n",
        "  count+=1"
      ],
      "execution_count": null,
      "outputs": []
    },
    {
      "cell_type": "code",
      "metadata": {
        "id": "LZ76RNHJrK0u",
        "colab": {
          "base_uri": "https://localhost:8080/"
        },
        "outputId": "e439b286-aa28-47b0-e17f-ee72fb4e98ad"
      },
      "source": [
        "len(filtered_words)"
      ],
      "execution_count": null,
      "outputs": [
        {
          "output_type": "execute_result",
          "data": {
            "text/plain": [
              "590118"
            ]
          },
          "metadata": {
            "tags": []
          },
          "execution_count": 28
        }
      ]
    },
    {
      "cell_type": "code",
      "metadata": {
        "id": "qoY-vtuxuT-x"
      },
      "source": [
        "filtered_sentence_string = (filtered_words)"
      ],
      "execution_count": null,
      "outputs": []
    },
    {
      "cell_type": "code",
      "metadata": {
        "id": "UAW9I28sl4_K"
      },
      "source": [
        "filtered_sentence_string = str(filtered_sentence_string)\n",
        "type(filtered_sentence_string)\n",
        "filtered_sentence_string = re.sub(r\"[^\\w\\s]\", '', filtered_sentence_string)\n",
        "filtered_sentence_string"
      ],
      "execution_count": null,
      "outputs": []
    },
    {
      "cell_type": "markdown",
      "metadata": {
        "id": "nwCOvjnM9U_B"
      },
      "source": [
        "**2(a)Vocabulary size with word frequencies**"
      ]
    },
    {
      "cell_type": "code",
      "metadata": {
        "id": "GQtNmSFsDUVv"
      },
      "source": [
        "#Getting the word frequencies\n",
        "over_all=Counter(filtered_sentence_string.split())\n",
        "total_words=len(filtered_sentence_string.split())\n",
        "sorted_words=over_all.most_common(total_words)  #most frequently used words\n",
        "sorted_words"
      ],
      "execution_count": null,
      "outputs": []
    },
    {
      "cell_type": "markdown",
      "metadata": {
        "id": "V71dk5IiIyc-"
      },
      "source": [
        "VOCAB SIZE\n"
      ]
    },
    {
      "cell_type": "code",
      "metadata": {
        "colab": {
          "base_uri": "https://localhost:8080/"
        },
        "id": "9WENV1R8H8qv",
        "outputId": "95ed13d3-65b0-4a1b-b733-4ed45640ff0e"
      },
      "source": [
        "len(sorted_words)"
      ],
      "execution_count": null,
      "outputs": [
        {
          "output_type": "execute_result",
          "data": {
            "text/plain": [
              "36355"
            ]
          },
          "metadata": {
            "tags": []
          },
          "execution_count": 24
        }
      ]
    },
    {
      "cell_type": "code",
      "metadata": {
        "id": "IDr_Oj9F_wv6"
      },
      "source": [
        "#getting the word frequencies sorted by their RANK\n",
        "convert_vocab_to_int = {w:i+1 for i, (w,c) in enumerate(sorted_words)}\n",
        "convert_vocab_to_int"
      ],
      "execution_count": null,
      "outputs": []
    },
    {
      "cell_type": "markdown",
      "metadata": {
        "id": "A164X4v03QTQ"
      },
      "source": [
        "**2(b)NGrams Generator Function**"
      ]
    },
    {
      "cell_type": "code",
      "metadata": {
        "id": "p0eoCOKjt-ig"
      },
      "source": [
        "from nltk.util import ngrams\n",
        "\n",
        "# Function to generate n-grams from sentences.\n",
        "def extract_ngrams(data, num):\n",
        "    n_grams = ngrams(nltk.word_tokenize(data), num)\n",
        "    return [ ' '.join(grams) for grams in n_grams]\n"
      ],
      "execution_count": null,
      "outputs": []
    },
    {
      "cell_type": "markdown",
      "metadata": {
        "id": "Xva2ueDWvOxp"
      },
      "source": [
        "UniGrams\n"
      ]
    },
    {
      "cell_type": "code",
      "metadata": {
        "id": "yPWiBdYqwLLt",
        "colab": {
          "base_uri": "https://localhost:8080/"
        },
        "outputId": "bb4688b6-d59d-4ee8-8811-748f6f854530"
      },
      "source": [
        "one_gram1 = extract_ngrams(filtered_sentence_string, 1)\n",
        "one_gram1[:20]"
      ],
      "execution_count": null,
      "outputs": [
        {
          "output_type": "execute_result",
          "data": {
            "text/plain": [
              "['computer',\n",
              " 'enthusiast',\n",
              " 'maxpc',\n",
              " 'welcome',\n",
              " 'sight',\n",
              " 'mailbox',\n",
              " 'remember',\n",
              " 'years',\n",
              " 'savorying',\n",
              " 'every',\n",
              " 'page',\n",
              " 'boot',\n",
              " 'called',\n",
              " 'beginning',\n",
              " 'still',\n",
              " 'obcessed',\n",
              " 'pcs',\n",
              " 'anyone',\n",
              " 'advanced',\n",
              " 'users']"
            ]
          },
          "metadata": {
            "tags": []
          },
          "execution_count": 22
        }
      ]
    },
    {
      "cell_type": "markdown",
      "metadata": {
        "id": "xiaPxuELvKXA"
      },
      "source": [
        "Bigrams\n"
      ]
    },
    {
      "cell_type": "code",
      "metadata": {
        "id": "wH1YVXGEwbHB",
        "colab": {
          "base_uri": "https://localhost:8080/"
        },
        "outputId": "bdcbbe5c-120a-43e8-999c-2ab12985aacb"
      },
      "source": [
        "one_gram2 = extract_ngrams(filtered_sentence_string, 2)\n",
        "one_gram2[:20]"
      ],
      "execution_count": null,
      "outputs": [
        {
          "output_type": "execute_result",
          "data": {
            "text/plain": [
              "['computer enthusiast',\n",
              " 'enthusiast maxpc',\n",
              " 'maxpc welcome',\n",
              " 'welcome sight',\n",
              " 'sight mailbox',\n",
              " 'mailbox remember',\n",
              " 'remember years',\n",
              " 'years savorying',\n",
              " 'savorying every',\n",
              " 'every page',\n",
              " 'page boot',\n",
              " 'boot called',\n",
              " 'called beginning',\n",
              " 'beginning still',\n",
              " 'still obcessed',\n",
              " 'obcessed pcs',\n",
              " 'pcs anyone',\n",
              " 'anyone advanced',\n",
              " 'advanced users',\n",
              " 'users beginners']"
            ]
          },
          "metadata": {
            "tags": []
          },
          "execution_count": 23
        }
      ]
    },
    {
      "cell_type": "markdown",
      "metadata": {
        "id": "okXOL8w1aJt7"
      },
      "source": [
        "Trigrams\n"
      ]
    },
    {
      "cell_type": "code",
      "metadata": {
        "id": "7uBsIagvwhS0",
        "colab": {
          "base_uri": "https://localhost:8080/"
        },
        "outputId": "003c4fbb-bc79-462e-fae8-fed9d4eff815"
      },
      "source": [
        "one_gram3 = extract_ngrams(filtered_sentence_string, 3)\n",
        "one_gram3[:20]"
      ],
      "execution_count": null,
      "outputs": [
        {
          "output_type": "execute_result",
          "data": {
            "text/plain": [
              "['computer enthusiast maxpc',\n",
              " 'enthusiast maxpc welcome',\n",
              " 'maxpc welcome sight',\n",
              " 'welcome sight mailbox',\n",
              " 'sight mailbox remember',\n",
              " 'mailbox remember years',\n",
              " 'remember years savorying',\n",
              " 'years savorying every',\n",
              " 'savorying every page',\n",
              " 'every page boot',\n",
              " 'page boot called',\n",
              " 'boot called beginning',\n",
              " 'called beginning still',\n",
              " 'beginning still obcessed',\n",
              " 'still obcessed pcs',\n",
              " 'obcessed pcs anyone',\n",
              " 'pcs anyone advanced',\n",
              " 'anyone advanced users',\n",
              " 'advanced users beginners',\n",
              " 'users beginners looking']"
            ]
          },
          "metadata": {
            "tags": []
          },
          "execution_count": 24
        }
      ]
    },
    {
      "cell_type": "markdown",
      "metadata": {
        "id": "_ZOt91HkaRk7"
      },
      "source": [
        "Ngrams ( N = 4 )"
      ]
    },
    {
      "cell_type": "code",
      "metadata": {
        "id": "ErttCw2Jwmgk",
        "colab": {
          "base_uri": "https://localhost:8080/"
        },
        "outputId": "1c606aec-80fa-435c-f7d4-95154793efab"
      },
      "source": [
        "one_gram4 = extract_ngrams(filtered_sentence_string, 4)\n",
        "one_gram4[:20]"
      ],
      "execution_count": null,
      "outputs": [
        {
          "output_type": "execute_result",
          "data": {
            "text/plain": [
              "['computer enthusiast maxpc welcome',\n",
              " 'enthusiast maxpc welcome sight',\n",
              " 'maxpc welcome sight mailbox',\n",
              " 'welcome sight mailbox remember',\n",
              " 'sight mailbox remember years',\n",
              " 'mailbox remember years savorying',\n",
              " 'remember years savorying every',\n",
              " 'years savorying every page',\n",
              " 'savorying every page boot',\n",
              " 'every page boot called',\n",
              " 'page boot called beginning',\n",
              " 'boot called beginning still',\n",
              " 'called beginning still obcessed',\n",
              " 'beginning still obcessed pcs',\n",
              " 'still obcessed pcs anyone',\n",
              " 'obcessed pcs anyone advanced',\n",
              " 'pcs anyone advanced users',\n",
              " 'anyone advanced users beginners',\n",
              " 'advanced users beginners looking',\n",
              " 'users beginners looking knowledge']"
            ]
          },
          "metadata": {
            "tags": []
          },
          "execution_count": 25
        }
      ]
    },
    {
      "cell_type": "markdown",
      "metadata": {
        "id": "sY5BhmWIw3Bg"
      },
      "source": [
        "**2(c)POS collections**"
      ]
    },
    {
      "cell_type": "code",
      "metadata": {
        "id": "f63atNw6wVth"
      },
      "source": [
        "#POS tags\n",
        "nltk.download('averaged_perceptron_tagger')\n",
        "for tokens in filtered_words:\n",
        "  tags=nltk.pos_tag([tokens])\n",
        "  print(tags)"
      ],
      "execution_count": null,
      "outputs": []
    },
    {
      "cell_type": "code",
      "metadata": {
        "id": "KKloNLHKytw-"
      },
      "source": [
        "#NER chunks\n",
        "from nltk import ne_chunk\n",
        "nltk.download('maxent_ne_chunker')\n",
        "nltk.download('words')\n",
        "\n",
        "for tokens in filtered_words:\n",
        "  tags=nltk.pos_tag([tokens])\n",
        "  print(ne_chunk(tags))\n"
      ],
      "execution_count": null,
      "outputs": []
    },
    {
      "cell_type": "markdown",
      "metadata": {
        "id": "oSjWS1Y-kHNs"
      },
      "source": [
        "**3. ZIPF'S LAW**"
      ]
    },
    {
      "cell_type": "code",
      "metadata": {
        "id": "RIqSf5b9kF_l"
      },
      "source": [
        "freq_list = []\n",
        "rank_list = []\n",
        "for x in range(len(sorted_words)):\n",
        "    freq_list.append(sorted_words[x][1])\n",
        "    rank_list.append(x+1)"
      ],
      "execution_count": null,
      "outputs": []
    },
    {
      "cell_type": "code",
      "metadata": {
        "id": "bgihCAnlkLoM"
      },
      "source": [
        "import numpy as np\n",
        "\n",
        "x = (rank_list) #1,2,\n",
        "y = np.log2(freq_list)\n",
        "xmean = np.mean(x)\n",
        "ymean = np.mean(y)\n",
        "x_xmean = x - xmean\n",
        "y_ymean = y - ymean\n",
        "covariance = sum(x_xmean * y_ymean)\n",
        "variance = sum(x_xmean * x_xmean)\n",
        "\n",
        "def getYhat(input_x):\n",
        "        input_x = np.array(input_x)\n",
        "        return intercept + slope * input_x    \n",
        "\n",
        "def getCoefficients():\n",
        "        slope = covariance/variance\n",
        "        intercept = ymean - (xmean * slope)\n",
        "        return intercept, slope"
      ],
      "execution_count": null,
      "outputs": []
    },
    {
      "cell_type": "code",
      "metadata": {
        "colab": {
          "base_uri": "https://localhost:8080/"
        },
        "id": "pR-Yfj1DkPdS",
        "outputId": "bb7ef7a2-3af5-49ea-f883-8397f7909db7"
      },
      "source": [
        "print(freq_list[0],y[0],x[1])"
      ],
      "execution_count": null,
      "outputs": [
        {
          "output_type": "stream",
          "text": [
            "44998 15.45757325978724 2\n"
          ],
          "name": "stdout"
        }
      ]
    },
    {
      "cell_type": "code",
      "metadata": {
        "id": "TJ9_pLNdkSZu"
      },
      "source": [
        "from sklearn.model_selection import train_test_split\n",
        "X_train, X_test, y_train, y_test = train_test_split( x, y, test_size=0.33, random_state=42)"
      ],
      "execution_count": null,
      "outputs": []
    },
    {
      "cell_type": "code",
      "metadata": {
        "colab": {
          "base_uri": "https://localhost:8080/"
        },
        "id": "-yPQ-qqBkWFf",
        "outputId": "5ebe7f79-559a-4904-cf35-312d296d06fc"
      },
      "source": [
        "from sklearn.linear_model import LinearRegression\n",
        "regressor = LinearRegression()\n",
        "regressor.fit(np.reshape(X_train,(-1,1)), np.reshape(y_train,(-1,1)))"
      ],
      "execution_count": null,
      "outputs": [
        {
          "output_type": "execute_result",
          "data": {
            "text/plain": [
              "LinearRegression(copy_X=True, fit_intercept=True, n_jobs=None, normalize=False)"
            ]
          },
          "metadata": {
            "tags": []
          },
          "execution_count": 17
        }
      ]
    },
    {
      "cell_type": "code",
      "metadata": {
        "colab": {
          "base_uri": "https://localhost:8080/"
        },
        "id": "BItiGBNZkaDB",
        "outputId": "e5caed02-bc6f-4356-bc99-9e2c6209e668"
      },
      "source": [
        "print(regressor.intercept_)"
      ],
      "execution_count": null,
      "outputs": [
        {
          "output_type": "stream",
          "text": [
            "[3.71316796]\n"
          ],
          "name": "stdout"
        }
      ]
    },
    {
      "cell_type": "code",
      "metadata": {
        "colab": {
          "base_uri": "https://localhost:8080/"
        },
        "id": "nlM0HlsqkaK9",
        "outputId": "e70ae2eb-578f-4c79-8b0e-4263012a6ff0"
      },
      "source": [
        "print(regressor.coef_)"
      ],
      "execution_count": null,
      "outputs": [
        {
          "output_type": "stream",
          "text": [
            "[[-0.00011966]]\n"
          ],
          "name": "stdout"
        }
      ]
    },
    {
      "cell_type": "code",
      "metadata": {
        "colab": {
          "base_uri": "https://localhost:8080/",
          "height": 284
        },
        "id": "Py8BQcNikfAB",
        "outputId": "62008879-5cac-4230-f5b6-bfff6d73e241"
      },
      "source": [
        "import matplotlib.pyplot as plt\n",
        "plt.plot(y,np.log2(x))"
      ],
      "execution_count": null,
      "outputs": [
        {
          "output_type": "execute_result",
          "data": {
            "text/plain": [
              "[<matplotlib.lines.Line2D at 0x7fdec8a7f750>]"
            ]
          },
          "metadata": {
            "tags": []
          },
          "execution_count": 20
        },
        {
          "output_type": "display_data",
          "data": {
            "image/png": "[encoded data removed]",
            "text/plain": [
              "<Figure size 432x288 with 1 Axes>"
            ]
          },
          "metadata": {
            "tags": [],
            "needs_background": "light"
          }
        }
      ]
    },
    {
      "cell_type": "code",
      "metadata": {
        "id": "KPBfZUCtZzLD"
      },
      "source": [
        "#Calculate the frequency of the words inside\n",
        "from operator import itemgetter\n",
        "frequency = {}\n",
        "for word in one_gram1 :\n",
        "    count = frequency.get(word , 0)\n",
        "    frequency[ word ] = count + 1\n",
        "\n",
        "rank = 1\n",
        "column_header = ['Rank', 'Frequency', 'Frequency * Rank']\n",
        "df2 = pd.DataFrame( columns = column_header )\n",
        "collection = sorted(frequency.items(), key=itemgetter(1), reverse = True)"
      ],
      "execution_count": null,
      "outputs": []
    },
    {
      "cell_type": "code",
      "metadata": {
        "id": "Ro-CYJi4Z2FA",
        "colab": {
          "base_uri": "https://localhost:8080/"
        },
        "outputId": "d86ac7af-5b95-476c-b6e2-c04b53088f37"
      },
      "source": [
        "for word , freq in collection:\n",
        "    df2.loc[word] = [rank, freq, rank*freq]\n",
        "    rank = rank + 1\n",
        "print ([df2])"
      ],
      "execution_count": null,
      "outputs": [
        {
          "output_type": "stream",
          "text": [
            "[               Rank Frequency Frequency * Rank\n",
            "magazine          1     19924            19924\n",
            "great             2      6696            13392\n",
            "articles          3      5891            17673\n",
            "like              4      5094            20376\n",
            "good              5      4953            24765\n",
            "...             ...       ...              ...\n",
            "resurrection  36351         1            36351\n",
            "britaini      36352         1            36352\n",
            "cultivation   36353         1            36353\n",
            "analyzes      36354         1            36354\n",
            "booksthe      36355         1            36355\n",
            "\n",
            "[36355 rows x 3 columns]]\n"
          ],
          "name": "stdout"
        }
      ]
    },
    {
      "cell_type": "code",
      "metadata": {
        "id": "wx7kpPEx9A96",
        "colab": {
          "base_uri": "https://localhost:8080/",
          "height": 1000
        },
        "outputId": "a32400cc-cf79-4b7b-8959-62de817b5f1e"
      },
      "source": [
        "#visualization with pyplot\n",
        "plt.figure(figsize=(20,20))  #to increase the plot resolution\n",
        "plt.ylabel(\"Frequency\")\n",
        "plt.xlabel(\"Words\")\n",
        "plt.xticks(rotation=90)    #to rotate x-axis values\n",
        "\n",
        "for word , freq in collection[:30]:\n",
        "    plt.bar(word, freq)    \n",
        "plt.show()"
      ],
      "execution_count": null,
      "outputs": [
        {
          "output_type": "display_data",
          "data": {
            "image/png": "[encoded data removed]",
            "text/plain": [
              "<Figure size 1440x1440 with 1 Axes>"
            ]
          },
          "metadata": {
            "tags": [],
            "needs_background": "light"
          }
        }
      ]
    },
    {
      "cell_type": "code",
      "metadata": {
        "id": "2drJ6TCa2fYt",
        "colab": {
          "base_uri": "https://localhost:8080/",
          "height": 197
        },
        "outputId": "f9479b62-54fe-4a54-c693-c51fd027fd9c"
      },
      "source": [
        "df2.tail()"
      ],
      "execution_count": null,
      "outputs": [
        {
          "output_type": "execute_result",
          "data": {
            "text/html": [
              "<div>\n",
              "<style scoped>\n",
              "    .dataframe tbody tr th:only-of-type {\n",
              "        vertical-align: middle;\n",
              "    }\n",
              "\n",
              "    .dataframe tbody tr th {\n",
              "        vertical-align: top;\n",
              "    }\n",
              "\n",
              "    .dataframe thead th {\n",
              "        text-align: right;\n",
              "    }\n",
              "</style>\n",
              "<table border=\"1\" class=\"dataframe\">\n",
              "  <thead>\n",
              "    <tr style=\"text-align: right;\">\n",
              "      <th></th>\n",
              "      <th>Rank</th>\n",
              "      <th>Frequency</th>\n",
              "      <th>Frequency * Rank</th>\n",
              "    </tr>\n",
              "  </thead>\n",
              "  <tbody>\n",
              "    <tr>\n",
              "      <th>resurrection</th>\n",
              "      <td>36351</td>\n",
              "      <td>1</td>\n",
              "      <td>36351</td>\n",
              "    </tr>\n",
              "    <tr>\n",
              "      <th>britaini</th>\n",
              "      <td>36352</td>\n",
              "      <td>1</td>\n",
              "      <td>36352</td>\n",
              "    </tr>\n",
              "    <tr>\n",
              "      <th>cultivation</th>\n",
              "      <td>36353</td>\n",
              "      <td>1</td>\n",
              "      <td>36353</td>\n",
              "    </tr>\n",
              "    <tr>\n",
              "      <th>analyzes</th>\n",
              "      <td>36354</td>\n",
              "      <td>1</td>\n",
              "      <td>36354</td>\n",
              "    </tr>\n",
              "    <tr>\n",
              "      <th>booksthe</th>\n",
              "      <td>36355</td>\n",
              "      <td>1</td>\n",
              "      <td>36355</td>\n",
              "    </tr>\n",
              "  </tbody>\n",
              "</table>\n",
              "</div>"
            ],
            "text/plain": [
              "               Rank Frequency Frequency * Rank\n",
              "resurrection  36351         1            36351\n",
              "britaini      36352         1            36352\n",
              "cultivation   36353         1            36353\n",
              "analyzes      36354         1            36354\n",
              "booksthe      36355         1            36355"
            ]
          },
          "metadata": {
            "tags": []
          },
          "execution_count": 39
        }
      ]
    },
    {
      "cell_type": "markdown",
      "metadata": {
        "id": "Zf_-Eq9M2loi"
      },
      "source": [
        "**4. Set of terms describing the corpus best**"
      ]
    },
    {
      "cell_type": "code",
      "metadata": {
        "id": "B5So2ByV-h8f"
      },
      "source": [
        "counts = [(w, one_gram1.count(w)) for w in one_gram1[:10000] ]\n",
        "counts"
      ],
      "execution_count": null,
      "outputs": []
    },
    {
      "cell_type": "code",
      "metadata": {
        "id": "p7F41bW3ZoXw"
      },
      "source": [
        "[(w, c) for (w, c) in counts if c > 3000]"
      ],
      "execution_count": null,
      "outputs": []
    }
  ]
}