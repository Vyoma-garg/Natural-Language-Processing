{
  "nbformat": 4,
  "nbformat_minor": 0,
  "metadata": {
    "colab": {
      "name": "Q/A_Covid-19_RASA_Chatbot.ipynb",
      "provenance": [],
      "collapsed_sections": [],
      "include_colab_link": true
    },
    "kernelspec": {
      "name": "python3",
      "display_name": "Python 3"
    },
    "language_info": {
      "name": "python"
    }
  },
  "cells": [
    {
      "cell_type": "markdown",
      "metadata": {
        "id": "view-in-github",
        "colab_type": "text"
      },
      "source": [
        "<a href=\"https://colab.research.google.com/github/Vyoma-garg/Natural-Language-Processing/blob/main/Q_A_Covid_19_RASA_Chatbot.ipynb\" target=\"_parent\"><img src=\"https://colab.research.google.com/assets/colab-badge.svg\" alt=\"Open In Colab\"/></a>"
      ]
    },
    {
      "cell_type": "markdown",
      "metadata": {
        "id": "mXS9vUg3Q4yl"
      },
      "source": [
        "# **RASA Chatbot**"
      ]
    },
    {
      "cell_type": "code",
      "metadata": {
        "colab": {
          "base_uri": "https://localhost:8080/"
        },
        "id": "0SMxYmwxPJg3",
        "outputId": "d822aaed-1efa-4d19-f95b-996509219788"
      },
      "source": [
        "!pip install -U ipython"
      ],
      "execution_count": null,
      "outputs": [
        {
          "output_type": "stream",
          "text": [
            "Requirement already up-to-date: ipython in /usr/local/lib/python3.7/dist-packages (7.23.1)\n",
            "Requirement already satisfied, skipping upgrade: prompt-toolkit!=3.0.0,!=3.0.1,<3.1.0,>=2.0.0 in /usr/local/lib/python3.7/dist-packages (from ipython) (2.0.10)\n",
            "Requirement already satisfied, skipping upgrade: pygments in /usr/local/lib/python3.7/dist-packages (from ipython) (2.6.1)\n",
            "Requirement already satisfied, skipping upgrade: jedi>=0.16 in /usr/local/lib/python3.7/dist-packages (from ipython) (0.18.0)\n",
            "Requirement already satisfied, skipping upgrade: backcall in /usr/local/lib/python3.7/dist-packages (from ipython) (0.2.0)\n",
            "Requirement already satisfied, skipping upgrade: traitlets>=4.2 in /usr/local/lib/python3.7/dist-packages (from ipython) (5.0.5)\n",
            "Requirement already satisfied, skipping upgrade: setuptools>=18.5 in /usr/local/lib/python3.7/dist-packages (from ipython) (56.1.0)\n",
            "Requirement already satisfied, skipping upgrade: pexpect>4.3; sys_platform != \"win32\" in /usr/local/lib/python3.7/dist-packages (from ipython) (4.8.0)\n",
            "Requirement already satisfied, skipping upgrade: pickleshare in /usr/local/lib/python3.7/dist-packages (from ipython) (0.7.5)\n",
            "Requirement already satisfied, skipping upgrade: matplotlib-inline in /usr/local/lib/python3.7/dist-packages (from ipython) (0.1.2)\n",
            "Requirement already satisfied, skipping upgrade: decorator in /usr/local/lib/python3.7/dist-packages (from ipython) (4.4.2)\n",
            "Requirement already satisfied, skipping upgrade: wcwidth in /usr/local/lib/python3.7/dist-packages (from prompt-toolkit!=3.0.0,!=3.0.1,<3.1.0,>=2.0.0->ipython) (0.2.5)\n",
            "Requirement already satisfied, skipping upgrade: six>=1.9.0 in /usr/local/lib/python3.7/dist-packages (from prompt-toolkit!=3.0.0,!=3.0.1,<3.1.0,>=2.0.0->ipython) (1.15.0)\n",
            "Requirement already satisfied, skipping upgrade: parso<0.9.0,>=0.8.0 in /usr/local/lib/python3.7/dist-packages (from jedi>=0.16->ipython) (0.8.2)\n",
            "Requirement already satisfied, skipping upgrade: ipython-genutils in /usr/local/lib/python3.7/dist-packages (from traitlets>=4.2->ipython) (0.2.0)\n",
            "Requirement already satisfied, skipping upgrade: ptyprocess>=0.5 in /usr/local/lib/python3.7/dist-packages (from pexpect>4.3; sys_platform != \"win32\"->ipython) (0.7.0)\n"
          ],
          "name": "stdout"
        }
      ]
    },
    {
      "cell_type": "code",
      "metadata": {
        "colab": {
          "base_uri": "https://localhost:8080/",
          "height": 1000
        },
        "id": "xL3f3PquPrbw",
        "outputId": "c08fb8e6-d836-45ac-aeb0-c41d8b64ff6e"
      },
      "source": [
        "!pip install rasa==1.10.3"
      ],
      "execution_count": null,
      "outputs": [
        {
          "output_type": "stream",
          "text": [
            "Collecting rasa==1.10.3\n",
            "\u001b[?25l  Downloading https://files.pythonhosted.org/packages/83/b9/925b3d011b4e7940115946ff4dcc4adf21d9e038cd733ee01a45a345d993/rasa-1.10.3-py3-none-any.whl (510kB)\n",
            "\u001b[K     |████████████████████████████████| 512kB 4.0MB/s \n",
            "\u001b[?25hCollecting boto3<2.0,>=1.12\n",
            "\u001b[?25l  Downloading https://files.pythonhosted.org/packages/5b/a9/3fb9677877f805bf9eedc63e76eca90a902291ceb062950b5e81c24309d2/boto3-1.17.78.tar.gz (98kB)\n",
            "\u001b[K     |████████████████████████████████| 102kB 8.9MB/s \n",
            "\u001b[?25hRequirement already satisfied: scikit-learn<0.23,>=0.22 in /usr/local/lib/python3.7/dist-packages (from rasa==1.10.3) (0.22.2.post1)\n",
            "Collecting jsonpickle<1.5,>=1.3\n",
            "  Downloading https://files.pythonhosted.org/packages/ee/d5/1cc282dc23346a43aab461bf2e8c36593aacd34242bee1a13fa750db0cfe/jsonpickle-1.4.2-py2.py3-none-any.whl\n",
            "Collecting ruamel.yaml<0.17,>=0.16\n",
            "\u001b[?25l  Downloading https://files.pythonhosted.org/packages/ed/c3/4c823dac2949a6baf36a4987d04c50d30184147393ba6f4bfb4c67d15a13/ruamel.yaml-0.16.13-py2.py3-none-any.whl (111kB)\n",
            "\u001b[K     |████████████████████████████████| 112kB 21.0MB/s \n",
            "\u001b[?25hCollecting aiohttp<3.7,>=3.6\n",
            "\u001b[?25l  Downloading https://files.pythonhosted.org/packages/12/a2/ca3ba17c50ebeb3e7473330d8d1ce08fb83506a9bc985bcc0716354d2018/aiohttp-3.6.3-cp37-cp37m-manylinux1_x86_64.whl (1.2MB)\n",
            "\u001b[K     |████████████████████████████████| 1.2MB 18.7MB/s \n",
            "\u001b[?25hCollecting tensorflow-addons<0.8.0,>=0.7.1\n",
            "\u001b[?25l  Downloading https://files.pythonhosted.org/packages/7e/c0/ce4a4551adfbf66939bda5394fc4b828d8463f32fade18ad9e8995268cc2/tensorflow_addons-0.7.1-cp37-cp37m-manylinux2010_x86_64.whl (990kB)\n",
            "\u001b[K     |████████████████████████████████| 993kB 31.2MB/s \n",
            "\u001b[?25hCollecting jsonschema<3.3,>=3.2\n",
            "\u001b[?25l  Downloading https://files.pythonhosted.org/packages/c5/8f/51e89ce52a085483359217bc72cdbf6e75ee595d5b1d4b5ade40c7e018b8/jsonschema-3.2.0-py2.py3-none-any.whl (56kB)\n",
            "\u001b[K     |████████████████████████████████| 61kB 7.7MB/s \n",
            "\u001b[?25hRequirement already satisfied: numpy<2.0,>=1.16 in /usr/local/lib/python3.7/dist-packages (from rasa==1.10.3) (1.19.5)\n",
            "Collecting twilio<6.27,>=6.26\n",
            "\u001b[?25l  Downloading https://files.pythonhosted.org/packages/23/e6/630676e9749be27879957dcac080dbafa2a8bf2cf47db3f7247862dd6277/twilio-6.26.3-py2.py3-none-any.whl (979kB)\n",
            "\u001b[K     |████████████████████████████████| 983kB 37.5MB/s \n",
            "\u001b[?25hCollecting networkx<2.5.0,>=2.4.0\n",
            "\u001b[?25l  Downloading https://files.pythonhosted.org/packages/41/8f/dd6a8e85946def36e4f2c69c84219af0fa5e832b018c970e92f2ad337e45/networkx-2.4-py3-none-any.whl (1.6MB)\n",
            "\u001b[K     |████████████████████████████████| 1.6MB 40.7MB/s \n",
            "\u001b[?25hCollecting sklearn-crfsuite<0.4,>=0.3\n",
            "  Downloading https://files.pythonhosted.org/packages/25/74/5b7befa513482e6dee1f3dd68171a6c9dfc14c0eaa00f885ffeba54fe9b0/sklearn_crfsuite-0.3.6-py2.py3-none-any.whl\n",
            "Collecting rocketchat_API<1.4.0,>=0.6.31\n",
            "  Downloading https://files.pythonhosted.org/packages/42/12/055da56d3eb5012bb02c806ad4f3549d910147a10dee7ce4b89ccf23f388/rocketchat_API-1.3.1-py3-none-any.whl\n",
            "Collecting sanic-cors<0.11.0,>=0.10.0b1\n",
            "  Downloading https://files.pythonhosted.org/packages/2d/33/5e1776669aa62dd9c65e3513425077915acb1758d6b19f08f830f27ce9a8/Sanic_Cors-0.10.0.post3-py2.py3-none-any.whl\n",
            "Requirement already satisfied: async_generator<1.11,>=1.10 in /usr/local/lib/python3.7/dist-packages (from rasa==1.10.3) (1.10)\n",
            "Collecting SQLAlchemy<1.4.0,>=1.3.3\n",
            "\u001b[?25l  Downloading https://files.pythonhosted.org/packages/31/44/a86070dda790ce94cd7d9fb9281cd614c7d30850ed774ace9a84d0d5d491/SQLAlchemy-1.3.24-cp37-cp37m-manylinux2010_x86_64.whl (1.3MB)\n",
            "\u001b[K     |████████████████████████████████| 1.3MB 38.5MB/s \n",
            "\u001b[?25hCollecting python-socketio<4.6,>=4.4\n",
            "\u001b[?25l  Downloading https://files.pythonhosted.org/packages/10/cb/631c0b713daea3938e66d4c0923e88f3c0b57b026f860ea76e0337bc9c7a/python_socketio-4.5.1-py2.py3-none-any.whl (51kB)\n",
            "\u001b[K     |████████████████████████████████| 61kB 8.3MB/s \n",
            "\u001b[?25hCollecting multidict<5.0,>=4.6\n",
            "\u001b[?25l  Downloading https://files.pythonhosted.org/packages/85/b8/a9fe777dab4c6aa067b516a34fe995213707e490ea1e72f823949a830a6a/multidict-4.7.6-cp37-cp37m-manylinux1_x86_64.whl (149kB)\n",
            "\u001b[K     |████████████████████████████████| 153kB 39.6MB/s \n",
            "\u001b[?25hCollecting pydot<1.5,>=1.4\n",
            "  Downloading https://files.pythonhosted.org/packages/ea/76/75b1bb82e9bad3e3d656556eaa353d8cd17c4254393b08ec9786ac8ed273/pydot-1.4.2-py2.py3-none-any.whl\n",
            "Collecting redis<4.0,>=3.4\n",
            "\u001b[?25l  Downloading https://files.pythonhosted.org/packages/a7/7c/24fb0511df653cf1a5d938d8f5d19802a88cef255706fdda242ff97e91b7/redis-3.5.3-py2.py3-none-any.whl (72kB)\n",
            "\u001b[K     |████████████████████████████████| 81kB 10.6MB/s \n",
            "\u001b[?25hCollecting tensorflow_hub<0.9,>=0.7\n",
            "\u001b[?25l  Downloading https://files.pythonhosted.org/packages/fb/9d/d5772f94e31431cdb56a8bb2c34d8839bb7d7621f2a5959f4ef43207d7ac/tensorflow_hub-0.8.0-py2.py3-none-any.whl (101kB)\n",
            "\u001b[K     |████████████████████████████████| 102kB 12.2MB/s \n",
            "\u001b[?25hRequirement already satisfied: tqdm<4.46,>=4.31 in /usr/local/lib/python3.7/dist-packages (from rasa==1.10.3) (4.41.1)\n",
            "Collecting ujson<3.0,>=1.35\n",
            "\u001b[?25l  Downloading https://files.pythonhosted.org/packages/90/da/be6a03bfa6346803cd2549d82af02ac485bfabf666caec52bf6be5cf9f3e/ujson-2.0.3-cp37-cp37m-manylinux1_x86_64.whl (174kB)\n",
            "\u001b[K     |████████████████████████████████| 184kB 39.5MB/s \n",
            "\u001b[?25hCollecting questionary<1.6.0,>=1.5.1\n",
            "  Downloading https://files.pythonhosted.org/packages/05/7d/61b7d0da15bb50e7239c870771320026447b7e2d9490ee96f49dddd3ef0d/questionary-1.5.2-py3-none-any.whl\n",
            "Requirement already satisfied: scipy<2.0.0,>=1.4.1 in /usr/local/lib/python3.7/dist-packages (from rasa==1.10.3) (1.4.1)\n",
            "Collecting webexteamssdk<1.4.0,>=1.1.1\n",
            "\u001b[?25l  Downloading https://files.pythonhosted.org/packages/0e/99/0e5d4ed08d14853ddf9e076beee5f8e524d22dc0fca06ef08bf952c683d7/webexteamssdk-1.3.tar.gz (56kB)\n",
            "\u001b[K     |████████████████████████████████| 61kB 7.7MB/s \n",
            "\u001b[?25hRequirement already satisfied: matplotlib<3.3,>=3.1 in /usr/local/lib/python3.7/dist-packages (from rasa==1.10.3) (3.2.2)\n",
            "Collecting rasa-sdk<2.0.0,>=1.10.0\n",
            "  Downloading https://files.pythonhosted.org/packages/a9/ae/6c143f2815d1bc3f363dbd0afb7a29cbd65dd19c5f04afb79f1a114ebe9a/rasa_sdk-1.10.3-py3-none-any.whl\n",
            "Collecting fbmessenger<6.1.0,>=6.0.0\n",
            "  Downloading https://files.pythonhosted.org/packages/bd/e9/646684226176782b9e3b7dd5b35d7ecfd1d13cba24ad2e33255079921aab/fbmessenger-6.0.0-py2.py3-none-any.whl\n",
            "Collecting prompt-toolkit<3.0,>=2.0\n",
            "\u001b[?25l  Downloading https://files.pythonhosted.org/packages/87/61/2dfea88583d5454e3a64f9308a686071d58d59a55db638268a6413e1eb6d/prompt_toolkit-2.0.10-py3-none-any.whl (340kB)\n",
            "\u001b[K     |████████████████████████████████| 348kB 37.4MB/s \n",
            "\u001b[?25hCollecting pykwalify<1.8.0,>=1.7.0\n",
            "\u001b[?25l  Downloading https://files.pythonhosted.org/packages/36/9f/612de8ca540bd24d604f544248c4c46e9db76f6ea5eb75fb4244da6ebbf0/pykwalify-1.7.0-py2.py3-none-any.whl (40kB)\n",
            "\u001b[K     |████████████████████████████████| 40kB 5.9MB/s \n",
            "\u001b[?25hCollecting sanic-jwt<1.5.0,>=1.3.2\n",
            "  Downloading https://files.pythonhosted.org/packages/ed/ca/61b5c31074890ae62cfd00edc940450a9575d46371a92974301595b18edf/sanic-jwt-1.4.1.tar.gz\n",
            "Collecting sanic<20.0.0,>=19.12.2\n",
            "\u001b[?25l  Downloading https://files.pythonhosted.org/packages/45/62/02562dd4afe1b8a5f3f97517308a4628a6d0b56517970d538250a91bba5d/sanic-19.12.5-py3-none-any.whl (73kB)\n",
            "\u001b[K     |████████████████████████████████| 81kB 8.6MB/s \n",
            "\u001b[?25hCollecting pymongo[srv,tls]<3.9.0,>=3.8.0\n",
            "\u001b[?25l  Downloading https://files.pythonhosted.org/packages/ee/f9/c748aa7807dafcc5eade282db46e16242b15dfe951da10ff434fd22ca282/pymongo-3.8.0-cp37-cp37m-manylinux1_x86_64.whl (417kB)\n",
            "\u001b[K     |████████████████████████████████| 419kB 39.0MB/s \n",
            "\u001b[?25hCollecting coloredlogs<11.0,>=10.0\n",
            "\u001b[?25l  Downloading https://files.pythonhosted.org/packages/08/0f/7877fc42fff0b9d70b6442df62d53b3868d3a6ad1b876bdb54335b30ff23/coloredlogs-10.0-py2.py3-none-any.whl (47kB)\n",
            "\u001b[K     |████████████████████████████████| 51kB 6.1MB/s \n",
            "\u001b[?25hCollecting tensorflow<2.2,>=2.1\n",
            "\u001b[?25l  Downloading https://files.pythonhosted.org/packages/c2/09/c1a9d3a3ebc995b4dc787e206f8bb97291710e8d9f8c66acf6075fbab622/tensorflow-2.1.3-cp37-cp37m-manylinux2010_x86_64.whl (421.9MB)\n",
            "\u001b[K     |████████████████████████████████| 421.9MB 33kB/s \n",
            "\u001b[?25hRequirement already satisfied: oauth2client==4.1.3 in /usr/local/lib/python3.7/dist-packages (from rasa==1.10.3) (4.1.3)\n",
            "Collecting absl-py<0.10,>=0.9\n",
            "\u001b[?25l  Downloading https://files.pythonhosted.org/packages/1a/53/9243c600e047bd4c3df9e69cfabc1e8004a82cac2e0c484580a78a94ba2a/absl-py-0.9.0.tar.gz (104kB)\n",
            "\u001b[K     |████████████████████████████████| 112kB 50.2MB/s \n",
            "\u001b[?25hCollecting slackclient<3.0.0,>=2.0.0\n",
            "\u001b[?25l  Downloading https://files.pythonhosted.org/packages/ed/27/de9ce989d0964518152e1a164b08971c77a173b051a153e50220f1a963d9/slackclient-2.9.3-py2.py3-none-any.whl (96kB)\n",
            "\u001b[K     |████████████████████████████████| 102kB 11.6MB/s \n",
            "\u001b[?25hCollecting apscheduler<3.7,>=3.6\n",
            "\u001b[?25l  Downloading https://files.pythonhosted.org/packages/f3/34/9ef20ed473c4fd2c3df54ef77a27ae3fc7500b16b192add4720cab8b2c09/APScheduler-3.6.3-py2.py3-none-any.whl (58kB)\n",
            "\u001b[K     |████████████████████████████████| 61kB 7.1MB/s \n",
            "\u001b[?25hCollecting mattermostwrapper<2.3,>=2.2\n",
            "  Downloading https://files.pythonhosted.org/packages/d7/fd/f1ce046ddaeffa5073f87d7800c27ad2c8e543e924a8418675c64aea6a14/mattermostwrapper-2.2.tar.gz\n",
            "Collecting psycopg2-binary<2.9.0,>=2.8.2\n",
            "\u001b[?25l  Downloading https://files.pythonhosted.org/packages/6d/45/c519a5cfac05e14b1ccb242138915855293199840598e087b935ba1d86bc/psycopg2_binary-2.8.6-cp37-cp37m-manylinux1_x86_64.whl (3.0MB)\n",
            "\u001b[K     |████████████████████████████████| 3.0MB 36.7MB/s \n",
            "\u001b[?25hCollecting gevent<1.6,>=1.4\n",
            "\u001b[?25l  Downloading https://files.pythonhosted.org/packages/c4/41/4740e0b8c4b20dbc7beeba8d3f5c4f16a3b3afd01cfadad02bd7ca86f2ea/gevent-1.5.0-cp37-cp37m-manylinux2010_x86_64.whl (5.1MB)\n",
            "\u001b[K     |████████████████████████████████| 5.1MB 34.4MB/s \n",
            "\u001b[?25hCollecting kafka-python<2.0,>=1.4\n",
            "\u001b[?25l  Downloading https://files.pythonhosted.org/packages/49/c9/9863483a1353700ba87821b4f39085eb18fd1bcbb1e954c697177d67f03f/kafka_python-1.4.7-py2.py3-none-any.whl (266kB)\n",
            "\u001b[K     |████████████████████████████████| 266kB 53.2MB/s \n",
            "\u001b[?25hCollecting tensorflow-estimator==2.1.0\n",
            "\u001b[?25l  Downloading https://files.pythonhosted.org/packages/18/90/b77c328a1304437ab1310b463e533fa7689f4bfc41549593056d812fab8e/tensorflow_estimator-2.1.0-py2.py3-none-any.whl (448kB)\n",
            "\u001b[K     |████████████████████████████████| 450kB 40.4MB/s \n",
            "\u001b[?25hCollecting tensorflow-probability<0.10,>=0.7\n",
            "\u001b[?25l  Downloading https://files.pythonhosted.org/packages/9b/ed/f587d64127bbb85e539f06a2aace1240b7b5c6b4267bea94f232230551a5/tensorflow_probability-0.9.0-py2.py3-none-any.whl (3.2MB)\n",
            "\u001b[K     |████████████████████████████████| 3.2MB 37.8MB/s \n",
            "\u001b[?25hCollecting colorhash<1.1.0,>=1.0.2\n",
            "  Downloading https://files.pythonhosted.org/packages/ce/73/e867cd41ab0c15b26f89b0382527e525a2bee8f80ef7ac619fbe16f6ece6/colorhash-1.0.3-py3-none-any.whl\n",
            "Collecting python-engineio<3.13,>=3.11\n",
            "\u001b[?25l  Downloading https://files.pythonhosted.org/packages/6c/aa/c975982df73c4bcd087732db14b05306e8a3f3f24596cc18647746539290/python_engineio-3.12.1-py2.py3-none-any.whl (49kB)\n",
            "\u001b[K     |████████████████████████████████| 51kB 7.1MB/s \n",
            "\u001b[?25hRequirement already satisfied: requests<3.0,>=2.23 in /usr/local/lib/python3.7/dist-packages (from rasa==1.10.3) (2.23.0)\n",
            "Requirement already satisfied: setuptools>=41.0.0 in /usr/local/lib/python3.7/dist-packages (from rasa==1.10.3) (56.1.0)\n",
            "Collecting colorclass<2.3,>=2.2\n",
            "  Downloading https://files.pythonhosted.org/packages/37/ea/ae8dbb956939d4392e6a7fdef87fda273854da1128edae016c4104240be8/colorclass-2.2.0.tar.gz\n",
            "Collecting pika<1.2.0,>=1.1.0\n",
            "\u001b[?25l  Downloading https://files.pythonhosted.org/packages/a1/ae/8bedf0e9f1c0c5d046db3a7428a4227fe36ec1b8e25607f3c38ac9bf513c/pika-1.1.0-py2.py3-none-any.whl (148kB)\n",
            "\u001b[K     |████████████████████████████████| 153kB 48.8MB/s \n",
            "\u001b[?25hRequirement already satisfied: python-dateutil<2.9,>=2.8 in /usr/local/lib/python3.7/dist-packages (from rasa==1.10.3) (2.8.1)\n",
            "Requirement already satisfied: cloudpickle<1.4,>=1.2 in /usr/local/lib/python3.7/dist-packages (from rasa==1.10.3) (1.3.0)\n",
            "Requirement already satisfied: packaging<21.0,>=20.0 in /usr/local/lib/python3.7/dist-packages (from rasa==1.10.3) (20.9)\n",
            "Collecting PyJWT<1.8,>=1.7\n",
            "  Downloading https://files.pythonhosted.org/packages/87/8b/6a9f14b5f781697e51259d81657e6048fd31a113229cf346880bb7545565/PyJWT-1.7.1-py2.py3-none-any.whl\n",
            "Collecting python-telegram-bot<13.0,>=11.1\n",
            "\u001b[?25l  Downloading https://files.pythonhosted.org/packages/a6/2d/c72fc9a28144277f6170f2fcbfd3bd9427943497522b2689846596eb86cf/python_telegram_bot-12.8-py2.py3-none-any.whl (375kB)\n",
            "\u001b[K     |████████████████████████████████| 378kB 47.2MB/s \n",
            "\u001b[?25hCollecting pytz<2020.0,>=2019.1\n",
            "\u001b[?25l  Downloading https://files.pythonhosted.org/packages/e7/f9/f0b53f88060247251bf481fa6ea62cd0d25bf1b11a87888e53ce5b7c8ad2/pytz-2019.3-py2.py3-none-any.whl (509kB)\n",
            "\u001b[K     |████████████████████████████████| 512kB 35.9MB/s \n",
            "\u001b[?25hCollecting attrs<19.4,>=19.3\n",
            "  Downloading https://files.pythonhosted.org/packages/a2/db/4313ab3be961f7a763066401fb77f7748373b6094076ae2bda2806988af6/attrs-19.3.0-py2.py3-none-any.whl\n",
            "Collecting terminaltables<3.2.0,>=3.1.0\n",
            "  Downloading https://files.pythonhosted.org/packages/9b/c4/4a21174f32f8a7e1104798c445dacdc1d4df86f2f26722767034e4de4bff/terminaltables-3.1.0.tar.gz\n",
            "Collecting botocore<1.21.0,>=1.20.78\n",
            "\u001b[?25l  Downloading https://files.pythonhosted.org/packages/b4/9e/b5c2ba127c653d22b5b9a48b173fb3e12f3bafc4f6c52004fa737157e63b/botocore-1.20.78-py2.py3-none-any.whl (7.5MB)\n",
            "\u001b[K     |████████████████████████████████| 7.6MB 21.0MB/s \n",
            "\u001b[?25hCollecting jmespath<1.0.0,>=0.7.1\n",
            "  Downloading https://files.pythonhosted.org/packages/07/cb/5f001272b6faeb23c1c9e0acc04d48eaaf5c862c17709d20e3469c6e0139/jmespath-0.10.0-py2.py3-none-any.whl\n",
            "Collecting s3transfer<0.5.0,>=0.4.0\n",
            "\u001b[?25l  Downloading https://files.pythonhosted.org/packages/63/d0/693477c688348654ddc21dcdce0817653a294aa43f41771084c25e7ff9c7/s3transfer-0.4.2-py2.py3-none-any.whl (79kB)\n",
            "\u001b[K     |████████████████████████████████| 81kB 7.3MB/s \n",
            "\u001b[?25hRequirement already satisfied: joblib>=0.11 in /usr/local/lib/python3.7/dist-packages (from scikit-learn<0.23,>=0.22->rasa==1.10.3) (1.0.1)\n",
            "Requirement already satisfied: importlib-metadata; python_version < \"3.8\" in /usr/local/lib/python3.7/dist-packages (from jsonpickle<1.5,>=1.3->rasa==1.10.3) (4.0.1)\n",
            "Collecting ruamel.yaml.clib>=0.1.2; platform_python_implementation == \"CPython\" and python_version < \"3.10\"\n",
            "\u001b[?25l  Downloading https://files.pythonhosted.org/packages/5e/6e/f652c56bbb2c3d3fca252ffc7c0358597f57a1bbdf484dac683054950c63/ruamel.yaml.clib-0.2.2-cp37-cp37m-manylinux1_x86_64.whl (547kB)\n",
            "\u001b[K     |████████████████████████████████| 552kB 34.6MB/s \n",
            "\u001b[?25hRequirement already satisfied: chardet<4.0,>=2.0 in /usr/local/lib/python3.7/dist-packages (from aiohttp<3.7,>=3.6->rasa==1.10.3) (3.0.4)\n",
            "Collecting yarl<1.6.0,>=1.0\n",
            "\u001b[?25l  Downloading https://files.pythonhosted.org/packages/5b/1c/556b99a3a11916e05cd2128367f507dc330fc30ed1f5991e1ffe4dabf635/yarl-1.5.1-cp37-cp37m-manylinux1_x86_64.whl (258kB)\n",
            "\u001b[K     |████████████████████████████████| 266kB 42.3MB/s \n",
            "\u001b[?25hCollecting async-timeout<4.0,>=3.0\n",
            "  Downloading https://files.pythonhosted.org/packages/e1/1e/5a4441be21b0726c4464f3f23c8b19628372f606755a9d2e46c187e65ec4/async_timeout-3.0.1-py3-none-any.whl\n",
            "Requirement already satisfied: six>=1.11.0 in /usr/local/lib/python3.7/dist-packages (from jsonschema<3.3,>=3.2->rasa==1.10.3) (1.15.0)\n",
            "Requirement already satisfied: pyrsistent>=0.14.0 in /usr/local/lib/python3.7/dist-packages (from jsonschema<3.3,>=3.2->rasa==1.10.3) (0.17.3)\n",
            "Requirement already satisfied: pysocks; python_version >= \"3.0\" in /usr/local/lib/python3.7/dist-packages (from twilio<6.27,>=6.26->rasa==1.10.3) (1.7.1)\n",
            "Requirement already satisfied: decorator>=4.3.0 in /usr/local/lib/python3.7/dist-packages (from networkx<2.5.0,>=2.4.0->rasa==1.10.3) (4.4.2)\n",
            "Collecting python-crfsuite>=0.8.3\n",
            "\u001b[?25l  Downloading https://files.pythonhosted.org/packages/79/47/58f16c46506139f17de4630dbcfb877ce41a6355a1bbf3c443edb9708429/python_crfsuite-0.9.7-cp37-cp37m-manylinux1_x86_64.whl (743kB)\n",
            "\u001b[K     |████████████████████████████████| 747kB 28.9MB/s \n",
            "\u001b[?25hRequirement already satisfied: tabulate in /usr/local/lib/python3.7/dist-packages (from sklearn-crfsuite<0.4,>=0.3->rasa==1.10.3) (0.8.9)\n",
            "Collecting sanic-plugins-framework>=0.9.0\n",
            "  Downloading https://files.pythonhosted.org/packages/06/19/b8770ed083f405d00235080d697ad59adbfe92195e32cc649bbe0af5ab20/Sanic_Plugins_Framework-0.9.5-py2.py3-none-any.whl\n",
            "Requirement already satisfied: pyparsing>=2.1.4 in /usr/local/lib/python3.7/dist-packages (from pydot<1.5,>=1.4->rasa==1.10.3) (2.4.7)\n",
            "Requirement already satisfied: protobuf>=3.8.0 in /usr/local/lib/python3.7/dist-packages (from tensorflow_hub<0.9,>=0.7->rasa==1.10.3) (3.12.4)\n",
            "Requirement already satisfied: future in /usr/local/lib/python3.7/dist-packages (from webexteamssdk<1.4.0,>=1.1.1->rasa==1.10.3) (0.16.0)\n",
            "Collecting requests-toolbelt\n",
            "\u001b[?25l  Downloading https://files.pythonhosted.org/packages/60/ef/7681134338fc097acef8d9b2f8abe0458e4d87559c689a8c306d0957ece5/requests_toolbelt-0.9.1-py2.py3-none-any.whl (54kB)\n",
            "\u001b[K     |████████████████████████████████| 61kB 7.4MB/s \n",
            "\u001b[?25hRequirement already satisfied: kiwisolver>=1.0.1 in /usr/local/lib/python3.7/dist-packages (from matplotlib<3.3,>=3.1->rasa==1.10.3) (1.3.1)\n",
            "Requirement already satisfied: cycler>=0.10 in /usr/local/lib/python3.7/dist-packages (from matplotlib<3.3,>=3.1->rasa==1.10.3) (0.10.0)\n",
            "Requirement already satisfied: wcwidth in /usr/local/lib/python3.7/dist-packages (from prompt-toolkit<3.0,>=2.0->rasa==1.10.3) (0.2.5)\n",
            "Requirement already satisfied: PyYAML>=3.11 in /usr/local/lib/python3.7/dist-packages (from pykwalify<1.8.0,>=1.7.0->rasa==1.10.3) (3.13)\n",
            "Requirement already satisfied: docopt>=0.6.2 in /usr/local/lib/python3.7/dist-packages (from pykwalify<1.8.0,>=1.7.0->rasa==1.10.3) (0.6.2)\n",
            "Collecting aiofiles>=0.3.0\n",
            "  Downloading https://files.pythonhosted.org/packages/e7/61/007ac6f27fe1c2dc44d3a62f429a8440de1601428b4d0291eae1a3494d1f/aiofiles-0.7.0-py3-none-any.whl\n",
            "Collecting httpx==0.9.3\n",
            "\u001b[?25l  Downloading https://files.pythonhosted.org/packages/d5/17/3f1ec0593b38c82069e745c849114267e980c9fb1254a27ab50f72040251/httpx-0.9.3-py2.py3-none-any.whl (64kB)\n",
            "\u001b[K     |████████████████████████████████| 71kB 7.7MB/s \n",
            "\u001b[?25hCollecting websockets<9.0,>=7.0\n",
            "\u001b[?25l  Downloading https://files.pythonhosted.org/packages/5a/0b/3ebc752392a368af14dd24ee041683416ac6d2463eead94b311b11e41c82/websockets-8.1-cp37-cp37m-manylinux2010_x86_64.whl (79kB)\n",
            "\u001b[K     |████████████████████████████████| 81kB 9.4MB/s \n",
            "\u001b[?25hCollecting httptools>=0.0.10\n",
            "\u001b[?25l  Downloading https://files.pythonhosted.org/packages/4c/87/ebb92639705924aac5ed6aa91bd4332b20d7180f3e94bd168742e7671025/httptools-0.2.0-cp37-cp37m-manylinux1_x86_64.whl (344kB)\n",
            "\u001b[K     |████████████████████████████████| 348kB 45.5MB/s \n",
            "\u001b[?25hCollecting uvloop<0.15.0,>=0.5.3; sys_platform != \"win32\" and implementation_name == \"cpython\"\n",
            "\u001b[?25l  Downloading https://files.pythonhosted.org/packages/9b/7a/54a80c03b555af21680a2f3692947b43a0d576d90c4c18cace0fee1ccc0e/uvloop-0.14.0-cp37-cp37m-manylinux2010_x86_64.whl (3.8MB)\n",
            "\u001b[K     |████████████████████████████████| 3.8MB 29.1MB/s \n",
            "\u001b[?25hCollecting dnspython<2.0.0,>=1.13.0; extra == \"srv\"\n",
            "\u001b[?25l  Downloading https://files.pythonhosted.org/packages/ec/d3/3aa0e7213ef72b8585747aa0e271a9523e713813b9a20177ebe1e939deb0/dnspython-1.16.0-py2.py3-none-any.whl (188kB)\n",
            "\u001b[K     |████████████████████████████████| 194kB 43.2MB/s \n",
            "\u001b[?25hCollecting humanfriendly>=4.7\n",
            "\u001b[?25l  Downloading https://files.pythonhosted.org/packages/93/66/363d01a81da2108a5cf446daf619779f06d49a0c4426dd02b40734f10e2f/humanfriendly-9.1-py2.py3-none-any.whl (86kB)\n",
            "\u001b[K     |████████████████████████████████| 92kB 402kB/s \n",
            "\u001b[?25hRequirement already satisfied: termcolor>=1.1.0 in /usr/local/lib/python3.7/dist-packages (from tensorflow<2.2,>=2.1->rasa==1.10.3) (1.1.0)\n",
            "Requirement already satisfied: grpcio>=1.8.6 in /usr/local/lib/python3.7/dist-packages (from tensorflow<2.2,>=2.1->rasa==1.10.3) (1.32.0)\n",
            "Collecting gast==0.2.2\n",
            "  Downloading https://files.pythonhosted.org/packages/4e/35/11749bf99b2d4e3cceb4d55ca22590b0d7c2c62b9de38ac4a4a7f4687421/gast-0.2.2.tar.gz\n",
            "Requirement already satisfied: astor>=0.6.0 in /usr/local/lib/python3.7/dist-packages (from tensorflow<2.2,>=2.1->rasa==1.10.3) (0.8.1)\n",
            "Requirement already satisfied: wrapt>=1.11.1 in /usr/local/lib/python3.7/dist-packages (from tensorflow<2.2,>=2.1->rasa==1.10.3) (1.12.1)\n",
            "Requirement already satisfied: wheel>=0.26; python_version >= \"3\" in /usr/local/lib/python3.7/dist-packages (from tensorflow<2.2,>=2.1->rasa==1.10.3) (0.36.2)\n",
            "Collecting keras-applications>=1.0.8\n",
            "\u001b[?25l  Downloading https://files.pythonhosted.org/packages/71/e3/19762fdfc62877ae9102edf6342d71b28fbfd9dea3d2f96a882ce099b03f/Keras_Applications-1.0.8-py3-none-any.whl (50kB)\n",
            "\u001b[K     |████████████████████████████████| 51kB 6.1MB/s \n",
            "\u001b[?25hRequirement already satisfied: opt-einsum>=2.3.2 in /usr/local/lib/python3.7/dist-packages (from tensorflow<2.2,>=2.1->rasa==1.10.3) (3.3.0)\n",
            "Requirement already satisfied: h5py<=2.10.0 in /usr/local/lib/python3.7/dist-packages (from tensorflow<2.2,>=2.1->rasa==1.10.3) (2.10.0)\n",
            "Requirement already satisfied: google-pasta>=0.1.6 in /usr/local/lib/python3.7/dist-packages (from tensorflow<2.2,>=2.1->rasa==1.10.3) (0.2.0)\n",
            "Collecting keras-preprocessing==1.1.0\n",
            "\u001b[?25l  Downloading https://files.pythonhosted.org/packages/28/6a/8c1f62c37212d9fc441a7e26736df51ce6f0e38455816445471f10da4f0a/Keras_Preprocessing-1.1.0-py2.py3-none-any.whl (41kB)\n",
            "\u001b[K     |████████████████████████████████| 51kB 5.2MB/s \n",
            "\u001b[?25hCollecting tensorboard<2.2.0,>=2.1.0\n",
            "\u001b[?25l  Downloading https://files.pythonhosted.org/packages/d9/41/bbf49b61370e4f4d245d4c6051dfb6db80cec672605c91b1652ac8cc3d38/tensorboard-2.1.1-py3-none-any.whl (3.8MB)\n",
            "\u001b[K     |████████████████████████████████| 3.9MB 24.7MB/s \n",
            "\u001b[?25hRequirement already satisfied: httplib2>=0.9.1 in /usr/local/lib/python3.7/dist-packages (from oauth2client==4.1.3->rasa==1.10.3) (0.17.4)\n",
            "Requirement already satisfied: pyasn1-modules>=0.0.5 in /usr/local/lib/python3.7/dist-packages (from oauth2client==4.1.3->rasa==1.10.3) (0.2.8)\n",
            "Requirement already satisfied: rsa>=3.1.4 in /usr/local/lib/python3.7/dist-packages (from oauth2client==4.1.3->rasa==1.10.3) (4.7.2)\n",
            "Requirement already satisfied: pyasn1>=0.1.7 in /usr/local/lib/python3.7/dist-packages (from oauth2client==4.1.3->rasa==1.10.3) (0.4.8)\n",
            "Requirement already satisfied: tzlocal>=1.2 in /usr/local/lib/python3.7/dist-packages (from apscheduler<3.7,>=3.6->rasa==1.10.3) (1.5.1)\n",
            "Requirement already satisfied: greenlet>=0.4.14; platform_python_implementation == \"CPython\" in /usr/local/lib/python3.7/dist-packages (from gevent<1.6,>=1.4->rasa==1.10.3) (1.1.0)\n",
            "Requirement already satisfied: urllib3!=1.25.0,!=1.25.1,<1.26,>=1.21.1 in /usr/local/lib/python3.7/dist-packages (from requests<3.0,>=2.23->rasa==1.10.3) (1.24.3)\n",
            "Requirement already satisfied: certifi>=2017.4.17 in /usr/local/lib/python3.7/dist-packages (from requests<3.0,>=2.23->rasa==1.10.3) (2020.12.5)\n",
            "Requirement already satisfied: idna<3,>=2.5 in /usr/local/lib/python3.7/dist-packages (from requests<3.0,>=2.23->rasa==1.10.3) (2.10)\n",
            "Requirement already satisfied: tornado>=5.1 in /usr/local/lib/python3.7/dist-packages (from python-telegram-bot<13.0,>=11.1->rasa==1.10.3) (5.1.1)\n",
            "Collecting cryptography\n",
            "\u001b[?25l  Downloading https://files.pythonhosted.org/packages/b2/26/7af637e6a7e87258b963f1731c5982fb31cd507f0d90d91836e446955d02/cryptography-3.4.7-cp36-abi3-manylinux2014_x86_64.whl (3.2MB)\n",
            "\u001b[K     |████████████████████████████████| 3.2MB 27.1MB/s \n",
            "\u001b[?25hRequirement already satisfied: zipp>=0.5 in /usr/local/lib/python3.7/dist-packages (from importlib-metadata; python_version < \"3.8\"->jsonpickle<1.5,>=1.3->rasa==1.10.3) (3.4.1)\n",
            "Requirement already satisfied: typing-extensions>=3.6.4; python_version < \"3.8\" in /usr/local/lib/python3.7/dist-packages (from importlib-metadata; python_version < \"3.8\"->jsonpickle<1.5,>=1.3->rasa==1.10.3) (3.7.4.3)\n",
            "Collecting h11==0.8.*\n",
            "\u001b[?25l  Downloading https://files.pythonhosted.org/packages/f9/f3/8e4cf5fa1a3d8bda942a0b1cf92f87815494216fd439f82eb99073141ba0/h11-0.8.1-py2.py3-none-any.whl (55kB)\n",
            "\u001b[K     |████████████████████████████████| 61kB 7.4MB/s \n",
            "\u001b[?25hCollecting rfc3986<2,>=1.3\n",
            "  Downloading https://files.pythonhosted.org/packages/c4/e5/63ca2c4edf4e00657584608bee1001302bbf8c5f569340b78304f2f446cb/rfc3986-1.5.0-py2.py3-none-any.whl\n",
            "Collecting h2==3.*\n",
            "\u001b[?25l  Downloading https://files.pythonhosted.org/packages/25/de/da019bcc539eeab02f6d45836f23858ac467f584bfec7a526ef200242afe/h2-3.2.0-py2.py3-none-any.whl (65kB)\n",
            "\u001b[K     |████████████████████████████████| 71kB 9.6MB/s \n",
            "\u001b[?25hCollecting sniffio==1.*\n",
            "  Downloading https://files.pythonhosted.org/packages/52/b0/7b2e028b63d092804b6794595871f936aafa5e9322dcaaad50ebf67445b3/sniffio-1.2.0-py3-none-any.whl\n",
            "Collecting hstspreload\n",
            "\u001b[?25l  Downloading https://files.pythonhosted.org/packages/dd/50/606213e12fb49c5eb667df0936223dcaf461f94e215ea60244b2b1e9b039/hstspreload-2020.12.22-py3-none-any.whl (994kB)\n",
            "\u001b[K     |████████████████████████████████| 1.0MB 29.2MB/s \n",
            "\u001b[?25hRequirement already satisfied: google-auth<2,>=1.6.3 in /usr/local/lib/python3.7/dist-packages (from tensorboard<2.2.0,>=2.1.0->tensorflow<2.2,>=2.1->rasa==1.10.3) (1.30.0)\n",
            "Requirement already satisfied: markdown>=2.6.8 in /usr/local/lib/python3.7/dist-packages (from tensorboard<2.2.0,>=2.1.0->tensorflow<2.2,>=2.1->rasa==1.10.3) (3.3.4)\n",
            "Requirement already satisfied: google-auth-oauthlib<0.5,>=0.4.1 in /usr/local/lib/python3.7/dist-packages (from tensorboard<2.2.0,>=2.1.0->tensorflow<2.2,>=2.1->rasa==1.10.3) (0.4.4)\n",
            "Requirement already satisfied: werkzeug>=0.11.15 in /usr/local/lib/python3.7/dist-packages (from tensorboard<2.2.0,>=2.1.0->tensorflow<2.2,>=2.1->rasa==1.10.3) (2.0.0)\n",
            "Requirement already satisfied: cffi>=1.12 in /usr/local/lib/python3.7/dist-packages (from cryptography->python-telegram-bot<13.0,>=11.1->rasa==1.10.3) (1.14.5)\n",
            "Collecting hpack<4,>=3.0\n",
            "  Downloading https://files.pythonhosted.org/packages/8a/cc/e53517f4a1e13f74776ca93271caef378dadec14d71c61c949d759d3db69/hpack-3.0.0-py2.py3-none-any.whl\n",
            "Collecting hyperframe<6,>=5.2.0\n",
            "  Downloading https://files.pythonhosted.org/packages/19/0c/bf88182bcb5dce3094e2f3e4fe20db28a9928cb7bd5b08024030e4b140db/hyperframe-5.2.0-py2.py3-none-any.whl\n",
            "Requirement already satisfied: cachetools<5.0,>=2.0.0 in /usr/local/lib/python3.7/dist-packages (from google-auth<2,>=1.6.3->tensorboard<2.2.0,>=2.1.0->tensorflow<2.2,>=2.1->rasa==1.10.3) (4.2.2)\n",
            "Requirement already satisfied: requests-oauthlib>=0.7.0 in /usr/local/lib/python3.7/dist-packages (from google-auth-oauthlib<0.5,>=0.4.1->tensorboard<2.2.0,>=2.1.0->tensorflow<2.2,>=2.1->rasa==1.10.3) (1.3.0)\n",
            "Requirement already satisfied: pycparser in /usr/local/lib/python3.7/dist-packages (from cffi>=1.12->cryptography->python-telegram-bot<13.0,>=11.1->rasa==1.10.3) (2.20)\n",
            "Requirement already satisfied: oauthlib>=3.0.0 in /usr/local/lib/python3.7/dist-packages (from requests-oauthlib>=0.7.0->google-auth-oauthlib<0.5,>=0.4.1->tensorboard<2.2.0,>=2.1.0->tensorflow<2.2,>=2.1->rasa==1.10.3) (3.1.0)\n",
            "Building wheels for collected packages: boto3, webexteamssdk, sanic-jwt, absl-py, mattermostwrapper, colorclass, terminaltables, gast\n",
            "  Building wheel for boto3 (setup.py) ... \u001b[?25l\u001b[?25hdone\n",
            "  Created wheel for boto3: filename=boto3-1.17.78-py2.py3-none-any.whl size=128921 sha256=716e4246f3a652a39635237a4c8f924b3099d7fdaf1d049c1800b4fda5f5d6bf\n",
            "  Stored in directory: /root/.cache/pip/wheels/35/4e/0b/65ce88240e97b158d4a062630f6815337a79cd64bbc61bbd1e\n",
            "  Building wheel for webexteamssdk (setup.py) ... \u001b[?25l\u001b[?25hdone\n",
            "  Created wheel for webexteamssdk: filename=webexteamssdk-1.3-cp37-none-any.whl size=99584 sha256=768adc34df0f2c1e2c497009ddf78a8c3cc480ee5c515b34f24f7e5f5e8a9183\n",
            "  Stored in directory: /root/.cache/pip/wheels/67/0c/40/a86821ed5e4ff74c9b031cb4504f2e929752573c452cd2a1d8\n",
            "  Building wheel for sanic-jwt (setup.py) ... \u001b[?25l\u001b[?25hdone\n",
            "  Created wheel for sanic-jwt: filename=sanic_jwt-1.4.1-cp37-none-any.whl size=21614 sha256=3cf663ea13233009ae221d2c82bbb04c6557f719effadbe326db9410893e8bda\n",
            "  Stored in directory: /root/.cache/pip/wheels/4d/f7/9b/a6ff52d9805d0bca73082fb43a2dd46283138d83fd453a62fb\n",
            "  Building wheel for absl-py (setup.py) ... \u001b[?25l\u001b[?25hdone\n",
            "  Created wheel for absl-py: filename=absl_py-0.9.0-cp37-none-any.whl size=121931 sha256=6bf66558079f87cb8d8c66dc7fa3adab5c410a6a1e3746b49f73c351c31f3d12\n",
            "  Stored in directory: /root/.cache/pip/wheels/8e/28/49/fad4e7f0b9a1227708cbbee4487ac8558a7334849cb81c813d\n",
            "  Building wheel for mattermostwrapper (setup.py) ... \u001b[?25l\u001b[?25hdone\n",
            "  Created wheel for mattermostwrapper: filename=mattermostwrapper-2.2-cp37-none-any.whl size=2467 sha256=cc02b176a3a31f9b3c0f104a9ea8f163c142b5674a9edbebb87c806caa8f6451\n",
            "  Stored in directory: /root/.cache/pip/wheels/c5/47/19/47188b3036316651250c4f7df23d59a3b524c82921bfb6daa3\n",
            "  Building wheel for colorclass (setup.py) ... \u001b[?25l\u001b[?25hdone\n",
            "  Created wheel for colorclass: filename=colorclass-2.2.0-cp37-none-any.whl size=19396 sha256=50b6fbd1a19d79e99f8d396f7092752fc61115f84e9668781ddae5c1dfa7546a\n",
            "  Stored in directory: /root/.cache/pip/wheels/d1/86/9d/16127127306a92d7fd30267890a5634026c045391979c4c317\n",
            "  Building wheel for terminaltables (setup.py) ... \u001b[?25l\u001b[?25hdone\n",
            "  Created wheel for terminaltables: filename=terminaltables-3.1.0-cp37-none-any.whl size=15356 sha256=8fed48183c28f0d598509595a7a4564f9276e945e7ba0bebdec0229cdd027de5\n",
            "  Stored in directory: /root/.cache/pip/wheels/30/6b/50/6c75775b681fb36cdfac7f19799888ef9d8813aff9e379663e\n",
            "  Building wheel for gast (setup.py) ... \u001b[?25l\u001b[?25hdone\n",
            "  Created wheel for gast: filename=gast-0.2.2-cp37-none-any.whl size=7540 sha256=294c7a6a20d72d23537792b192407b690ff8b9430a79c805f3d51c4cbee55f88\n",
            "  Stored in directory: /root/.cache/pip/wheels/5c/2e/7e/a1d4d4fcebe6c381f378ce7743a3ced3699feb89bcfbdadadd\n",
            "Successfully built boto3 webexteamssdk sanic-jwt absl-py mattermostwrapper colorclass terminaltables gast\n",
            "\u001b[31mERROR: tensorflow 2.1.3 has requirement numpy<1.19.0,>=1.16.0, but you'll have numpy 1.19.5 which is incompatible.\u001b[0m\n",
            "\u001b[31mERROR: nbclient 0.5.3 has requirement jupyter-client>=6.1.5, but you'll have jupyter-client 5.3.5 which is incompatible.\u001b[0m\n",
            "\u001b[31mERROR: jupyter-console 5.2.0 has requirement prompt-toolkit<2.0.0,>=1.0.0, but you'll have prompt-toolkit 2.0.10 which is incompatible.\u001b[0m\n",
            "\u001b[31mERROR: google-colab 1.0.0 has requirement ipython~=5.5.0, but you'll have ipython 7.23.1 which is incompatible.\u001b[0m\n",
            "\u001b[31mERROR: datascience 0.10.6 has requirement folium==0.2.1, but you'll have folium 0.8.3 which is incompatible.\u001b[0m\n",
            "\u001b[31mERROR: albumentations 0.1.12 has requirement imgaug<0.2.7,>=0.2.5, but you'll have imgaug 0.2.9 which is incompatible.\u001b[0m\n",
            "\u001b[31mERROR: botocore 1.20.78 has requirement urllib3<1.27,>=1.25.4, but you'll have urllib3 1.24.3 which is incompatible.\u001b[0m\n",
            "\u001b[31mERROR: sanic 19.12.5 has requirement multidict==5.0.0, but you'll have multidict 4.7.6 which is incompatible.\u001b[0m\n",
            "Installing collected packages: jmespath, botocore, s3transfer, boto3, jsonpickle, ruamel.yaml.clib, ruamel.yaml, multidict, yarl, async-timeout, attrs, aiohttp, tensorflow-estimator, gast, keras-applications, keras-preprocessing, absl-py, tensorboard, tensorflow, tensorflow-addons, jsonschema, PyJWT, pytz, twilio, networkx, python-crfsuite, sklearn-crfsuite, rocketchat-API, aiofiles, h11, rfc3986, hpack, hyperframe, h2, sniffio, hstspreload, httpx, ujson, websockets, httptools, uvloop, sanic, sanic-plugins-framework, sanic-cors, SQLAlchemy, python-engineio, python-socketio, pydot, redis, tensorflow-hub, prompt-toolkit, questionary, requests-toolbelt, webexteamssdk, humanfriendly, coloredlogs, rasa-sdk, fbmessenger, pykwalify, sanic-jwt, dnspython, pymongo, slackclient, apscheduler, mattermostwrapper, psycopg2-binary, gevent, kafka-python, tensorflow-probability, colorhash, colorclass, pika, cryptography, python-telegram-bot, terminaltables, rasa\n",
            "  Found existing installation: attrs 21.2.0\n",
            "    Uninstalling attrs-21.2.0:\n",
            "      Successfully uninstalled attrs-21.2.0\n",
            "  Found existing installation: tensorflow-estimator 2.4.0\n",
            "    Uninstalling tensorflow-estimator-2.4.0:\n",
            "      Successfully uninstalled tensorflow-estimator-2.4.0\n",
            "  Found existing installation: gast 0.3.3\n",
            "    Uninstalling gast-0.3.3:\n",
            "      Successfully uninstalled gast-0.3.3\n",
            "  Found existing installation: Keras-Preprocessing 1.1.2\n",
            "    Uninstalling Keras-Preprocessing-1.1.2:\n",
            "      Successfully uninstalled Keras-Preprocessing-1.1.2\n",
            "  Found existing installation: absl-py 0.12.0\n",
            "    Uninstalling absl-py-0.12.0:\n",
            "      Successfully uninstalled absl-py-0.12.0\n",
            "  Found existing installation: tensorboard 2.4.1\n",
            "    Uninstalling tensorboard-2.4.1:\n",
            "      Successfully uninstalled tensorboard-2.4.1\n",
            "  Found existing installation: tensorflow 2.4.1\n",
            "    Uninstalling tensorflow-2.4.1:\n",
            "      Successfully uninstalled tensorflow-2.4.1\n",
            "  Found existing installation: jsonschema 2.6.0\n",
            "    Uninstalling jsonschema-2.6.0:\n",
            "      Successfully uninstalled jsonschema-2.6.0\n",
            "  Found existing installation: pytz 2018.9\n",
            "    Uninstalling pytz-2018.9:\n",
            "      Successfully uninstalled pytz-2018.9\n",
            "  Found existing installation: networkx 2.5.1\n",
            "    Uninstalling networkx-2.5.1:\n",
            "      Successfully uninstalled networkx-2.5.1\n",
            "  Found existing installation: SQLAlchemy 1.4.15\n",
            "    Uninstalling SQLAlchemy-1.4.15:\n",
            "      Successfully uninstalled SQLAlchemy-1.4.15\n",
            "  Found existing installation: pydot 1.3.0\n",
            "    Uninstalling pydot-1.3.0:\n",
            "      Successfully uninstalled pydot-1.3.0\n",
            "  Found existing installation: tensorflow-hub 0.12.0\n",
            "    Uninstalling tensorflow-hub-0.12.0:\n",
            "      Successfully uninstalled tensorflow-hub-0.12.0\n",
            "  Found existing installation: prompt-toolkit 3.0.18\n",
            "    Uninstalling prompt-toolkit-3.0.18:\n",
            "      Successfully uninstalled prompt-toolkit-3.0.18\n",
            "  Found existing installation: pymongo 3.11.4\n",
            "    Uninstalling pymongo-3.11.4:\n",
            "      Successfully uninstalled pymongo-3.11.4\n",
            "  Found existing installation: tensorflow-probability 0.12.1\n",
            "    Uninstalling tensorflow-probability-0.12.1:\n",
            "      Successfully uninstalled tensorflow-probability-0.12.1\n",
            "Successfully installed PyJWT-1.7.1 SQLAlchemy-1.3.24 absl-py-0.9.0 aiofiles-0.7.0 aiohttp-3.6.3 apscheduler-3.6.3 async-timeout-3.0.1 attrs-19.3.0 boto3-1.17.78 botocore-1.20.78 colorclass-2.2.0 coloredlogs-10.0 colorhash-1.0.3 cryptography-3.4.7 dnspython-1.16.0 fbmessenger-6.0.0 gast-0.2.2 gevent-1.5.0 h11-0.8.1 h2-3.2.0 hpack-3.0.0 hstspreload-2020.12.22 httptools-0.2.0 httpx-0.9.3 humanfriendly-9.1 hyperframe-5.2.0 jmespath-0.10.0 jsonpickle-1.4.2 jsonschema-3.2.0 kafka-python-1.4.7 keras-applications-1.0.8 keras-preprocessing-1.1.0 mattermostwrapper-2.2 multidict-4.7.6 networkx-2.4 pika-1.1.0 prompt-toolkit-2.0.10 psycopg2-binary-2.8.6 pydot-1.4.2 pykwalify-1.7.0 pymongo-3.8.0 python-crfsuite-0.9.7 python-engineio-3.12.1 python-socketio-4.5.1 python-telegram-bot-12.8 pytz-2019.3 questionary-1.5.2 rasa-1.10.3 rasa-sdk-1.10.3 redis-3.5.3 requests-toolbelt-0.9.1 rfc3986-1.5.0 rocketchat-API-1.3.1 ruamel.yaml-0.16.13 ruamel.yaml.clib-0.2.2 s3transfer-0.4.2 sanic-19.12.5 sanic-cors-0.10.0.post3 sanic-jwt-1.4.1 sanic-plugins-framework-0.9.5 sklearn-crfsuite-0.3.6 slackclient-2.9.3 sniffio-1.2.0 tensorboard-2.1.1 tensorflow-2.1.3 tensorflow-addons-0.7.1 tensorflow-estimator-2.1.0 tensorflow-hub-0.8.0 tensorflow-probability-0.9.0 terminaltables-3.1.0 twilio-6.26.3 ujson-2.0.3 uvloop-0.14.0 webexteamssdk-1.3 websockets-8.1 yarl-1.5.1\n"
          ],
          "name": "stdout"
        },
        {
          "output_type": "display_data",
          "data": {
            "application/vnd.colab-display-data+json": {
              "pip_warning": {
                "packages": [
                  "prompt_toolkit",
                  "pytz"
                ]
              }
            }
          },
          "metadata": {
            "tags": []
          }
        }
      ]
    },
    {
      "cell_type": "code",
      "metadata": {
        "colab": {
          "base_uri": "https://localhost:8080/"
        },
        "id": "XCx4Ef7QP9dD",
        "outputId": "25c4d125-4c75-42f0-af67-4e2625ea2e1e"
      },
      "source": [
        "!pip install nest_asyncio==1.3.3"
      ],
      "execution_count": null,
      "outputs": [
        {
          "output_type": "stream",
          "text": [
            "Collecting nest_asyncio==1.3.3\n",
            "  Downloading https://files.pythonhosted.org/packages/74/b4/b24e0a271fb78990c2c62238321686454824b1357ce7abcf20f431fd903d/nest_asyncio-1.3.3-py3-none-any.whl\n",
            "\u001b[31mERROR: nbclient 0.5.3 has requirement jupyter-client>=6.1.5, but you'll have jupyter-client 5.3.5 which is incompatible.\u001b[0m\n",
            "Installing collected packages: nest-asyncio\n",
            "  Found existing installation: nest-asyncio 1.5.1\n",
            "    Uninstalling nest-asyncio-1.5.1:\n",
            "      Successfully uninstalled nest-asyncio-1.5.1\n",
            "Successfully installed nest-asyncio-1.3.3\n"
          ],
          "name": "stdout"
        }
      ]
    },
    {
      "cell_type": "code",
      "metadata": {
        "colab": {
          "base_uri": "https://localhost:8080/"
        },
        "id": "njOq9A7BPyXA",
        "outputId": "ee4be00d-b62d-4837-ec52-7386ac59b800"
      },
      "source": [
        "import os\n",
        "import rasa\n",
        "import nest_asyncio\n",
        "\n",
        "nest_asyncio.apply()  #to run rasa in asynchronous mode as colab notebooks run in event loop we need this nest_asyncio\n",
        "print(\"Event loop ready.\")"
      ],
      "execution_count": null,
      "outputs": [
        {
          "output_type": "stream",
          "text": [
            "Event loop ready.\n"
          ],
          "name": "stdout"
        }
      ]
    },
    {
      "cell_type": "code",
      "metadata": {
        "colab": {
          "base_uri": "https://localhost:8080/"
        },
        "id": "ekzyK0nGUIRf",
        "outputId": "f0204e61-e029-47e3-95b9-5e5b56a814b0"
      },
      "source": [
        "!python -m spacy download en"
      ],
      "execution_count": null,
      "outputs": [
        {
          "output_type": "stream",
          "text": [
            "Requirement already satisfied: en_core_web_sm==2.2.5 from https://github.com/explosion/spacy-models/releases/download/en_core_web_sm-2.2.5/en_core_web_sm-2.2.5.tar.gz#egg=en_core_web_sm==2.2.5 in /usr/local/lib/python3.7/dist-packages (2.2.5)\n",
            "Requirement already satisfied: spacy>=2.2.2 in /usr/local/lib/python3.7/dist-packages (from en_core_web_sm==2.2.5) (2.2.4)\n",
            "Requirement already satisfied: thinc==7.4.0 in /usr/local/lib/python3.7/dist-packages (from spacy>=2.2.2->en_core_web_sm==2.2.5) (7.4.0)\n",
            "Requirement already satisfied: preshed<3.1.0,>=3.0.2 in /usr/local/lib/python3.7/dist-packages (from spacy>=2.2.2->en_core_web_sm==2.2.5) (3.0.5)\n",
            "Requirement already satisfied: requests<3.0.0,>=2.13.0 in /usr/local/lib/python3.7/dist-packages (from spacy>=2.2.2->en_core_web_sm==2.2.5) (2.23.0)\n",
            "Requirement already satisfied: catalogue<1.1.0,>=0.0.7 in /usr/local/lib/python3.7/dist-packages (from spacy>=2.2.2->en_core_web_sm==2.2.5) (1.0.0)\n",
            "Requirement already satisfied: numpy>=1.15.0 in /usr/local/lib/python3.7/dist-packages (from spacy>=2.2.2->en_core_web_sm==2.2.5) (1.19.5)\n",
            "Requirement already satisfied: cymem<2.1.0,>=2.0.2 in /usr/local/lib/python3.7/dist-packages (from spacy>=2.2.2->en_core_web_sm==2.2.5) (2.0.5)\n",
            "Requirement already satisfied: blis<0.5.0,>=0.4.0 in /usr/local/lib/python3.7/dist-packages (from spacy>=2.2.2->en_core_web_sm==2.2.5) (0.4.1)\n",
            "Requirement already satisfied: srsly<1.1.0,>=1.0.2 in /usr/local/lib/python3.7/dist-packages (from spacy>=2.2.2->en_core_web_sm==2.2.5) (1.0.5)\n",
            "Requirement already satisfied: wasabi<1.1.0,>=0.4.0 in /usr/local/lib/python3.7/dist-packages (from spacy>=2.2.2->en_core_web_sm==2.2.5) (0.8.2)\n",
            "Requirement already satisfied: tqdm<5.0.0,>=4.38.0 in /usr/local/lib/python3.7/dist-packages (from spacy>=2.2.2->en_core_web_sm==2.2.5) (4.41.1)\n",
            "Requirement already satisfied: setuptools in /usr/local/lib/python3.7/dist-packages (from spacy>=2.2.2->en_core_web_sm==2.2.5) (56.1.0)\n",
            "Requirement already satisfied: murmurhash<1.1.0,>=0.28.0 in /usr/local/lib/python3.7/dist-packages (from spacy>=2.2.2->en_core_web_sm==2.2.5) (1.0.5)\n",
            "Requirement already satisfied: plac<1.2.0,>=0.9.6 in /usr/local/lib/python3.7/dist-packages (from spacy>=2.2.2->en_core_web_sm==2.2.5) (1.1.3)\n",
            "Requirement already satisfied: certifi>=2017.4.17 in /usr/local/lib/python3.7/dist-packages (from requests<3.0.0,>=2.13.0->spacy>=2.2.2->en_core_web_sm==2.2.5) (2020.12.5)\n",
            "Requirement already satisfied: idna<3,>=2.5 in /usr/local/lib/python3.7/dist-packages (from requests<3.0.0,>=2.13.0->spacy>=2.2.2->en_core_web_sm==2.2.5) (2.10)\n",
            "Requirement already satisfied: urllib3!=1.25.0,!=1.25.1,<1.26,>=1.21.1 in /usr/local/lib/python3.7/dist-packages (from requests<3.0.0,>=2.13.0->spacy>=2.2.2->en_core_web_sm==2.2.5) (1.24.3)\n",
            "Requirement already satisfied: chardet<4,>=3.0.2 in /usr/local/lib/python3.7/dist-packages (from requests<3.0.0,>=2.13.0->spacy>=2.2.2->en_core_web_sm==2.2.5) (3.0.4)\n",
            "Requirement already satisfied: importlib-metadata>=0.20; python_version < \"3.8\" in /usr/local/lib/python3.7/dist-packages (from catalogue<1.1.0,>=0.0.7->spacy>=2.2.2->en_core_web_sm==2.2.5) (4.0.1)\n",
            "Requirement already satisfied: typing-extensions>=3.6.4; python_version < \"3.8\" in /usr/local/lib/python3.7/dist-packages (from importlib-metadata>=0.20; python_version < \"3.8\"->catalogue<1.1.0,>=0.0.7->spacy>=2.2.2->en_core_web_sm==2.2.5) (3.7.4.3)\n",
            "Requirement already satisfied: zipp>=0.5 in /usr/local/lib/python3.7/dist-packages (from importlib-metadata>=0.20; python_version < \"3.8\"->catalogue<1.1.0,>=0.0.7->spacy>=2.2.2->en_core_web_sm==2.2.5) (3.4.1)\n",
            "\u001b[38;5;2m✔ Download and installation successful\u001b[0m\n",
            "You can now load the model via spacy.load('en_core_web_sm')\n",
            "\u001b[38;5;2m✔ Linking successful\u001b[0m\n",
            "/usr/local/lib/python3.7/dist-packages/en_core_web_sm -->\n",
            "/usr/local/lib/python3.7/dist-packages/spacy/data/en\n",
            "You can now load the model via spacy.load('en')\n"
          ],
          "name": "stdout"
        }
      ]
    },
    {
      "cell_type": "code",
      "metadata": {
        "id": "EmgCRMqmUMq-"
      },
      "source": [
        "from rasa.cli.scaffold import create_initial_project"
      ],
      "execution_count": null,
      "outputs": []
    },
    {
      "cell_type": "code",
      "metadata": {
        "id": "TFAPZnDnUOFs"
      },
      "source": [
        "#to create initial project\n",
        "project = \"test-project\"\n",
        "create_initial_project(project)"
      ],
      "execution_count": null,
      "outputs": []
    },
    {
      "cell_type": "code",
      "metadata": {
        "colab": {
          "base_uri": "https://localhost:8080/"
        },
        "id": "iVr12XC8VJC3",
        "outputId": "41b58c14-df8d-494e-80f9-2c38e8a3aa18"
      },
      "source": [
        "# move into project directory and show files\n",
        "os.chdir(project)\n",
        "print(os.listdir(\".\"))"
      ],
      "execution_count": null,
      "outputs": [
        {
          "output_type": "stream",
          "text": [
            "['actions.py', 'config.yml', 'data', 'tests', 'domain.yml', 'endpoints.yml', '__init__.py', 'credentials.yml', '__pycache__']\n"
          ],
          "name": "stdout"
        }
      ]
    },
    {
      "cell_type": "code",
      "metadata": {
        "colab": {
          "base_uri": "https://localhost:8080/"
        },
        "id": "9qwKEYo7VODl",
        "outputId": "14c30972-c01c-4ef3-b88e-c7770fbfb576"
      },
      "source": [
        "config = \"config.yml\"\n",
        "training_files = \"data/\"  #nlu:intents\n",
        "domain = \"domain.yml\" #responses\n",
        "output = \"models/\"\n",
        "print(config, training_files, domain, output)  #output stores model after training "
      ],
      "execution_count": null,
      "outputs": [
        {
          "output_type": "stream",
          "text": [
            "config.yml data/ domain.yml models/\n"
          ],
          "name": "stdout"
        }
      ]
    },
    {
      "cell_type": "code",
      "metadata": {
        "colab": {
          "base_uri": "https://localhost:8080/"
        },
        "id": "n-245snCVPOI",
        "outputId": "c65a1457-5262-47f6-e8b5-0e367cf70fce"
      },
      "source": [
        "model_path = rasa.train(domain, config, [training_files], output)\n",
        "print(model_path)"
      ],
      "execution_count": null,
      "outputs": [
        {
          "output_type": "stream",
          "text": [
            "\u001b[94mTraining Core model...\u001b[0m\n"
          ],
          "name": "stdout"
        },
        {
          "output_type": "stream",
          "text": [
            "Processed Story Blocks: 100%|██████████| 5/5 [00:00<00:00, 273.11it/s, # trackers=1]\n",
            "Processed Story Blocks: 100%|██████████| 5/5 [00:00<00:00, 253.24it/s, # trackers=5]\n",
            "Processed Story Blocks: 100%|██████████| 5/5 [00:00<00:00, 172.93it/s, # trackers=20]\n",
            "Processed Story Blocks: 100%|██████████| 5/5 [00:00<00:00, 121.30it/s, # trackers=24]\n",
            "Processed trackers: 100%|██████████| 5/5 [00:00<00:00, 77.90it/s, # actions=16]\n",
            "Processed actions: 16it [00:00, 694.18it/s, # examples=16]\n",
            "Processed trackers: 100%|██████████| 231/231 [00:07<00:00, 31.95it/s, # actions=126]\n",
            "Epochs:   0%|          | 0/100 [00:00<?, ?it/s]/usr/local/lib/python3.7/dist-packages/rasa/utils/tensorflow/model_data.py:386: VisibleDeprecationWarning: Creating an ndarray from ragged nested sequences (which is a list-or-tuple of lists-or-tuples-or ndarrays with different lengths or shapes) is deprecated. If you meant to do this, you must specify 'dtype=object' when creating the ndarray\n",
            "  final_data[k].append(np.concatenate(np.array(v)))\n",
            "Epochs: 100%|██████████| 100/100 [00:14<00:00,  6.79it/s, t_loss=0.074, loss=0.003, acc=1.000]\n"
          ],
          "name": "stderr"
        },
        {
          "output_type": "stream",
          "text": [
            "\u001b[94mCore model training completed.\u001b[0m\n",
            "\u001b[94mTraining NLU model...\u001b[0m\n"
          ],
          "name": "stdout"
        },
        {
          "output_type": "stream",
          "text": [
            "\u001b[93m/usr/local/lib/python3.7/dist-packages/rasa/utils/common.py:363: UserWarning: You specified 'DIET' to train entities, but no entities are present in the training data. Skip training of entities.\n",
            "Epochs:   0%|          | 0/100 [00:00<?, ?it/s]/usr/local/lib/python3.7/dist-packages/rasa/utils/tensorflow/model_data.py:386: VisibleDeprecationWarning: Creating an ndarray from ragged nested sequences (which is a list-or-tuple of lists-or-tuples-or ndarrays with different lengths or shapes) is deprecated. If you meant to do this, you must specify 'dtype=object' when creating the ndarray\n",
            "  final_data[k].append(np.concatenate(np.array(v)))\n",
            "Epochs: 100%|██████████| 100/100 [00:16<00:00,  5.92it/s, t_loss=1.471, i_loss=0.086, i_acc=1.000]\n"
          ],
          "name": "stderr"
        },
        {
          "output_type": "stream",
          "text": [
            "\u001b[94mNLU model training completed.\u001b[0m\n",
            "\u001b[92mYour Rasa model is trained and saved at '/content/test-project/models/20210522-044611.tar.gz'.\u001b[0m\n",
            "models/20210522-044611.tar.gz\n"
          ],
          "name": "stdout"
        }
      ]
    },
    {
      "cell_type": "code",
      "metadata": {
        "colab": {
          "base_uri": "https://localhost:8080/"
        },
        "id": "OTF3fELYXEIK",
        "outputId": "d54e03f1-e76f-4c86-c6b6-fca7af0548c5"
      },
      "source": [
        "from rasa.jupyter import chat\n",
        "endpoints = 'endpoints.yml'  \n",
        "chat(model_path, endpoints)"
      ],
      "execution_count": null,
      "outputs": [
        {
          "output_type": "stream",
          "text": [
            "Your bot is ready to talk! Type your messages here or send '/stop'.\n",
            "hi\n",
            "\u001b[92mHey! How are you?\u001b[0m\n",
            "good\n",
            "\u001b[92mGreat, carry on!\u001b[0m\n",
            "bye\n",
            "\u001b[92mBye\u001b[0m\n",
            "/stop\n"
          ],
          "name": "stdout"
        }
      ]
    },
    {
      "cell_type": "markdown",
      "metadata": {
        "id": "0MX-5m1417um"
      },
      "source": [
        "Customizing the model"
      ]
    },
    {
      "cell_type": "code",
      "metadata": {
        "colab": {
          "base_uri": "https://localhost:8080/"
        },
        "id": "fq2C27rTXXBF",
        "outputId": "1d7d1092-1f69-4173-855f-558a2f015445"
      },
      "source": [
        "%%writefile data/nlu.md\n",
        "\n",
        "## intent:greet\n",
        "- hey\n",
        "- hello\n",
        "- hi\n",
        "- good morning\n",
        "- good evening\n",
        "- hey there\n",
        "\n",
        "## intent:define\n",
        "- What is a corona virus?\n",
        "- What is COVID-19? What is SARS-CoV-2? \n",
        "\n",
        "##intent:infected\n",
        "- Can humans become infected with a novel corona virus of animal source?\n",
        "- When is a person infectious?\n",
        "- How severe is COVID-19 infection?  \n",
        "- Do persons suffering from pollen allergy or allergies in general have a higher risk to develop severe disease when having COVID-19?\n",
        "- Should people who suffer from pollen allergy self-isolate if they develop typical hay fever symptoms?\n",
        "- How can I avoid getting infected?\n",
        "- How can I avoid infecting others?\n",
        "\n",
        "##intent:info\n",
        "- Where Can I Get Updated Information on corona virus (COVID-19)?\n",
        "- Where Can I Get Updated Information on corona virus COVID?\n",
        "\n",
        "##intent:origin\n",
        "- Where do corona viruses come from?\n",
        "- Where do corona viruses come from country ?\n",
        "\n",
        "##intent:period\n",
        "- What is the incubation period of the corona virus disease?\n",
        "- What is the incub period of the corona virus disease?\n",
        "\n",
        "##intent:protect\n",
        "- What can I do to protect myself?\n",
        "- What can I do to protect oneself?\n",
        "\n",
        "##intent:risk\n",
        "- Who is most at risk for the corona virus disease?\n",
        "- Is My Child at Risk for corona virus (COVID-19)?\n",
        "- Are some people more at risk than others?\n",
        "- Are children also at risk of infection and what is their potential role in transmission of covid19?\n",
        "- What is the risk of infection in pregnant women and neonates?\n",
        "- What is physical distancing and why and how should I do it?\n",
        "- Are face masks effective in protecting against COVID-19?\n",
        "- Am I protected against COVID-19 if I had the influenza vaccine this year?\n",
        "- Are health workers at risk from a novel corona virus?\n",
        "\n",
        "##intent:sars\n",
        "- Is the corona virus disease the same as SARS?\n",
        "- Is this virus comparable to SARS or to the seasonal flu?\n",
        "\n",
        "##intent:symptoms\n",
        "- What are the symptoms of someone infected with a corona virus?\n",
        "- How can we differentiate between hay fever/pollen allergy related respiratory symptoms and COVID-19 infection?\n",
        "\n",
        "##intent:task\n",
        "- What Should I Do if a Family Member Has Symptoms of corona virus (COVID-19)?\n",
        "- How Do Doctors Test People for corona virus (COVID-19)?\n",
        "- When should I be tested for COVID-19?\n",
        "- Where can I get tested?\n",
        "\n",
        "##intent:test\n",
        "- Where can I get tested?\n",
        "- When should I be tested for COVID-19?\n",
        "\n",
        "##intent:transmitted\n",
        "- Can corona viruse be transmitted from person to person?\n",
        "- What is the mode of transmission of corona virus?\n",
        "\n",
        "##intent:vaccine\n",
        "- Is there a vaccine for a novel corona virus?\n",
        "- How long will it take to develop a vaccine?\n",
        "\n",
        "##intent:treatment\n",
        "- Is there a treatment for a novel corona virus?\n",
        "- Treatment for a novel corona virus?\n",
        "\n",
        "##intent:who\n",
        "- What WHO recommendations for countries?\n",
        "- What is WHO recommendations for countries?\n",
        "\n",
        "## intent:corona\n",
        "- Virus from China\n",
        "- Corona from china\n",
        "\n",
        "## intent:goodbye\n",
        "- bye\n",
        "- goodbye\n",
        "- see you around\n",
        "- see you later\n",
        "\n",
        "\n",
        "## intent:deny\n",
        "- no\n",
        "- never\n",
        "- I don't think so\n",
        "- don't like that\n",
        "- no way\n",
        "- not really\n",
        "\n",
        "## intent:bot_challenge\n",
        "- are you a bot?\n",
        "- are you a human?\n",
        "- am I talking to a bot?\n",
        "- am I talking to a human?"
      ],
      "execution_count": null,
      "outputs": [
        {
          "output_type": "stream",
          "text": [
            "Overwriting data/nlu.md\n"
          ],
          "name": "stdout"
        }
      ]
    },
    {
      "cell_type": "code",
      "metadata": {
        "colab": {
          "base_uri": "https://localhost:8080/"
        },
        "id": "VRIMFGIgX44n",
        "outputId": "aa7333ea-32ba-4e98-bd95-92c4556ac2db"
      },
      "source": [
        "%%writefile domain.yml\n",
        "\n",
        "intents:\n",
        "  - greet\n",
        "  - corona\n",
        "  - define\n",
        "  - infected\n",
        "  - bot_challenge\n",
        "  - info\n",
        "  - origin\n",
        "  - period\n",
        "  - protect\n",
        "  - risk\n",
        "  - sars\n",
        "  - symptoms\n",
        "  - task\n",
        "  - test\n",
        "  - trasmitted\n",
        "  - treatment\n",
        "  - vaccine\n",
        "  - who\n",
        "  - workers\n",
        "  - goodbye\n",
        "  - deny\n",
        "\n",
        "responses:\n",
        "\n",
        "\n",
        "  utter_greet:\n",
        "  - text: \"Hey! How may i help you??\"\n",
        "\n",
        "  utter_corona:\n",
        "  - text: \"I am COVID BOT developed by M20MA004 and M20MA017, Ask me anything regarding the same. Hope I can help you. :) \"\n",
        "\n",
        "  utter_define:\n",
        "  - text: \"corona viruses are a large family of viruses that are known to cause illness ranging from the common cold to more severe diseases such as Middle East Respiratory Syndrome (MERS) and Severe Acute Respiratory Syndrome (SARS).\"\n",
        "\n",
        "  utter_infected:\n",
        "  - text:\"Detailed investigations found that SARS-CoV was transmitted from civet cats to humans in China in 2002 and MERS-CoV from dromedary camels to humans in Saudi Arabia in 2012. Several known corona viruses are circulating in animals that have not yet infected humans. As surveillance improves around the world, more corona viruses are likely to be identified.\"\n",
        "\n",
        "  utter_info:\n",
        "  - text: \"Check the CDC and World Health Organization (WHO) websites for up-to-date, reliable information about corona virus.\"\n",
        "\n",
        "  utter_origin:\n",
        "  - text: \"corona viruses are viruses that circulate among animals with some of them also known to infect humans. Bats are considered natural hosts of these viruses yet several other species of animals are also known to act as sources. For instance, Middle East Respiratory Syndrome corona virus (MERS-CoV) is transmitted to humans from camels, and Severe Acute Respiratory Syndrome corona virus-1 (SARS-CoV-1) is transmitted to humans from civet cats. More information on corona viruses can be found in the ECDC factsheet.\"\n",
        "\n",
        "  utter_period:\n",
        "  - text: \"The “incubation period” means the time between catching the virus and beginning to have symptoms of the disease. Most estimates of the incubation period for COVID-19 range from 1-14 days, most commonly around five days. These estimates will be updated as more data become available.\"\n",
        "\n",
        "  utter_protect:\n",
        "  - text: \"Standard recommendations to reduce exposure to and transmission of a range of illnesses include maintaining basic hand and respiratory hygiene, and safe food practices  and avoiding close contact, when possible, with anyone showing symptoms of respiratory illness such as coughing and sneezing.\"\n",
        "\n",
        "  utter_risk:\n",
        "  - text: \"People of all ages can be infected by the new corona virus (2019-nCoV). Older people, and people with pre-existing medical conditions (such as asthma, diabetes, heart disease) appear to be more vulnerable to becoming severely ill with the virus.WHO advises people of all ages to take steps to protect themselves from the virus, for example by following good hand hygiene and good respiratory hygiene.\"\n",
        "\n",
        "  utter_symptoms:\n",
        "  - text: \"It depends on the virus, but common signs include respiratory symptoms, fever, cough, shortness of breath, and breathing difficulties. In more severe cases, infection can cause pneumonia, severe acute respiratory syndrome, kidney failure and even death.\"\n",
        "\n",
        "  utter_task:\n",
        "  - text: \"The symptoms of corona virus (fever, cough, and trouble breathing) can look a lot like illnesses from other viruses. If a family member has trouble breathing, go to the emergency room or call an ambulance right away. Call your doctor if someone in your family has a fever, cough, or other flu-like symptoms. If this person has been near someone with corona virus or lived in or traveled to an area where lots of people have corona virus, tell the doctor. The doctor can decide whether your family member: can be treated at home should come in for a visit can have a telehealth visit needs to be tested for corona virus\"\n",
        "\n",
        "  utter_test:\n",
        "  - text : \"To test someone for corona virus, doctors send a mucus sample from the nose and back of the throat to a lab. If the person coughs up mucus, doctors might send that for testing too.\"\n",
        "\n",
        "  utter_transmitted:\n",
        "  - text : \"Yes, some corona viruses can be transmitted from person to person, usually after close contact with an infected patient, for example, in a household workplace, or health care centre.\"\n",
        "\n",
        "  utter_treatment:\n",
        "  - text : \"There is no specific treatment for disease caused by a novel corona virus. However, many of the symptoms can be treated and therefore treatment based on the patient’s clinical condition. Moreover, supportive care for infected persons can be highly effective.\"\n",
        "\n",
        "  utter_vaccine:\n",
        "  - text: \"The development of vaccines take time. Several pharmaceutical companies and research laboratories are working on vaccine candidates. It will, however, take months or years before any vaccine can be widely used, as it needs to undergo extensive testing in clinical trials to determine its safety and efficacy.  These clinical trials are an essential precursor to regulatory approval and usually take place in three phases. The first, involving a few dozen healthy volunteers, tests the vaccine for safety, monitoring for adverse effects. The second, involving several hundred people, usually in a part of the world badly affected by the disease, looks at how effective the vaccine is in the field, and the third does the same in several thousand people.\"\n",
        "\n",
        "  utter_who:\n",
        "  - text: \"Yes, they can be, as health care workers come into contact with patients more often than the general public WHO recommends that health care workers consistently apply appropriate\"\n",
        "\n",
        "  utter_workers:\n",
        "  - text: \"In the last month, the number of cases and deaths reported in the EU/EEA has increased exponentially from less than 2 000 cases to more than 350 000 (as of 30 March). During this time, all EU/EEA countries have reported increasing numbers of new cases; Italy has reported more than 90 000 new cases and Spain more than 75 000 new cases. If this trend continues, based on the quick pace of growth of the epidemic observed in China and northern Italy, it is likely that in days, or a small number of weeks, nationally incapacitating epidemics will be observed in most EU/EEA Member States.\"\n",
        "  \n",
        "  utter_cheer_up:\n",
        "  - text: \"Here is something to cheer you up:\"\n",
        "    image: \"https://i.imgur.com/nGF1K8f.jpg\"\n",
        "\n",
        "  utter_did_that_help:\n",
        "  - text: \"Did that help you?\"\n",
        "\n",
        "  utter_happy:\n",
        "  - text: \"Great, carry on!\"\n",
        "\n",
        "  utter_iamabot:\n",
        "  - text: \"I am a bot, powered by Rasa.\"\n",
        "\n",
        "  utter_goodbye:\n",
        "  - text: \"Bye - Bye\"\n",
        "\n",
        "entities:\n",
        "  - number\n",
        "\n",
        "session_config:\n",
        "  session_expiration_time: 60\n",
        "  carry_over_slots_to_new_session: true"
      ],
      "execution_count": null,
      "outputs": [
        {
          "output_type": "stream",
          "text": [
            "Overwriting domain.yml\n"
          ],
          "name": "stdout"
        }
      ]
    },
    {
      "cell_type": "code",
      "metadata": {
        "colab": {
          "base_uri": "https://localhost:8080/"
        },
        "id": "qyDkdohwYGBh",
        "outputId": "677e2069-d543-4856-b612-ca36cdc8a531"
      },
      "source": [
        "%%writefile data/stories.md\n",
        "\n",
        "\n",
        "## greet\n",
        "* greet\n",
        "  - utter_greet\n",
        "\n",
        "* corona\n",
        "  - utter_corona\n",
        "\n",
        "* define\n",
        "  - utter_define\n",
        "\n",
        "* infected\n",
        "  -utter_infected\n",
        "  \n",
        "* info\n",
        "  -utter_info\n",
        "\n",
        "* origin\n",
        "  -utter_origin\n",
        "\n",
        "* risk\n",
        "  -utter_risk\n",
        "\n",
        "* symptoms\n",
        "  -utter_symptoms\n",
        "\n",
        "* task\n",
        "  -utter_task\n",
        "\n",
        "* test\n",
        "  -utter_test\n",
        "\n",
        "* trasmitted\n",
        "  -utter_transmitted\n",
        "\n",
        "* treatment\n",
        "  -utter_treatment\n",
        "\n",
        "* vaccine\n",
        "  -utter_vaccine\n",
        "\n",
        "* deny\n",
        "  - utter_goodbye\n",
        "\n",
        "\n",
        "## sad path 2\n",
        "* greet\n",
        "  - utter_greet\n",
        "\n",
        "* mood_unhappy\n",
        "  - utter_cheer_up\n",
        "  - utter_did_that_help\n",
        "\n",
        "* deny\n",
        "  - utter_goodbye\n",
        "\n",
        "## say goodbye\n",
        "* goodbye\n",
        "  - utter_goodbye\n",
        "\n",
        "## bot challenge\n",
        "* bot_challenge\n",
        "  - utter_iamabot"
      ],
      "execution_count": null,
      "outputs": [
        {
          "output_type": "stream",
          "text": [
            "Overwriting data/stories.md\n"
          ],
          "name": "stdout"
        }
      ]
    },
    {
      "cell_type": "code",
      "metadata": {
        "colab": {
          "base_uri": "https://localhost:8080/"
        },
        "id": "jeeU4rD-YMLC",
        "outputId": "2c3b0997-d008-4e5f-fc46-5de300d405bf"
      },
      "source": [
        "model_path =  rasa.train(domain, config, [training_files], output)\n",
        "print(model_path)"
      ],
      "execution_count": null,
      "outputs": [
        {
          "output_type": "stream",
          "text": [
            "\u001b[93m/usr/local/lib/python3.7/dist-packages/rasa/core/domain.py:137: FutureWarning: Templates should not be strings anymore. Utterance template 'utter_infected' should contain either a '- text: ' or a '- custom: ' attribute to be a proper template.\n",
            "  utter_templates = cls.collect_templates(data.get(\"responses\", {}))\n",
            "\u001b[0m\u001b[93m/usr/local/lib/python3.7/dist-packages/rasa/core/training/dsl.py:431: UserWarning: Found unknown intent 'mood_unhappy' on line 51. Please, make sure that all intents are listed in your domain yaml.\n",
            "  docs=DOCS_URL_DOMAINS,\n",
            "Processed Story Blocks: 100%|██████████| 4/4 [00:00<00:00, 358.33it/s, # trackers=1]\n",
            "Processed Story Blocks: 100%|██████████| 4/4 [00:00<00:00, 258.56it/s, # trackers=4]\n",
            "Processed Story Blocks: 100%|██████████| 4/4 [00:00<00:00, 158.80it/s, # trackers=12]\n",
            "Processed Story Blocks: 100%|██████████| 4/4 [00:00<00:00, 101.73it/s, # trackers=20]\n",
            "Processed trackers:   0%|          | 0/4 [00:00<?, ?it/s, # actions=7]"
          ],
          "name": "stderr"
        },
        {
          "output_type": "stream",
          "text": [
            "\u001b[94mTraining Core model...\u001b[0m\n"
          ],
          "name": "stdout"
        },
        {
          "output_type": "stream",
          "text": [
            "Processed trackers: 100%|██████████| 4/4 [00:00<00:00, 37.44it/s, # actions=38]\n",
            "Processed actions: 38it [00:00, 574.75it/s, # examples=38]\n",
            "Processed trackers: 100%|██████████| 137/137 [00:08<00:00, 17.10it/s, # actions=110]\n",
            "Epochs:   0%|          | 0/100 [00:00<?, ?it/s]/usr/local/lib/python3.7/dist-packages/rasa/utils/tensorflow/model_data.py:386: VisibleDeprecationWarning: Creating an ndarray from ragged nested sequences (which is a list-or-tuple of lists-or-tuples-or ndarrays with different lengths or shapes) is deprecated. If you meant to do this, you must specify 'dtype=object' when creating the ndarray\n",
            "  final_data[k].append(np.concatenate(np.array(v)))\n",
            "Epochs: 100%|██████████| 100/100 [00:18<00:00,  5.30it/s, t_loss=0.198, loss=0.090, acc=1.000]\n"
          ],
          "name": "stderr"
        },
        {
          "output_type": "stream",
          "text": [
            "\u001b[94mCore model training completed.\u001b[0m\n",
            "\u001b[94mTraining NLU model...\u001b[0m\n"
          ],
          "name": "stdout"
        },
        {
          "output_type": "stream",
          "text": [
            "\u001b[93m/usr/local/lib/python3.7/dist-packages/rasa/utils/common.py:363: UserWarning: You specified 'DIET' to train entities, but no entities are present in the training data. Skip training of entities.\n",
            "Epochs:   0%|          | 0/100 [00:00<?, ?it/s]/usr/local/lib/python3.7/dist-packages/rasa/utils/tensorflow/model_data.py:386: VisibleDeprecationWarning: Creating an ndarray from ragged nested sequences (which is a list-or-tuple of lists-or-tuples-or ndarrays with different lengths or shapes) is deprecated. If you meant to do this, you must specify 'dtype=object' when creating the ndarray\n",
            "  final_data[k].append(np.concatenate(np.array(v)))\n",
            "Epochs: 100%|██████████| 100/100 [00:56<00:00,  1.77it/s, t_loss=2.823, i_loss=1.127, i_acc=0.970]\n"
          ],
          "name": "stderr"
        },
        {
          "output_type": "stream",
          "text": [
            "\u001b[94mNLU model training completed.\u001b[0m\n",
            "\u001b[92mYour Rasa model is trained and saved at '/content/test-project/models/20210522-044857.tar.gz'.\u001b[0m\n",
            "models/20210522-044857.tar.gz\n"
          ],
          "name": "stdout"
        }
      ]
    },
    {
      "cell_type": "code",
      "metadata": {
        "id": "RH_NgcjgapnQ"
      },
      "source": [
        "endpoints = \"endpoints.yml\""
      ],
      "execution_count": null,
      "outputs": []
    },
    {
      "cell_type": "code",
      "metadata": {
        "colab": {
          "base_uri": "https://localhost:8080/"
        },
        "id": "f5xCWvVzaAxO",
        "outputId": "f74622aa-6cee-494e-ff8b-f252e16f3497"
      },
      "source": [
        "chat(model_path, endpoints)"
      ],
      "execution_count": null,
      "outputs": [
        {
          "output_type": "stream",
          "text": [
            "Your bot is ready to talk! Type your messages here or send '/stop'.\n",
            "hi\n",
            "\u001b[92mHey! How may i help you??\u001b[0m\n",
            "corona\n",
            "\u001b[92mCheck the CDC and World Health Organization (WHO) websites for up-to-date, reliable information about corona virus.\u001b[0m\n",
            "Virus from China\n",
            "\u001b[92mI am COVID BOT developed by M20MA004 and M20MA017, Ask me anything regarding the same. Hope I can help you. :)\u001b[0m\n",
            "/stop\n"
          ],
          "name": "stdout"
        }
      ]
    },
    {
      "cell_type": "code",
      "metadata": {
        "colab": {
          "base_uri": "https://localhost:8080/"
        },
        "id": "ZguY_TV7rjpo",
        "outputId": "880c4bbb-9cb7-4ec9-dc8f-c53c8ed12f93"
      },
      "source": [
        "chat(model_path, endpoints)"
      ],
      "execution_count": null,
      "outputs": [
        {
          "output_type": "stream",
          "text": [
            "Your bot is ready to talk! Type your messages here or send '/stop'.\n",
            "hi\n",
            "\u001b[92mHey! How may i help you??\u001b[0m\n",
            "What should one do if one gets infected with corona\n",
            "\u001b[92mtext:\"Detailed investigations found that SARS-CoV was transmitted from civet cats to humans in China in 2002 and MERS-CoV from dromedary camels to humans in Saudi Arabia in 2012. Several known corona viruses are circulating in animals that have not yet infected humans. As surveillance improves around the world, more corona viruses are likely to be identified.\"\u001b[0m\n",
            "how should one protect from covid\n",
            "\u001b[92mcorona viruses are a large family of viruses that are known to cause illness ranging from the common cold to more severe diseases such as Middle East Respiratory Syndrome (MERS) and Severe Acute Respiratory Syndrome (SARS).\u001b[0m\n",
            "protect\n",
            "\u001b[92mcorona viruses are a large family of viruses that are known to cause illness ranging from the common cold to more severe diseases such as Middle East Respiratory Syndrome (MERS) and Severe Acute Respiratory Syndrome (SARS).\u001b[0m\n"
          ],
          "name": "stdout"
        }
      ]
    },
    {
      "cell_type": "code",
      "metadata": {
        "colab": {
          "base_uri": "https://localhost:8080/",
          "height": 1000
        },
        "id": "XtVMtaxnaCC2",
        "outputId": "c2cd878d-2d18-4c7b-a404-6d1ee091b73a"
      },
      "source": [
        "chat(model_path, endpoints)"
      ],
      "execution_count": null,
      "outputs": [
        {
          "output_type": "stream",
          "text": [
            "Your bot is ready to talk! Type your messages here or send '/stop'.\n",
            "hi\n",
            "\u001b[92mHey! How may i help you??\u001b[0m\n",
            "corona\n",
            "\u001b[92mI am COVID BOT developed by M20MA004 and M20MA017, Ask me anything regarding the same. Hope I can help you. :)\u001b[0m\n",
            "define\n",
            "\u001b[92mThe development of vaccines take time. Several pharmaceutical companies and research laboratories are working on vaccine candidates. It will, however, take months or years before any vaccine can be widely used, as it needs to undergo extensive testing in clinical trials to determine its safety and efficacy.  These clinical trials are an essential precursor to regulatory approval and usually take place in three phases. The first, involving a few dozen healthy volunteers, tests the vaccine for safety, monitoring for adverse effects. The second, involving several hundred people, usually in a part of the world badly affected by the disease, looks at how effective the vaccine is in the field, and the third does the same in several thousand people.\u001b[0m\n",
            "Can humans become infected with a novel corona virus of animal source?\n",
            "\u001b[92mtext:\"Detailed investigations found that SARS-CoV was transmitted from civet cats to humans in China in 2002 and MERS-CoV from dromedary camels to humans in Saudi Arabia in 2012. Several known corona viruses are circulating in animals that have not yet infected humans. As surveillance improves around the world, more corona viruses are likely to be identified.\"\u001b[0m\n",
            "Where Can I Get Updated Information on corona virus COVID?\n",
            "\u001b[92mCheck the CDC and World Health Organization (WHO) websites for up-to-date, reliable information about corona virus.\u001b[0m\n",
            "Where do corona viruses come from country ?\n",
            "\u001b[92mcorona viruses are viruses that circulate among animals with some of them also known to infect humans. Bats are considered natural hosts of these viruses yet several other species of animals are also known to act as sources. For instance, Middle East Respiratory Syndrome corona virus (MERS-CoV) is transmitted to humans from camels, and Severe Acute Respiratory Syndrome corona virus-1 (SARS-CoV-1) is transmitted to humans from civet cats. More information on corona viruses can be found in the ECDC factsheet.\u001b[0m\n",
            "Who is most at risk for the corona virus disease?\n",
            "\u001b[92mPeople of all ages can be infected by the new corona virus (2019-nCoV). Older people, and people with pre-existing medical conditions (such as asthma, diabetes, heart disease) appear to be more vulnerable to becoming severely ill with the virus.WHO advises people of all ages to take steps to protect themselves from the virus, for example by following good hand hygiene and good respiratory hygiene.\u001b[0m\n",
            "What are the symptoms of someone infected with a corona virus?\n",
            "\u001b[92mIt depends on the virus, but common signs include respiratory symptoms, fever, cough, shortness of breath, and breathing difficulties. In more severe cases, infection can cause pneumonia, severe acute respiratory syndrome, kidney failure and even death.\u001b[0m\n",
            "What Should I Do if a Family Member Has Symptoms of corona virus (COVID-19)?\n",
            "\u001b[92mThe symptoms of corona virus (fever, cough, and trouble breathing) can look a lot like illnesses from other viruses. If a family member has trouble breathing, go to the emergency room or call an ambulance right away. Call your doctor if someone in your family has a fever, cough, or other flu-like symptoms. If this person has been near someone with corona virus or lived in or traveled to an area where lots of people have corona virus, tell the doctor. The doctor can decide whether your family member: can be treated at home should come in for a visit can have a telehealth visit needs to be tested for corona virus\u001b[0m\n",
            "Where can I get tested?\n",
            "\u001b[92mThe symptoms of corona virus (fever, cough, and trouble breathing) can look a lot like illnesses from other viruses. If a family member has trouble breathing, go to the emergency room or call an ambulance right away. Call your doctor if someone in your family has a fever, cough, or other flu-like symptoms. If this person has been near someone with corona virus or lived in or traveled to an area where lots of people have corona virus, tell the doctor. The doctor can decide whether your family member: can be treated at home should come in for a visit can have a telehealth visit needs to be tested for corona virus\u001b[0m\n",
            "What is the mode of transmission of corona virus?\n",
            "\u001b[92mHere is something to cheer you up:\u001b[0m\n"
          ],
          "name": "stdout"
        },
        {
          "output_type": "stream",
          "text": [
            "\u001b[93m/usr/local/lib/python3.7/dist-packages/rasa/utils/common.py:363: UserWarning: Interpreter parsed an intent 'transmitted' which is not defined in the domain. Please make sure all intents are listed in the domain.\n",
            "  More info at https://rasa.com/docs/rasa/core/domains/\n",
            "\u001b[0m"
          ],
          "name": "stderr"
        },
        {
          "output_type": "display_data",
          "data": {
            "text/plain": [
              "<IPython.core.display.Image object>"
            ],
            "text/html": [
              "<img src=\"https://i.imgur.com/nGF1K8f.jpg\"/>"
            ]
          },
          "metadata": {
            "tags": []
          }
        },
        {
          "output_type": "stream",
          "text": [
            "\u001b[92mDid that help you?\u001b[0m\n",
            "yes\n",
            "\u001b[92mBye - Bye\u001b[0m\n",
            "/stop\n"
          ],
          "name": "stdout"
        }
      ]
    },
    {
      "cell_type": "code",
      "metadata": {
        "id": "2YXjwLS2j5_H"
      },
      "source": [
        "chat(model_path, endpoints)"
      ],
      "execution_count": null,
      "outputs": []
    },
    {
      "cell_type": "code",
      "metadata": {
        "colab": {
          "base_uri": "https://localhost:8080/"
        },
        "id": "6lvDcq8-YZuh",
        "outputId": "8ea58df3-c4a3-4f4b-c7b0-515dde3e189c"
      },
      "source": [
        "import rasa.data as data\n",
        "\n",
        "stories_directory, nlu_data_directory = data.get_core_nlu_directories(training_files)\n",
        "\n",
        "print(stories_directory, nlu_data_directory)"
      ],
      "execution_count": null,
      "outputs": [
        {
          "output_type": "stream",
          "text": [
            "/tmp/tmpyy3lgw9x /tmp/tmpgqosftbm\n"
          ],
          "name": "stdout"
        }
      ]
    },
    {
      "cell_type": "code",
      "metadata": {
        "colab": {
          "base_uri": "https://localhost:8080/",
          "height": 1000
        },
        "id": "z0AM4jwsYdcl",
        "outputId": "f702526d-2f81-4cbd-8b11-da9de390d609"
      },
      "source": [
        "rasa.test(model_path, stories_directory, nlu_data_directory)\n",
        "print(\"Done testing...\")"
      ],
      "execution_count": null,
      "outputs": [
        {
          "output_type": "stream",
          "text": [
            "\u001b[93m/usr/local/lib/python3.7/dist-packages/rasa/core/training/dsl.py:431: UserWarning: Found unknown intent 'mood_unhappy' on line 51. Please, make sure that all intents are listed in your domain yaml.\n",
            "  docs=DOCS_URL_DOMAINS,\n",
            "Processed Story Blocks: 100%|██████████| 4/4 [00:00<00:00, 356.91it/s, # trackers=1]\n",
            "100%|██████████| 4/4 [00:00<00:00, 36.20it/s]\n",
            "100%|██████████| 66/66 [00:00<00:00, 113.62it/s]\n",
            "/usr/local/lib/python3.7/dist-packages/sklearn/metrics/_classification.py:1272: UndefinedMetricWarning: Precision and F-score are ill-defined and being set to 0.0 in labels with no predicted samples. Use `zero_division` parameter to control this behavior.\n",
            "  _warn_prf(average, modifier, msg_start, len(result))\n",
            "/usr/local/lib/python3.7/dist-packages/sklearn/metrics/_classification.py:1272: UndefinedMetricWarning: Precision is ill-defined and being set to 0.0 in labels with no predicted samples. Use `zero_division` parameter to control this behavior.\n",
            "  _warn_prf(average, modifier, msg_start, len(result))\n"
          ],
          "name": "stderr"
        },
        {
          "output_type": "stream",
          "text": [
            "Done testing...\n"
          ],
          "name": "stdout"
        },
        {
          "output_type": "display_data",
          "data": {
            "image/png": "[encoded data removed]",
            "text/plain": [
              "<Figure size 1440x1440 with 2 Axes>"
            ]
          },
          "metadata": {
            "tags": [],
            "needs_background": "light"
          }
        }
      ]
    },
    {
      "cell_type": "code",
      "metadata": {
        "id": "RD-xdv_sYgNy"
      },
      "source": [
        ""
      ],
      "execution_count": null,
      "outputs": []
    }
  ]
}