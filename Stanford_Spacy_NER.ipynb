{
  "nbformat": 4,
  "nbformat_minor": 0,
  "metadata": {
    "colab": {
      "name": "Stanford_Spacy_NER.ipynb",
      "provenance": [],
      "authorship_tag": "ABX9TyMIbKpVkjL91EBdn4RpInTk",
      "include_colab_link": true
    },
    "kernelspec": {
      "name": "python3",
      "display_name": "Python 3"
    },
    "language_info": {
      "name": "python"
    }
  },
  "cells": [
    {
      "cell_type": "markdown",
      "metadata": {
        "id": "view-in-github",
        "colab_type": "text"
      },
      "source": [
        "<a href=\"https://colab.research.google.com/github/Vyoma-garg/Natural-Language-Processing/blob/main/Stanford_Spacy_NER.ipynb\" target=\"_parent\"><img src=\"https://colab.research.google.com/assets/colab-badge.svg\" alt=\"Open In Colab\"/></a>"
      ]
    },
    {
      "cell_type": "markdown",
      "metadata": {
        "id": "EPgeS2elmtRs"
      },
      "source": [
        "## **Getting the dataset**"
      ]
    },
    {
      "cell_type": "code",
      "metadata": {
        "colab": {
          "base_uri": "https://localhost:8080/"
        },
        "id": "fusv-dDn8zcN",
        "outputId": "d3800dd7-f220-431f-8b60-9c926dae762f"
      },
      "source": [
        "from sklearn.datasets import fetch_20newsgroups\n",
        "newsgroups_train = fetch_20newsgroups(subset='train')"
      ],
      "execution_count": null,
      "outputs": [
        {
          "output_type": "stream",
          "text": [
            "Downloading 20news dataset. This may take a few minutes.\n",
            "Downloading dataset from https://ndownloader.figshare.com/files/5975967 (14 MB)\n"
          ],
          "name": "stderr"
        }
      ]
    },
    {
      "cell_type": "markdown",
      "metadata": {
        "id": "AeyB4PBzDGAF"
      },
      "source": [
        "For my future reference : \n",
        "\n",
        "---\n",
        "\n",
        "\n",
        "**The 20 newsgroups dataset comprises around 18000 newsgroups posts on 20 topics split in two subsets: one for training (or development) and the other one for testing (or for performance evaluation). The split between the train and test set is based upon a messages posted before and after a specific date.**"
      ]
    },
    {
      "cell_type": "code",
      "metadata": {
        "colab": {
          "base_uri": "https://localhost:8080/"
        },
        "id": "cWBksFhMC9CW",
        "outputId": "c09976c1-e092-402a-d340-58e64eb9b5ab"
      },
      "source": [
        "from pprint import pprint\n",
        "pprint(list(newsgroups_train.target_names))"
      ],
      "execution_count": null,
      "outputs": [
        {
          "output_type": "stream",
          "text": [
            "['alt.atheism',\n",
            " 'comp.graphics',\n",
            " 'comp.os.ms-windows.misc',\n",
            " 'comp.sys.ibm.pc.hardware',\n",
            " 'comp.sys.mac.hardware',\n",
            " 'comp.windows.x',\n",
            " 'misc.forsale',\n",
            " 'rec.autos',\n",
            " 'rec.motorcycles',\n",
            " 'rec.sport.baseball',\n",
            " 'rec.sport.hockey',\n",
            " 'sci.crypt',\n",
            " 'sci.electronics',\n",
            " 'sci.med',\n",
            " 'sci.space',\n",
            " 'soc.religion.christian',\n",
            " 'talk.politics.guns',\n",
            " 'talk.politics.mideast',\n",
            " 'talk.politics.misc',\n",
            " 'talk.religion.misc']\n"
          ],
          "name": "stdout"
        }
      ]
    },
    {
      "cell_type": "code",
      "metadata": {
        "colab": {
          "base_uri": "https://localhost:8080/"
        },
        "id": "mdsyxV_OHvly",
        "outputId": "6d10e666-f529-43fb-e9a7-99f5c50c3d90"
      },
      "source": [
        "print(newsgroups_train.filenames.shape)\n",
        "print(newsgroups_train.target.shape)"
      ],
      "execution_count": null,
      "outputs": [
        {
          "output_type": "stream",
          "text": [
            "(11314,)\n",
            "(11314,)\n"
          ],
          "name": "stdout"
        }
      ]
    },
    {
      "cell_type": "markdown",
      "metadata": {
        "id": "8jc0HZO0MGr8"
      },
      "source": [
        "BY DEFAULT LOCATION OF EXTRACTION : **~/scikit_learn_data/20news_home**"
      ]
    },
    {
      "cell_type": "code",
      "metadata": {
        "colab": {
          "base_uri": "https://localhost:8080/"
        },
        "id": "lApr08Z7LsPS",
        "outputId": "5a7a2b19-7112-47d0-b8e2-4cba43344342"
      },
      "source": [
        "newsgroups_train.filenames[:10]"
      ],
      "execution_count": null,
      "outputs": [
        {
          "output_type": "execute_result",
          "data": {
            "text/plain": [
              "array(['/root/scikit_learn_data/20news_home/20news-bydate-train/rec.autos/102994',\n",
              "       '/root/scikit_learn_data/20news_home/20news-bydate-train/comp.sys.mac.hardware/51861',\n",
              "       '/root/scikit_learn_data/20news_home/20news-bydate-train/comp.sys.mac.hardware/51879',\n",
              "       '/root/scikit_learn_data/20news_home/20news-bydate-train/comp.graphics/38242',\n",
              "       '/root/scikit_learn_data/20news_home/20news-bydate-train/sci.space/60880',\n",
              "       '/root/scikit_learn_data/20news_home/20news-bydate-train/talk.politics.guns/54525',\n",
              "       '/root/scikit_learn_data/20news_home/20news-bydate-train/sci.med/58080',\n",
              "       '/root/scikit_learn_data/20news_home/20news-bydate-train/comp.sys.ibm.pc.hardware/60249',\n",
              "       '/root/scikit_learn_data/20news_home/20news-bydate-train/comp.os.ms-windows.misc/10008',\n",
              "       '/root/scikit_learn_data/20news_home/20news-bydate-train/comp.sys.mac.hardware/50502'],\n",
              "      dtype='<U86')"
            ]
          },
          "metadata": {
            "tags": []
          },
          "execution_count": 5
        }
      ]
    },
    {
      "cell_type": "code",
      "metadata": {
        "colab": {
          "base_uri": "https://localhost:8080/"
        },
        "id": "FwI1QxAhL1EE",
        "outputId": "09d3860c-14d2-4cad-d2b1-082c9cbda252"
      },
      "source": [
        "newsgroups_train.target_names[:10]"
      ],
      "execution_count": null,
      "outputs": [
        {
          "output_type": "execute_result",
          "data": {
            "text/plain": [
              "['alt.atheism',\n",
              " 'comp.graphics',\n",
              " 'comp.os.ms-windows.misc',\n",
              " 'comp.sys.ibm.pc.hardware',\n",
              " 'comp.sys.mac.hardware',\n",
              " 'comp.windows.x',\n",
              " 'misc.forsale',\n",
              " 'rec.autos',\n",
              " 'rec.motorcycles',\n",
              " 'rec.sport.baseball']"
            ]
          },
          "metadata": {
            "tags": []
          },
          "execution_count": 6
        }
      ]
    },
    {
      "cell_type": "code",
      "metadata": {
        "colab": {
          "base_uri": "https://localhost:8080/"
        },
        "id": "ywR_acWzIGAV",
        "outputId": "3d3a9339-b59b-4bba-91db-4d9478ca11f6"
      },
      "source": [
        "newsgroups_train.target[:10]"
      ],
      "execution_count": null,
      "outputs": [
        {
          "output_type": "execute_result",
          "data": {
            "text/plain": [
              "array([ 7,  4,  4,  1, 14, 16, 13,  3,  2,  4])"
            ]
          },
          "metadata": {
            "tags": []
          },
          "execution_count": 7
        }
      ]
    },
    {
      "cell_type": "markdown",
      "metadata": {
        "id": "a8eu8QbvOeHZ"
      },
      "source": [
        "### **(i)Stanford NER tagging**"
      ]
    },
    {
      "cell_type": "code",
      "metadata": {
        "colab": {
          "base_uri": "https://localhost:8080/",
          "height": 35
        },
        "id": "GlRphtQikDi9",
        "outputId": "9cf5a00b-6c05-45e7-fe26-3f87340d835f"
      },
      "source": [
        "from nltk.tag import StanfordNERTagger\n",
        "from nltk.tokenize import word_tokenize\n",
        "import os\n",
        "nltk.__version__"
      ],
      "execution_count": null,
      "outputs": [
        {
          "output_type": "execute_result",
          "data": {
            "application/vnd.google.colaboratory.intrinsic+json": {
              "type": "string"
            },
            "text/plain": [
              "'3.2.5'"
            ]
          },
          "metadata": {
            "tags": []
          },
          "execution_count": 19
        }
      ]
    },
    {
      "cell_type": "code",
      "metadata": {
        "id": "AZNlqvxlkWld"
      },
      "source": [
        "!wget http://nlp.stanford.edu/software/stanford-ner-2015-04-20.zip\n",
        "!unzip stanford-ner-2015-04-20.zip "
      ],
      "execution_count": null,
      "outputs": []
    },
    {
      "cell_type": "code",
      "metadata": {
        "id": "QpCnIcWIuBrZ",
        "colab": {
          "base_uri": "https://localhost:8080/"
        },
        "outputId": "20178de9-462f-46a7-8ff8-f5a86c352920"
      },
      "source": [
        "from nltk.tag.stanford import StanfordNERTagger\n",
        "jar = \"stanford-ner-2015-04-20/stanford-ner-3.5.2.jar\"\n",
        "model = \"stanford-ner-2015-04-20/classifiers/\" \n",
        "st = StanfordNERTagger(model + \"english.all.3class.distsim.crf.ser.gz\", jar, encoding='utf8') "
      ],
      "execution_count": null,
      "outputs": [
        {
          "output_type": "stream",
          "text": [
            "/usr/local/lib/python3.7/dist-packages/nltk/tag/stanford.py:183: DeprecationWarning: \n",
            "The StanfordTokenizer will be deprecated in version 3.2.5.\n",
            "Please use \u001b[91mnltk.tag.corenlp.CoreNLPPOSTagger\u001b[0m or \u001b[91mnltk.tag.corenlp.CoreNLPNERTagger\u001b[0m instead.\n",
            "  super(StanfordNERTagger, self).__init__(*args, **kwargs)\n"
          ],
          "name": "stderr"
        }
      ]
    },
    {
      "cell_type": "markdown",
      "metadata": {
        "id": "vFpWikpzaPbw"
      },
      "source": [
        " **Stanford tagging with 5000 DOCUMENTS**"
      ]
    },
    {
      "cell_type": "code",
      "metadata": {
        "id": "fWa2a5LbNFB8"
      },
      "source": [
        "data_2=newsgroups_train.data[0:5000]\n",
        "data_2=str(data_2)\n",
        "data_2"
      ],
      "execution_count": null,
      "outputs": []
    },
    {
      "cell_type": "code",
      "metadata": {
        "id": "V6iLF81IL9D4"
      },
      "source": [
        "tokenized_text = nltk.word_tokenize(data_2)\n",
        "\n",
        "classified_text = st.tag(tokenized_text)\n",
        "\n",
        "entities = []\n",
        "labels = []\n",
        "\n",
        "\n",
        "from itertools import groupby\n",
        "for tag, chunk in groupby(classified_text, lambda x:x[1]):\n",
        "    if tag != \"O\":\n",
        "        entities.append(' '.join(w for w, t in chunk))\n",
        "        labels.append(tag)\n",
        "        \n",
        "        \n",
        "entities_all = list(zip(entities, labels))\n",
        "#entities_unique = list(set(zip(entities, labels))) #unique entities   \n",
        "classified_text_df = pd.DataFrame(entities_all)\n",
        "classified_text_df .columns = [\"Entities\", \"Labels\"]\n",
        "classified_text_df "
      ],
      "execution_count": null,
      "outputs": []
    },
    {
      "cell_type": "markdown",
      "metadata": {
        "id": "4vDw5R19hdfA"
      },
      "source": [
        "**Potential tags in 5000 documents**"
      ]
    },
    {
      "cell_type": "code",
      "metadata": {
        "colab": {
          "base_uri": "https://localhost:8080/"
        },
        "id": "4bKelWutNYLd",
        "outputId": "887a90aa-074e-4e69-e1e1-4ceb7328776d"
      },
      "source": [
        "#entities_df_ = classified_text_df[classified_text_df['Labels'] != 'O']\n",
        "classified_text_df.Labels.unique()"
      ],
      "execution_count": null,
      "outputs": [
        {
          "output_type": "execute_result",
          "data": {
            "text/plain": [
              "array(['ORGANIZATION', 'PERSON', 'LOCATION'], dtype=object)"
            ]
          },
          "metadata": {
            "tags": []
          },
          "execution_count": 32
        }
      ]
    },
    {
      "cell_type": "markdown",
      "metadata": {
        "id": "ptAiJNGjhguh"
      },
      "source": [
        "**All LOCATION enitities in 5000 docs**"
      ]
    },
    {
      "cell_type": "code",
      "metadata": {
        "id": "uKa9vLFENYLh"
      },
      "source": [
        "entities_df_loc = classified_text_df[classified_text_df['Labels'] == 'LOCATION']\n",
        "#entities_df_loc.drop_duplicates(subset=['Entities'],keep='first', inplace=True)\n",
        "entities_df_loc"
      ],
      "execution_count": null,
      "outputs": []
    },
    {
      "cell_type": "code",
      "metadata": {
        "id": "dBPstdXDNP_K"
      },
      "source": [
        "entities_df_person = classified_text_df[classified_text_df['Labels'] == 'PERSON']\n",
        "#entities_df_person.drop_duplicates(subset=['Entities'],keep='first', inplace=True)\n",
        "entities_df_person"
      ],
      "execution_count": null,
      "outputs": []
    },
    {
      "cell_type": "markdown",
      "metadata": {
        "id": "3Lcud-Kgo1SJ"
      },
      "source": [
        "### **(ii)Spacy NER Tagging**"
      ]
    },
    {
      "cell_type": "code",
      "metadata": {
        "colab": {
          "base_uri": "https://localhost:8080/",
          "height": 35
        },
        "id": "63NXYEtTbB9F",
        "outputId": "433f919a-e18c-41f5-8e2b-ca0486089e67"
      },
      "source": [
        "import spacy \n",
        "spacy.prefer_gpu()\n",
        "from spacy import displacy\n",
        "spacy.__version__"
      ],
      "execution_count": null,
      "outputs": [
        {
          "output_type": "execute_result",
          "data": {
            "application/vnd.google.colaboratory.intrinsic+json": {
              "type": "string"
            },
            "text/plain": [
              "'3.0.6'"
            ]
          },
          "metadata": {
            "tags": []
          },
          "execution_count": 2
        }
      ]
    },
    {
      "cell_type": "code",
      "metadata": {
        "id": "DnbJMj_GbB9G"
      },
      "source": [
        "#Download spacy models\n",
        "!python -m spacy download en_core_web_md\n",
        "import en_core_web_md"
      ],
      "execution_count": null,
      "outputs": []
    },
    {
      "cell_type": "code",
      "metadata": {
        "id": "G4q376r1bB9H"
      },
      "source": [
        "nlp = spacy.load('en_core_web_md')"
      ],
      "execution_count": null,
      "outputs": []
    },
    {
      "cell_type": "markdown",
      "metadata": {
        "id": "SeY5HYA7RA5x"
      },
      "source": [
        "**with 5000 documents**"
      ]
    },
    {
      "cell_type": "code",
      "metadata": {
        "id": "eATzyzGGbB9I"
      },
      "source": [
        "entities = []\n",
        "labels = []\n",
        "position_start = []\n",
        "position_end = []\n",
        "  \n",
        "for i in data_2:\n",
        "  i=str(i)\n",
        "  doc = nlp(i)\n",
        "\n",
        "  for ent in doc.ents:\n",
        "    entities.append(ent.text)\n",
        "    labels.append(ent.label_)\n",
        "    position_start.append(ent.start_char)\n",
        "    position_end.append(ent.end_char)\n",
        "   \n",
        "spacy_df= pd.DataFrame({'Entities':entities,'Labels':labels,'Position_Start':position_start, 'Position_End':position_end})"
      ],
      "execution_count": null,
      "outputs": []
    },
    {
      "cell_type": "code",
      "metadata": {
        "id": "x5dY9VkLbB9J"
      },
      "source": [
        "spacy_df"
      ],
      "execution_count": null,
      "outputs": []
    },
    {
      "cell_type": "markdown",
      "metadata": {
        "id": "oS35NxumRFxq"
      },
      "source": [
        "**All entities with PERSON Tag in 5000 documents using Spacy**"
      ]
    },
    {
      "cell_type": "code",
      "metadata": {
        "id": "_ueVfwlibB9K"
      },
      "source": [
        "spacy_df_person = spacy_df[spacy_df['Labels'] == 'PERSON']\n",
        "#spacy_df_person.drop_duplicates(subset=['Entities'],keep='first', inplace=True)\n",
        "spacy_df_person"
      ],
      "execution_count": null,
      "outputs": []
    },
    {
      "cell_type": "markdown",
      "metadata": {
        "id": "BYGPappHDSkz"
      },
      "source": [
        "**All entities with LOC Tag in 5000 documents using Spacy**"
      ]
    },
    {
      "cell_type": "code",
      "metadata": {
        "id": "ZHrQE9QAA5Ek"
      },
      "source": [
        "spacy_df_loc= spacy_df[spacy_df['Labels']== 'LOC']\n",
        "#spacy_df_loc_gpe.drop_duplicates(subset=['Entities'],keep='first', inplace=True)\n",
        "spacy_df_loc"
      ],
      "execution_count": null,
      "outputs": []
    },
    {
      "cell_type": "markdown",
      "metadata": {
        "id": "rLtKe507DWqT"
      },
      "source": [
        "**All entities with GPE Tag in 5000 documents using Spacy**"
      ]
    },
    {
      "cell_type": "code",
      "metadata": {
        "id": "71AwTzGcBCsq"
      },
      "source": [
        "spacy_df_gpe= spacy_df[spacy_df['Labels']== 'GPE']\n",
        "#spacy_df_loc_gpe.drop_duplicates(subset=['Entities'],keep='first', inplace=True)\n",
        "spacy_df_gpe"
      ],
      "execution_count": null,
      "outputs": []
    },
    {
      "cell_type": "markdown",
      "metadata": {
        "id": "rCAb0XkpDavd"
      },
      "source": [
        "**All entities with LOC AND GPE Tag in 5000 documents using Spacy**"
      ]
    },
    {
      "cell_type": "code",
      "metadata": {
        "id": "68cjYa-gbB9L"
      },
      "source": [
        "#spacy_df_loc_gpe = spacy_df[(spacy_df['Labels'] == 'GPE') & (spacy_df['Labels'] == 'LOC') ]\n",
        "spacy_df_loc_gpe = spacy_df[spacy_df['Labels'].isin(['GPE', 'LOC']) ]\n",
        "#spacy_df_loc_gpe.drop_duplicates(subset=['Entities'],keep='first', inplace=True)\n",
        "spacy_df_loc_gpe"
      ],
      "execution_count": null,
      "outputs": []
    },
    {
      "cell_type": "markdown",
      "metadata": {
        "id": "cuHPBmDHEXVl"
      },
      "source": [
        "## **1(b) Top 100 LOC and PERSON entities** "
      ]
    },
    {
      "cell_type": "markdown",
      "metadata": {
        "id": "VSD9X-pKL00Z"
      },
      "source": [
        "### **STANFORD**"
      ]
    },
    {
      "cell_type": "code",
      "metadata": {
        "id": "Ip5VtX-NNYLk"
      },
      "source": [
        "count_entities_df_loc=entities_df_loc['Entities'].value_counts()\n",
        "count_entities_df_loc"
      ],
      "execution_count": null,
      "outputs": []
    },
    {
      "cell_type": "markdown",
      "metadata": {
        "id": "0T66ADgHHoZr"
      },
      "source": [
        "**Top 100 LOC entities using Stanford NER**"
      ]
    },
    {
      "cell_type": "code",
      "metadata": {
        "colab": {
          "base_uri": "https://localhost:8080/"
        },
        "id": "VCOOQgPAVNe2",
        "outputId": "9f1fd5e7-3850-42c3-f634-1d7eee6965f7"
      },
      "source": [
        "count_entities_df_loc[0:100]"
      ],
      "execution_count": null,
      "outputs": [
        {
          "output_type": "execute_result",
          "data": {
            "text/plain": [
              "US          357\n",
              "Israel      296\n",
              "U.S.        158\n",
              "USA         137\n",
              "Canada      130\n",
              "           ... \n",
              "Finland      19\n",
              "Bethesda     19\n",
              "Quebec       19\n",
              "CA           19\n",
              "Iraq         19\n",
              "Name: Entities, Length: 100, dtype: int64"
            ]
          },
          "metadata": {
            "tags": []
          },
          "execution_count": 37
        }
      ]
    },
    {
      "cell_type": "markdown",
      "metadata": {
        "id": "9-CsLeuGh6NU"
      },
      "source": [
        "\n",
        "\n",
        "---\n",
        "\n",
        "COUNT OF THE PERSON ENTITIES IN 5000 DOC."
      ]
    },
    {
      "cell_type": "code",
      "metadata": {
        "id": "YMFbvUCZU-Xv"
      },
      "source": [
        "count_entities_df_person=entities_df_person['Entities'].value_counts()\n",
        "count_entities_df_person"
      ],
      "execution_count": null,
      "outputs": []
    },
    {
      "cell_type": "markdown",
      "metadata": {
        "id": "2r1_PR10IbWi"
      },
      "source": [
        "**Top 100 PERSON entities using Stanford NER**"
      ]
    },
    {
      "cell_type": "code",
      "metadata": {
        "colab": {
          "base_uri": "https://localhost:8080/"
        },
        "id": "v2YmrOJIVVTg",
        "outputId": "8d6d0008-fc5f-43f6-a8bf-5d3cd8c48af5"
      },
      "source": [
        "count_entities_df_person[0:100]"
      ],
      "execution_count": null,
      "outputs": [
        {
          "output_type": "execute_result",
          "data": {
            "text/plain": [
              "Jesus              318\n",
              "Clinton            159\n",
              "John                88\n",
              "Christ              78\n",
              "Matthew             67\n",
              "                  ... \n",
              "Steven Bellovin     14\n",
              "Reagan              14\n",
              "Stalin              14\n",
              "Gerald Olchowy      14\n",
              "Sherri Nichols      14\n",
              "Name: Entities, Length: 100, dtype: int64"
            ]
          },
          "metadata": {
            "tags": []
          },
          "execution_count": 38
        }
      ]
    },
    {
      "cell_type": "markdown",
      "metadata": {
        "id": "nwj9hsZliBm5"
      },
      "source": [
        "\n",
        "\n",
        "---\n",
        "\n",
        "\n",
        "\n",
        "---\n",
        "\n"
      ]
    },
    {
      "cell_type": "markdown",
      "metadata": {
        "id": "CuLrarnyLr0G"
      },
      "source": [
        "### **SPACY**"
      ]
    },
    {
      "cell_type": "markdown",
      "metadata": {
        "id": "xYnsZGuORoip"
      },
      "source": [
        "**Top 100 PERSON entities using Spacy NER Tagging**"
      ]
    },
    {
      "cell_type": "code",
      "metadata": {
        "id": "iTWA__RaDtPz"
      },
      "source": [
        "count_spacy_df_loc_gpe=spacy_df_loc_gpe['Entities'].value_counts()\n",
        "count_spacy_df_loc_gpe"
      ],
      "execution_count": null,
      "outputs": []
    },
    {
      "cell_type": "code",
      "metadata": {
        "colab": {
          "base_uri": "https://localhost:8080/"
        },
        "id": "Tbcql-InDtQJ",
        "outputId": "286949b5-5823-4cf7-b744-c16990cb9c81"
      },
      "source": [
        "count_spacy_df_loc_gpe[0:100]"
      ],
      "execution_count": null,
      "outputs": [
        {
          "output_type": "execute_result",
          "data": {
            "text/plain": [
              "Israel       356\n",
              "US           344\n",
              "U.S.         178\n",
              "Canada       167\n",
              "Turkey       145\n",
              "            ... \n",
              "Egypt         23\n",
              "Portland      23\n",
              "NC            22\n",
              "Ann Arbor     22\n",
              "Denver        21\n",
              "Name: Entities, Length: 100, dtype: int64"
            ]
          },
          "metadata": {
            "tags": []
          },
          "execution_count": 48
        }
      ]
    },
    {
      "cell_type": "markdown",
      "metadata": {
        "id": "tKVd0w-nRgHS"
      },
      "source": [
        "**Top 100 LOC entities in documents using Spacy**"
      ]
    },
    {
      "cell_type": "code",
      "metadata": {
        "id": "gAVQ_4PoDxn-"
      },
      "source": [
        "count_spacy_df_person=spacy_df_person['Entities'].value_counts()\n",
        "count_spacy_df_person"
      ],
      "execution_count": null,
      "outputs": []
    },
    {
      "cell_type": "code",
      "metadata": {
        "colab": {
          "base_uri": "https://localhost:8080/"
        },
        "id": "LTli_BbFDxn_",
        "outputId": "33a82f8d-9fec-4f75-a007-2d1d230bc7d1"
      },
      "source": [
        "count_spacy_df_person[0:100]"
      ],
      "execution_count": null,
      "outputs": [
        {
          "output_type": "execute_result",
          "data": {
            "text/plain": [
              "Clinton                 176\n",
              "Serdar Argic            113\n",
              "Matthew                  99\n",
              "Mac                      93\n",
              "geb@cs.pitt.edu          71\n",
              "                       ... \n",
              "Hussein                  16\n",
              "Phill Hallam-Baker       16\n",
              "Timothy C. May           16\n",
              "Michael A. Covington     16\n",
              "David Veal Univ          16\n",
              "Name: Entities, Length: 100, dtype: int64"
            ]
          },
          "metadata": {
            "tags": []
          },
          "execution_count": 50
        }
      ]
    }
  ]
}