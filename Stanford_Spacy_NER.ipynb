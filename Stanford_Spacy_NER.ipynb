{
  "nbformat": 4,
  "nbformat_minor": 0,
  "metadata": {
    "colab": {
      "name": "Stanford-Spacy_NER.ipynb",
      "provenance": [],
      "authorship_tag": "ABX9TyMIbKpVkjL91EBdn4RpInTk",
      "include_colab_link": true
    },
    "kernelspec": {
      "name": "python3",
      "display_name": "Python 3"
    },
    "language_info": {
      "name": "python"
    }
  },
  "cells": [
    {
      "cell_type": "markdown",
      "metadata": {
        "id": "view-in-github",
        "colab_type": "text"
      },
      "source": [
        "<a href=\"https://colab.research.google.com/github/Vyoma-garg/Natural-Language-Processing/blob/main/Stanford_Spacy_NER.ipynb\" target=\"_parent\"><img src=\"https://colab.research.google.com/assets/colab-badge.svg\" alt=\"Open In Colab\"/></a>"
      ]
    },
    {
      "cell_type": "markdown",
      "metadata": {
        "id": "EPgeS2elmtRs"
      },
      "source": [
        "## **Getting the dataset**"
      ]
    },
    {
      "cell_type": "code",
      "metadata": {
        "colab": {
          "base_uri": "https://localhost:8080/"
        },
        "id": "fusv-dDn8zcN",
        "outputId": "d3800dd7-f220-431f-8b60-9c926dae762f"
      },
      "source": [
        "from sklearn.datasets import fetch_20newsgroups\n",
        "newsgroups_train = fetch_20newsgroups(subset='train')"
      ],
      "execution_count": null,
      "outputs": [
        {
          "output_type": "stream",
          "text": [
            "Downloading 20news dataset. This may take a few minutes.\n",
            "Downloading dataset from https://ndownloader.figshare.com/files/5975967 (14 MB)\n"
          ],
          "name": "stderr"
        }
      ]
    },
    {
      "cell_type": "markdown",
      "metadata": {
        "id": "AeyB4PBzDGAF"
      },
      "source": [
        "For my future reference : \n",
        "\n",
        "---\n",
        "\n",
        "\n",
        "**The 20 newsgroups dataset comprises around 18000 newsgroups posts on 20 topics split in two subsets: one for training (or development) and the other one for testing (or for performance evaluation). The split between the train and test set is based upon a messages posted before and after a specific date.**"
      ]
    },
    {
      "cell_type": "code",
      "metadata": {
        "colab": {
          "base_uri": "https://localhost:8080/"
        },
        "id": "cWBksFhMC9CW",
        "outputId": "c09976c1-e092-402a-d340-58e64eb9b5ab"
      },
      "source": [
        "from pprint import pprint\n",
        "pprint(list(newsgroups_train.target_names))"
      ],
      "execution_count": null,
      "outputs": [
        {
          "output_type": "stream",
          "text": [
            "['alt.atheism',\n",
            " 'comp.graphics',\n",
            " 'comp.os.ms-windows.misc',\n",
            " 'comp.sys.ibm.pc.hardware',\n",
            " 'comp.sys.mac.hardware',\n",
            " 'comp.windows.x',\n",
            " 'misc.forsale',\n",
            " 'rec.autos',\n",
            " 'rec.motorcycles',\n",
            " 'rec.sport.baseball',\n",
            " 'rec.sport.hockey',\n",
            " 'sci.crypt',\n",
            " 'sci.electronics',\n",
            " 'sci.med',\n",
            " 'sci.space',\n",
            " 'soc.religion.christian',\n",
            " 'talk.politics.guns',\n",
            " 'talk.politics.mideast',\n",
            " 'talk.politics.misc',\n",
            " 'talk.religion.misc']\n"
          ],
          "name": "stdout"
        }
      ]
    },
    {
      "cell_type": "code",
      "metadata": {
        "colab": {
          "base_uri": "https://localhost:8080/"
        },
        "id": "mdsyxV_OHvly",
        "outputId": "6d10e666-f529-43fb-e9a7-99f5c50c3d90"
      },
      "source": [
        "print(newsgroups_train.filenames.shape)\n",
        "print(newsgroups_train.target.shape)"
      ],
      "execution_count": null,
      "outputs": [
        {
          "output_type": "stream",
          "text": [
            "(11314,)\n",
            "(11314,)\n"
          ],
          "name": "stdout"
        }
      ]
    },
    {
      "cell_type": "markdown",
      "metadata": {
        "id": "8jc0HZO0MGr8"
      },
      "source": [
        "BY DEFAULT LOCATION OF EXTRACTION : **~/scikit_learn_data/20news_home**"
      ]
    },
    {
      "cell_type": "code",
      "metadata": {
        "colab": {
          "base_uri": "https://localhost:8080/"
        },
        "id": "lApr08Z7LsPS",
        "outputId": "5a7a2b19-7112-47d0-b8e2-4cba43344342"
      },
      "source": [
        "newsgroups_train.filenames[:10]"
      ],
      "execution_count": null,
      "outputs": [
        {
          "output_type": "execute_result",
          "data": {
            "text/plain": [
              "array(['/root/scikit_learn_data/20news_home/20news-bydate-train/rec.autos/102994',\n",
              "       '/root/scikit_learn_data/20news_home/20news-bydate-train/comp.sys.mac.hardware/51861',\n",
              "       '/root/scikit_learn_data/20news_home/20news-bydate-train/comp.sys.mac.hardware/51879',\n",
              "       '/root/scikit_learn_data/20news_home/20news-bydate-train/comp.graphics/38242',\n",
              "       '/root/scikit_learn_data/20news_home/20news-bydate-train/sci.space/60880',\n",
              "       '/root/scikit_learn_data/20news_home/20news-bydate-train/talk.politics.guns/54525',\n",
              "       '/root/scikit_learn_data/20news_home/20news-bydate-train/sci.med/58080',\n",
              "       '/root/scikit_learn_data/20news_home/20news-bydate-train/comp.sys.ibm.pc.hardware/60249',\n",
              "       '/root/scikit_learn_data/20news_home/20news-bydate-train/comp.os.ms-windows.misc/10008',\n",
              "       '/root/scikit_learn_data/20news_home/20news-bydate-train/comp.sys.mac.hardware/50502'],\n",
              "      dtype='<U86')"
            ]
          },
          "metadata": {
            "tags": []
          },
          "execution_count": 5
        }
      ]
    },
    {
      "cell_type": "code",
      "metadata": {
        "colab": {
          "base_uri": "https://localhost:8080/"
        },
        "id": "FwI1QxAhL1EE",
        "outputId": "09d3860c-14d2-4cad-d2b1-082c9cbda252"
      },
      "source": [
        "newsgroups_train.target_names[:10]"
      ],
      "execution_count": null,
      "outputs": [
        {
          "output_type": "execute_result",
          "data": {
            "text/plain": [
              "['alt.atheism',\n",
              " 'comp.graphics',\n",
              " 'comp.os.ms-windows.misc',\n",
              " 'comp.sys.ibm.pc.hardware',\n",
              " 'comp.sys.mac.hardware',\n",
              " 'comp.windows.x',\n",
              " 'misc.forsale',\n",
              " 'rec.autos',\n",
              " 'rec.motorcycles',\n",
              " 'rec.sport.baseball']"
            ]
          },
          "metadata": {
            "tags": []
          },
          "execution_count": 6
        }
      ]
    },
    {
      "cell_type": "code",
      "metadata": {
        "colab": {
          "base_uri": "https://localhost:8080/"
        },
        "id": "ywR_acWzIGAV",
        "outputId": "3d3a9339-b59b-4bba-91db-4d9478ca11f6"
      },
      "source": [
        "newsgroups_train.target[:10]"
      ],
      "execution_count": null,
      "outputs": [
        {
          "output_type": "execute_result",
          "data": {
            "text/plain": [
              "array([ 7,  4,  4,  1, 14, 16, 13,  3,  2,  4])"
            ]
          },
          "metadata": {
            "tags": []
          },
          "execution_count": 7
        }
      ]
    },
    {
      "cell_type": "markdown",
      "metadata": {
        "id": "a8eu8QbvOeHZ"
      },
      "source": [
        "### **(i)Stanford NER tagging**"
      ]
    },
    {
      "cell_type": "code",
      "metadata": {
        "colab": {
          "base_uri": "https://localhost:8080/",
          "height": 35
        },
        "id": "GlRphtQikDi9",
        "outputId": "9cf5a00b-6c05-45e7-fe26-3f87340d835f"
      },
      "source": [
        "from nltk.tag import StanfordNERTagger\n",
        "from nltk.tokenize import word_tokenize\n",
        "import os\n",
        "nltk.__version__"
      ],
      "execution_count": null,
      "outputs": [
        {
          "output_type": "execute_result",
          "data": {
            "application/vnd.google.colaboratory.intrinsic+json": {
              "type": "string"
            },
            "text/plain": [
              "'3.2.5'"
            ]
          },
          "metadata": {
            "tags": []
          },
          "execution_count": 19
        }
      ]
    },
    {
      "cell_type": "code",
      "metadata": {
        "id": "AZNlqvxlkWld"
      },
      "source": [
        "!wget http://nlp.stanford.edu/software/stanford-ner-2015-04-20.zip\n",
        "!unzip stanford-ner-2015-04-20.zip "
      ],
      "execution_count": null,
      "outputs": []
    },
    {
      "cell_type": "code",
      "metadata": {
        "id": "QpCnIcWIuBrZ",
        "colab": {
          "base_uri": "https://localhost:8080/"
        },
        "outputId": "20178de9-462f-46a7-8ff8-f5a86c352920"
      },
      "source": [
        "from nltk.tag.stanford import StanfordNERTagger\n",
        "jar = \"stanford-ner-2015-04-20/stanford-ner-3.5.2.jar\"\n",
        "model = \"stanford-ner-2015-04-20/classifiers/\" \n",
        "st = StanfordNERTagger(model + \"english.all.3class.distsim.crf.ser.gz\", jar, encoding='utf8') "
      ],
      "execution_count": null,
      "outputs": [
        {
          "output_type": "stream",
          "text": [
            "/usr/local/lib/python3.7/dist-packages/nltk/tag/stanford.py:183: DeprecationWarning: \n",
            "The StanfordTokenizer will be deprecated in version 3.2.5.\n",
            "Please use \u001b[91mnltk.tag.corenlp.CoreNLPPOSTagger\u001b[0m or \u001b[91mnltk.tag.corenlp.CoreNLPNERTagger\u001b[0m instead.\n",
            "  super(StanfordNERTagger, self).__init__(*args, **kwargs)\n"
          ],
          "name": "stderr"
        }
      ]
    },
    {
      "cell_type": "markdown",
      "metadata": {
        "id": "vFpWikpzaPbw"
      },
      "source": [
        " **Stanford tagging with 5000 DOCUMENTS**"
      ]
    },
    {
      "cell_type": "code",
      "metadata": {
        "id": "fWa2a5LbNFB8"
      },
      "source": [
        "data_2=newsgroups_train.data[0:5000]\n",
        "data_2=str(data_2)\n",
        "data_2"
      ],
      "execution_count": null,
      "outputs": []
    },
    {
      "cell_type": "code",
      "metadata": {
        "colab": {
          "base_uri": "https://localhost:8080/",
          "height": 406
        },
        "id": "V6iLF81IL9D4",
        "outputId": "961ec820-ff76-429e-9c6e-0fc8ea805a2c"
      },
      "source": [
        "tokenized_text = nltk.word_tokenize(data_2)\n",
        "\n",
        "classified_text = st.tag(tokenized_text)\n",
        "\n",
        "entities = []\n",
        "labels = []\n",
        "\n",
        "\n",
        "from itertools import groupby\n",
        "for tag, chunk in groupby(classified_text, lambda x:x[1]):\n",
        "    if tag != \"O\":\n",
        "        entities.append(' '.join(w for w, t in chunk))\n",
        "        labels.append(tag)\n",
        "        \n",
        "        \n",
        "entities_all = list(zip(entities, labels))\n",
        "#entities_unique = list(set(zip(entities, labels))) #unique entities   \n",
        "classified_text_df = pd.DataFrame(entities_all)\n",
        "classified_text_df .columns = [\"Entities\", \"Labels\"]\n",
        "classified_text_df "
      ],
      "execution_count": null,
      "outputs": [
        {
          "output_type": "execute_result",
          "data": {
            "text/html": [
              "<div>\n",
              "<style scoped>\n",
              "    .dataframe tbody tr th:only-of-type {\n",
              "        vertical-align: middle;\n",
              "    }\n",
              "\n",
              "    .dataframe tbody tr th {\n",
              "        vertical-align: top;\n",
              "    }\n",
              "\n",
              "    .dataframe thead th {\n",
              "        text-align: right;\n",
              "    }\n",
              "</style>\n",
              "<table border=\"1\" class=\"dataframe\">\n",
              "  <thead>\n",
              "    <tr style=\"text-align: right;\">\n",
              "      <th></th>\n",
              "      <th>Entities</th>\n",
              "      <th>Labels</th>\n",
              "    </tr>\n",
              "  </thead>\n",
              "  <tbody>\n",
              "    <tr>\n",
              "      <th>0</th>\n",
              "      <td>University of Maryland</td>\n",
              "      <td>ORGANIZATION</td>\n",
              "    </tr>\n",
              "    <tr>\n",
              "      <th>1</th>\n",
              "      <td>Bricklin</td>\n",
              "      <td>PERSON</td>\n",
              "    </tr>\n",
              "    <tr>\n",
              "      <th>2</th>\n",
              "      <td>Kuo</td>\n",
              "      <td>PERSON</td>\n",
              "    </tr>\n",
              "    <tr>\n",
              "      <th>3</th>\n",
              "      <td>University of Washington\\nLines</td>\n",
              "      <td>ORGANIZATION</td>\n",
              "    </tr>\n",
              "    <tr>\n",
              "      <th>4</th>\n",
              "      <td>Thomas E Willis</td>\n",
              "      <td>PERSON</td>\n",
              "    </tr>\n",
              "    <tr>\n",
              "      <th>...</th>\n",
              "      <td>...</td>\n",
              "      <td>...</td>\n",
              "    </tr>\n",
              "    <tr>\n",
              "      <th>39764</th>\n",
              "      <td>USA</td>\n",
              "      <td>LOCATION</td>\n",
              "    </tr>\n",
              "    <tr>\n",
              "      <th>39765</th>\n",
              "      <td>Andrew A. Spencer</td>\n",
              "      <td>PERSON</td>\n",
              "    </tr>\n",
              "    <tr>\n",
              "      <th>39766</th>\n",
              "      <td>Gary W. Mahan</td>\n",
              "      <td>PERSON</td>\n",
              "    </tr>\n",
              "    <tr>\n",
              "      <th>39767</th>\n",
              "      <td>Curtis Jackson</td>\n",
              "      <td>PERSON</td>\n",
              "    </tr>\n",
              "    <tr>\n",
              "      <th>39768</th>\n",
              "      <td>-- Thomas Jefferson\\n</td>\n",
              "      <td>PERSON</td>\n",
              "    </tr>\n",
              "  </tbody>\n",
              "</table>\n",
              "<p>39769 rows × 2 columns</p>\n",
              "</div>"
            ],
            "text/plain": [
              "                              Entities        Labels\n",
              "0               University of Maryland  ORGANIZATION\n",
              "1                             Bricklin        PERSON\n",
              "2                                  Kuo        PERSON\n",
              "3      University of Washington\\nLines  ORGANIZATION\n",
              "4                      Thomas E Willis        PERSON\n",
              "...                                ...           ...\n",
              "39764                              USA      LOCATION\n",
              "39765                Andrew A. Spencer        PERSON\n",
              "39766                    Gary W. Mahan        PERSON\n",
              "39767                   Curtis Jackson        PERSON\n",
              "39768            -- Thomas Jefferson\\n        PERSON\n",
              "\n",
              "[39769 rows x 2 columns]"
            ]
          },
          "metadata": {
            "tags": []
          },
          "execution_count": 31
        }
      ]
    },
    {
      "cell_type": "markdown",
      "metadata": {
        "id": "4vDw5R19hdfA"
      },
      "source": [
        "**Potential tags in 5000 documents**"
      ]
    },
    {
      "cell_type": "code",
      "metadata": {
        "colab": {
          "base_uri": "https://localhost:8080/"
        },
        "id": "4bKelWutNYLd",
        "outputId": "887a90aa-074e-4e69-e1e1-4ceb7328776d"
      },
      "source": [
        "#entities_df_ = classified_text_df[classified_text_df['Labels'] != 'O']\n",
        "classified_text_df.Labels.unique()"
      ],
      "execution_count": null,
      "outputs": [
        {
          "output_type": "execute_result",
          "data": {
            "text/plain": [
              "array(['ORGANIZATION', 'PERSON', 'LOCATION'], dtype=object)"
            ]
          },
          "metadata": {
            "tags": []
          },
          "execution_count": 32
        }
      ]
    },
    {
      "cell_type": "markdown",
      "metadata": {
        "id": "ptAiJNGjhguh"
      },
      "source": [
        "**All LOCATION enitities in 5000 docs**"
      ]
    },
    {
      "cell_type": "code",
      "metadata": {
        "colab": {
          "base_uri": "https://localhost:8080/",
          "height": 406
        },
        "id": "uKa9vLFENYLh",
        "outputId": "873857df-42c5-46aa-ce3f-d281b1ea98dd"
      },
      "source": [
        "entities_df_loc = classified_text_df[classified_text_df['Labels'] == 'LOCATION']\n",
        "#entities_df_loc.drop_duplicates(subset=['Entities'],keep='first', inplace=True)\n",
        "entities_df_loc"
      ],
      "execution_count": null,
      "outputs": [
        {
          "output_type": "execute_result",
          "data": {
            "text/html": [
              "<div>\n",
              "<style scoped>\n",
              "    .dataframe tbody tr th:only-of-type {\n",
              "        vertical-align: middle;\n",
              "    }\n",
              "\n",
              "    .dataframe tbody tr th {\n",
              "        vertical-align: top;\n",
              "    }\n",
              "\n",
              "    .dataframe thead th {\n",
              "        text-align: right;\n",
              "    }\n",
              "</style>\n",
              "<table border=\"1\" class=\"dataframe\">\n",
              "  <thead>\n",
              "    <tr style=\"text-align: right;\">\n",
              "      <th></th>\n",
              "      <th>Entities</th>\n",
              "      <th>Labels</th>\n",
              "    </tr>\n",
              "  </thead>\n",
              "  <tbody>\n",
              "    <tr>\n",
              "      <th>13</th>\n",
              "      <td>Cambridge</td>\n",
              "      <td>LOCATION</td>\n",
              "    </tr>\n",
              "    <tr>\n",
              "      <th>19</th>\n",
              "      <td>US</td>\n",
              "      <td>LOCATION</td>\n",
              "    </tr>\n",
              "    <tr>\n",
              "      <th>24</th>\n",
              "      <td>Las Cruces</td>\n",
              "      <td>LOCATION</td>\n",
              "    </tr>\n",
              "    <tr>\n",
              "      <th>50</th>\n",
              "      <td>Leicester</td>\n",
              "      <td>LOCATION</td>\n",
              "    </tr>\n",
              "    <tr>\n",
              "      <th>59</th>\n",
              "      <td>Fort Collins</td>\n",
              "      <td>LOCATION</td>\n",
              "    </tr>\n",
              "    <tr>\n",
              "      <th>...</th>\n",
              "      <td>...</td>\n",
              "      <td>...</td>\n",
              "    </tr>\n",
              "    <tr>\n",
              "      <th>39742</th>\n",
              "      <td>U.S.</td>\n",
              "      <td>LOCATION</td>\n",
              "    </tr>\n",
              "    <tr>\n",
              "      <th>39746</th>\n",
              "      <td>Wisconsin</td>\n",
              "      <td>LOCATION</td>\n",
              "    </tr>\n",
              "    <tr>\n",
              "      <th>39747</th>\n",
              "      <td>Wisconsin</td>\n",
              "      <td>LOCATION</td>\n",
              "    </tr>\n",
              "    <tr>\n",
              "      <th>39763</th>\n",
              "      <td>Cleveland</td>\n",
              "      <td>LOCATION</td>\n",
              "    </tr>\n",
              "    <tr>\n",
              "      <th>39764</th>\n",
              "      <td>USA</td>\n",
              "      <td>LOCATION</td>\n",
              "    </tr>\n",
              "  </tbody>\n",
              "</table>\n",
              "<p>9659 rows × 2 columns</p>\n",
              "</div>"
            ],
            "text/plain": [
              "           Entities    Labels\n",
              "13        Cambridge  LOCATION\n",
              "19               US  LOCATION\n",
              "24       Las Cruces  LOCATION\n",
              "50        Leicester  LOCATION\n",
              "59     Fort Collins  LOCATION\n",
              "...             ...       ...\n",
              "39742          U.S.  LOCATION\n",
              "39746     Wisconsin  LOCATION\n",
              "39747     Wisconsin  LOCATION\n",
              "39763     Cleveland  LOCATION\n",
              "39764           USA  LOCATION\n",
              "\n",
              "[9659 rows x 2 columns]"
            ]
          },
          "metadata": {
            "tags": []
          },
          "execution_count": 33
        }
      ]
    },
    {
      "cell_type": "code",
      "metadata": {
        "colab": {
          "base_uri": "https://localhost:8080/",
          "height": 406
        },
        "id": "dBPstdXDNP_K",
        "outputId": "802c9060-0995-4a8b-890d-b8ca9dd97bf2"
      },
      "source": [
        "entities_df_person = classified_text_df[classified_text_df['Labels'] == 'PERSON']\n",
        "#entities_df_person.drop_duplicates(subset=['Entities'],keep='first', inplace=True)\n",
        "entities_df_person"
      ],
      "execution_count": null,
      "outputs": [
        {
          "output_type": "execute_result",
          "data": {
            "text/html": [
              "<div>\n",
              "<style scoped>\n",
              "    .dataframe tbody tr th:only-of-type {\n",
              "        vertical-align: middle;\n",
              "    }\n",
              "\n",
              "    .dataframe tbody tr th {\n",
              "        vertical-align: top;\n",
              "    }\n",
              "\n",
              "    .dataframe thead th {\n",
              "        text-align: right;\n",
              "    }\n",
              "</style>\n",
              "<table border=\"1\" class=\"dataframe\">\n",
              "  <thead>\n",
              "    <tr style=\"text-align: right;\">\n",
              "      <th></th>\n",
              "      <th>Entities</th>\n",
              "      <th>Labels</th>\n",
              "    </tr>\n",
              "  </thead>\n",
              "  <tbody>\n",
              "    <tr>\n",
              "      <th>1</th>\n",
              "      <td>Bricklin</td>\n",
              "      <td>PERSON</td>\n",
              "    </tr>\n",
              "    <tr>\n",
              "      <th>2</th>\n",
              "      <td>Kuo</td>\n",
              "      <td>PERSON</td>\n",
              "    </tr>\n",
              "    <tr>\n",
              "      <th>4</th>\n",
              "      <td>Thomas E Willis</td>\n",
              "      <td>PERSON</td>\n",
              "    </tr>\n",
              "    <tr>\n",
              "      <th>10</th>\n",
              "      <td>Jonathan Winters\\n</td>\n",
              "      <td>PERSON</td>\n",
              "    </tr>\n",
              "    <tr>\n",
              "      <th>11</th>\n",
              "      <td>Jonathan McDowell</td>\n",
              "      <td>PERSON</td>\n",
              "    </tr>\n",
              "    <tr>\n",
              "      <th>...</th>\n",
              "      <td>...</td>\n",
              "      <td>...</td>\n",
              "    </tr>\n",
              "    <tr>\n",
              "      <th>39761</th>\n",
              "      <td>Andrew A. Spencer</td>\n",
              "      <td>PERSON</td>\n",
              "    </tr>\n",
              "    <tr>\n",
              "      <th>39765</th>\n",
              "      <td>Andrew A. Spencer</td>\n",
              "      <td>PERSON</td>\n",
              "    </tr>\n",
              "    <tr>\n",
              "      <th>39766</th>\n",
              "      <td>Gary W. Mahan</td>\n",
              "      <td>PERSON</td>\n",
              "    </tr>\n",
              "    <tr>\n",
              "      <th>39767</th>\n",
              "      <td>Curtis Jackson</td>\n",
              "      <td>PERSON</td>\n",
              "    </tr>\n",
              "    <tr>\n",
              "      <th>39768</th>\n",
              "      <td>-- Thomas Jefferson\\n</td>\n",
              "      <td>PERSON</td>\n",
              "    </tr>\n",
              "  </tbody>\n",
              "</table>\n",
              "<p>17865 rows × 2 columns</p>\n",
              "</div>"
            ],
            "text/plain": [
              "                    Entities  Labels\n",
              "1                   Bricklin  PERSON\n",
              "2                        Kuo  PERSON\n",
              "4            Thomas E Willis  PERSON\n",
              "10        Jonathan Winters\\n  PERSON\n",
              "11         Jonathan McDowell  PERSON\n",
              "...                      ...     ...\n",
              "39761      Andrew A. Spencer  PERSON\n",
              "39765      Andrew A. Spencer  PERSON\n",
              "39766          Gary W. Mahan  PERSON\n",
              "39767         Curtis Jackson  PERSON\n",
              "39768  -- Thomas Jefferson\\n  PERSON\n",
              "\n",
              "[17865 rows x 2 columns]"
            ]
          },
          "metadata": {
            "tags": []
          },
          "execution_count": 35
        }
      ]
    },
    {
      "cell_type": "markdown",
      "metadata": {
        "id": "3Lcud-Kgo1SJ"
      },
      "source": [
        "### **(ii)Spacy NER Tagging**"
      ]
    },
    {
      "cell_type": "code",
      "metadata": {
        "colab": {
          "base_uri": "https://localhost:8080/",
          "height": 35
        },
        "id": "63NXYEtTbB9F",
        "outputId": "433f919a-e18c-41f5-8e2b-ca0486089e67"
      },
      "source": [
        "import spacy \n",
        "spacy.prefer_gpu()\n",
        "from spacy import displacy\n",
        "spacy.__version__"
      ],
      "execution_count": null,
      "outputs": [
        {
          "output_type": "execute_result",
          "data": {
            "application/vnd.google.colaboratory.intrinsic+json": {
              "type": "string"
            },
            "text/plain": [
              "'3.0.6'"
            ]
          },
          "metadata": {
            "tags": []
          },
          "execution_count": 2
        }
      ]
    },
    {
      "cell_type": "code",
      "metadata": {
        "id": "DnbJMj_GbB9G"
      },
      "source": [
        "#Download spacy models\n",
        "!python -m spacy download en_core_web_md\n",
        "import en_core_web_md"
      ],
      "execution_count": null,
      "outputs": []
    },
    {
      "cell_type": "code",
      "metadata": {
        "id": "G4q376r1bB9H"
      },
      "source": [
        "nlp = spacy.load('en_core_web_md')"
      ],
      "execution_count": null,
      "outputs": []
    },
    {
      "cell_type": "markdown",
      "metadata": {
        "id": "SeY5HYA7RA5x"
      },
      "source": [
        "**with 5000 documents**"
      ]
    },
    {
      "cell_type": "code",
      "metadata": {
        "id": "eATzyzGGbB9I"
      },
      "source": [
        "entities = []\n",
        "labels = []\n",
        "position_start = []\n",
        "position_end = []\n",
        "  \n",
        "for i in data_2:\n",
        "  i=str(i)\n",
        "  doc = nlp(i)\n",
        "\n",
        "  for ent in doc.ents:\n",
        "    entities.append(ent.text)\n",
        "    labels.append(ent.label_)\n",
        "    position_start.append(ent.start_char)\n",
        "    position_end.append(ent.end_char)\n",
        "   \n",
        "spacy_df= pd.DataFrame({'Entities':entities,'Labels':labels,'Position_Start':position_start, 'Position_End':position_end})"
      ],
      "execution_count": null,
      "outputs": []
    },
    {
      "cell_type": "code",
      "metadata": {
        "colab": {
          "base_uri": "https://localhost:8080/",
          "height": 406
        },
        "id": "x5dY9VkLbB9J",
        "outputId": "b22e9861-fdfd-4815-b6b7-1afa7c224ff2"
      },
      "source": [
        "spacy_df"
      ],
      "execution_count": null,
      "outputs": [
        {
          "output_type": "execute_result",
          "data": {
            "text/html": [
              "<div>\n",
              "<style scoped>\n",
              "    .dataframe tbody tr th:only-of-type {\n",
              "        vertical-align: middle;\n",
              "    }\n",
              "\n",
              "    .dataframe tbody tr th {\n",
              "        vertical-align: top;\n",
              "    }\n",
              "\n",
              "    .dataframe thead th {\n",
              "        text-align: right;\n",
              "    }\n",
              "</style>\n",
              "<table border=\"1\" class=\"dataframe\">\n",
              "  <thead>\n",
              "    <tr style=\"text-align: right;\">\n",
              "      <th></th>\n",
              "      <th>Entities</th>\n",
              "      <th>Labels</th>\n",
              "      <th>Position_Start</th>\n",
              "      <th>Position_End</th>\n",
              "    </tr>\n",
              "  </thead>\n",
              "  <tbody>\n",
              "    <tr>\n",
              "      <th>0</th>\n",
              "      <td>lerxst@wam.umd.edu</td>\n",
              "      <td>PERSON</td>\n",
              "      <td>6</td>\n",
              "      <td>24</td>\n",
              "    </tr>\n",
              "    <tr>\n",
              "      <th>1</th>\n",
              "      <td>rac3.wam.umd.edu\\nOrganization</td>\n",
              "      <td>ORG</td>\n",
              "      <td>91</td>\n",
              "      <td>120</td>\n",
              "    </tr>\n",
              "    <tr>\n",
              "      <th>2</th>\n",
              "      <td>University of Maryland</td>\n",
              "      <td>ORG</td>\n",
              "      <td>122</td>\n",
              "      <td>144</td>\n",
              "    </tr>\n",
              "    <tr>\n",
              "      <th>3</th>\n",
              "      <td>College Park\\nLines</td>\n",
              "      <td>ORG</td>\n",
              "      <td>146</td>\n",
              "      <td>164</td>\n",
              "    </tr>\n",
              "    <tr>\n",
              "      <th>4</th>\n",
              "      <td>15</td>\n",
              "      <td>CARDINAL</td>\n",
              "      <td>166</td>\n",
              "      <td>168</td>\n",
              "    </tr>\n",
              "    <tr>\n",
              "      <th>...</th>\n",
              "      <td>...</td>\n",
              "      <td>...</td>\n",
              "      <td>...</td>\n",
              "      <td>...</td>\n",
              "    </tr>\n",
              "    <tr>\n",
              "      <th>116341</th>\n",
              "      <td>81</td>\n",
              "      <td>CARDINAL</td>\n",
              "      <td>1026</td>\n",
              "      <td>1028</td>\n",
              "    </tr>\n",
              "    <tr>\n",
              "      <th>116342</th>\n",
              "      <td>Maxim 650\\n</td>\n",
              "      <td>LAW</td>\n",
              "      <td>1029</td>\n",
              "      <td>1039</td>\n",
              "    </tr>\n",
              "    <tr>\n",
              "      <th>116343</th>\n",
              "      <td>Studley Doright</td>\n",
              "      <td>PERSON</td>\n",
              "      <td>1073</td>\n",
              "      <td>1088</td>\n",
              "    </tr>\n",
              "    <tr>\n",
              "      <th>116344</th>\n",
              "      <td>Collie/Golden \"</td>\n",
              "      <td>EVENT</td>\n",
              "      <td>1095</td>\n",
              "      <td>1110</td>\n",
              "    </tr>\n",
              "    <tr>\n",
              "      <th>116345</th>\n",
              "      <td>Thomas Jefferson\\n</td>\n",
              "      <td>PERSON</td>\n",
              "      <td>1218</td>\n",
              "      <td>1235</td>\n",
              "    </tr>\n",
              "  </tbody>\n",
              "</table>\n",
              "<p>116346 rows × 4 columns</p>\n",
              "</div>"
            ],
            "text/plain": [
              "                              Entities    Labels  Position_Start  Position_End\n",
              "0                   lerxst@wam.umd.edu    PERSON               6            24\n",
              "1       rac3.wam.umd.edu\\nOrganization       ORG              91           120\n",
              "2               University of Maryland       ORG             122           144\n",
              "3                  College Park\\nLines       ORG             146           164\n",
              "4                                   15  CARDINAL             166           168\n",
              "...                                ...       ...             ...           ...\n",
              "116341                              81  CARDINAL            1026          1028\n",
              "116342                     Maxim 650\\n       LAW            1029          1039\n",
              "116343                 Studley Doright    PERSON            1073          1088\n",
              "116344                 Collie/Golden \"     EVENT            1095          1110\n",
              "116345              Thomas Jefferson\\n    PERSON            1218          1235\n",
              "\n",
              "[116346 rows x 4 columns]"
            ]
          },
          "metadata": {
            "tags": []
          },
          "execution_count": 42
        }
      ]
    },
    {
      "cell_type": "markdown",
      "metadata": {
        "id": "oS35NxumRFxq"
      },
      "source": [
        "**All entities with PERSON Tag in 5000 documents using Spacy**"
      ]
    },
    {
      "cell_type": "code",
      "metadata": {
        "colab": {
          "base_uri": "https://localhost:8080/",
          "height": 406
        },
        "id": "_ueVfwlibB9K",
        "outputId": "2dbbebb7-10de-451e-aeff-1d6c11139c9e"
      },
      "source": [
        "spacy_df_person = spacy_df[spacy_df['Labels'] == 'PERSON']\n",
        "#spacy_df_person.drop_duplicates(subset=['Entities'],keep='first', inplace=True)\n",
        "spacy_df_person"
      ],
      "execution_count": null,
      "outputs": [
        {
          "output_type": "execute_result",
          "data": {
            "text/html": [
              "<div>\n",
              "<style scoped>\n",
              "    .dataframe tbody tr th:only-of-type {\n",
              "        vertical-align: middle;\n",
              "    }\n",
              "\n",
              "    .dataframe tbody tr th {\n",
              "        vertical-align: top;\n",
              "    }\n",
              "\n",
              "    .dataframe thead th {\n",
              "        text-align: right;\n",
              "    }\n",
              "</style>\n",
              "<table border=\"1\" class=\"dataframe\">\n",
              "  <thead>\n",
              "    <tr style=\"text-align: right;\">\n",
              "      <th></th>\n",
              "      <th>Entities</th>\n",
              "      <th>Labels</th>\n",
              "      <th>Position_Start</th>\n",
              "      <th>Position_End</th>\n",
              "    </tr>\n",
              "  </thead>\n",
              "  <tbody>\n",
              "    <tr>\n",
              "      <th>0</th>\n",
              "      <td>lerxst@wam.umd.edu</td>\n",
              "      <td>PERSON</td>\n",
              "      <td>6</td>\n",
              "      <td>24</td>\n",
              "    </tr>\n",
              "    <tr>\n",
              "      <th>10</th>\n",
              "      <td>Guy Kuo</td>\n",
              "      <td>PERSON</td>\n",
              "      <td>38</td>\n",
              "      <td>45</td>\n",
              "    </tr>\n",
              "    <tr>\n",
              "      <th>17</th>\n",
              "      <td>Guy Kuo &lt;guykuo@u.washington.edu&gt;</td>\n",
              "      <td>PERSON</td>\n",
              "      <td>824</td>\n",
              "      <td>857</td>\n",
              "    </tr>\n",
              "    <tr>\n",
              "      <th>18</th>\n",
              "      <td>twillis@ec.ecn.purdue.edu</td>\n",
              "      <td>PERSON</td>\n",
              "      <td>6</td>\n",
              "      <td>31</td>\n",
              "    </tr>\n",
              "    <tr>\n",
              "      <th>19</th>\n",
              "      <td>Thomas E Willis</td>\n",
              "      <td>PERSON</td>\n",
              "      <td>33</td>\n",
              "      <td>48</td>\n",
              "    </tr>\n",
              "    <tr>\n",
              "      <th>...</th>\n",
              "      <td>...</td>\n",
              "      <td>...</td>\n",
              "      <td>...</td>\n",
              "      <td>...</td>\n",
              "    </tr>\n",
              "    <tr>\n",
              "      <th>116324</th>\n",
              "      <td>Gary W. Mahan</td>\n",
              "      <td>PERSON</td>\n",
              "      <td>300</td>\n",
              "      <td>313</td>\n",
              "    </tr>\n",
              "    <tr>\n",
              "      <th>116330</th>\n",
              "      <td>Curtis Jackson</td>\n",
              "      <td>PERSON</td>\n",
              "      <td>26</td>\n",
              "      <td>40</td>\n",
              "    </tr>\n",
              "    <tr>\n",
              "      <th>116338</th>\n",
              "      <td>Curtis Jackson</td>\n",
              "      <td>PERSON</td>\n",
              "      <td>970</td>\n",
              "      <td>984</td>\n",
              "    </tr>\n",
              "    <tr>\n",
              "      <th>116343</th>\n",
              "      <td>Studley Doright</td>\n",
              "      <td>PERSON</td>\n",
              "      <td>1073</td>\n",
              "      <td>1088</td>\n",
              "    </tr>\n",
              "    <tr>\n",
              "      <th>116345</th>\n",
              "      <td>Thomas Jefferson\\n</td>\n",
              "      <td>PERSON</td>\n",
              "      <td>1218</td>\n",
              "      <td>1235</td>\n",
              "    </tr>\n",
              "  </tbody>\n",
              "</table>\n",
              "<p>28446 rows × 4 columns</p>\n",
              "</div>"
            ],
            "text/plain": [
              "                                 Entities  Labels  Position_Start  Position_End\n",
              "0                      lerxst@wam.umd.edu  PERSON               6            24\n",
              "10                                Guy Kuo  PERSON              38            45\n",
              "17      Guy Kuo <guykuo@u.washington.edu>  PERSON             824           857\n",
              "18              twillis@ec.ecn.purdue.edu  PERSON               6            31\n",
              "19                        Thomas E Willis  PERSON              33            48\n",
              "...                                   ...     ...             ...           ...\n",
              "116324                      Gary W. Mahan  PERSON             300           313\n",
              "116330                     Curtis Jackson  PERSON              26            40\n",
              "116338                     Curtis Jackson  PERSON             970           984\n",
              "116343                    Studley Doright  PERSON            1073          1088\n",
              "116345                 Thomas Jefferson\\n  PERSON            1218          1235\n",
              "\n",
              "[28446 rows x 4 columns]"
            ]
          },
          "metadata": {
            "tags": []
          },
          "execution_count": 43
        }
      ]
    },
    {
      "cell_type": "markdown",
      "metadata": {
        "id": "BYGPappHDSkz"
      },
      "source": [
        "**All entities with LOC Tag in 5000 documents using Spacy**"
      ]
    },
    {
      "cell_type": "code",
      "metadata": {
        "id": "ZHrQE9QAA5Ek",
        "colab": {
          "base_uri": "https://localhost:8080/",
          "height": 406
        },
        "outputId": "1b523789-cf89-4607-8c03-0e2d2800e243"
      },
      "source": [
        "spacy_df_loc= spacy_df[spacy_df['Labels']== 'LOC']\n",
        "#spacy_df_loc_gpe.drop_duplicates(subset=['Entities'],keep='first', inplace=True)\n",
        "spacy_df_loc"
      ],
      "execution_count": null,
      "outputs": [
        {
          "output_type": "execute_result",
          "data": {
            "text/html": [
              "<div>\n",
              "<style scoped>\n",
              "    .dataframe tbody tr th:only-of-type {\n",
              "        vertical-align: middle;\n",
              "    }\n",
              "\n",
              "    .dataframe tbody tr th {\n",
              "        vertical-align: top;\n",
              "    }\n",
              "\n",
              "    .dataframe thead th {\n",
              "        text-align: right;\n",
              "    }\n",
              "</style>\n",
              "<table border=\"1\" class=\"dataframe\">\n",
              "  <thead>\n",
              "    <tr style=\"text-align: right;\">\n",
              "      <th></th>\n",
              "      <th>Entities</th>\n",
              "      <th>Labels</th>\n",
              "      <th>Position_Start</th>\n",
              "      <th>Position_End</th>\n",
              "    </tr>\n",
              "  </thead>\n",
              "  <tbody>\n",
              "    <tr>\n",
              "      <th>234</th>\n",
              "      <td>Crystal City</td>\n",
              "      <td>LOC</td>\n",
              "      <td>499</td>\n",
              "      <td>511</td>\n",
              "    </tr>\n",
              "    <tr>\n",
              "      <th>251</th>\n",
              "      <td>Crystal City</td>\n",
              "      <td>LOC</td>\n",
              "      <td>1461</td>\n",
              "      <td>1473</td>\n",
              "    </tr>\n",
              "    <tr>\n",
              "      <th>723</th>\n",
              "      <td>Negev</td>\n",
              "      <td>LOC</td>\n",
              "      <td>2058</td>\n",
              "      <td>2063</td>\n",
              "    </tr>\n",
              "    <tr>\n",
              "      <th>737</th>\n",
              "      <td>Northern israel</td>\n",
              "      <td>LOC</td>\n",
              "      <td>2700</td>\n",
              "      <td>2715</td>\n",
              "    </tr>\n",
              "    <tr>\n",
              "      <th>1206</th>\n",
              "      <td>Earth</td>\n",
              "      <td>LOC</td>\n",
              "      <td>737</td>\n",
              "      <td>742</td>\n",
              "    </tr>\n",
              "    <tr>\n",
              "      <th>...</th>\n",
              "      <td>...</td>\n",
              "      <td>...</td>\n",
              "      <td>...</td>\n",
              "      <td>...</td>\n",
              "    </tr>\n",
              "    <tr>\n",
              "      <th>115595</th>\n",
              "      <td>NYC</td>\n",
              "      <td>LOC</td>\n",
              "      <td>67</td>\n",
              "      <td>70</td>\n",
              "    </tr>\n",
              "    <tr>\n",
              "      <th>115599</th>\n",
              "      <td>NYC</td>\n",
              "      <td>LOC</td>\n",
              "      <td>225</td>\n",
              "      <td>228</td>\n",
              "    </tr>\n",
              "    <tr>\n",
              "      <th>115600</th>\n",
              "      <td>NYC</td>\n",
              "      <td>LOC</td>\n",
              "      <td>322</td>\n",
              "      <td>325</td>\n",
              "    </tr>\n",
              "    <tr>\n",
              "      <th>115602</th>\n",
              "      <td>South Street Seaport</td>\n",
              "      <td>LOC</td>\n",
              "      <td>533</td>\n",
              "      <td>553</td>\n",
              "    </tr>\n",
              "    <tr>\n",
              "      <th>115931</th>\n",
              "      <td>Mountain View</td>\n",
              "      <td>LOC</td>\n",
              "      <td>227</td>\n",
              "      <td>240</td>\n",
              "    </tr>\n",
              "  </tbody>\n",
              "</table>\n",
              "<p>762 rows × 4 columns</p>\n",
              "</div>"
            ],
            "text/plain": [
              "                    Entities Labels  Position_Start  Position_End\n",
              "234             Crystal City    LOC             499           511\n",
              "251             Crystal City    LOC            1461          1473\n",
              "723                    Negev    LOC            2058          2063\n",
              "737          Northern israel    LOC            2700          2715\n",
              "1206                   Earth    LOC             737           742\n",
              "...                      ...    ...             ...           ...\n",
              "115595                   NYC    LOC              67            70\n",
              "115599                   NYC    LOC             225           228\n",
              "115600                   NYC    LOC             322           325\n",
              "115602  South Street Seaport    LOC             533           553\n",
              "115931         Mountain View    LOC             227           240\n",
              "\n",
              "[762 rows x 4 columns]"
            ]
          },
          "metadata": {
            "tags": []
          },
          "execution_count": 45
        }
      ]
    },
    {
      "cell_type": "markdown",
      "metadata": {
        "id": "rLtKe507DWqT"
      },
      "source": [
        "**All entities with GPE Tag in 5000 documents using Spacy**"
      ]
    },
    {
      "cell_type": "code",
      "metadata": {
        "id": "71AwTzGcBCsq",
        "colab": {
          "base_uri": "https://localhost:8080/",
          "height": 406
        },
        "outputId": "715e6f46-52c4-4c21-ff9f-a801d786c0ee"
      },
      "source": [
        "spacy_df_gpe= spacy_df[spacy_df['Labels']== 'GPE']\n",
        "#spacy_df_loc_gpe.drop_duplicates(subset=['Entities'],keep='first', inplace=True)\n",
        "spacy_df_gpe"
      ],
      "execution_count": null,
      "outputs": [
        {
          "output_type": "execute_result",
          "data": {
            "text/html": [
              "<div>\n",
              "<style scoped>\n",
              "    .dataframe tbody tr th:only-of-type {\n",
              "        vertical-align: middle;\n",
              "    }\n",
              "\n",
              "    .dataframe tbody tr th {\n",
              "        vertical-align: top;\n",
              "    }\n",
              "\n",
              "    .dataframe thead th {\n",
              "        text-align: right;\n",
              "    }\n",
              "</style>\n",
              "<table border=\"1\" class=\"dataframe\">\n",
              "  <thead>\n",
              "    <tr style=\"text-align: right;\">\n",
              "      <th></th>\n",
              "      <th>Entities</th>\n",
              "      <th>Labels</th>\n",
              "      <th>Position_Start</th>\n",
              "      <th>Position_End</th>\n",
              "    </tr>\n",
              "  </thead>\n",
              "  <tbody>\n",
              "    <tr>\n",
              "      <th>7</th>\n",
              "      <td>Bricklin</td>\n",
              "      <td>GPE</td>\n",
              "      <td>346</td>\n",
              "      <td>354</td>\n",
              "    </tr>\n",
              "    <tr>\n",
              "      <th>53</th>\n",
              "      <td>Cambridge</td>\n",
              "      <td>GPE</td>\n",
              "      <td>141</td>\n",
              "      <td>150</td>\n",
              "    </tr>\n",
              "    <tr>\n",
              "      <th>67</th>\n",
              "      <td>jrutledg@cs.ulowell.edu</td>\n",
              "      <td>GPE</td>\n",
              "      <td>455</td>\n",
              "      <td>478</td>\n",
              "    </tr>\n",
              "    <tr>\n",
              "      <th>74</th>\n",
              "      <td>US</td>\n",
              "      <td>GPE</td>\n",
              "      <td>1910</td>\n",
              "      <td>1912</td>\n",
              "    </tr>\n",
              "    <tr>\n",
              "      <th>89</th>\n",
              "      <td>Las Cruces</td>\n",
              "      <td>GPE</td>\n",
              "      <td>104</td>\n",
              "      <td>114</td>\n",
              "    </tr>\n",
              "    <tr>\n",
              "      <th>...</th>\n",
              "      <td>...</td>\n",
              "      <td>...</td>\n",
              "      <td>...</td>\n",
              "      <td>...</td>\n",
              "    </tr>\n",
              "    <tr>\n",
              "      <th>116272</th>\n",
              "      <td>Melbourne</td>\n",
              "      <td>GPE</td>\n",
              "      <td>615</td>\n",
              "      <td>624</td>\n",
              "    </tr>\n",
              "    <tr>\n",
              "      <th>116273</th>\n",
              "      <td>Australia</td>\n",
              "      <td>GPE</td>\n",
              "      <td>626</td>\n",
              "      <td>635</td>\n",
              "    </tr>\n",
              "    <tr>\n",
              "      <th>116284</th>\n",
              "      <td>Baroda</td>\n",
              "      <td>GPE</td>\n",
              "      <td>485</td>\n",
              "      <td>491</td>\n",
              "    </tr>\n",
              "    <tr>\n",
              "      <th>116317</th>\n",
              "      <td>nyeda@cnsvax.uwec.edu</td>\n",
              "      <td>GPE</td>\n",
              "      <td>2750</td>\n",
              "      <td>2771</td>\n",
              "    </tr>\n",
              "    <tr>\n",
              "      <th>116321</th>\n",
              "      <td>Cleveland</td>\n",
              "      <td>GPE</td>\n",
              "      <td>137</td>\n",
              "      <td>146</td>\n",
              "    </tr>\n",
              "  </tbody>\n",
              "</table>\n",
              "<p>11106 rows × 4 columns</p>\n",
              "</div>"
            ],
            "text/plain": [
              "                       Entities Labels  Position_Start  Position_End\n",
              "7                      Bricklin    GPE             346           354\n",
              "53                    Cambridge    GPE             141           150\n",
              "67      jrutledg@cs.ulowell.edu    GPE             455           478\n",
              "74                           US    GPE            1910          1912\n",
              "89                   Las Cruces    GPE             104           114\n",
              "...                         ...    ...             ...           ...\n",
              "116272                Melbourne    GPE             615           624\n",
              "116273                Australia    GPE             626           635\n",
              "116284                   Baroda    GPE             485           491\n",
              "116317    nyeda@cnsvax.uwec.edu    GPE            2750          2771\n",
              "116321                Cleveland    GPE             137           146\n",
              "\n",
              "[11106 rows x 4 columns]"
            ]
          },
          "metadata": {
            "tags": []
          },
          "execution_count": 46
        }
      ]
    },
    {
      "cell_type": "markdown",
      "metadata": {
        "id": "rCAb0XkpDavd"
      },
      "source": [
        "**All entities with LOC AND GPE Tag in 5000 documents using Spacy**"
      ]
    },
    {
      "cell_type": "code",
      "metadata": {
        "colab": {
          "base_uri": "https://localhost:8080/",
          "height": 406
        },
        "id": "68cjYa-gbB9L",
        "outputId": "db0b10fe-74e4-4636-e382-35e07365a77d"
      },
      "source": [
        "#spacy_df_loc_gpe = spacy_df[(spacy_df['Labels'] == 'GPE') & (spacy_df['Labels'] == 'LOC') ]\n",
        "spacy_df_loc_gpe = spacy_df[spacy_df['Labels'].isin(['GPE', 'LOC']) ]\n",
        "#spacy_df_loc_gpe.drop_duplicates(subset=['Entities'],keep='first', inplace=True)\n",
        "spacy_df_loc_gpe"
      ],
      "execution_count": null,
      "outputs": [
        {
          "output_type": "execute_result",
          "data": {
            "text/html": [
              "<div>\n",
              "<style scoped>\n",
              "    .dataframe tbody tr th:only-of-type {\n",
              "        vertical-align: middle;\n",
              "    }\n",
              "\n",
              "    .dataframe tbody tr th {\n",
              "        vertical-align: top;\n",
              "    }\n",
              "\n",
              "    .dataframe thead th {\n",
              "        text-align: right;\n",
              "    }\n",
              "</style>\n",
              "<table border=\"1\" class=\"dataframe\">\n",
              "  <thead>\n",
              "    <tr style=\"text-align: right;\">\n",
              "      <th></th>\n",
              "      <th>Entities</th>\n",
              "      <th>Labels</th>\n",
              "      <th>Position_Start</th>\n",
              "      <th>Position_End</th>\n",
              "    </tr>\n",
              "  </thead>\n",
              "  <tbody>\n",
              "    <tr>\n",
              "      <th>7</th>\n",
              "      <td>Bricklin</td>\n",
              "      <td>GPE</td>\n",
              "      <td>346</td>\n",
              "      <td>354</td>\n",
              "    </tr>\n",
              "    <tr>\n",
              "      <th>53</th>\n",
              "      <td>Cambridge</td>\n",
              "      <td>GPE</td>\n",
              "      <td>141</td>\n",
              "      <td>150</td>\n",
              "    </tr>\n",
              "    <tr>\n",
              "      <th>67</th>\n",
              "      <td>jrutledg@cs.ulowell.edu</td>\n",
              "      <td>GPE</td>\n",
              "      <td>455</td>\n",
              "      <td>478</td>\n",
              "    </tr>\n",
              "    <tr>\n",
              "      <th>74</th>\n",
              "      <td>US</td>\n",
              "      <td>GPE</td>\n",
              "      <td>1910</td>\n",
              "      <td>1912</td>\n",
              "    </tr>\n",
              "    <tr>\n",
              "      <th>89</th>\n",
              "      <td>Las Cruces</td>\n",
              "      <td>GPE</td>\n",
              "      <td>104</td>\n",
              "      <td>114</td>\n",
              "    </tr>\n",
              "    <tr>\n",
              "      <th>...</th>\n",
              "      <td>...</td>\n",
              "      <td>...</td>\n",
              "      <td>...</td>\n",
              "      <td>...</td>\n",
              "    </tr>\n",
              "    <tr>\n",
              "      <th>116272</th>\n",
              "      <td>Melbourne</td>\n",
              "      <td>GPE</td>\n",
              "      <td>615</td>\n",
              "      <td>624</td>\n",
              "    </tr>\n",
              "    <tr>\n",
              "      <th>116273</th>\n",
              "      <td>Australia</td>\n",
              "      <td>GPE</td>\n",
              "      <td>626</td>\n",
              "      <td>635</td>\n",
              "    </tr>\n",
              "    <tr>\n",
              "      <th>116284</th>\n",
              "      <td>Baroda</td>\n",
              "      <td>GPE</td>\n",
              "      <td>485</td>\n",
              "      <td>491</td>\n",
              "    </tr>\n",
              "    <tr>\n",
              "      <th>116317</th>\n",
              "      <td>nyeda@cnsvax.uwec.edu</td>\n",
              "      <td>GPE</td>\n",
              "      <td>2750</td>\n",
              "      <td>2771</td>\n",
              "    </tr>\n",
              "    <tr>\n",
              "      <th>116321</th>\n",
              "      <td>Cleveland</td>\n",
              "      <td>GPE</td>\n",
              "      <td>137</td>\n",
              "      <td>146</td>\n",
              "    </tr>\n",
              "  </tbody>\n",
              "</table>\n",
              "<p>11868 rows × 4 columns</p>\n",
              "</div>"
            ],
            "text/plain": [
              "                       Entities Labels  Position_Start  Position_End\n",
              "7                      Bricklin    GPE             346           354\n",
              "53                    Cambridge    GPE             141           150\n",
              "67      jrutledg@cs.ulowell.edu    GPE             455           478\n",
              "74                           US    GPE            1910          1912\n",
              "89                   Las Cruces    GPE             104           114\n",
              "...                         ...    ...             ...           ...\n",
              "116272                Melbourne    GPE             615           624\n",
              "116273                Australia    GPE             626           635\n",
              "116284                   Baroda    GPE             485           491\n",
              "116317    nyeda@cnsvax.uwec.edu    GPE            2750          2771\n",
              "116321                Cleveland    GPE             137           146\n",
              "\n",
              "[11868 rows x 4 columns]"
            ]
          },
          "metadata": {
            "tags": []
          },
          "execution_count": 44
        }
      ]
    },
    {
      "cell_type": "markdown",
      "metadata": {
        "id": "cuHPBmDHEXVl"
      },
      "source": [
        "## **1(b) Top 100 LOC and PERSON entities** "
      ]
    },
    {
      "cell_type": "markdown",
      "metadata": {
        "id": "VSD9X-pKL00Z"
      },
      "source": [
        "### **STANFORD**"
      ]
    },
    {
      "cell_type": "code",
      "metadata": {
        "colab": {
          "base_uri": "https://localhost:8080/"
        },
        "id": "Ip5VtX-NNYLk",
        "outputId": "3e055ffd-8500-40ee-8b66-8c429e7dc20e"
      },
      "source": [
        "count_entities_df_loc=entities_df_loc['Entities'].value_counts()\n",
        "count_entities_df_loc"
      ],
      "execution_count": null,
      "outputs": [
        {
          "output_type": "execute_result",
          "data": {
            "text/plain": [
              "US                                  357\n",
              "Israel                              296\n",
              "U.S.                                158\n",
              "USA                                 137\n",
              "Canada                              130\n",
              "                                   ... \n",
              "Nakhichevan                           1\n",
              "Prince Street Station\\n New York      1\n",
              "Wash DC                               1\n",
              "Bayur                                 1\n",
              "Vafeika                               1\n",
              "Name: Entities, Length: 1882, dtype: int64"
            ]
          },
          "metadata": {
            "tags": []
          },
          "execution_count": 34
        }
      ]
    },
    {
      "cell_type": "markdown",
      "metadata": {
        "id": "0T66ADgHHoZr"
      },
      "source": [
        "**Top 100 LOC entities using Stanford NER**"
      ]
    },
    {
      "cell_type": "code",
      "metadata": {
        "colab": {
          "base_uri": "https://localhost:8080/"
        },
        "id": "VCOOQgPAVNe2",
        "outputId": "9f1fd5e7-3850-42c3-f634-1d7eee6965f7"
      },
      "source": [
        "count_entities_df_loc[0:100]"
      ],
      "execution_count": null,
      "outputs": [
        {
          "output_type": "execute_result",
          "data": {
            "text/plain": [
              "US          357\n",
              "Israel      296\n",
              "U.S.        158\n",
              "USA         137\n",
              "Canada      130\n",
              "           ... \n",
              "Finland      19\n",
              "Bethesda     19\n",
              "Quebec       19\n",
              "CA           19\n",
              "Iraq         19\n",
              "Name: Entities, Length: 100, dtype: int64"
            ]
          },
          "metadata": {
            "tags": []
          },
          "execution_count": 37
        }
      ]
    },
    {
      "cell_type": "markdown",
      "metadata": {
        "id": "9-CsLeuGh6NU"
      },
      "source": [
        "\n",
        "\n",
        "---\n",
        "\n",
        "COUNT OF THE PERSON ENTITIES IN 5000 DOC."
      ]
    },
    {
      "cell_type": "code",
      "metadata": {
        "colab": {
          "base_uri": "https://localhost:8080/"
        },
        "id": "YMFbvUCZU-Xv",
        "outputId": "ef838b94-c93c-4a5a-aa34-5bdc9fac707a"
      },
      "source": [
        "count_entities_df_person=entities_df_person['Entities'].value_counts()\n",
        "count_entities_df_person"
      ],
      "execution_count": null,
      "outputs": [
        {
          "output_type": "execute_result",
          "data": {
            "text/plain": [
              "Jesus             318\n",
              "Clinton           159\n",
              "John               88\n",
              "Christ             78\n",
              "Matthew            67\n",
              "                 ... \n",
              "Mark W. Tilden      1\n",
              "Shirly Povich       1\n",
              "J. Lippard          1\n",
              "Glenn McMinn        1\n",
              "Diederich           1\n",
              "Name: Entities, Length: 8388, dtype: int64"
            ]
          },
          "metadata": {
            "tags": []
          },
          "execution_count": 36
        }
      ]
    },
    {
      "cell_type": "markdown",
      "metadata": {
        "id": "2r1_PR10IbWi"
      },
      "source": [
        "**Top 100 PERSON entities using Stanford NER**"
      ]
    },
    {
      "cell_type": "code",
      "metadata": {
        "colab": {
          "base_uri": "https://localhost:8080/"
        },
        "id": "v2YmrOJIVVTg",
        "outputId": "8d6d0008-fc5f-43f6-a8bf-5d3cd8c48af5"
      },
      "source": [
        "count_entities_df_person[0:100]"
      ],
      "execution_count": null,
      "outputs": [
        {
          "output_type": "execute_result",
          "data": {
            "text/plain": [
              "Jesus              318\n",
              "Clinton            159\n",
              "John                88\n",
              "Christ              78\n",
              "Matthew             67\n",
              "                  ... \n",
              "Steven Bellovin     14\n",
              "Reagan              14\n",
              "Stalin              14\n",
              "Gerald Olchowy      14\n",
              "Sherri Nichols      14\n",
              "Name: Entities, Length: 100, dtype: int64"
            ]
          },
          "metadata": {
            "tags": []
          },
          "execution_count": 38
        }
      ]
    },
    {
      "cell_type": "markdown",
      "metadata": {
        "id": "nwj9hsZliBm5"
      },
      "source": [
        "\n",
        "\n",
        "---\n",
        "\n",
        "\n",
        "\n",
        "---\n",
        "\n"
      ]
    },
    {
      "cell_type": "markdown",
      "metadata": {
        "id": "CuLrarnyLr0G"
      },
      "source": [
        "### **SPACY**"
      ]
    },
    {
      "cell_type": "markdown",
      "metadata": {
        "id": "xYnsZGuORoip"
      },
      "source": [
        "**Top 100 PERSON entities using Spacy NER Tagging**"
      ]
    },
    {
      "cell_type": "code",
      "metadata": {
        "colab": {
          "base_uri": "https://localhost:8080/"
        },
        "id": "iTWA__RaDtPz",
        "outputId": "83922ec6-283f-4596-99ee-47e5962120f1"
      },
      "source": [
        "count_spacy_df_loc_gpe=spacy_df_loc_gpe['Entities'].value_counts()\n",
        "count_spacy_df_loc_gpe"
      ],
      "execution_count": null,
      "outputs": [
        {
          "output_type": "execute_result",
          "data": {
            "text/plain": [
              "Israel                  356\n",
              "US                      344\n",
              "U.S.                    178\n",
              "Canada                  167\n",
              "Turkey                  145\n",
              "                       ... \n",
              "Aloha                     1\n",
              "Mariana Islands\\n         1\n",
              "Lindome                   1\n",
              "don@chara.gsu.edu         1\n",
              "the Pocono Mountains      1\n",
              "Name: Entities, Length: 2351, dtype: int64"
            ]
          },
          "metadata": {
            "tags": []
          },
          "execution_count": 47
        }
      ]
    },
    {
      "cell_type": "code",
      "metadata": {
        "colab": {
          "base_uri": "https://localhost:8080/"
        },
        "id": "Tbcql-InDtQJ",
        "outputId": "286949b5-5823-4cf7-b744-c16990cb9c81"
      },
      "source": [
        "count_spacy_df_loc_gpe[0:100]"
      ],
      "execution_count": null,
      "outputs": [
        {
          "output_type": "execute_result",
          "data": {
            "text/plain": [
              "Israel       356\n",
              "US           344\n",
              "U.S.         178\n",
              "Canada       167\n",
              "Turkey       145\n",
              "            ... \n",
              "Egypt         23\n",
              "Portland      23\n",
              "NC            22\n",
              "Ann Arbor     22\n",
              "Denver        21\n",
              "Name: Entities, Length: 100, dtype: int64"
            ]
          },
          "metadata": {
            "tags": []
          },
          "execution_count": 48
        }
      ]
    },
    {
      "cell_type": "markdown",
      "metadata": {
        "id": "tKVd0w-nRgHS"
      },
      "source": [
        "**Top 100 LOC entities in documents using Spacy**"
      ]
    },
    {
      "cell_type": "code",
      "metadata": {
        "colab": {
          "base_uri": "https://localhost:8080/"
        },
        "id": "gAVQ_4PoDxn-",
        "outputId": "6250dbd8-22f1-4025-c1bf-8860fcbf2700"
      },
      "source": [
        "count_spacy_df_person=spacy_df_person['Entities'].value_counts()\n",
        "count_spacy_df_person"
      ],
      "execution_count": null,
      "outputs": [
        {
          "output_type": "execute_result",
          "data": {
            "text/plain": [
              "Clinton                  176\n",
              "Serdar Argic             113\n",
              "Matthew                   99\n",
              "Mac                       93\n",
              "geb@cs.pitt.edu           71\n",
              "                        ... \n",
              "Bram Currie                1\n",
              "ethan@cs.columbia.edu      1\n",
              "Alejandro Cifuentes        1\n",
              "gidi@Hilbert               1\n",
              "Charles Wilson             1\n",
              "Name: Entities, Length: 15278, dtype: int64"
            ]
          },
          "metadata": {
            "tags": []
          },
          "execution_count": 49
        }
      ]
    },
    {
      "cell_type": "code",
      "metadata": {
        "colab": {
          "base_uri": "https://localhost:8080/"
        },
        "id": "LTli_BbFDxn_",
        "outputId": "33a82f8d-9fec-4f75-a007-2d1d230bc7d1"
      },
      "source": [
        "count_spacy_df_person[0:100]"
      ],
      "execution_count": null,
      "outputs": [
        {
          "output_type": "execute_result",
          "data": {
            "text/plain": [
              "Clinton                 176\n",
              "Serdar Argic            113\n",
              "Matthew                  99\n",
              "Mac                      93\n",
              "geb@cs.pitt.edu          71\n",
              "                       ... \n",
              "Hussein                  16\n",
              "Phill Hallam-Baker       16\n",
              "Timothy C. May           16\n",
              "Michael A. Covington     16\n",
              "David Veal Univ          16\n",
              "Name: Entities, Length: 100, dtype: int64"
            ]
          },
          "metadata": {
            "tags": []
          },
          "execution_count": 50
        }
      ]
    }
  ]
}